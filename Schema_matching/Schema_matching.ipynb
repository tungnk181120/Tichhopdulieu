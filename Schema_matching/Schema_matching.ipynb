{
 "cells": [
  {
   "cell_type": "code",
   "execution_count": null,
   "metadata": {
    "id": "9fI7QxqGrPwm"
   },
   "outputs": [],
   "source": [
    "!pip install strsimpy\n",
    "!pip install valentine"
   ]
  },
  {
   "cell_type": "code",
   "execution_count": 3,
   "metadata": {
    "colab": {
     "base_uri": "https://localhost:8080/"
    },
    "id": "BWh1GGaPsd_F",
    "outputId": "02bdaed7-1664-4144-c81c-222130021e57"
   },
   "outputs": [
    {
     "name": "stdout",
     "output_type": "stream",
     "text": [
      "Drive already mounted at /content/drive; to attempt to forcibly remount, call drive.mount(\"/content/drive\", force_remount=True).\n"
     ]
    }
   ],
   "source": [
    "from google.colab import drive\n",
    "drive.mount('/content/drive')"
   ]
  },
  {
   "cell_type": "code",
   "execution_count": 2,
   "metadata": {
    "id": "BwC67D06rTwG"
   },
   "outputs": [],
   "source": [
    "import os\n",
    "import pandas as pd\n",
    "from strsimpy.levenshtein import Levenshtein\n",
    "from strsimpy.normalized_levenshtein import NormalizedLevenshtein\n",
    "from valentine import valentine_match, valentine_metrics\n",
    "from valentine.algorithms import Coma, Cupid, DistributionBased, JaccardLevenMatcher, SimilarityFlooding\n",
    "\n",
    "\n",
    "class SchemaMatchingSystem():\n",
    "    def __init__(self):\n",
    "        self.levenshtein = Levenshtein()\n",
    "        self.mapping_columns = {\n",
    "            \"City\": [\"City\", \"Thành phố\", \"Tên thành phố\"],\n",
    "            \"Hotel name\": [\"Hotel name\", \"Tên Khách sạn\"],\n",
    "            \"Image\": [\"Image\", \"image\", \"Ảnh\", \"Ảnh minh họa\"],\n",
    "            \"Url\": [\"Url\", \"short-link\", \"Link\", \"short_url\"],\n",
    "            \"Address\": [\"Address\", \"Địa chỉ\"],\n",
    "            \"Stars\": [\"Stars\", \"Số sao\"],\n",
    "            \"Min Price\": [\"Giá\", \"Giá thấp nhất\", \"Min Price\", \"Price\"],\n",
    "            \"Rating\": [\"Rating\", \"Đánh giá\"],\n",
    "            \"Number of reviews\": [\"Number of reviews\", \"num_reviews\"],\n",
    "            \"Reviews\": [\"Reviews\"],\n",
    "            \"Facilities\": [\"Facilities\", \"CSVC\", \"Cơ sở vật chất\"],\n",
    "            \"Description\": [\"Description\", \"Mô tả\"],\n",
    "            \"Nearby places\": [\"Nearby places\", \"Địa điểm xung quanh\"],\n",
    "        }\n",
    "\n",
    "    def getTargetSchema(self):\n",
    "        target_schema = []\n",
    "        for col in self.mapping_columns:\n",
    "            target_schema.append(col)\n",
    "        return target_schema\n",
    "\n",
    "    def similarity_score(self, x, y):\n",
    "        x = x.lower().strip()\n",
    "        y = y.lower().strip()\n",
    "        return (len(x) + len(y) - self.levenshtein.distance(x, y)) / (len(x) + len(y))\n",
    "\n",
    "    def check_similarity(self, x, y, threshold=0.8):\n",
    "\n",
    "        score = self.similarity_score(x, y)\n",
    "        if score > threshold:\n",
    "            return True\n",
    "        return False\n",
    "\n",
    "    def schema_matching(self, cols, threshold=0.85):\n",
    "\n",
    "        res = dict()\n",
    "        for colum in cols:\n",
    "            for key in self.mapping_columns:\n",
    "                listMatching = self.mapping_columns[key]\n",
    "                for match in listMatching:\n",
    "                    score = self.similarity_score(colum, match)\n",
    "                    if(score > threshold):\n",
    "                        print(\"{0:20}\\t{0:20}\\t\".format(\n",
    "                            colum, match) + str(score))\n",
    "                        res[colum] = key\n",
    "        return res\n",
    "\n",
    "    def matchedCol(result):\n",
    "        matched_col = []\n",
    "        source_col = []\n",
    "        for key in result:\n",
    "            matched_col.append(result[key])\n",
    "            source_col.append(key)\n",
    "\n",
    "        return (matched_col, source_col)\n"
   ]
  },
  {
   "cell_type": "code",
   "execution_count": 4,
   "metadata": {
    "id": "AZ9eHlWosjd1"
   },
   "outputs": [],
   "source": [
    "agoda_path = \"/content/drive/MyDrive/Colab Notebooks/test_tichhop/data_normalized/new_agoda_normalized.csv\"\n",
    "booking_path = \"/content/drive/MyDrive/Colab Notebooks/test_tichhop/data_normalized/new_booking_normalized.csv\"\n",
    "mytour_path = \"/content/drive/MyDrive/Colab Notebooks/test_tichhop/data_normalized/mytour_normalized.csv\"\n",
    "traveloka_path = \"/content/drive/MyDrive/Colab Notebooks/test_tichhop/data_normalized/mytour_normalized.csv\""
   ]
  },
  {
   "cell_type": "code",
   "execution_count": 5,
   "metadata": {
    "id": "HEOVMGqftOc0"
   },
   "outputs": [],
   "source": [
    "agoda_df = pd.read_csv(agoda_path)\n",
    "booking_df = pd.read_csv(booking_path, lineterminator='\\n')\n",
    "mytour_df = pd.read_csv(mytour_path)\n",
    "traveloka_df = pd.read_csv(traveloka_path)"
   ]
  },
  {
   "cell_type": "markdown",
   "metadata": {
    "id": "DeTJg-MZuJFr"
   },
   "source": [
    "###Match with valentine"
   ]
  },
  {
   "cell_type": "code",
   "execution_count": null,
   "metadata": {
    "id": "RYTFnrGxvu4T"
   },
   "outputs": [],
   "source": [
    "agoda_df.head()"
   ]
  },
  {
   "cell_type": "code",
   "execution_count": 30,
   "metadata": {
    "colab": {
     "base_uri": "https://localhost:8080/"
    },
    "id": "yR7Upuy1tPJk",
    "outputId": "b720b009-df85-4b2d-e383-e8e591b56461"
   },
   "outputs": [
    {
     "name": "stdout",
     "output_type": "stream",
     "text": [
      "(('table_1', 'nearby places'), ('table_2', 'Nearby places'))\n",
      "(('table_1', 'hotel name'), ('table_2', 'Hotel name'))\n",
      "(('table_1', 'facilities'), ('table_2', 'Facilities'))\n",
      "(('table_1', 'address'), ('table_2', 'Address'))\n",
      "(('table_1', 'reviews'), ('table_2', 'Reviews'))\n",
      "(('table_1', 'rating'), ('table_2', 'Rating'))\n",
      "(('table_1', 'stars'), ('table_2', 'Stars'))\n",
      "(('table_1', 'price'), ('table_2', 'Price'))\n",
      "(('table_1', 'image'), ('table_2', 'Image'))\n",
      "(('table_1', 'city'), ('table_2', 'City'))\n",
      "(('table_1', 'url'), ('table_2', 'Url'))\n"
     ]
    }
   ],
   "source": [
    "matcher = Coma(strategy='COMA_OPT')\n",
    "matches = valentine_match(agoda_df, booking_df, matcher)\n",
    "for i in matches:\n",
    "    print(i)"
   ]
  },
  {
   "cell_type": "code",
   "execution_count": 29,
   "metadata": {
    "colab": {
     "base_uri": "https://localhost:8080/"
    },
    "id": "e6uC5ORSthIA",
    "outputId": "4e5a8436-a65b-4407-f660-687674e32071"
   },
   "outputs": [
    {
     "name": "stdout",
     "output_type": "stream",
     "text": [
      "(('table_1', 'Number of reviews'), ('table_2', 'Number of reviews'))\n",
      "(('table_1', 'Nearby places'), ('table_2', 'Nearby places'))\n",
      "(('table_1', 'Description'), ('table_2', 'Description'))\n",
      "(('table_1', 'Hotel name'), ('table_2', 'Hotel name'))\n",
      "(('table_1', 'Facilities'), ('table_2', 'Facilities'))\n",
      "(('table_1', 'Address'), ('table_2', 'Address'))\n",
      "(('table_1', 'Reviews'), ('table_2', 'Reviews'))\n",
      "(('table_1', 'Rating'), ('table_2', 'Rating'))\n",
      "(('table_1', 'Image'), ('table_2', 'Image'))\n",
      "(('table_1', 'Stars'), ('table_2', 'Stars'))\n",
      "(('table_1', 'City'), ('table_2', 'City'))\n",
      "(('table_1', 'Url'), ('table_2', 'Url'))\n",
      "(('table_1', 'Min Price'), ('table_2', 'Price'))\n"
     ]
    }
   ],
   "source": [
    "matcher = Coma(strategy='COMA_OPT')\n",
    "matches = valentine_match(mytour_df, booking_df, matcher)\n",
    "for i in matches:\n",
    "    print(i)"
   ]
  },
  {
   "cell_type": "code",
   "execution_count": 28,
   "metadata": {
    "colab": {
     "base_uri": "https://localhost:8080/"
    },
    "id": "Qa-a96jvtuj8",
    "outputId": "5810afbd-2745-451f-bc81-bdc0be3138d8"
   },
   "outputs": [
    {
     "name": "stdout",
     "output_type": "stream",
     "text": [
      "(('table_1', 'Number of reviews'), ('table_2', 'Number of reviews'))\n",
      "(('table_1', 'Nearby places'), ('table_2', 'Nearby places'))\n",
      "(('table_1', 'Description'), ('table_2', 'Description'))\n",
      "(('table_1', 'Hotel name'), ('table_2', 'Hotel name'))\n",
      "(('table_1', 'Facilities'), ('table_2', 'Facilities'))\n",
      "(('table_1', 'Address'), ('table_2', 'Address'))\n",
      "(('table_1', 'Reviews'), ('table_2', 'Reviews'))\n",
      "(('table_1', 'Rating'), ('table_2', 'Rating'))\n",
      "(('table_1', 'Image'), ('table_2', 'Image'))\n",
      "(('table_1', 'Stars'), ('table_2', 'Stars'))\n",
      "(('table_1', 'City'), ('table_2', 'City'))\n",
      "(('table_1', 'Url'), ('table_2', 'Url'))\n",
      "(('table_1', 'Min Price'), ('table_2', 'Price'))\n"
     ]
    }
   ],
   "source": [
    "matcher = Coma(strategy='COMA_OPT')\n",
    "matches = valentine_match(traveloka_df, booking_df, matcher)\n",
    "for i in matches:\n",
    "    print(i)"
   ]
  },
  {
   "cell_type": "markdown",
   "metadata": {
    "id": "goyuiC_yuT_N"
   },
   "source": [
    "### match-with Levenshtein"
   ]
  },
  {
   "cell_type": "code",
   "execution_count": 9,
   "metadata": {
    "id": "R9HlUUoauc6Y"
   },
   "outputs": [],
   "source": [
    "import os\n",
    "import pandas as pd\n",
    "from strsimpy.levenshtein import Levenshtein\n",
    "from strsimpy.normalized_levenshtein import NormalizedLevenshtein\n",
    "from valentine import valentine_match, valentine_metrics\n",
    "from valentine.algorithms import Coma, Cupid, DistributionBased, JaccardLevenMatcher, SimilarityFlooding"
   ]
  },
  {
   "cell_type": "code",
   "execution_count": 10,
   "metadata": {
    "id": "kdA3eQ9xuiCU"
   },
   "outputs": [],
   "source": [
    "mapping_columns = {\n",
    "    \"City\": [\"City\", \"Thành phố\", \"Tên thành phố\"],\n",
    "    \"Hotel name\": [\"Hotel name\", \"Tên Khách sạn\"],\n",
    "    \"Image\": [\"Image\", \"image\", \"Ảnh\", \"Ảnh minh họa\"],\n",
    "    \"Url\": [\"Url\", \"short-link\", \"Link\", \"short_url\"],\n",
    "    \"Address\": [\"Address\", \"Địa chỉ\"],\n",
    "    \"Stars\": [\"Stars\", \"Số sao\"],\n",
    "    \"Min Price\": [\"Giá\", \"Giá thấp nhất\", \"Min Price\", \"Price\"],\n",
    "    \"Rating\": [\"Rating\", \"Đánh giá\"],\n",
    "    \"Number of reviews\": [\"Number of reviews\", \"num_reviews\"],\n",
    "    \"Reviews\": [\"Reviews\"],\n",
    "    \"Facilities\": [\"Facilities\", \"CSVC\", \"Cơ sở vật chất\"],\n",
    "    \"Description\": [\"Description\", \"Mô tả\"],\n",
    "    \"Nearby places\": [\"Nearby places\", \"Địa điểm xung quanh\"]\n",
    "}\n",
    "target_schema = []\n",
    "for col in mapping_columns:\n",
    "    target_schema.append(col)"
   ]
  },
  {
   "cell_type": "code",
   "execution_count": 11,
   "metadata": {
    "id": "-__pu65Nu6V8"
   },
   "outputs": [],
   "source": [
    "levenshtein = Levenshtein()\n",
    "def similarity_score(x, y):\n",
    "    x = x.lower().strip()\n",
    "    y = y.lower().strip()\n",
    "    return (len(x) + len(y) - levenshtein.distance(x, y)) / (len(x) + len(y))\n",
    "def check_similarity(x, y, threshold=0.8):\n",
    "    score = similarity_score(x, y)\n",
    "    if score > threshold:\n",
    "        return True\n",
    "    return False "
   ]
  },
  {
   "cell_type": "code",
   "execution_count": 20,
   "metadata": {
    "colab": {
     "base_uri": "https://localhost:8080/"
    },
    "id": "RrgMuawRvIoF",
    "outputId": "6b4742dd-2840-4d62-c448-387d54ed206f"
   },
   "outputs": [
    {
     "name": "stdout",
     "output_type": "stream",
     "text": [
      "city                \tcity                \t1.0\n",
      "hotel name          \thotel name          \t1.0\n",
      "url                 \turl                 \t1.0\n",
      "address             \taddress             \t1.0\n",
      "stars               \tstars               \t1.0\n",
      "price               \tprice               \t1.0\n",
      "rating              \trating              \t1.0\n",
      "n_reviews           \tn_reviews           \t0.9\n",
      "n_reviews           \tn_reviews           \t0.875\n",
      "image               \timage               \t1.0\n",
      "image               \timage               \t1.0\n",
      "reviews             \treviews             \t1.0\n",
      "facilities          \tfacilities          \t1.0\n",
      "nearby places       \tnearby places       \t1.0\n",
      "['city', 'hotel name', 'url', 'address', 'stars', 'price', 'rating', 'n_reviews', 'image', 'reviews', 'facilities', 'nearby places']\n"
     ]
    }
   ],
   "source": [
    "list_columns = list(agoda_df.columns)\n",
    "threshold = 0.85\n",
    "\n",
    "res = dict()\n",
    "for colum in list_columns:\n",
    "    for key in mapping_columns:\n",
    "        listMatching = mapping_columns[key]\n",
    "        for match in listMatching:\n",
    "            score = similarity_score(colum, match)\n",
    "            if(score > threshold):\n",
    "                print(\"{0:20}\\t{0:20}\\t\".format(colum, match) + str(score))\n",
    "                res[colum] = key\n",
    "print(list_columns)"
   ]
  },
  {
   "cell_type": "code",
   "execution_count": 19,
   "metadata": {
    "colab": {
     "base_uri": "https://localhost:8080/"
    },
    "id": "jmGQ4a31v9RT",
    "outputId": "538a78f3-7d4b-4b53-dc3a-9ae58d78a71f"
   },
   "outputs": [
    {
     "name": "stdout",
     "output_type": "stream",
     "text": [
      "City                \tCity                \t1.0\n",
      "Hotel name          \tHotel name          \t1.0\n",
      "Url                 \tUrl                 \t1.0\n",
      "Address             \tAddress             \t1.0\n",
      "Stars               \tStars               \t1.0\n",
      "Price               \tPrice               \t1.0\n",
      "Rating              \tRating              \t1.0\n",
      "Number of reviews   \tNumber of reviews   \t1.0\n",
      "Reviews             \tReviews             \t1.0\n",
      "Facilities          \tFacilities          \t1.0\n",
      "Description         \tDescription         \t1.0\n",
      "Nearby places       \tNearby places       \t1.0\n",
      "Image\r",
      "              \tImage\r",
      "              \t1.0\n",
      "Image\r",
      "              \tImage\r",
      "              \t1.0\n",
      "['City', 'Hotel name', 'Url', 'Address', 'Stars', 'Price', 'Rating', 'Number of reviews', 'Reviews', 'Facilities', 'Description', 'Nearby places', 'Image\\r']\n"
     ]
    }
   ],
   "source": [
    "list_columns = list(booking_df.columns)\n",
    "threshold = 0.85\n",
    "\n",
    "res = dict()\n",
    "for colum in list_columns:\n",
    "    for key in mapping_columns:\n",
    "        listMatching = mapping_columns[key]\n",
    "        for match in listMatching:\n",
    "            score = similarity_score(colum, match)\n",
    "            if(score > threshold):\n",
    "                print(\"{0:20}\\t{0:20}\\t\".format(colum, match) + str(score))\n",
    "                res[colum] = key\n",
    "print(list_columns)"
   ]
  },
  {
   "cell_type": "code",
   "execution_count": 17,
   "metadata": {
    "colab": {
     "base_uri": "https://localhost:8080/"
    },
    "id": "gchBEpA5wHBu",
    "outputId": "99c2668d-b6f0-4a30-e094-a9c23c28ac09"
   },
   "outputs": [
    {
     "name": "stdout",
     "output_type": "stream",
     "text": [
      "City                \tCity                \t1.0\n",
      "Hotel name          \tHotel name          \t1.0\n",
      "Image               \tImage               \t1.0\n",
      "Image               \tImage               \t1.0\n",
      "Url                 \tUrl                 \t1.0\n",
      "Address             \tAddress             \t1.0\n",
      "Stars               \tStars               \t1.0\n",
      "Min Price           \tMin Price           \t1.0\n",
      "Rating              \tRating              \t1.0\n",
      "Number of reviews   \tNumber of reviews   \t1.0\n",
      "Reviews             \tReviews             \t1.0\n",
      "Facilities          \tFacilities          \t1.0\n",
      "Description         \tDescription         \t1.0\n",
      "Nearby places       \tNearby places       \t1.0\n",
      "['City', 'Hotel name', 'Image', 'Url', 'Address', 'Stars', 'Min Price', 'Rating', 'Number of reviews', 'Reviews', 'Facilities', 'Description', 'Nearby places']\n"
     ]
    }
   ],
   "source": [
    "list_columns = list(mytour_df.columns)\n",
    "threshold = 0.85\n",
    "\n",
    "res = dict()\n",
    "for colum in list_columns:\n",
    "    for key in mapping_columns:\n",
    "        listMatching = mapping_columns[key]\n",
    "        for match in listMatching:\n",
    "            score = similarity_score(colum, match)\n",
    "            if(score > threshold):\n",
    "                print(\"{0:20}\\t{0:20}\\t\".format(colum, match) + str(score))\n",
    "                res[colum] = key\n",
    "print(list_columns)"
   ]
  },
  {
   "cell_type": "code",
   "execution_count": 18,
   "metadata": {
    "colab": {
     "base_uri": "https://localhost:8080/"
    },
    "id": "agt3Cx7dwPld",
    "outputId": "b104e870-d82a-41c7-a144-24cd6e095768"
   },
   "outputs": [
    {
     "name": "stdout",
     "output_type": "stream",
     "text": [
      "City                \tCity                \t1.0\n",
      "Hotel name          \tHotel name          \t1.0\n",
      "Image               \tImage               \t1.0\n",
      "Image               \tImage               \t1.0\n",
      "Url                 \tUrl                 \t1.0\n",
      "Address             \tAddress             \t1.0\n",
      "Stars               \tStars               \t1.0\n",
      "Min Price           \tMin Price           \t1.0\n",
      "Rating              \tRating              \t1.0\n",
      "Number of reviews   \tNumber of reviews   \t1.0\n",
      "Reviews             \tReviews             \t1.0\n",
      "Facilities          \tFacilities          \t1.0\n",
      "Description         \tDescription         \t1.0\n",
      "Nearby places       \tNearby places       \t1.0\n",
      "['City', 'Hotel name', 'Image', 'Url', 'Address', 'Stars', 'Min Price', 'Rating', 'Number of reviews', 'Reviews', 'Facilities', 'Description', 'Nearby places']\n"
     ]
    }
   ],
   "source": [
    "list_columns = list(traveloka_df.columns)\n",
    "threshold = 0.85\n",
    "\n",
    "res = dict()\n",
    "for colum in list_columns:\n",
    "    for key in mapping_columns:\n",
    "        listMatching = mapping_columns[key]\n",
    "        for match in listMatching:\n",
    "            score = similarity_score(colum, match)\n",
    "            if(score > threshold):\n",
    "                print(\"{0:20}\\t{0:20}\\t\".format(colum, match) + str(score))\n",
    "                res[colum] = key\n",
    "print(list_columns)\n"
   ]
  },
  {
   "cell_type": "code",
   "execution_count": null,
   "metadata": {
    "id": "t5k6yFt3wTvs"
   },
   "outputs": [],
   "source": []
  }
 ],
 "metadata": {
  "colab": {
   "name": "Schema-matching.ipynb",
   "provenance": []
  },
  "kernelspec": {
   "display_name": "Python 3 (ipykernel)",
   "language": "python",
   "name": "python3"
  },
  "language_info": {
   "codemirror_mode": {
    "name": "ipython",
    "version": 3
   },
   "file_extension": ".py",
   "mimetype": "text/x-python",
   "name": "python",
   "nbconvert_exporter": "python",
   "pygments_lexer": "ipython3",
   "version": "3.9.7"
  }
 },
 "nbformat": 4,
 "nbformat_minor": 1
}
