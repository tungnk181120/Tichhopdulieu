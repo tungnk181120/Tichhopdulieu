{
  "nbformat": 4,
  "nbformat_minor": 0,
  "metadata": {
    "colab": {
      "name": "Test_THDL.ipynb",
      "provenance": []
    },
    "kernelspec": {
      "name": "python3",
      "display_name": "Python 3"
    },
    "language_info": {
      "name": "python"
    }
  },
  "cells": [
    {
      "cell_type": "code",
      "source": [
        "!pip install Unidecode"
      ],
      "metadata": {
        "colab": {
          "base_uri": "https://localhost:8080/"
        },
        "id": "GnLBZB5P5QEO",
        "outputId": "328a5254-506d-47b7-e5a7-49466e587b7b"
      },
      "execution_count": 122,
      "outputs": [
        {
          "output_type": "stream",
          "name": "stdout",
          "text": [
            "Looking in indexes: https://pypi.org/simple, https://us-python.pkg.dev/colab-wheels/public/simple/\n",
            "Collecting Unidecode\n",
            "  Downloading Unidecode-1.3.4-py3-none-any.whl (235 kB)\n",
            "\u001b[K     |████████████████████████████████| 235 kB 24.2 MB/s \n",
            "\u001b[?25hInstalling collected packages: Unidecode\n",
            "Successfully installed Unidecode-1.3.4\n"
          ]
        }
      ]
    },
    {
      "cell_type": "code",
      "execution_count": 123,
      "metadata": {
        "id": "1FtkmFZk-9Lm"
      },
      "outputs": [],
      "source": [
        "import pandas as pd\n",
        "import numpy as np\n",
        "import operator\n",
        "from operator import itemgetter\n",
        "from itertools import groupby\n",
        "import re\n",
        "import unidecode"
      ]
    },
    {
      "cell_type": "code",
      "source": [
        "dir = '/content/drive/MyDrive/20212/THDL/data/temp_csv/'\n",
        "mytour_path = dir + 'All_data_mytour.csv'\n",
        "traveloka_path = dir + 'All_data_traveloka.csv'\n",
        "agoda_path = dir + 'agoda_final - agoda_final.csv'\n",
        "booking_path = dir + 'craw_booking_com_full.csv'"
      ],
      "metadata": {
        "id": "73Bh_TvRJ36C"
      },
      "execution_count": 2,
      "outputs": []
    },
    {
      "cell_type": "markdown",
      "source": [
        "# **Đọc dữ liệu**"
      ],
      "metadata": {
        "id": "TyTjXWTKThOT"
      }
    },
    {
      "cell_type": "code",
      "source": [
        "mytour_df = pd.read_csv(mytour_path)\n",
        "traveloka_df = pd.read_csv(traveloka_path)\n",
        "agoda_df = pd.read_csv(agoda_path)\n",
        "booking_df = pd.read_csv(booking_path)"
      ],
      "metadata": {
        "id": "27fHP7QIKZBF"
      },
      "execution_count": 3,
      "outputs": []
    },
    {
      "cell_type": "code",
      "source": [
        "booking_df.head(3)"
      ],
      "metadata": {
        "colab": {
          "base_uri": "https://localhost:8080/",
          "height": 0
        },
        "id": "hB1-1xp4htun",
        "outputId": "3d2979f6-58af-4cf6-e121-a41e722cc0ff"
      },
      "execution_count": 4,
      "outputs": [
        {
          "output_type": "execute_result",
          "data": {
            "text/plain": [
              "       City                                        Hotel name  \\\n",
              "0  Hà Nội               Khách sạn\\r\\nHANZ Regal Hotel Hanoi   \n",
              "1  Hà Nội  Khách sạn\\r\\nLa Nueva Boutique Hotel Hanoi & Spa   \n",
              "2  Hà Nội                 Khách sạn\\r\\nLa Storia Ruby Hotel   \n",
              "\n",
              "                                                 Url  \\\n",
              "0  https://www.booking.com/hotel/vn/90-pham-huy-t...   \n",
              "1  https://www.booking.com/hotel/vn/hanoi-eleganc...   \n",
              "2  https://www.booking.com/hotel/vn/hanoi-eleganc...   \n",
              "\n",
              "                                             Address  Stars          Price  \\\n",
              "0  90 Pham Huy Thong, Quận Ba Đình, Hà Nội, Viê...      2    VND 421.890   \n",
              "1  32 Lo Su Street, Quận Hoàn Kiếm, Hà Nội, Viê...      4  VND 1.316.000   \n",
              "2  3 Yen Thai Street, Quận Hoàn Kiếm, Hà Nội, V...      3    VND 625.000   \n",
              "\n",
              "  Rating Number of reviews                                            Reviews  \\\n",
              "0    7,8       86 đánh giá  ['“máy lạnh mát, wifi trong từng phòng nên mạn...   \n",
              "1    9,3      209 đánh giá  ['“Địa điểm tuyệt vời, đi một xíu là ra đến hồ...   \n",
              "2    9,6      217 đánh giá  ['“- vị trí gần hồ gươm rất tiện cho việc đi b...   \n",
              "\n",
              "                                          Facilities  \\\n",
              "0  ['Xe đưa đón sân bay', 'Wi-Fi miễn phí', 'P...   \n",
              "1  ['Xe đưa đón sân bay', 'Phòng không hút thu...   \n",
              "2  ['Xe đưa đón sân bay', 'Phòng không hút thu...   \n",
              "\n",
              "                                         Description  \\\n",
              "0  \\r\\nBạn đủ điều kiện nhận giảm giá Genius tại ...   \n",
              "1  \\r\\nBạn đủ điều kiện nhận giảm giá Genius tại ...   \n",
              "2  \\r\\nBạn đủ điều kiện nhận giảm giá Genius tại ...   \n",
              "\n",
              "                                       Nearby places  \\\n",
              "0  [('Hồ Ngọc Khánh', '0,3 km'), ('Trung tâm thươ...   \n",
              "1  [('Nhà hát múa rối Thăng Long', '0,1 km'), ('Đ...   \n",
              "2  [('Quảng Trường Đông Kinh Nghĩa Thục', '0,4 km...   \n",
              "\n",
              "                                               Image  \n",
              "0  ['https://cf.bstatic.com/xdata/images/hotel/ma...  \n",
              "1  ['https://cf.bstatic.com/xdata/images/hotel/ma...  \n",
              "2  ['https://cf.bstatic.com/xdata/images/hotel/ma...  "
            ],
            "text/html": [
              "\n",
              "  <div id=\"df-06324c0d-0836-439b-a8c2-4bea4291d9e6\">\n",
              "    <div class=\"colab-df-container\">\n",
              "      <div>\n",
              "<style scoped>\n",
              "    .dataframe tbody tr th:only-of-type {\n",
              "        vertical-align: middle;\n",
              "    }\n",
              "\n",
              "    .dataframe tbody tr th {\n",
              "        vertical-align: top;\n",
              "    }\n",
              "\n",
              "    .dataframe thead th {\n",
              "        text-align: right;\n",
              "    }\n",
              "</style>\n",
              "<table border=\"1\" class=\"dataframe\">\n",
              "  <thead>\n",
              "    <tr style=\"text-align: right;\">\n",
              "      <th></th>\n",
              "      <th>City</th>\n",
              "      <th>Hotel name</th>\n",
              "      <th>Url</th>\n",
              "      <th>Address</th>\n",
              "      <th>Stars</th>\n",
              "      <th>Price</th>\n",
              "      <th>Rating</th>\n",
              "      <th>Number of reviews</th>\n",
              "      <th>Reviews</th>\n",
              "      <th>Facilities</th>\n",
              "      <th>Description</th>\n",
              "      <th>Nearby places</th>\n",
              "      <th>Image</th>\n",
              "    </tr>\n",
              "  </thead>\n",
              "  <tbody>\n",
              "    <tr>\n",
              "      <th>0</th>\n",
              "      <td>Hà Nội</td>\n",
              "      <td>Khách sạn\\r\\nHANZ Regal Hotel Hanoi</td>\n",
              "      <td>https://www.booking.com/hotel/vn/90-pham-huy-t...</td>\n",
              "      <td>90 Pham Huy Thong, Quận Ba Đình, Hà Nội, Viê...</td>\n",
              "      <td>2</td>\n",
              "      <td>VND 421.890</td>\n",
              "      <td>7,8</td>\n",
              "      <td>86 đánh giá</td>\n",
              "      <td>['“máy lạnh mát, wifi trong từng phòng nên mạn...</td>\n",
              "      <td>['Xe đưa đón sân bay', 'Wi-Fi miễn phí', 'P...</td>\n",
              "      <td>\\r\\nBạn đủ điều kiện nhận giảm giá Genius tại ...</td>\n",
              "      <td>[('Hồ Ngọc Khánh', '0,3 km'), ('Trung tâm thươ...</td>\n",
              "      <td>['https://cf.bstatic.com/xdata/images/hotel/ma...</td>\n",
              "    </tr>\n",
              "    <tr>\n",
              "      <th>1</th>\n",
              "      <td>Hà Nội</td>\n",
              "      <td>Khách sạn\\r\\nLa Nueva Boutique Hotel Hanoi &amp; Spa</td>\n",
              "      <td>https://www.booking.com/hotel/vn/hanoi-eleganc...</td>\n",
              "      <td>32 Lo Su Street, Quận Hoàn Kiếm, Hà Nội, Viê...</td>\n",
              "      <td>4</td>\n",
              "      <td>VND 1.316.000</td>\n",
              "      <td>9,3</td>\n",
              "      <td>209 đánh giá</td>\n",
              "      <td>['“Địa điểm tuyệt vời, đi một xíu là ra đến hồ...</td>\n",
              "      <td>['Xe đưa đón sân bay', 'Phòng không hút thu...</td>\n",
              "      <td>\\r\\nBạn đủ điều kiện nhận giảm giá Genius tại ...</td>\n",
              "      <td>[('Nhà hát múa rối Thăng Long', '0,1 km'), ('Đ...</td>\n",
              "      <td>['https://cf.bstatic.com/xdata/images/hotel/ma...</td>\n",
              "    </tr>\n",
              "    <tr>\n",
              "      <th>2</th>\n",
              "      <td>Hà Nội</td>\n",
              "      <td>Khách sạn\\r\\nLa Storia Ruby Hotel</td>\n",
              "      <td>https://www.booking.com/hotel/vn/hanoi-eleganc...</td>\n",
              "      <td>3 Yen Thai Street, Quận Hoàn Kiếm, Hà Nội, V...</td>\n",
              "      <td>3</td>\n",
              "      <td>VND 625.000</td>\n",
              "      <td>9,6</td>\n",
              "      <td>217 đánh giá</td>\n",
              "      <td>['“- vị trí gần hồ gươm rất tiện cho việc đi b...</td>\n",
              "      <td>['Xe đưa đón sân bay', 'Phòng không hút thu...</td>\n",
              "      <td>\\r\\nBạn đủ điều kiện nhận giảm giá Genius tại ...</td>\n",
              "      <td>[('Quảng Trường Đông Kinh Nghĩa Thục', '0,4 km...</td>\n",
              "      <td>['https://cf.bstatic.com/xdata/images/hotel/ma...</td>\n",
              "    </tr>\n",
              "  </tbody>\n",
              "</table>\n",
              "</div>\n",
              "      <button class=\"colab-df-convert\" onclick=\"convertToInteractive('df-06324c0d-0836-439b-a8c2-4bea4291d9e6')\"\n",
              "              title=\"Convert this dataframe to an interactive table.\"\n",
              "              style=\"display:none;\">\n",
              "        \n",
              "  <svg xmlns=\"http://www.w3.org/2000/svg\" height=\"24px\"viewBox=\"0 0 24 24\"\n",
              "       width=\"24px\">\n",
              "    <path d=\"M0 0h24v24H0V0z\" fill=\"none\"/>\n",
              "    <path d=\"M18.56 5.44l.94 2.06.94-2.06 2.06-.94-2.06-.94-.94-2.06-.94 2.06-2.06.94zm-11 1L8.5 8.5l.94-2.06 2.06-.94-2.06-.94L8.5 2.5l-.94 2.06-2.06.94zm10 10l.94 2.06.94-2.06 2.06-.94-2.06-.94-.94-2.06-.94 2.06-2.06.94z\"/><path d=\"M17.41 7.96l-1.37-1.37c-.4-.4-.92-.59-1.43-.59-.52 0-1.04.2-1.43.59L10.3 9.45l-7.72 7.72c-.78.78-.78 2.05 0 2.83L4 21.41c.39.39.9.59 1.41.59.51 0 1.02-.2 1.41-.59l7.78-7.78 2.81-2.81c.8-.78.8-2.07 0-2.86zM5.41 20L4 18.59l7.72-7.72 1.47 1.35L5.41 20z\"/>\n",
              "  </svg>\n",
              "      </button>\n",
              "      \n",
              "  <style>\n",
              "    .colab-df-container {\n",
              "      display:flex;\n",
              "      flex-wrap:wrap;\n",
              "      gap: 12px;\n",
              "    }\n",
              "\n",
              "    .colab-df-convert {\n",
              "      background-color: #E8F0FE;\n",
              "      border: none;\n",
              "      border-radius: 50%;\n",
              "      cursor: pointer;\n",
              "      display: none;\n",
              "      fill: #1967D2;\n",
              "      height: 32px;\n",
              "      padding: 0 0 0 0;\n",
              "      width: 32px;\n",
              "    }\n",
              "\n",
              "    .colab-df-convert:hover {\n",
              "      background-color: #E2EBFA;\n",
              "      box-shadow: 0px 1px 2px rgba(60, 64, 67, 0.3), 0px 1px 3px 1px rgba(60, 64, 67, 0.15);\n",
              "      fill: #174EA6;\n",
              "    }\n",
              "\n",
              "    [theme=dark] .colab-df-convert {\n",
              "      background-color: #3B4455;\n",
              "      fill: #D2E3FC;\n",
              "    }\n",
              "\n",
              "    [theme=dark] .colab-df-convert:hover {\n",
              "      background-color: #434B5C;\n",
              "      box-shadow: 0px 1px 3px 1px rgba(0, 0, 0, 0.15);\n",
              "      filter: drop-shadow(0px 1px 2px rgba(0, 0, 0, 0.3));\n",
              "      fill: #FFFFFF;\n",
              "    }\n",
              "  </style>\n",
              "\n",
              "      <script>\n",
              "        const buttonEl =\n",
              "          document.querySelector('#df-06324c0d-0836-439b-a8c2-4bea4291d9e6 button.colab-df-convert');\n",
              "        buttonEl.style.display =\n",
              "          google.colab.kernel.accessAllowed ? 'block' : 'none';\n",
              "\n",
              "        async function convertToInteractive(key) {\n",
              "          const element = document.querySelector('#df-06324c0d-0836-439b-a8c2-4bea4291d9e6');\n",
              "          const dataTable =\n",
              "            await google.colab.kernel.invokeFunction('convertToInteractive',\n",
              "                                                     [key], {});\n",
              "          if (!dataTable) return;\n",
              "\n",
              "          const docLinkHtml = 'Like what you see? Visit the ' +\n",
              "            '<a target=\"_blank\" href=https://colab.research.google.com/notebooks/data_table.ipynb>data table notebook</a>'\n",
              "            + ' to learn more about interactive tables.';\n",
              "          element.innerHTML = '';\n",
              "          dataTable['output_type'] = 'display_data';\n",
              "          await google.colab.output.renderOutput(dataTable, element);\n",
              "          const docLink = document.createElement('div');\n",
              "          docLink.innerHTML = docLinkHtml;\n",
              "          element.appendChild(docLink);\n",
              "        }\n",
              "      </script>\n",
              "    </div>\n",
              "  </div>\n",
              "  "
            ]
          },
          "metadata": {},
          "execution_count": 4
        }
      ]
    },
    {
      "cell_type": "code",
      "source": [
        "booking_df.info()"
      ],
      "metadata": {
        "colab": {
          "base_uri": "https://localhost:8080/"
        },
        "id": "LlcmJkcCKuYb",
        "outputId": "6e60da87-3c81-4c97-bf0d-e4e0aa72f031"
      },
      "execution_count": 5,
      "outputs": [
        {
          "output_type": "stream",
          "name": "stdout",
          "text": [
            "<class 'pandas.core.frame.DataFrame'>\n",
            "RangeIndex: 4876 entries, 0 to 4875\n",
            "Data columns (total 13 columns):\n",
            " #   Column             Non-Null Count  Dtype \n",
            "---  ------             --------------  ----- \n",
            " 0   City               4876 non-null   object\n",
            " 1   Hotel name         4876 non-null   object\n",
            " 2   Url                4876 non-null   object\n",
            " 3   Address            4876 non-null   object\n",
            " 4   Stars              4876 non-null   int64 \n",
            " 5   Price              4876 non-null   object\n",
            " 6   Rating             4876 non-null   object\n",
            " 7   Number of reviews  4875 non-null   object\n",
            " 8   Reviews            4876 non-null   object\n",
            " 9   Facilities         4876 non-null   object\n",
            " 10  Description        4876 non-null   object\n",
            " 11  Nearby places      4876 non-null   object\n",
            " 12  Image              4876 non-null   object\n",
            "dtypes: int64(1), object(12)\n",
            "memory usage: 495.3+ KB\n"
          ]
        }
      ]
    },
    {
      "cell_type": "code",
      "source": [
        "agoda_df.head(3)"
      ],
      "metadata": {
        "colab": {
          "base_uri": "https://localhost:8080/",
          "height": 0
        },
        "id": "nQNj9X2phwKY",
        "outputId": "eb105472-5a7f-4c4e-d4cc-42273755ea57"
      },
      "execution_count": 6,
      "outputs": [
        {
          "output_type": "execute_result",
          "data": {
            "text/plain": [
              "        city                                hotel name  \\\n",
              "0  Nha Trang              Nhà Dân Megi (Megi Homestay)   \n",
              "1  Nha Trang  Căn Hộ Star Beach (Star Beach Apartment)   \n",
              "2  Nha Trang               Khách Sạn Mojzo (Mojzo Inn)   \n",
              "\n",
              "                                                 url  \\\n",
              "0  https://www.agoda.com/vi-vn/megi-home-hostel-h...   \n",
              "1  https://www.agoda.com/vi-vn/star-beach-nha-tra...   \n",
              "2  https://www.agoda.com/vi-vn/mojzo-inn_2/hotel/...   \n",
              "\n",
              "                                             address  stars    price rating  \\\n",
              "0  7 Sao Biển Vĩnh Hải, Nha Trang, Khánh Hòa., Vĩ...    NaN   81.818    9,8   \n",
              "1  02 Nguyen Thi Minh Khai Street, Lộc Thọ, Nha T...    5.0  445.886    9,6   \n",
              "2  65/07 Nguyen Thiet Thuat- Nha Trang- Khanh hoa...    NaN  194.567    9,6   \n",
              "\n",
              "  location rating       n_reviews  \\\n",
              "0             NaN     93 Nhận xét   \n",
              "1             9,9    127 Nhận xét   \n",
              "2             NaN  1.806 Nhận xét   \n",
              "\n",
              "                                               image  \\\n",
              "0  https://pix6.agoda.net/hotelImages/11029619/-1...   \n",
              "1  https://pix6.agoda.net/hotelImages/134/1348629...   \n",
              "2  https://pix6.agoda.net/hotelImages/5945444/-1/...   \n",
              "\n",
              "                                             reviews  \\\n",
              "0                                                 []   \n",
              "1  ['Địa điểm đẹp và khách sạn đẹp, rộng rãi, vie...   \n",
              "2                                                 []   \n",
              "\n",
              "                                          facilities  \\\n",
              "0  ['Dọn phòng hằng ngày', 'câu cá', 'sân vườn', ...   \n",
              "1  ['Dọn phòng hằng ngày', 'Điều hòa', 'Đưa đón s...   \n",
              "2  ['Điều hòa', 'Đưa đón sân bay', 'Cách bãi biển...   \n",
              "\n",
              "                                       nearby places  \n",
              "0  ['Viện Hải dương học - 7,91 km', 'Đại học Nha ...  \n",
              "1  ['Hon Chong - 3,9 km', 'Bảo tàng Hải dương học...  \n",
              "2  ['Hon Chong - 3,99 km', 'i resort - 4,16 km', ...  "
            ],
            "text/html": [
              "\n",
              "  <div id=\"df-180769c4-cd3d-4c83-91dd-e2fd8770d9eb\">\n",
              "    <div class=\"colab-df-container\">\n",
              "      <div>\n",
              "<style scoped>\n",
              "    .dataframe tbody tr th:only-of-type {\n",
              "        vertical-align: middle;\n",
              "    }\n",
              "\n",
              "    .dataframe tbody tr th {\n",
              "        vertical-align: top;\n",
              "    }\n",
              "\n",
              "    .dataframe thead th {\n",
              "        text-align: right;\n",
              "    }\n",
              "</style>\n",
              "<table border=\"1\" class=\"dataframe\">\n",
              "  <thead>\n",
              "    <tr style=\"text-align: right;\">\n",
              "      <th></th>\n",
              "      <th>city</th>\n",
              "      <th>hotel name</th>\n",
              "      <th>url</th>\n",
              "      <th>address</th>\n",
              "      <th>stars</th>\n",
              "      <th>price</th>\n",
              "      <th>rating</th>\n",
              "      <th>location rating</th>\n",
              "      <th>n_reviews</th>\n",
              "      <th>image</th>\n",
              "      <th>reviews</th>\n",
              "      <th>facilities</th>\n",
              "      <th>nearby places</th>\n",
              "    </tr>\n",
              "  </thead>\n",
              "  <tbody>\n",
              "    <tr>\n",
              "      <th>0</th>\n",
              "      <td>Nha Trang</td>\n",
              "      <td>Nhà Dân Megi (Megi Homestay)</td>\n",
              "      <td>https://www.agoda.com/vi-vn/megi-home-hostel-h...</td>\n",
              "      <td>7 Sao Biển Vĩnh Hải, Nha Trang, Khánh Hòa., Vĩ...</td>\n",
              "      <td>NaN</td>\n",
              "      <td>81.818</td>\n",
              "      <td>9,8</td>\n",
              "      <td>NaN</td>\n",
              "      <td>93 Nhận xét</td>\n",
              "      <td>https://pix6.agoda.net/hotelImages/11029619/-1...</td>\n",
              "      <td>[]</td>\n",
              "      <td>['Dọn phòng hằng ngày', 'câu cá', 'sân vườn', ...</td>\n",
              "      <td>['Viện Hải dương học - 7,91 km', 'Đại học Nha ...</td>\n",
              "    </tr>\n",
              "    <tr>\n",
              "      <th>1</th>\n",
              "      <td>Nha Trang</td>\n",
              "      <td>Căn Hộ Star Beach (Star Beach Apartment)</td>\n",
              "      <td>https://www.agoda.com/vi-vn/star-beach-nha-tra...</td>\n",
              "      <td>02 Nguyen Thi Minh Khai Street, Lộc Thọ, Nha T...</td>\n",
              "      <td>5.0</td>\n",
              "      <td>445.886</td>\n",
              "      <td>9,6</td>\n",
              "      <td>9,9</td>\n",
              "      <td>127 Nhận xét</td>\n",
              "      <td>https://pix6.agoda.net/hotelImages/134/1348629...</td>\n",
              "      <td>['Địa điểm đẹp và khách sạn đẹp, rộng rãi, vie...</td>\n",
              "      <td>['Dọn phòng hằng ngày', 'Điều hòa', 'Đưa đón s...</td>\n",
              "      <td>['Hon Chong - 3,9 km', 'Bảo tàng Hải dương học...</td>\n",
              "    </tr>\n",
              "    <tr>\n",
              "      <th>2</th>\n",
              "      <td>Nha Trang</td>\n",
              "      <td>Khách Sạn Mojzo (Mojzo Inn)</td>\n",
              "      <td>https://www.agoda.com/vi-vn/mojzo-inn_2/hotel/...</td>\n",
              "      <td>65/07 Nguyen Thiet Thuat- Nha Trang- Khanh hoa...</td>\n",
              "      <td>NaN</td>\n",
              "      <td>194.567</td>\n",
              "      <td>9,6</td>\n",
              "      <td>NaN</td>\n",
              "      <td>1.806 Nhận xét</td>\n",
              "      <td>https://pix6.agoda.net/hotelImages/5945444/-1/...</td>\n",
              "      <td>[]</td>\n",
              "      <td>['Điều hòa', 'Đưa đón sân bay', 'Cách bãi biển...</td>\n",
              "      <td>['Hon Chong - 3,99 km', 'i resort - 4,16 km', ...</td>\n",
              "    </tr>\n",
              "  </tbody>\n",
              "</table>\n",
              "</div>\n",
              "      <button class=\"colab-df-convert\" onclick=\"convertToInteractive('df-180769c4-cd3d-4c83-91dd-e2fd8770d9eb')\"\n",
              "              title=\"Convert this dataframe to an interactive table.\"\n",
              "              style=\"display:none;\">\n",
              "        \n",
              "  <svg xmlns=\"http://www.w3.org/2000/svg\" height=\"24px\"viewBox=\"0 0 24 24\"\n",
              "       width=\"24px\">\n",
              "    <path d=\"M0 0h24v24H0V0z\" fill=\"none\"/>\n",
              "    <path d=\"M18.56 5.44l.94 2.06.94-2.06 2.06-.94-2.06-.94-.94-2.06-.94 2.06-2.06.94zm-11 1L8.5 8.5l.94-2.06 2.06-.94-2.06-.94L8.5 2.5l-.94 2.06-2.06.94zm10 10l.94 2.06.94-2.06 2.06-.94-2.06-.94-.94-2.06-.94 2.06-2.06.94z\"/><path d=\"M17.41 7.96l-1.37-1.37c-.4-.4-.92-.59-1.43-.59-.52 0-1.04.2-1.43.59L10.3 9.45l-7.72 7.72c-.78.78-.78 2.05 0 2.83L4 21.41c.39.39.9.59 1.41.59.51 0 1.02-.2 1.41-.59l7.78-7.78 2.81-2.81c.8-.78.8-2.07 0-2.86zM5.41 20L4 18.59l7.72-7.72 1.47 1.35L5.41 20z\"/>\n",
              "  </svg>\n",
              "      </button>\n",
              "      \n",
              "  <style>\n",
              "    .colab-df-container {\n",
              "      display:flex;\n",
              "      flex-wrap:wrap;\n",
              "      gap: 12px;\n",
              "    }\n",
              "\n",
              "    .colab-df-convert {\n",
              "      background-color: #E8F0FE;\n",
              "      border: none;\n",
              "      border-radius: 50%;\n",
              "      cursor: pointer;\n",
              "      display: none;\n",
              "      fill: #1967D2;\n",
              "      height: 32px;\n",
              "      padding: 0 0 0 0;\n",
              "      width: 32px;\n",
              "    }\n",
              "\n",
              "    .colab-df-convert:hover {\n",
              "      background-color: #E2EBFA;\n",
              "      box-shadow: 0px 1px 2px rgba(60, 64, 67, 0.3), 0px 1px 3px 1px rgba(60, 64, 67, 0.15);\n",
              "      fill: #174EA6;\n",
              "    }\n",
              "\n",
              "    [theme=dark] .colab-df-convert {\n",
              "      background-color: #3B4455;\n",
              "      fill: #D2E3FC;\n",
              "    }\n",
              "\n",
              "    [theme=dark] .colab-df-convert:hover {\n",
              "      background-color: #434B5C;\n",
              "      box-shadow: 0px 1px 3px 1px rgba(0, 0, 0, 0.15);\n",
              "      filter: drop-shadow(0px 1px 2px rgba(0, 0, 0, 0.3));\n",
              "      fill: #FFFFFF;\n",
              "    }\n",
              "  </style>\n",
              "\n",
              "      <script>\n",
              "        const buttonEl =\n",
              "          document.querySelector('#df-180769c4-cd3d-4c83-91dd-e2fd8770d9eb button.colab-df-convert');\n",
              "        buttonEl.style.display =\n",
              "          google.colab.kernel.accessAllowed ? 'block' : 'none';\n",
              "\n",
              "        async function convertToInteractive(key) {\n",
              "          const element = document.querySelector('#df-180769c4-cd3d-4c83-91dd-e2fd8770d9eb');\n",
              "          const dataTable =\n",
              "            await google.colab.kernel.invokeFunction('convertToInteractive',\n",
              "                                                     [key], {});\n",
              "          if (!dataTable) return;\n",
              "\n",
              "          const docLinkHtml = 'Like what you see? Visit the ' +\n",
              "            '<a target=\"_blank\" href=https://colab.research.google.com/notebooks/data_table.ipynb>data table notebook</a>'\n",
              "            + ' to learn more about interactive tables.';\n",
              "          element.innerHTML = '';\n",
              "          dataTable['output_type'] = 'display_data';\n",
              "          await google.colab.output.renderOutput(dataTable, element);\n",
              "          const docLink = document.createElement('div');\n",
              "          docLink.innerHTML = docLinkHtml;\n",
              "          element.appendChild(docLink);\n",
              "        }\n",
              "      </script>\n",
              "    </div>\n",
              "  </div>\n",
              "  "
            ]
          },
          "metadata": {},
          "execution_count": 6
        }
      ]
    },
    {
      "cell_type": "code",
      "source": [
        "agoda_df.info()"
      ],
      "metadata": {
        "colab": {
          "base_uri": "https://localhost:8080/"
        },
        "id": "S3g4s2hSNvud",
        "outputId": "13d43b36-495a-48d3-d3de-7172e2d357b4"
      },
      "execution_count": 7,
      "outputs": [
        {
          "output_type": "stream",
          "name": "stdout",
          "text": [
            "<class 'pandas.core.frame.DataFrame'>\n",
            "RangeIndex: 9031 entries, 0 to 9030\n",
            "Data columns (total 13 columns):\n",
            " #   Column           Non-Null Count  Dtype  \n",
            "---  ------           --------------  -----  \n",
            " 0   city             9031 non-null   object \n",
            " 1   hotel name       8997 non-null   object \n",
            " 2   url              9031 non-null   object \n",
            " 3   address          6214 non-null   object \n",
            " 4   stars            8839 non-null   float64\n",
            " 5   price            8757 non-null   object \n",
            " 6   rating           5128 non-null   object \n",
            " 7   location rating  1054 non-null   object \n",
            " 8   n_reviews        9031 non-null   object \n",
            " 9   image            7952 non-null   object \n",
            " 10  reviews          9031 non-null   object \n",
            " 11  facilities       9031 non-null   object \n",
            " 12  nearby places    9031 non-null   object \n",
            "dtypes: float64(1), object(12)\n",
            "memory usage: 917.3+ KB\n"
          ]
        }
      ]
    },
    {
      "cell_type": "code",
      "source": [
        "mytour_df.head(3)"
      ],
      "metadata": {
        "colab": {
          "base_uri": "https://localhost:8080/",
          "height": 0
        },
        "id": "LvGZ32ZxhxgG",
        "outputId": "d0898b1e-8b50-446e-9eb7-5bf744c4b6ea"
      },
      "execution_count": 8,
      "outputs": [
        {
          "output_type": "execute_result",
          "data": {
            "text/plain": [
              "     City                    Hotel name  \\\n",
              "0  Hà Nội      Khách Sạn Apricot Hà Nội   \n",
              "1  Hà Nội     Khách Sạn Imperial Hà Nội   \n",
              "2  Hà Nội  Khách Sạn Beryl Palace Hanoi   \n",
              "\n",
              "                                               Image  \\\n",
              "0  ['https://img.tripi.vn/cdn-cgi/image/width=840...   \n",
              "1  ['https://img.tripi.vn/cdn-cgi/image/width=840...   \n",
              "2  ['https://img.tripi.vn/cdn-cgi/image/width=124...   \n",
              "\n",
              "                                                 Url  \\\n",
              "0  https://mytour.vn/khach-san/954-khach-san-apri...   \n",
              "1  https://mytour.vn/khach-san/972-khach-san-impe...   \n",
              "2  https://mytour.vn/khach-san/49198-khach-san-be...   \n",
              "\n",
              "                                             Address  Stars   Min Price  \\\n",
              "0  136, Hàng Trống, Quận Hoàn Kiếm, Hà Nội, Việt Nam      5  1.908.235đ   \n",
              "1    44, Hàng Hành, Quận Hoàn Kiếm, Hà Nội, Việt Nam      0    852.946đ   \n",
              "2  173a, Hàng Bông, Quận Hoàn Kiếm, Hà Nội, Việt Nam      4    638.138đ   \n",
              "\n",
              "   Rating  Number of reviews  \\\n",
              "0     9.2                320   \n",
              "1     9.4                159   \n",
              "2     9.2                 42   \n",
              "\n",
              "                                             Reviews  \\\n",
              "0  ['Nhận xét chất lượng phòng\\nNV lịch sự. Chất ...   \n",
              "1  ['Đánh giá trải nghiệm khách sạn\\nKhách sạn đẹ...   \n",
              "2  ['Trải nghiệm tuyệt vời!\\nMình đi nghỉ với gia...   \n",
              "\n",
              "                                          Facilities  \\\n",
              "0  ['American Express', 'Lễ tân 24h', 'Bán tour',...   \n",
              "1  ['Lễ tân 24h', 'Trợ giúp đặc biệt', 'Giữ hành ...   \n",
              "2  ['Đưa/đón khách sân bay', 'Cho thuê xe đạp', '...   \n",
              "\n",
              "                                         Description  \\\n",
              "0  ['Khách sạn Apricot Hotel mang vẻ đẹp lỗng lẫy...   \n",
              "1  ['Imperial Hotel Hanoi đi và hoạt động từ năm ...   \n",
              "2  ['Lối trang trí kiểu cổ điển của Pháp và kiến ...   \n",
              "\n",
              "                                       Nearby places  \n",
              "0  [('Kanko Izakaya', '60 m'), ('Nhà hàng Lục Thủ...  \n",
              "1  [('Nhà hàng và cafe Old Street', '25 m'), ('Po...  \n",
              "2  [('O Lounge, Bistro and Sport Bar', '9 m'), ('...  "
            ],
            "text/html": [
              "\n",
              "  <div id=\"df-7e1b03f9-2c7a-4ca7-805b-4408be5681cf\">\n",
              "    <div class=\"colab-df-container\">\n",
              "      <div>\n",
              "<style scoped>\n",
              "    .dataframe tbody tr th:only-of-type {\n",
              "        vertical-align: middle;\n",
              "    }\n",
              "\n",
              "    .dataframe tbody tr th {\n",
              "        vertical-align: top;\n",
              "    }\n",
              "\n",
              "    .dataframe thead th {\n",
              "        text-align: right;\n",
              "    }\n",
              "</style>\n",
              "<table border=\"1\" class=\"dataframe\">\n",
              "  <thead>\n",
              "    <tr style=\"text-align: right;\">\n",
              "      <th></th>\n",
              "      <th>City</th>\n",
              "      <th>Hotel name</th>\n",
              "      <th>Image</th>\n",
              "      <th>Url</th>\n",
              "      <th>Address</th>\n",
              "      <th>Stars</th>\n",
              "      <th>Min Price</th>\n",
              "      <th>Rating</th>\n",
              "      <th>Number of reviews</th>\n",
              "      <th>Reviews</th>\n",
              "      <th>Facilities</th>\n",
              "      <th>Description</th>\n",
              "      <th>Nearby places</th>\n",
              "    </tr>\n",
              "  </thead>\n",
              "  <tbody>\n",
              "    <tr>\n",
              "      <th>0</th>\n",
              "      <td>Hà Nội</td>\n",
              "      <td>Khách Sạn Apricot Hà Nội</td>\n",
              "      <td>['https://img.tripi.vn/cdn-cgi/image/width=840...</td>\n",
              "      <td>https://mytour.vn/khach-san/954-khach-san-apri...</td>\n",
              "      <td>136, Hàng Trống, Quận Hoàn Kiếm, Hà Nội, Việt Nam</td>\n",
              "      <td>5</td>\n",
              "      <td>1.908.235đ</td>\n",
              "      <td>9.2</td>\n",
              "      <td>320</td>\n",
              "      <td>['Nhận xét chất lượng phòng\\nNV lịch sự. Chất ...</td>\n",
              "      <td>['American Express', 'Lễ tân 24h', 'Bán tour',...</td>\n",
              "      <td>['Khách sạn Apricot Hotel mang vẻ đẹp lỗng lẫy...</td>\n",
              "      <td>[('Kanko Izakaya', '60 m'), ('Nhà hàng Lục Thủ...</td>\n",
              "    </tr>\n",
              "    <tr>\n",
              "      <th>1</th>\n",
              "      <td>Hà Nội</td>\n",
              "      <td>Khách Sạn Imperial Hà Nội</td>\n",
              "      <td>['https://img.tripi.vn/cdn-cgi/image/width=840...</td>\n",
              "      <td>https://mytour.vn/khach-san/972-khach-san-impe...</td>\n",
              "      <td>44, Hàng Hành, Quận Hoàn Kiếm, Hà Nội, Việt Nam</td>\n",
              "      <td>0</td>\n",
              "      <td>852.946đ</td>\n",
              "      <td>9.4</td>\n",
              "      <td>159</td>\n",
              "      <td>['Đánh giá trải nghiệm khách sạn\\nKhách sạn đẹ...</td>\n",
              "      <td>['Lễ tân 24h', 'Trợ giúp đặc biệt', 'Giữ hành ...</td>\n",
              "      <td>['Imperial Hotel Hanoi đi và hoạt động từ năm ...</td>\n",
              "      <td>[('Nhà hàng và cafe Old Street', '25 m'), ('Po...</td>\n",
              "    </tr>\n",
              "    <tr>\n",
              "      <th>2</th>\n",
              "      <td>Hà Nội</td>\n",
              "      <td>Khách Sạn Beryl Palace Hanoi</td>\n",
              "      <td>['https://img.tripi.vn/cdn-cgi/image/width=124...</td>\n",
              "      <td>https://mytour.vn/khach-san/49198-khach-san-be...</td>\n",
              "      <td>173a, Hàng Bông, Quận Hoàn Kiếm, Hà Nội, Việt Nam</td>\n",
              "      <td>4</td>\n",
              "      <td>638.138đ</td>\n",
              "      <td>9.2</td>\n",
              "      <td>42</td>\n",
              "      <td>['Trải nghiệm tuyệt vời!\\nMình đi nghỉ với gia...</td>\n",
              "      <td>['Đưa/đón khách sân bay', 'Cho thuê xe đạp', '...</td>\n",
              "      <td>['Lối trang trí kiểu cổ điển của Pháp và kiến ...</td>\n",
              "      <td>[('O Lounge, Bistro and Sport Bar', '9 m'), ('...</td>\n",
              "    </tr>\n",
              "  </tbody>\n",
              "</table>\n",
              "</div>\n",
              "      <button class=\"colab-df-convert\" onclick=\"convertToInteractive('df-7e1b03f9-2c7a-4ca7-805b-4408be5681cf')\"\n",
              "              title=\"Convert this dataframe to an interactive table.\"\n",
              "              style=\"display:none;\">\n",
              "        \n",
              "  <svg xmlns=\"http://www.w3.org/2000/svg\" height=\"24px\"viewBox=\"0 0 24 24\"\n",
              "       width=\"24px\">\n",
              "    <path d=\"M0 0h24v24H0V0z\" fill=\"none\"/>\n",
              "    <path d=\"M18.56 5.44l.94 2.06.94-2.06 2.06-.94-2.06-.94-.94-2.06-.94 2.06-2.06.94zm-11 1L8.5 8.5l.94-2.06 2.06-.94-2.06-.94L8.5 2.5l-.94 2.06-2.06.94zm10 10l.94 2.06.94-2.06 2.06-.94-2.06-.94-.94-2.06-.94 2.06-2.06.94z\"/><path d=\"M17.41 7.96l-1.37-1.37c-.4-.4-.92-.59-1.43-.59-.52 0-1.04.2-1.43.59L10.3 9.45l-7.72 7.72c-.78.78-.78 2.05 0 2.83L4 21.41c.39.39.9.59 1.41.59.51 0 1.02-.2 1.41-.59l7.78-7.78 2.81-2.81c.8-.78.8-2.07 0-2.86zM5.41 20L4 18.59l7.72-7.72 1.47 1.35L5.41 20z\"/>\n",
              "  </svg>\n",
              "      </button>\n",
              "      \n",
              "  <style>\n",
              "    .colab-df-container {\n",
              "      display:flex;\n",
              "      flex-wrap:wrap;\n",
              "      gap: 12px;\n",
              "    }\n",
              "\n",
              "    .colab-df-convert {\n",
              "      background-color: #E8F0FE;\n",
              "      border: none;\n",
              "      border-radius: 50%;\n",
              "      cursor: pointer;\n",
              "      display: none;\n",
              "      fill: #1967D2;\n",
              "      height: 32px;\n",
              "      padding: 0 0 0 0;\n",
              "      width: 32px;\n",
              "    }\n",
              "\n",
              "    .colab-df-convert:hover {\n",
              "      background-color: #E2EBFA;\n",
              "      box-shadow: 0px 1px 2px rgba(60, 64, 67, 0.3), 0px 1px 3px 1px rgba(60, 64, 67, 0.15);\n",
              "      fill: #174EA6;\n",
              "    }\n",
              "\n",
              "    [theme=dark] .colab-df-convert {\n",
              "      background-color: #3B4455;\n",
              "      fill: #D2E3FC;\n",
              "    }\n",
              "\n",
              "    [theme=dark] .colab-df-convert:hover {\n",
              "      background-color: #434B5C;\n",
              "      box-shadow: 0px 1px 3px 1px rgba(0, 0, 0, 0.15);\n",
              "      filter: drop-shadow(0px 1px 2px rgba(0, 0, 0, 0.3));\n",
              "      fill: #FFFFFF;\n",
              "    }\n",
              "  </style>\n",
              "\n",
              "      <script>\n",
              "        const buttonEl =\n",
              "          document.querySelector('#df-7e1b03f9-2c7a-4ca7-805b-4408be5681cf button.colab-df-convert');\n",
              "        buttonEl.style.display =\n",
              "          google.colab.kernel.accessAllowed ? 'block' : 'none';\n",
              "\n",
              "        async function convertToInteractive(key) {\n",
              "          const element = document.querySelector('#df-7e1b03f9-2c7a-4ca7-805b-4408be5681cf');\n",
              "          const dataTable =\n",
              "            await google.colab.kernel.invokeFunction('convertToInteractive',\n",
              "                                                     [key], {});\n",
              "          if (!dataTable) return;\n",
              "\n",
              "          const docLinkHtml = 'Like what you see? Visit the ' +\n",
              "            '<a target=\"_blank\" href=https://colab.research.google.com/notebooks/data_table.ipynb>data table notebook</a>'\n",
              "            + ' to learn more about interactive tables.';\n",
              "          element.innerHTML = '';\n",
              "          dataTable['output_type'] = 'display_data';\n",
              "          await google.colab.output.renderOutput(dataTable, element);\n",
              "          const docLink = document.createElement('div');\n",
              "          docLink.innerHTML = docLinkHtml;\n",
              "          element.appendChild(docLink);\n",
              "        }\n",
              "      </script>\n",
              "    </div>\n",
              "  </div>\n",
              "  "
            ]
          },
          "metadata": {},
          "execution_count": 8
        }
      ]
    },
    {
      "cell_type": "code",
      "source": [
        "mytour_df.info()"
      ],
      "metadata": {
        "colab": {
          "base_uri": "https://localhost:8080/"
        },
        "id": "CWYR3sHlTaDV",
        "outputId": "f7690f3a-c06a-4069-ddb6-295b043f1c79"
      },
      "execution_count": 9,
      "outputs": [
        {
          "output_type": "stream",
          "name": "stdout",
          "text": [
            "<class 'pandas.core.frame.DataFrame'>\n",
            "RangeIndex: 1295 entries, 0 to 1294\n",
            "Data columns (total 13 columns):\n",
            " #   Column             Non-Null Count  Dtype  \n",
            "---  ------             --------------  -----  \n",
            " 0   City               1295 non-null   object \n",
            " 1   Hotel name         1290 non-null   object \n",
            " 2   Image              1295 non-null   object \n",
            " 3   Url                1295 non-null   object \n",
            " 4   Address            1290 non-null   object \n",
            " 5   Stars              1295 non-null   int64  \n",
            " 6   Min Price          1051 non-null   object \n",
            " 7   Rating             1290 non-null   float64\n",
            " 8   Number of reviews  1295 non-null   int64  \n",
            " 9   Reviews            1295 non-null   object \n",
            " 10  Facilities         1295 non-null   object \n",
            " 11  Description        1295 non-null   object \n",
            " 12  Nearby places      1295 non-null   object \n",
            "dtypes: float64(1), int64(2), object(10)\n",
            "memory usage: 131.6+ KB\n"
          ]
        }
      ]
    },
    {
      "cell_type": "code",
      "source": [
        "traveloka_df.head(3)"
      ],
      "metadata": {
        "colab": {
          "base_uri": "https://localhost:8080/",
          "height": 0
        },
        "id": "ze5JsGUChzCM",
        "outputId": "6cd8872c-1955-4a11-a8ef-3fcbf96bd009"
      },
      "execution_count": 10,
      "outputs": [
        {
          "output_type": "execute_result",
          "data": {
            "text/plain": [
              "     City                     Hotel name  \\\n",
              "0  Hà Nội           Hanoi Boutique Hotel   \n",
              "1  Hà Nội  Khách sạn MK Premier Boutique   \n",
              "2  Hà Nội     Classy Holiday Hotel & Spa   \n",
              "\n",
              "                                               Image  \\\n",
              "0                                                 []   \n",
              "1  ['https://ik.imagekit.io/tvlk/apr-asset/dgXfoy...   \n",
              "2  ['https://ik.imagekit.io/tvlk/apr-asset/dgXfoy...   \n",
              "\n",
              "                                                 Url  \\\n",
              "0  https://www.traveloka.com/vi-vn/hotel/vietnam/...   \n",
              "1  https://www.traveloka.com/vi-vn/hotel/vietnam/...   \n",
              "2  https://www.traveloka.com/vi-vn/hotel/vietnam/...   \n",
              "\n",
              "                                             Address  Stars     Min Price  \\\n",
              "0  30/6 Lò Sũ, Lý Thái Tổ, Quận Hoàn Kiếm, Hà Nộ...      3  475.000  VND   \n",
              "1  72-74 Hàng Buồm, Hàng Buồm, Quận Hoàn Kiếm,...      4  616.173  VND   \n",
              "2  49 Lãn Ông, Hàng Bồ, Quận Hoàn Kiếm, Hà Nội, ...      4  487.800  VND   \n",
              "\n",
              "   Rating  Number of reviews  \\\n",
              "0     8.7                 77   \n",
              "1     8.7                113   \n",
              "2     9.4                177   \n",
              "\n",
              "                                             Reviews  \\\n",
              "0  ['Phòng rộng và sạch sẽ, khách sạn ngay tại tr...   \n",
              "1  ['khách sạn ở hành lang không có điều hòa, đườ...   \n",
              "2  ['Phục vụ dọn phòng mở cửa phòng không gọi cửa...   \n",
              "\n",
              "                                          Facilities  \\\n",
              "0  ['Máy lạnh', 'Nhà hàng', 'Lễ tân 24h', 'Thang ...   \n",
              "1  ['Máy lạnh', 'Nhà hàng', 'Lễ tân 24h', 'Thang ...   \n",
              "2  ['Máy lạnh', 'Nhà hàng', 'Lễ tân 24h', 'Thang ...   \n",
              "\n",
              "                                         Description  \\\n",
              "0  Giờ nhận và trả phòng\\r\\nGiờ nhận phòng: Từ 14...   \n",
              "1  Giờ nhận và trả phòng\\r\\nGiờ nhận phòng: Từ 14...   \n",
              "2  Giờ nhận và trả phòng\\r\\nGiờ nhận phòng: Từ 14...   \n",
              "\n",
              "                                       Nearby places  \n",
              "0  [('Nhà hát Múa rối Nước Thăng Long', '179 m'),...  \n",
              "1  [('Đền Bạch Mã', '12 m'), ('Hanoi Train Street...  \n",
              "2  [('King Pirates Pub', '229 m'), ('Hanoi Train ...  "
            ],
            "text/html": [
              "\n",
              "  <div id=\"df-d64c3906-27dd-4c66-b058-eb133a966a04\">\n",
              "    <div class=\"colab-df-container\">\n",
              "      <div>\n",
              "<style scoped>\n",
              "    .dataframe tbody tr th:only-of-type {\n",
              "        vertical-align: middle;\n",
              "    }\n",
              "\n",
              "    .dataframe tbody tr th {\n",
              "        vertical-align: top;\n",
              "    }\n",
              "\n",
              "    .dataframe thead th {\n",
              "        text-align: right;\n",
              "    }\n",
              "</style>\n",
              "<table border=\"1\" class=\"dataframe\">\n",
              "  <thead>\n",
              "    <tr style=\"text-align: right;\">\n",
              "      <th></th>\n",
              "      <th>City</th>\n",
              "      <th>Hotel name</th>\n",
              "      <th>Image</th>\n",
              "      <th>Url</th>\n",
              "      <th>Address</th>\n",
              "      <th>Stars</th>\n",
              "      <th>Min Price</th>\n",
              "      <th>Rating</th>\n",
              "      <th>Number of reviews</th>\n",
              "      <th>Reviews</th>\n",
              "      <th>Facilities</th>\n",
              "      <th>Description</th>\n",
              "      <th>Nearby places</th>\n",
              "    </tr>\n",
              "  </thead>\n",
              "  <tbody>\n",
              "    <tr>\n",
              "      <th>0</th>\n",
              "      <td>Hà Nội</td>\n",
              "      <td>Hanoi Boutique Hotel</td>\n",
              "      <td>[]</td>\n",
              "      <td>https://www.traveloka.com/vi-vn/hotel/vietnam/...</td>\n",
              "      <td>30/6 Lò Sũ, Lý Thái Tổ, Quận Hoàn Kiếm, Hà Nộ...</td>\n",
              "      <td>3</td>\n",
              "      <td>475.000  VND</td>\n",
              "      <td>8.7</td>\n",
              "      <td>77</td>\n",
              "      <td>['Phòng rộng và sạch sẽ, khách sạn ngay tại tr...</td>\n",
              "      <td>['Máy lạnh', 'Nhà hàng', 'Lễ tân 24h', 'Thang ...</td>\n",
              "      <td>Giờ nhận và trả phòng\\r\\nGiờ nhận phòng: Từ 14...</td>\n",
              "      <td>[('Nhà hát Múa rối Nước Thăng Long', '179 m'),...</td>\n",
              "    </tr>\n",
              "    <tr>\n",
              "      <th>1</th>\n",
              "      <td>Hà Nội</td>\n",
              "      <td>Khách sạn MK Premier Boutique</td>\n",
              "      <td>['https://ik.imagekit.io/tvlk/apr-asset/dgXfoy...</td>\n",
              "      <td>https://www.traveloka.com/vi-vn/hotel/vietnam/...</td>\n",
              "      <td>72-74 Hàng Buồm, Hàng Buồm, Quận Hoàn Kiếm,...</td>\n",
              "      <td>4</td>\n",
              "      <td>616.173  VND</td>\n",
              "      <td>8.7</td>\n",
              "      <td>113</td>\n",
              "      <td>['khách sạn ở hành lang không có điều hòa, đườ...</td>\n",
              "      <td>['Máy lạnh', 'Nhà hàng', 'Lễ tân 24h', 'Thang ...</td>\n",
              "      <td>Giờ nhận và trả phòng\\r\\nGiờ nhận phòng: Từ 14...</td>\n",
              "      <td>[('Đền Bạch Mã', '12 m'), ('Hanoi Train Street...</td>\n",
              "    </tr>\n",
              "    <tr>\n",
              "      <th>2</th>\n",
              "      <td>Hà Nội</td>\n",
              "      <td>Classy Holiday Hotel &amp; Spa</td>\n",
              "      <td>['https://ik.imagekit.io/tvlk/apr-asset/dgXfoy...</td>\n",
              "      <td>https://www.traveloka.com/vi-vn/hotel/vietnam/...</td>\n",
              "      <td>49 Lãn Ông, Hàng Bồ, Quận Hoàn Kiếm, Hà Nội, ...</td>\n",
              "      <td>4</td>\n",
              "      <td>487.800  VND</td>\n",
              "      <td>9.4</td>\n",
              "      <td>177</td>\n",
              "      <td>['Phục vụ dọn phòng mở cửa phòng không gọi cửa...</td>\n",
              "      <td>['Máy lạnh', 'Nhà hàng', 'Lễ tân 24h', 'Thang ...</td>\n",
              "      <td>Giờ nhận và trả phòng\\r\\nGiờ nhận phòng: Từ 14...</td>\n",
              "      <td>[('King Pirates Pub', '229 m'), ('Hanoi Train ...</td>\n",
              "    </tr>\n",
              "  </tbody>\n",
              "</table>\n",
              "</div>\n",
              "      <button class=\"colab-df-convert\" onclick=\"convertToInteractive('df-d64c3906-27dd-4c66-b058-eb133a966a04')\"\n",
              "              title=\"Convert this dataframe to an interactive table.\"\n",
              "              style=\"display:none;\">\n",
              "        \n",
              "  <svg xmlns=\"http://www.w3.org/2000/svg\" height=\"24px\"viewBox=\"0 0 24 24\"\n",
              "       width=\"24px\">\n",
              "    <path d=\"M0 0h24v24H0V0z\" fill=\"none\"/>\n",
              "    <path d=\"M18.56 5.44l.94 2.06.94-2.06 2.06-.94-2.06-.94-.94-2.06-.94 2.06-2.06.94zm-11 1L8.5 8.5l.94-2.06 2.06-.94-2.06-.94L8.5 2.5l-.94 2.06-2.06.94zm10 10l.94 2.06.94-2.06 2.06-.94-2.06-.94-.94-2.06-.94 2.06-2.06.94z\"/><path d=\"M17.41 7.96l-1.37-1.37c-.4-.4-.92-.59-1.43-.59-.52 0-1.04.2-1.43.59L10.3 9.45l-7.72 7.72c-.78.78-.78 2.05 0 2.83L4 21.41c.39.39.9.59 1.41.59.51 0 1.02-.2 1.41-.59l7.78-7.78 2.81-2.81c.8-.78.8-2.07 0-2.86zM5.41 20L4 18.59l7.72-7.72 1.47 1.35L5.41 20z\"/>\n",
              "  </svg>\n",
              "      </button>\n",
              "      \n",
              "  <style>\n",
              "    .colab-df-container {\n",
              "      display:flex;\n",
              "      flex-wrap:wrap;\n",
              "      gap: 12px;\n",
              "    }\n",
              "\n",
              "    .colab-df-convert {\n",
              "      background-color: #E8F0FE;\n",
              "      border: none;\n",
              "      border-radius: 50%;\n",
              "      cursor: pointer;\n",
              "      display: none;\n",
              "      fill: #1967D2;\n",
              "      height: 32px;\n",
              "      padding: 0 0 0 0;\n",
              "      width: 32px;\n",
              "    }\n",
              "\n",
              "    .colab-df-convert:hover {\n",
              "      background-color: #E2EBFA;\n",
              "      box-shadow: 0px 1px 2px rgba(60, 64, 67, 0.3), 0px 1px 3px 1px rgba(60, 64, 67, 0.15);\n",
              "      fill: #174EA6;\n",
              "    }\n",
              "\n",
              "    [theme=dark] .colab-df-convert {\n",
              "      background-color: #3B4455;\n",
              "      fill: #D2E3FC;\n",
              "    }\n",
              "\n",
              "    [theme=dark] .colab-df-convert:hover {\n",
              "      background-color: #434B5C;\n",
              "      box-shadow: 0px 1px 3px 1px rgba(0, 0, 0, 0.15);\n",
              "      filter: drop-shadow(0px 1px 2px rgba(0, 0, 0, 0.3));\n",
              "      fill: #FFFFFF;\n",
              "    }\n",
              "  </style>\n",
              "\n",
              "      <script>\n",
              "        const buttonEl =\n",
              "          document.querySelector('#df-d64c3906-27dd-4c66-b058-eb133a966a04 button.colab-df-convert');\n",
              "        buttonEl.style.display =\n",
              "          google.colab.kernel.accessAllowed ? 'block' : 'none';\n",
              "\n",
              "        async function convertToInteractive(key) {\n",
              "          const element = document.querySelector('#df-d64c3906-27dd-4c66-b058-eb133a966a04');\n",
              "          const dataTable =\n",
              "            await google.colab.kernel.invokeFunction('convertToInteractive',\n",
              "                                                     [key], {});\n",
              "          if (!dataTable) return;\n",
              "\n",
              "          const docLinkHtml = 'Like what you see? Visit the ' +\n",
              "            '<a target=\"_blank\" href=https://colab.research.google.com/notebooks/data_table.ipynb>data table notebook</a>'\n",
              "            + ' to learn more about interactive tables.';\n",
              "          element.innerHTML = '';\n",
              "          dataTable['output_type'] = 'display_data';\n",
              "          await google.colab.output.renderOutput(dataTable, element);\n",
              "          const docLink = document.createElement('div');\n",
              "          docLink.innerHTML = docLinkHtml;\n",
              "          element.appendChild(docLink);\n",
              "        }\n",
              "      </script>\n",
              "    </div>\n",
              "  </div>\n",
              "  "
            ]
          },
          "metadata": {},
          "execution_count": 10
        }
      ]
    },
    {
      "cell_type": "code",
      "source": [
        "traveloka_df.info()"
      ],
      "metadata": {
        "colab": {
          "base_uri": "https://localhost:8080/"
        },
        "id": "xCNS7pNuTcXC",
        "outputId": "5c0e684b-ee5d-4b1b-8a67-87c2f3da9723"
      },
      "execution_count": 11,
      "outputs": [
        {
          "output_type": "stream",
          "name": "stdout",
          "text": [
            "<class 'pandas.core.frame.DataFrame'>\n",
            "RangeIndex: 1116 entries, 0 to 1115\n",
            "Data columns (total 13 columns):\n",
            " #   Column             Non-Null Count  Dtype  \n",
            "---  ------             --------------  -----  \n",
            " 0   City               1116 non-null   object \n",
            " 1   Hotel name         1116 non-null   object \n",
            " 2   Image              1116 non-null   object \n",
            " 3   Url                1116 non-null   object \n",
            " 4   Address            1107 non-null   object \n",
            " 5   Stars              1116 non-null   int64  \n",
            " 6   Min Price          1116 non-null   object \n",
            " 7   Rating             1116 non-null   float64\n",
            " 8   Number of reviews  1116 non-null   int64  \n",
            " 9   Reviews            1116 non-null   object \n",
            " 10  Facilities         1116 non-null   object \n",
            " 11  Description        1116 non-null   object \n",
            " 12  Nearby places      1116 non-null   object \n",
            "dtypes: float64(1), int64(2), object(10)\n",
            "memory usage: 113.5+ KB\n"
          ]
        }
      ]
    },
    {
      "cell_type": "markdown",
      "source": [
        "# **Missing value**"
      ],
      "metadata": {
        "id": "UcQ3WL4xTkpV"
      }
    },
    {
      "cell_type": "code",
      "source": [
        "#Booking\n",
        "percent_missing = booking_df.isnull().sum() * 100 / len(booking_df)\n",
        "missing_value_df = pd.DataFrame({'column_name': booking_df.columns,\n",
        "                                 'percent_missing': percent_missing})\n",
        "missing_value_df"
      ],
      "metadata": {
        "colab": {
          "base_uri": "https://localhost:8080/",
          "height": 0
        },
        "id": "lKpir1ItUPoR",
        "outputId": "f72cf002-313a-4648-f832-a98b071eb3b4"
      },
      "execution_count": 12,
      "outputs": [
        {
          "output_type": "execute_result",
          "data": {
            "text/plain": [
              "                         column_name  percent_missing\n",
              "City                            City         0.000000\n",
              "Hotel name                Hotel name         0.000000\n",
              "Url                              Url         0.000000\n",
              "Address                      Address         0.000000\n",
              "Stars                          Stars         0.000000\n",
              "Price                          Price         0.000000\n",
              "Rating                        Rating         0.000000\n",
              "Number of reviews  Number of reviews         0.020509\n",
              "Reviews                      Reviews         0.000000\n",
              "Facilities                Facilities         0.000000\n",
              "Description              Description         0.000000\n",
              "Nearby places          Nearby places         0.000000\n",
              "Image                          Image         0.000000"
            ],
            "text/html": [
              "\n",
              "  <div id=\"df-3bb27605-f0df-432f-9a35-2272bfb4b60f\">\n",
              "    <div class=\"colab-df-container\">\n",
              "      <div>\n",
              "<style scoped>\n",
              "    .dataframe tbody tr th:only-of-type {\n",
              "        vertical-align: middle;\n",
              "    }\n",
              "\n",
              "    .dataframe tbody tr th {\n",
              "        vertical-align: top;\n",
              "    }\n",
              "\n",
              "    .dataframe thead th {\n",
              "        text-align: right;\n",
              "    }\n",
              "</style>\n",
              "<table border=\"1\" class=\"dataframe\">\n",
              "  <thead>\n",
              "    <tr style=\"text-align: right;\">\n",
              "      <th></th>\n",
              "      <th>column_name</th>\n",
              "      <th>percent_missing</th>\n",
              "    </tr>\n",
              "  </thead>\n",
              "  <tbody>\n",
              "    <tr>\n",
              "      <th>City</th>\n",
              "      <td>City</td>\n",
              "      <td>0.000000</td>\n",
              "    </tr>\n",
              "    <tr>\n",
              "      <th>Hotel name</th>\n",
              "      <td>Hotel name</td>\n",
              "      <td>0.000000</td>\n",
              "    </tr>\n",
              "    <tr>\n",
              "      <th>Url</th>\n",
              "      <td>Url</td>\n",
              "      <td>0.000000</td>\n",
              "    </tr>\n",
              "    <tr>\n",
              "      <th>Address</th>\n",
              "      <td>Address</td>\n",
              "      <td>0.000000</td>\n",
              "    </tr>\n",
              "    <tr>\n",
              "      <th>Stars</th>\n",
              "      <td>Stars</td>\n",
              "      <td>0.000000</td>\n",
              "    </tr>\n",
              "    <tr>\n",
              "      <th>Price</th>\n",
              "      <td>Price</td>\n",
              "      <td>0.000000</td>\n",
              "    </tr>\n",
              "    <tr>\n",
              "      <th>Rating</th>\n",
              "      <td>Rating</td>\n",
              "      <td>0.000000</td>\n",
              "    </tr>\n",
              "    <tr>\n",
              "      <th>Number of reviews</th>\n",
              "      <td>Number of reviews</td>\n",
              "      <td>0.020509</td>\n",
              "    </tr>\n",
              "    <tr>\n",
              "      <th>Reviews</th>\n",
              "      <td>Reviews</td>\n",
              "      <td>0.000000</td>\n",
              "    </tr>\n",
              "    <tr>\n",
              "      <th>Facilities</th>\n",
              "      <td>Facilities</td>\n",
              "      <td>0.000000</td>\n",
              "    </tr>\n",
              "    <tr>\n",
              "      <th>Description</th>\n",
              "      <td>Description</td>\n",
              "      <td>0.000000</td>\n",
              "    </tr>\n",
              "    <tr>\n",
              "      <th>Nearby places</th>\n",
              "      <td>Nearby places</td>\n",
              "      <td>0.000000</td>\n",
              "    </tr>\n",
              "    <tr>\n",
              "      <th>Image</th>\n",
              "      <td>Image</td>\n",
              "      <td>0.000000</td>\n",
              "    </tr>\n",
              "  </tbody>\n",
              "</table>\n",
              "</div>\n",
              "      <button class=\"colab-df-convert\" onclick=\"convertToInteractive('df-3bb27605-f0df-432f-9a35-2272bfb4b60f')\"\n",
              "              title=\"Convert this dataframe to an interactive table.\"\n",
              "              style=\"display:none;\">\n",
              "        \n",
              "  <svg xmlns=\"http://www.w3.org/2000/svg\" height=\"24px\"viewBox=\"0 0 24 24\"\n",
              "       width=\"24px\">\n",
              "    <path d=\"M0 0h24v24H0V0z\" fill=\"none\"/>\n",
              "    <path d=\"M18.56 5.44l.94 2.06.94-2.06 2.06-.94-2.06-.94-.94-2.06-.94 2.06-2.06.94zm-11 1L8.5 8.5l.94-2.06 2.06-.94-2.06-.94L8.5 2.5l-.94 2.06-2.06.94zm10 10l.94 2.06.94-2.06 2.06-.94-2.06-.94-.94-2.06-.94 2.06-2.06.94z\"/><path d=\"M17.41 7.96l-1.37-1.37c-.4-.4-.92-.59-1.43-.59-.52 0-1.04.2-1.43.59L10.3 9.45l-7.72 7.72c-.78.78-.78 2.05 0 2.83L4 21.41c.39.39.9.59 1.41.59.51 0 1.02-.2 1.41-.59l7.78-7.78 2.81-2.81c.8-.78.8-2.07 0-2.86zM5.41 20L4 18.59l7.72-7.72 1.47 1.35L5.41 20z\"/>\n",
              "  </svg>\n",
              "      </button>\n",
              "      \n",
              "  <style>\n",
              "    .colab-df-container {\n",
              "      display:flex;\n",
              "      flex-wrap:wrap;\n",
              "      gap: 12px;\n",
              "    }\n",
              "\n",
              "    .colab-df-convert {\n",
              "      background-color: #E8F0FE;\n",
              "      border: none;\n",
              "      border-radius: 50%;\n",
              "      cursor: pointer;\n",
              "      display: none;\n",
              "      fill: #1967D2;\n",
              "      height: 32px;\n",
              "      padding: 0 0 0 0;\n",
              "      width: 32px;\n",
              "    }\n",
              "\n",
              "    .colab-df-convert:hover {\n",
              "      background-color: #E2EBFA;\n",
              "      box-shadow: 0px 1px 2px rgba(60, 64, 67, 0.3), 0px 1px 3px 1px rgba(60, 64, 67, 0.15);\n",
              "      fill: #174EA6;\n",
              "    }\n",
              "\n",
              "    [theme=dark] .colab-df-convert {\n",
              "      background-color: #3B4455;\n",
              "      fill: #D2E3FC;\n",
              "    }\n",
              "\n",
              "    [theme=dark] .colab-df-convert:hover {\n",
              "      background-color: #434B5C;\n",
              "      box-shadow: 0px 1px 3px 1px rgba(0, 0, 0, 0.15);\n",
              "      filter: drop-shadow(0px 1px 2px rgba(0, 0, 0, 0.3));\n",
              "      fill: #FFFFFF;\n",
              "    }\n",
              "  </style>\n",
              "\n",
              "      <script>\n",
              "        const buttonEl =\n",
              "          document.querySelector('#df-3bb27605-f0df-432f-9a35-2272bfb4b60f button.colab-df-convert');\n",
              "        buttonEl.style.display =\n",
              "          google.colab.kernel.accessAllowed ? 'block' : 'none';\n",
              "\n",
              "        async function convertToInteractive(key) {\n",
              "          const element = document.querySelector('#df-3bb27605-f0df-432f-9a35-2272bfb4b60f');\n",
              "          const dataTable =\n",
              "            await google.colab.kernel.invokeFunction('convertToInteractive',\n",
              "                                                     [key], {});\n",
              "          if (!dataTable) return;\n",
              "\n",
              "          const docLinkHtml = 'Like what you see? Visit the ' +\n",
              "            '<a target=\"_blank\" href=https://colab.research.google.com/notebooks/data_table.ipynb>data table notebook</a>'\n",
              "            + ' to learn more about interactive tables.';\n",
              "          element.innerHTML = '';\n",
              "          dataTable['output_type'] = 'display_data';\n",
              "          await google.colab.output.renderOutput(dataTable, element);\n",
              "          const docLink = document.createElement('div');\n",
              "          docLink.innerHTML = docLinkHtml;\n",
              "          element.appendChild(docLink);\n",
              "        }\n",
              "      </script>\n",
              "    </div>\n",
              "  </div>\n",
              "  "
            ]
          },
          "metadata": {},
          "execution_count": 12
        }
      ]
    },
    {
      "cell_type": "code",
      "source": [
        "#Booking\n",
        "#Loại bỏ missing-value records\n",
        "booking_df = booking_df.dropna()"
      ],
      "metadata": {
        "id": "30vC-DedancH"
      },
      "execution_count": 13,
      "outputs": []
    },
    {
      "cell_type": "code",
      "source": [
        "booking_df=booking_df.reset_index(drop=True)"
      ],
      "metadata": {
        "id": "oAJnKykIfAre"
      },
      "execution_count": 14,
      "outputs": []
    },
    {
      "cell_type": "code",
      "source": [
        "#Traveloka\n",
        "\n",
        "#Thay '[]' bằng NULL\n",
        "traveloka_df[\"Image\"] = traveloka_df[\"Image\"].apply(lambda y: np.nan if len(y)==2 else y)\n",
        "\n",
        "percent_missing = traveloka_df.isnull().sum() * 100 / len(traveloka_df)\n",
        "missing_value_df = pd.DataFrame({'column_name': traveloka_df.columns,\n",
        "                                 'percent_missing': percent_missing})\n",
        "missing_value_df"
      ],
      "metadata": {
        "colab": {
          "base_uri": "https://localhost:8080/",
          "height": 0
        },
        "id": "qL9-FxxEU8WN",
        "outputId": "d1b5f791-32da-4d7b-f7bc-97c1d96e1979"
      },
      "execution_count": 15,
      "outputs": [
        {
          "output_type": "execute_result",
          "data": {
            "text/plain": [
              "                         column_name  percent_missing\n",
              "City                            City         0.000000\n",
              "Hotel name                Hotel name         0.000000\n",
              "Image                          Image         0.627240\n",
              "Url                              Url         0.000000\n",
              "Address                      Address         0.806452\n",
              "Stars                          Stars         0.000000\n",
              "Min Price                  Min Price         0.000000\n",
              "Rating                        Rating         0.000000\n",
              "Number of reviews  Number of reviews         0.000000\n",
              "Reviews                      Reviews         0.000000\n",
              "Facilities                Facilities         0.000000\n",
              "Description              Description         0.000000\n",
              "Nearby places          Nearby places         0.000000"
            ],
            "text/html": [
              "\n",
              "  <div id=\"df-225a99b7-443b-4ce6-b864-5761770089ff\">\n",
              "    <div class=\"colab-df-container\">\n",
              "      <div>\n",
              "<style scoped>\n",
              "    .dataframe tbody tr th:only-of-type {\n",
              "        vertical-align: middle;\n",
              "    }\n",
              "\n",
              "    .dataframe tbody tr th {\n",
              "        vertical-align: top;\n",
              "    }\n",
              "\n",
              "    .dataframe thead th {\n",
              "        text-align: right;\n",
              "    }\n",
              "</style>\n",
              "<table border=\"1\" class=\"dataframe\">\n",
              "  <thead>\n",
              "    <tr style=\"text-align: right;\">\n",
              "      <th></th>\n",
              "      <th>column_name</th>\n",
              "      <th>percent_missing</th>\n",
              "    </tr>\n",
              "  </thead>\n",
              "  <tbody>\n",
              "    <tr>\n",
              "      <th>City</th>\n",
              "      <td>City</td>\n",
              "      <td>0.000000</td>\n",
              "    </tr>\n",
              "    <tr>\n",
              "      <th>Hotel name</th>\n",
              "      <td>Hotel name</td>\n",
              "      <td>0.000000</td>\n",
              "    </tr>\n",
              "    <tr>\n",
              "      <th>Image</th>\n",
              "      <td>Image</td>\n",
              "      <td>0.627240</td>\n",
              "    </tr>\n",
              "    <tr>\n",
              "      <th>Url</th>\n",
              "      <td>Url</td>\n",
              "      <td>0.000000</td>\n",
              "    </tr>\n",
              "    <tr>\n",
              "      <th>Address</th>\n",
              "      <td>Address</td>\n",
              "      <td>0.806452</td>\n",
              "    </tr>\n",
              "    <tr>\n",
              "      <th>Stars</th>\n",
              "      <td>Stars</td>\n",
              "      <td>0.000000</td>\n",
              "    </tr>\n",
              "    <tr>\n",
              "      <th>Min Price</th>\n",
              "      <td>Min Price</td>\n",
              "      <td>0.000000</td>\n",
              "    </tr>\n",
              "    <tr>\n",
              "      <th>Rating</th>\n",
              "      <td>Rating</td>\n",
              "      <td>0.000000</td>\n",
              "    </tr>\n",
              "    <tr>\n",
              "      <th>Number of reviews</th>\n",
              "      <td>Number of reviews</td>\n",
              "      <td>0.000000</td>\n",
              "    </tr>\n",
              "    <tr>\n",
              "      <th>Reviews</th>\n",
              "      <td>Reviews</td>\n",
              "      <td>0.000000</td>\n",
              "    </tr>\n",
              "    <tr>\n",
              "      <th>Facilities</th>\n",
              "      <td>Facilities</td>\n",
              "      <td>0.000000</td>\n",
              "    </tr>\n",
              "    <tr>\n",
              "      <th>Description</th>\n",
              "      <td>Description</td>\n",
              "      <td>0.000000</td>\n",
              "    </tr>\n",
              "    <tr>\n",
              "      <th>Nearby places</th>\n",
              "      <td>Nearby places</td>\n",
              "      <td>0.000000</td>\n",
              "    </tr>\n",
              "  </tbody>\n",
              "</table>\n",
              "</div>\n",
              "      <button class=\"colab-df-convert\" onclick=\"convertToInteractive('df-225a99b7-443b-4ce6-b864-5761770089ff')\"\n",
              "              title=\"Convert this dataframe to an interactive table.\"\n",
              "              style=\"display:none;\">\n",
              "        \n",
              "  <svg xmlns=\"http://www.w3.org/2000/svg\" height=\"24px\"viewBox=\"0 0 24 24\"\n",
              "       width=\"24px\">\n",
              "    <path d=\"M0 0h24v24H0V0z\" fill=\"none\"/>\n",
              "    <path d=\"M18.56 5.44l.94 2.06.94-2.06 2.06-.94-2.06-.94-.94-2.06-.94 2.06-2.06.94zm-11 1L8.5 8.5l.94-2.06 2.06-.94-2.06-.94L8.5 2.5l-.94 2.06-2.06.94zm10 10l.94 2.06.94-2.06 2.06-.94-2.06-.94-.94-2.06-.94 2.06-2.06.94z\"/><path d=\"M17.41 7.96l-1.37-1.37c-.4-.4-.92-.59-1.43-.59-.52 0-1.04.2-1.43.59L10.3 9.45l-7.72 7.72c-.78.78-.78 2.05 0 2.83L4 21.41c.39.39.9.59 1.41.59.51 0 1.02-.2 1.41-.59l7.78-7.78 2.81-2.81c.8-.78.8-2.07 0-2.86zM5.41 20L4 18.59l7.72-7.72 1.47 1.35L5.41 20z\"/>\n",
              "  </svg>\n",
              "      </button>\n",
              "      \n",
              "  <style>\n",
              "    .colab-df-container {\n",
              "      display:flex;\n",
              "      flex-wrap:wrap;\n",
              "      gap: 12px;\n",
              "    }\n",
              "\n",
              "    .colab-df-convert {\n",
              "      background-color: #E8F0FE;\n",
              "      border: none;\n",
              "      border-radius: 50%;\n",
              "      cursor: pointer;\n",
              "      display: none;\n",
              "      fill: #1967D2;\n",
              "      height: 32px;\n",
              "      padding: 0 0 0 0;\n",
              "      width: 32px;\n",
              "    }\n",
              "\n",
              "    .colab-df-convert:hover {\n",
              "      background-color: #E2EBFA;\n",
              "      box-shadow: 0px 1px 2px rgba(60, 64, 67, 0.3), 0px 1px 3px 1px rgba(60, 64, 67, 0.15);\n",
              "      fill: #174EA6;\n",
              "    }\n",
              "\n",
              "    [theme=dark] .colab-df-convert {\n",
              "      background-color: #3B4455;\n",
              "      fill: #D2E3FC;\n",
              "    }\n",
              "\n",
              "    [theme=dark] .colab-df-convert:hover {\n",
              "      background-color: #434B5C;\n",
              "      box-shadow: 0px 1px 3px 1px rgba(0, 0, 0, 0.15);\n",
              "      filter: drop-shadow(0px 1px 2px rgba(0, 0, 0, 0.3));\n",
              "      fill: #FFFFFF;\n",
              "    }\n",
              "  </style>\n",
              "\n",
              "      <script>\n",
              "        const buttonEl =\n",
              "          document.querySelector('#df-225a99b7-443b-4ce6-b864-5761770089ff button.colab-df-convert');\n",
              "        buttonEl.style.display =\n",
              "          google.colab.kernel.accessAllowed ? 'block' : 'none';\n",
              "\n",
              "        async function convertToInteractive(key) {\n",
              "          const element = document.querySelector('#df-225a99b7-443b-4ce6-b864-5761770089ff');\n",
              "          const dataTable =\n",
              "            await google.colab.kernel.invokeFunction('convertToInteractive',\n",
              "                                                     [key], {});\n",
              "          if (!dataTable) return;\n",
              "\n",
              "          const docLinkHtml = 'Like what you see? Visit the ' +\n",
              "            '<a target=\"_blank\" href=https://colab.research.google.com/notebooks/data_table.ipynb>data table notebook</a>'\n",
              "            + ' to learn more about interactive tables.';\n",
              "          element.innerHTML = '';\n",
              "          dataTable['output_type'] = 'display_data';\n",
              "          await google.colab.output.renderOutput(dataTable, element);\n",
              "          const docLink = document.createElement('div');\n",
              "          docLink.innerHTML = docLinkHtml;\n",
              "          element.appendChild(docLink);\n",
              "        }\n",
              "      </script>\n",
              "    </div>\n",
              "  </div>\n",
              "  "
            ]
          },
          "metadata": {},
          "execution_count": 15
        }
      ]
    },
    {
      "cell_type": "code",
      "source": [
        "#Traveloka\n",
        "traveloka_df = traveloka_df.dropna()"
      ],
      "metadata": {
        "id": "k63thF7uafSv"
      },
      "execution_count": 16,
      "outputs": []
    },
    {
      "cell_type": "code",
      "source": [
        "traveloka_df=traveloka_df.reset_index(drop=True)"
      ],
      "metadata": {
        "id": "kO_Yk9aRe9ec"
      },
      "execution_count": 17,
      "outputs": []
    },
    {
      "cell_type": "code",
      "source": [
        "#Mytour\n",
        "missing_stars_hotel_url = mytour_df[\"Url\"].loc[mytour_df[\"Stars\"]==0]\n",
        "len(missing_stars_hotel_url)"
      ],
      "metadata": {
        "colab": {
          "base_uri": "https://localhost:8080/"
        },
        "id": "JXuAvAVJa8t3",
        "outputId": "2288fc8f-6cd0-43b0-860d-f00977d1ba8c"
      },
      "execution_count": 18,
      "outputs": [
        {
          "output_type": "execute_result",
          "data": {
            "text/plain": [
              "107"
            ]
          },
          "metadata": {},
          "execution_count": 18
        }
      ]
    },
    {
      "cell_type": "code",
      "source": [
        "#Mytour\n",
        "url_f = \"/content/drive/MyDrive/20212/THDL/url_data/data/CHeck/Fill_url.csv\"\n",
        "fill_stars_hotel_url = pd.read_csv(url_f)\n",
        "fill_stars_hotel_url.head()"
      ],
      "metadata": {
        "colab": {
          "base_uri": "https://localhost:8080/",
          "height": 0
        },
        "id": "rFLnPfsLcGdD",
        "outputId": "756efe86-d723-4779-ac2e-8318bf47ffd9"
      },
      "execution_count": 19,
      "outputs": [
        {
          "output_type": "execute_result",
          "data": {
            "text/plain": [
              "                                                 Url  Stars\n",
              "0  https://mytour.vn/khach-san/972-khach-san-impe...      4\n",
              "1  https://mytour.vn/khach-san/1486-khach-san-la-...      4\n",
              "2  https://mytour.vn/khach-san/470-khach-san-inte...      5\n",
              "3  https://mytour.vn/khach-san/971-khach-san-pull...      5\n",
              "4  https://mytour.vn/khach-san/48189-khach-san-no...      5"
            ],
            "text/html": [
              "\n",
              "  <div id=\"df-0c07acfb-a445-498f-a269-37c137083592\">\n",
              "    <div class=\"colab-df-container\">\n",
              "      <div>\n",
              "<style scoped>\n",
              "    .dataframe tbody tr th:only-of-type {\n",
              "        vertical-align: middle;\n",
              "    }\n",
              "\n",
              "    .dataframe tbody tr th {\n",
              "        vertical-align: top;\n",
              "    }\n",
              "\n",
              "    .dataframe thead th {\n",
              "        text-align: right;\n",
              "    }\n",
              "</style>\n",
              "<table border=\"1\" class=\"dataframe\">\n",
              "  <thead>\n",
              "    <tr style=\"text-align: right;\">\n",
              "      <th></th>\n",
              "      <th>Url</th>\n",
              "      <th>Stars</th>\n",
              "    </tr>\n",
              "  </thead>\n",
              "  <tbody>\n",
              "    <tr>\n",
              "      <th>0</th>\n",
              "      <td>https://mytour.vn/khach-san/972-khach-san-impe...</td>\n",
              "      <td>4</td>\n",
              "    </tr>\n",
              "    <tr>\n",
              "      <th>1</th>\n",
              "      <td>https://mytour.vn/khach-san/1486-khach-san-la-...</td>\n",
              "      <td>4</td>\n",
              "    </tr>\n",
              "    <tr>\n",
              "      <th>2</th>\n",
              "      <td>https://mytour.vn/khach-san/470-khach-san-inte...</td>\n",
              "      <td>5</td>\n",
              "    </tr>\n",
              "    <tr>\n",
              "      <th>3</th>\n",
              "      <td>https://mytour.vn/khach-san/971-khach-san-pull...</td>\n",
              "      <td>5</td>\n",
              "    </tr>\n",
              "    <tr>\n",
              "      <th>4</th>\n",
              "      <td>https://mytour.vn/khach-san/48189-khach-san-no...</td>\n",
              "      <td>5</td>\n",
              "    </tr>\n",
              "  </tbody>\n",
              "</table>\n",
              "</div>\n",
              "      <button class=\"colab-df-convert\" onclick=\"convertToInteractive('df-0c07acfb-a445-498f-a269-37c137083592')\"\n",
              "              title=\"Convert this dataframe to an interactive table.\"\n",
              "              style=\"display:none;\">\n",
              "        \n",
              "  <svg xmlns=\"http://www.w3.org/2000/svg\" height=\"24px\"viewBox=\"0 0 24 24\"\n",
              "       width=\"24px\">\n",
              "    <path d=\"M0 0h24v24H0V0z\" fill=\"none\"/>\n",
              "    <path d=\"M18.56 5.44l.94 2.06.94-2.06 2.06-.94-2.06-.94-.94-2.06-.94 2.06-2.06.94zm-11 1L8.5 8.5l.94-2.06 2.06-.94-2.06-.94L8.5 2.5l-.94 2.06-2.06.94zm10 10l.94 2.06.94-2.06 2.06-.94-2.06-.94-.94-2.06-.94 2.06-2.06.94z\"/><path d=\"M17.41 7.96l-1.37-1.37c-.4-.4-.92-.59-1.43-.59-.52 0-1.04.2-1.43.59L10.3 9.45l-7.72 7.72c-.78.78-.78 2.05 0 2.83L4 21.41c.39.39.9.59 1.41.59.51 0 1.02-.2 1.41-.59l7.78-7.78 2.81-2.81c.8-.78.8-2.07 0-2.86zM5.41 20L4 18.59l7.72-7.72 1.47 1.35L5.41 20z\"/>\n",
              "  </svg>\n",
              "      </button>\n",
              "      \n",
              "  <style>\n",
              "    .colab-df-container {\n",
              "      display:flex;\n",
              "      flex-wrap:wrap;\n",
              "      gap: 12px;\n",
              "    }\n",
              "\n",
              "    .colab-df-convert {\n",
              "      background-color: #E8F0FE;\n",
              "      border: none;\n",
              "      border-radius: 50%;\n",
              "      cursor: pointer;\n",
              "      display: none;\n",
              "      fill: #1967D2;\n",
              "      height: 32px;\n",
              "      padding: 0 0 0 0;\n",
              "      width: 32px;\n",
              "    }\n",
              "\n",
              "    .colab-df-convert:hover {\n",
              "      background-color: #E2EBFA;\n",
              "      box-shadow: 0px 1px 2px rgba(60, 64, 67, 0.3), 0px 1px 3px 1px rgba(60, 64, 67, 0.15);\n",
              "      fill: #174EA6;\n",
              "    }\n",
              "\n",
              "    [theme=dark] .colab-df-convert {\n",
              "      background-color: #3B4455;\n",
              "      fill: #D2E3FC;\n",
              "    }\n",
              "\n",
              "    [theme=dark] .colab-df-convert:hover {\n",
              "      background-color: #434B5C;\n",
              "      box-shadow: 0px 1px 3px 1px rgba(0, 0, 0, 0.15);\n",
              "      filter: drop-shadow(0px 1px 2px rgba(0, 0, 0, 0.3));\n",
              "      fill: #FFFFFF;\n",
              "    }\n",
              "  </style>\n",
              "\n",
              "      <script>\n",
              "        const buttonEl =\n",
              "          document.querySelector('#df-0c07acfb-a445-498f-a269-37c137083592 button.colab-df-convert');\n",
              "        buttonEl.style.display =\n",
              "          google.colab.kernel.accessAllowed ? 'block' : 'none';\n",
              "\n",
              "        async function convertToInteractive(key) {\n",
              "          const element = document.querySelector('#df-0c07acfb-a445-498f-a269-37c137083592');\n",
              "          const dataTable =\n",
              "            await google.colab.kernel.invokeFunction('convertToInteractive',\n",
              "                                                     [key], {});\n",
              "          if (!dataTable) return;\n",
              "\n",
              "          const docLinkHtml = 'Like what you see? Visit the ' +\n",
              "            '<a target=\"_blank\" href=https://colab.research.google.com/notebooks/data_table.ipynb>data table notebook</a>'\n",
              "            + ' to learn more about interactive tables.';\n",
              "          element.innerHTML = '';\n",
              "          dataTable['output_type'] = 'display_data';\n",
              "          await google.colab.output.renderOutput(dataTable, element);\n",
              "          const docLink = document.createElement('div');\n",
              "          docLink.innerHTML = docLinkHtml;\n",
              "          element.appendChild(docLink);\n",
              "        }\n",
              "      </script>\n",
              "    </div>\n",
              "  </div>\n",
              "  "
            ]
          },
          "metadata": {},
          "execution_count": 19
        }
      ]
    },
    {
      "cell_type": "code",
      "source": [
        "#Mytour\n",
        "for i in range(len(fill_stars_hotel_url)):\n",
        "  url = fill_stars_hotel_url[\"Url\"][i].replace('\\n','') + '\\r\\n'\n",
        "  #print(url)\n",
        "  star_rep = int(fill_stars_hotel_url[\"Stars\"][i])\n",
        "\n",
        "  mytour_df[\"Stars\"].loc[mytour_df[\"Url\"]==url] = star_rep\n",
        "  #print(mytour_df[\"Stars\"].loc[mytour_df[\"Url\"]==url])"
      ],
      "metadata": {
        "colab": {
          "base_uri": "https://localhost:8080/"
        },
        "id": "lbzcasMfcOf7",
        "outputId": "9f1a9da1-f56c-480f-b935-a3d40b34fc8b"
      },
      "execution_count": 20,
      "outputs": [
        {
          "output_type": "stream",
          "name": "stderr",
          "text": [
            "/usr/local/lib/python3.7/dist-packages/pandas/core/indexing.py:1732: SettingWithCopyWarning: \n",
            "A value is trying to be set on a copy of a slice from a DataFrame\n",
            "\n",
            "See the caveats in the documentation: https://pandas.pydata.org/pandas-docs/stable/user_guide/indexing.html#returning-a-view-versus-a-copy\n",
            "  self._setitem_single_block(indexer, value, name)\n"
          ]
        }
      ]
    },
    {
      "cell_type": "code",
      "source": [
        "#Mytour\n",
        "#Kiểm tra xem còn giá trị Star = 0 nào không\n",
        "len(mytour_df.loc[mytour_df[\"Stars\"]==0])"
      ],
      "metadata": {
        "colab": {
          "base_uri": "https://localhost:8080/"
        },
        "id": "ilmum-YUcVNl",
        "outputId": "e12f643a-e2ba-42a2-d70d-186098c4109e"
      },
      "execution_count": 21,
      "outputs": [
        {
          "output_type": "execute_result",
          "data": {
            "text/plain": [
              "4"
            ]
          },
          "metadata": {},
          "execution_count": 21
        }
      ]
    },
    {
      "cell_type": "code",
      "source": [
        "#Mytour\n",
        "mytour_df = mytour_df.drop([210, 323, 921, 922])"
      ],
      "metadata": {
        "id": "6IZiPVEEemsJ"
      },
      "execution_count": 22,
      "outputs": []
    },
    {
      "cell_type": "code",
      "source": [
        "#Mytour\n",
        "mytour_df=mytour_df.reset_index(drop=True)"
      ],
      "metadata": {
        "id": "m_q3agxWe3i_"
      },
      "execution_count": 23,
      "outputs": []
    },
    {
      "cell_type": "code",
      "source": [
        "#Mytour\n",
        "percent_missing = mytour_df.isnull().sum() * 100 / len(mytour_df)\n",
        "missing_value_df = pd.DataFrame({'column_name': mytour_df.columns,\n",
        "                                 'percent_missing': percent_missing})\n",
        "missing_value_df"
      ],
      "metadata": {
        "colab": {
          "base_uri": "https://localhost:8080/",
          "height": 0
        },
        "id": "MvcX9JOJfPMk",
        "outputId": "f0959336-b948-44e9-e37b-9054f57952bc"
      },
      "execution_count": 24,
      "outputs": [
        {
          "output_type": "execute_result",
          "data": {
            "text/plain": [
              "                         column_name  percent_missing\n",
              "City                            City         0.000000\n",
              "Hotel name                Hotel name         0.309837\n",
              "Image                          Image         0.000000\n",
              "Url                              Url         0.000000\n",
              "Address                      Address         0.309837\n",
              "Stars                          Stars         0.000000\n",
              "Min Price                  Min Price        18.822618\n",
              "Rating                        Rating         0.309837\n",
              "Number of reviews  Number of reviews         0.000000\n",
              "Reviews                      Reviews         0.000000\n",
              "Facilities                Facilities         0.000000\n",
              "Description              Description         0.000000\n",
              "Nearby places          Nearby places         0.000000"
            ],
            "text/html": [
              "\n",
              "  <div id=\"df-574b674a-9e69-4f54-9943-a88e0813c70c\">\n",
              "    <div class=\"colab-df-container\">\n",
              "      <div>\n",
              "<style scoped>\n",
              "    .dataframe tbody tr th:only-of-type {\n",
              "        vertical-align: middle;\n",
              "    }\n",
              "\n",
              "    .dataframe tbody tr th {\n",
              "        vertical-align: top;\n",
              "    }\n",
              "\n",
              "    .dataframe thead th {\n",
              "        text-align: right;\n",
              "    }\n",
              "</style>\n",
              "<table border=\"1\" class=\"dataframe\">\n",
              "  <thead>\n",
              "    <tr style=\"text-align: right;\">\n",
              "      <th></th>\n",
              "      <th>column_name</th>\n",
              "      <th>percent_missing</th>\n",
              "    </tr>\n",
              "  </thead>\n",
              "  <tbody>\n",
              "    <tr>\n",
              "      <th>City</th>\n",
              "      <td>City</td>\n",
              "      <td>0.000000</td>\n",
              "    </tr>\n",
              "    <tr>\n",
              "      <th>Hotel name</th>\n",
              "      <td>Hotel name</td>\n",
              "      <td>0.309837</td>\n",
              "    </tr>\n",
              "    <tr>\n",
              "      <th>Image</th>\n",
              "      <td>Image</td>\n",
              "      <td>0.000000</td>\n",
              "    </tr>\n",
              "    <tr>\n",
              "      <th>Url</th>\n",
              "      <td>Url</td>\n",
              "      <td>0.000000</td>\n",
              "    </tr>\n",
              "    <tr>\n",
              "      <th>Address</th>\n",
              "      <td>Address</td>\n",
              "      <td>0.309837</td>\n",
              "    </tr>\n",
              "    <tr>\n",
              "      <th>Stars</th>\n",
              "      <td>Stars</td>\n",
              "      <td>0.000000</td>\n",
              "    </tr>\n",
              "    <tr>\n",
              "      <th>Min Price</th>\n",
              "      <td>Min Price</td>\n",
              "      <td>18.822618</td>\n",
              "    </tr>\n",
              "    <tr>\n",
              "      <th>Rating</th>\n",
              "      <td>Rating</td>\n",
              "      <td>0.309837</td>\n",
              "    </tr>\n",
              "    <tr>\n",
              "      <th>Number of reviews</th>\n",
              "      <td>Number of reviews</td>\n",
              "      <td>0.000000</td>\n",
              "    </tr>\n",
              "    <tr>\n",
              "      <th>Reviews</th>\n",
              "      <td>Reviews</td>\n",
              "      <td>0.000000</td>\n",
              "    </tr>\n",
              "    <tr>\n",
              "      <th>Facilities</th>\n",
              "      <td>Facilities</td>\n",
              "      <td>0.000000</td>\n",
              "    </tr>\n",
              "    <tr>\n",
              "      <th>Description</th>\n",
              "      <td>Description</td>\n",
              "      <td>0.000000</td>\n",
              "    </tr>\n",
              "    <tr>\n",
              "      <th>Nearby places</th>\n",
              "      <td>Nearby places</td>\n",
              "      <td>0.000000</td>\n",
              "    </tr>\n",
              "  </tbody>\n",
              "</table>\n",
              "</div>\n",
              "      <button class=\"colab-df-convert\" onclick=\"convertToInteractive('df-574b674a-9e69-4f54-9943-a88e0813c70c')\"\n",
              "              title=\"Convert this dataframe to an interactive table.\"\n",
              "              style=\"display:none;\">\n",
              "        \n",
              "  <svg xmlns=\"http://www.w3.org/2000/svg\" height=\"24px\"viewBox=\"0 0 24 24\"\n",
              "       width=\"24px\">\n",
              "    <path d=\"M0 0h24v24H0V0z\" fill=\"none\"/>\n",
              "    <path d=\"M18.56 5.44l.94 2.06.94-2.06 2.06-.94-2.06-.94-.94-2.06-.94 2.06-2.06.94zm-11 1L8.5 8.5l.94-2.06 2.06-.94-2.06-.94L8.5 2.5l-.94 2.06-2.06.94zm10 10l.94 2.06.94-2.06 2.06-.94-2.06-.94-.94-2.06-.94 2.06-2.06.94z\"/><path d=\"M17.41 7.96l-1.37-1.37c-.4-.4-.92-.59-1.43-.59-.52 0-1.04.2-1.43.59L10.3 9.45l-7.72 7.72c-.78.78-.78 2.05 0 2.83L4 21.41c.39.39.9.59 1.41.59.51 0 1.02-.2 1.41-.59l7.78-7.78 2.81-2.81c.8-.78.8-2.07 0-2.86zM5.41 20L4 18.59l7.72-7.72 1.47 1.35L5.41 20z\"/>\n",
              "  </svg>\n",
              "      </button>\n",
              "      \n",
              "  <style>\n",
              "    .colab-df-container {\n",
              "      display:flex;\n",
              "      flex-wrap:wrap;\n",
              "      gap: 12px;\n",
              "    }\n",
              "\n",
              "    .colab-df-convert {\n",
              "      background-color: #E8F0FE;\n",
              "      border: none;\n",
              "      border-radius: 50%;\n",
              "      cursor: pointer;\n",
              "      display: none;\n",
              "      fill: #1967D2;\n",
              "      height: 32px;\n",
              "      padding: 0 0 0 0;\n",
              "      width: 32px;\n",
              "    }\n",
              "\n",
              "    .colab-df-convert:hover {\n",
              "      background-color: #E2EBFA;\n",
              "      box-shadow: 0px 1px 2px rgba(60, 64, 67, 0.3), 0px 1px 3px 1px rgba(60, 64, 67, 0.15);\n",
              "      fill: #174EA6;\n",
              "    }\n",
              "\n",
              "    [theme=dark] .colab-df-convert {\n",
              "      background-color: #3B4455;\n",
              "      fill: #D2E3FC;\n",
              "    }\n",
              "\n",
              "    [theme=dark] .colab-df-convert:hover {\n",
              "      background-color: #434B5C;\n",
              "      box-shadow: 0px 1px 3px 1px rgba(0, 0, 0, 0.15);\n",
              "      filter: drop-shadow(0px 1px 2px rgba(0, 0, 0, 0.3));\n",
              "      fill: #FFFFFF;\n",
              "    }\n",
              "  </style>\n",
              "\n",
              "      <script>\n",
              "        const buttonEl =\n",
              "          document.querySelector('#df-574b674a-9e69-4f54-9943-a88e0813c70c button.colab-df-convert');\n",
              "        buttonEl.style.display =\n",
              "          google.colab.kernel.accessAllowed ? 'block' : 'none';\n",
              "\n",
              "        async function convertToInteractive(key) {\n",
              "          const element = document.querySelector('#df-574b674a-9e69-4f54-9943-a88e0813c70c');\n",
              "          const dataTable =\n",
              "            await google.colab.kernel.invokeFunction('convertToInteractive',\n",
              "                                                     [key], {});\n",
              "          if (!dataTable) return;\n",
              "\n",
              "          const docLinkHtml = 'Like what you see? Visit the ' +\n",
              "            '<a target=\"_blank\" href=https://colab.research.google.com/notebooks/data_table.ipynb>data table notebook</a>'\n",
              "            + ' to learn more about interactive tables.';\n",
              "          element.innerHTML = '';\n",
              "          dataTable['output_type'] = 'display_data';\n",
              "          await google.colab.output.renderOutput(dataTable, element);\n",
              "          const docLink = document.createElement('div');\n",
              "          docLink.innerHTML = docLinkHtml;\n",
              "          element.appendChild(docLink);\n",
              "        }\n",
              "      </script>\n",
              "    </div>\n",
              "  </div>\n",
              "  "
            ]
          },
          "metadata": {},
          "execution_count": 24
        }
      ]
    },
    {
      "cell_type": "code",
      "source": [
        "#Bởi vì không thể thêm các giá trị Min Price cho bản ghi bị missing-value, do đó ta sẽ xóa hết các bản ghi này\n",
        "mytour_df = mytour_df.dropna(subset=[\"Min Price\"])\n",
        "mytour_df = mytour_df.reset_index(drop=True)"
      ],
      "metadata": {
        "id": "yATAkvAAfZYa"
      },
      "execution_count": 25,
      "outputs": []
    },
    {
      "cell_type": "code",
      "source": [
        "#Agoda\n",
        "percent_missing = agoda_df.isnull().sum() * 100 / len(agoda_df)\n",
        "missing_value_df = pd.DataFrame({'column_name': agoda_df.columns,\n",
        "                                 'percent_missing': percent_missing})\n",
        "missing_value_df"
      ],
      "metadata": {
        "colab": {
          "base_uri": "https://localhost:8080/",
          "height": 0
        },
        "id": "b5KGKCkcgi0Y",
        "outputId": "c24e00ab-3cd2-4274-e078-059f2ce8a2ad"
      },
      "execution_count": 26,
      "outputs": [
        {
          "output_type": "execute_result",
          "data": {
            "text/plain": [
              "                     column_name  percent_missing\n",
              "city                        city         0.000000\n",
              "hotel name            hotel name         0.376481\n",
              "url                          url         0.000000\n",
              "address                  address        31.192559\n",
              "stars                      stars         2.126010\n",
              "price                      price         3.033994\n",
              "rating                    rating        43.217805\n",
              "location rating  location rating        88.329089\n",
              "n_reviews              n_reviews         0.000000\n",
              "image                      image        11.947736\n",
              "reviews                  reviews         0.000000\n",
              "facilities            facilities         0.000000\n",
              "nearby places      nearby places         0.000000"
            ],
            "text/html": [
              "\n",
              "  <div id=\"df-e4ac812f-7610-4e84-9141-70e06ba9b690\">\n",
              "    <div class=\"colab-df-container\">\n",
              "      <div>\n",
              "<style scoped>\n",
              "    .dataframe tbody tr th:only-of-type {\n",
              "        vertical-align: middle;\n",
              "    }\n",
              "\n",
              "    .dataframe tbody tr th {\n",
              "        vertical-align: top;\n",
              "    }\n",
              "\n",
              "    .dataframe thead th {\n",
              "        text-align: right;\n",
              "    }\n",
              "</style>\n",
              "<table border=\"1\" class=\"dataframe\">\n",
              "  <thead>\n",
              "    <tr style=\"text-align: right;\">\n",
              "      <th></th>\n",
              "      <th>column_name</th>\n",
              "      <th>percent_missing</th>\n",
              "    </tr>\n",
              "  </thead>\n",
              "  <tbody>\n",
              "    <tr>\n",
              "      <th>city</th>\n",
              "      <td>city</td>\n",
              "      <td>0.000000</td>\n",
              "    </tr>\n",
              "    <tr>\n",
              "      <th>hotel name</th>\n",
              "      <td>hotel name</td>\n",
              "      <td>0.376481</td>\n",
              "    </tr>\n",
              "    <tr>\n",
              "      <th>url</th>\n",
              "      <td>url</td>\n",
              "      <td>0.000000</td>\n",
              "    </tr>\n",
              "    <tr>\n",
              "      <th>address</th>\n",
              "      <td>address</td>\n",
              "      <td>31.192559</td>\n",
              "    </tr>\n",
              "    <tr>\n",
              "      <th>stars</th>\n",
              "      <td>stars</td>\n",
              "      <td>2.126010</td>\n",
              "    </tr>\n",
              "    <tr>\n",
              "      <th>price</th>\n",
              "      <td>price</td>\n",
              "      <td>3.033994</td>\n",
              "    </tr>\n",
              "    <tr>\n",
              "      <th>rating</th>\n",
              "      <td>rating</td>\n",
              "      <td>43.217805</td>\n",
              "    </tr>\n",
              "    <tr>\n",
              "      <th>location rating</th>\n",
              "      <td>location rating</td>\n",
              "      <td>88.329089</td>\n",
              "    </tr>\n",
              "    <tr>\n",
              "      <th>n_reviews</th>\n",
              "      <td>n_reviews</td>\n",
              "      <td>0.000000</td>\n",
              "    </tr>\n",
              "    <tr>\n",
              "      <th>image</th>\n",
              "      <td>image</td>\n",
              "      <td>11.947736</td>\n",
              "    </tr>\n",
              "    <tr>\n",
              "      <th>reviews</th>\n",
              "      <td>reviews</td>\n",
              "      <td>0.000000</td>\n",
              "    </tr>\n",
              "    <tr>\n",
              "      <th>facilities</th>\n",
              "      <td>facilities</td>\n",
              "      <td>0.000000</td>\n",
              "    </tr>\n",
              "    <tr>\n",
              "      <th>nearby places</th>\n",
              "      <td>nearby places</td>\n",
              "      <td>0.000000</td>\n",
              "    </tr>\n",
              "  </tbody>\n",
              "</table>\n",
              "</div>\n",
              "      <button class=\"colab-df-convert\" onclick=\"convertToInteractive('df-e4ac812f-7610-4e84-9141-70e06ba9b690')\"\n",
              "              title=\"Convert this dataframe to an interactive table.\"\n",
              "              style=\"display:none;\">\n",
              "        \n",
              "  <svg xmlns=\"http://www.w3.org/2000/svg\" height=\"24px\"viewBox=\"0 0 24 24\"\n",
              "       width=\"24px\">\n",
              "    <path d=\"M0 0h24v24H0V0z\" fill=\"none\"/>\n",
              "    <path d=\"M18.56 5.44l.94 2.06.94-2.06 2.06-.94-2.06-.94-.94-2.06-.94 2.06-2.06.94zm-11 1L8.5 8.5l.94-2.06 2.06-.94-2.06-.94L8.5 2.5l-.94 2.06-2.06.94zm10 10l.94 2.06.94-2.06 2.06-.94-2.06-.94-.94-2.06-.94 2.06-2.06.94z\"/><path d=\"M17.41 7.96l-1.37-1.37c-.4-.4-.92-.59-1.43-.59-.52 0-1.04.2-1.43.59L10.3 9.45l-7.72 7.72c-.78.78-.78 2.05 0 2.83L4 21.41c.39.39.9.59 1.41.59.51 0 1.02-.2 1.41-.59l7.78-7.78 2.81-2.81c.8-.78.8-2.07 0-2.86zM5.41 20L4 18.59l7.72-7.72 1.47 1.35L5.41 20z\"/>\n",
              "  </svg>\n",
              "      </button>\n",
              "      \n",
              "  <style>\n",
              "    .colab-df-container {\n",
              "      display:flex;\n",
              "      flex-wrap:wrap;\n",
              "      gap: 12px;\n",
              "    }\n",
              "\n",
              "    .colab-df-convert {\n",
              "      background-color: #E8F0FE;\n",
              "      border: none;\n",
              "      border-radius: 50%;\n",
              "      cursor: pointer;\n",
              "      display: none;\n",
              "      fill: #1967D2;\n",
              "      height: 32px;\n",
              "      padding: 0 0 0 0;\n",
              "      width: 32px;\n",
              "    }\n",
              "\n",
              "    .colab-df-convert:hover {\n",
              "      background-color: #E2EBFA;\n",
              "      box-shadow: 0px 1px 2px rgba(60, 64, 67, 0.3), 0px 1px 3px 1px rgba(60, 64, 67, 0.15);\n",
              "      fill: #174EA6;\n",
              "    }\n",
              "\n",
              "    [theme=dark] .colab-df-convert {\n",
              "      background-color: #3B4455;\n",
              "      fill: #D2E3FC;\n",
              "    }\n",
              "\n",
              "    [theme=dark] .colab-df-convert:hover {\n",
              "      background-color: #434B5C;\n",
              "      box-shadow: 0px 1px 3px 1px rgba(0, 0, 0, 0.15);\n",
              "      filter: drop-shadow(0px 1px 2px rgba(0, 0, 0, 0.3));\n",
              "      fill: #FFFFFF;\n",
              "    }\n",
              "  </style>\n",
              "\n",
              "      <script>\n",
              "        const buttonEl =\n",
              "          document.querySelector('#df-e4ac812f-7610-4e84-9141-70e06ba9b690 button.colab-df-convert');\n",
              "        buttonEl.style.display =\n",
              "          google.colab.kernel.accessAllowed ? 'block' : 'none';\n",
              "\n",
              "        async function convertToInteractive(key) {\n",
              "          const element = document.querySelector('#df-e4ac812f-7610-4e84-9141-70e06ba9b690');\n",
              "          const dataTable =\n",
              "            await google.colab.kernel.invokeFunction('convertToInteractive',\n",
              "                                                     [key], {});\n",
              "          if (!dataTable) return;\n",
              "\n",
              "          const docLinkHtml = 'Like what you see? Visit the ' +\n",
              "            '<a target=\"_blank\" href=https://colab.research.google.com/notebooks/data_table.ipynb>data table notebook</a>'\n",
              "            + ' to learn more about interactive tables.';\n",
              "          element.innerHTML = '';\n",
              "          dataTable['output_type'] = 'display_data';\n",
              "          await google.colab.output.renderOutput(dataTable, element);\n",
              "          const docLink = document.createElement('div');\n",
              "          docLink.innerHTML = docLinkHtml;\n",
              "          element.appendChild(docLink);\n",
              "        }\n",
              "      </script>\n",
              "    </div>\n",
              "  </div>\n",
              "  "
            ]
          },
          "metadata": {},
          "execution_count": 26
        }
      ]
    },
    {
      "cell_type": "code",
      "source": [
        "#Agoda\n",
        "agoda_df = agoda_df.dropna()"
      ],
      "metadata": {
        "id": "pScUQYXqgs0p"
      },
      "execution_count": 27,
      "outputs": []
    },
    {
      "cell_type": "code",
      "source": [
        "#Agoda\n",
        "agoda_df = agoda_df.reset_index(drop=True)"
      ],
      "metadata": {
        "id": "U0lB-YeKiZPo"
      },
      "execution_count": 28,
      "outputs": []
    },
    {
      "cell_type": "markdown",
      "source": [
        "# **Chuẩn hóa dữ liệu**"
      ],
      "metadata": {
        "id": "qGL8kqulhV7s"
      }
    },
    {
      "cell_type": "markdown",
      "source": [
        "**Price**"
      ],
      "metadata": {
        "id": "nV0GWB1bmp6R"
      }
    },
    {
      "cell_type": "code",
      "source": [
        "#Booking\n",
        "booking_df['Price'] = booking_df['Price'].apply(lambda x: int(x.replace('VND', '').replace('.', '')))"
      ],
      "metadata": {
        "id": "mtuEM6nrhb7U"
      },
      "execution_count": 29,
      "outputs": []
    },
    {
      "cell_type": "code",
      "source": [
        "#Traveloka\n",
        "traveloka_df[\"Min Price\"] = traveloka_df[\"Min Price\"].apply(lambda x: x.replace('VND',''))\n",
        "traveloka_df[\"Min Price\"] = traveloka_df[\"Min Price\"].apply(lambda x: int(x.replace('.','')))"
      ],
      "metadata": {
        "id": "DOxWLt3ViR8t"
      },
      "execution_count": 30,
      "outputs": []
    },
    {
      "cell_type": "code",
      "source": [
        "#Mytour\n",
        "mytour_df[\"Min Price\"] = mytour_df[\"Min Price\"].apply(lambda x: x.replace('đ',''))\n",
        "mytour_df[\"Min Price\"] = mytour_df[\"Min Price\"].apply(lambda x: int(x.replace('.','')))"
      ],
      "metadata": {
        "id": "2BRb7nuaiziR"
      },
      "execution_count": 31,
      "outputs": []
    },
    {
      "cell_type": "code",
      "source": [
        "#Agoda\n",
        "agoda_df['price'] = agoda_df['price'].apply(lambda x: str(x).replace('.', ''))"
      ],
      "metadata": {
        "id": "SVEtOIB8jBGy"
      },
      "execution_count": 32,
      "outputs": []
    },
    {
      "cell_type": "code",
      "source": [
        "agoda_df['price'] = agoda_df['price'].apply(lambda x: int(x))"
      ],
      "metadata": {
        "id": "HfNeaM4TtPaF"
      },
      "execution_count": 33,
      "outputs": []
    },
    {
      "cell_type": "markdown",
      "source": [
        "**Stars**"
      ],
      "metadata": {
        "id": "zTTnQ-2Jms_d"
      }
    },
    {
      "cell_type": "code",
      "source": [
        "len(booking_df.loc[booking_df['Stars']>5])"
      ],
      "metadata": {
        "colab": {
          "base_uri": "https://localhost:8080/"
        },
        "id": "esKLJXFakT-W",
        "outputId": "6b5adbf5-dcd6-42b0-af1b-f5f00cf79793"
      },
      "execution_count": 34,
      "outputs": [
        {
          "output_type": "execute_result",
          "data": {
            "text/plain": [
              "0"
            ]
          },
          "metadata": {},
          "execution_count": 34
        }
      ]
    },
    {
      "cell_type": "code",
      "source": [
        "len(traveloka_df.loc[traveloka_df['Stars']>5])"
      ],
      "metadata": {
        "colab": {
          "base_uri": "https://localhost:8080/"
        },
        "id": "tG1nKD3ZkqaU",
        "outputId": "be17c892-007c-4ac0-fe79-9c1d15372ab8"
      },
      "execution_count": 35,
      "outputs": [
        {
          "output_type": "execute_result",
          "data": {
            "text/plain": [
              "0"
            ]
          },
          "metadata": {},
          "execution_count": 35
        }
      ]
    },
    {
      "cell_type": "code",
      "source": [
        "len(mytour_df.loc[mytour_df['Stars']>5])"
      ],
      "metadata": {
        "colab": {
          "base_uri": "https://localhost:8080/"
        },
        "id": "CPRKUyWQkvyH",
        "outputId": "e4be65fa-5eca-4c69-d30e-0acb41ec6f5b"
      },
      "execution_count": 36,
      "outputs": [
        {
          "output_type": "execute_result",
          "data": {
            "text/plain": [
              "0"
            ]
          },
          "metadata": {},
          "execution_count": 36
        }
      ]
    },
    {
      "cell_type": "code",
      "source": [
        "len(agoda_df.loc[agoda_df['stars']>5])"
      ],
      "metadata": {
        "colab": {
          "base_uri": "https://localhost:8080/"
        },
        "id": "Z0LPcAvTkzPP",
        "outputId": "04439a11-5380-47af-db0f-387abcc03880"
      },
      "execution_count": 37,
      "outputs": [
        {
          "output_type": "execute_result",
          "data": {
            "text/plain": [
              "223"
            ]
          },
          "metadata": {},
          "execution_count": 37
        }
      ]
    },
    {
      "cell_type": "code",
      "source": [
        "#Agoda\n",
        "agoda_df['stars'] = np.where(agoda_df['stars'] > 5, agoda_df['stars']/10 , agoda_df['stars'])"
      ],
      "metadata": {
        "id": "UfGzUZOZl-sK"
      },
      "execution_count": 38,
      "outputs": []
    },
    {
      "cell_type": "code",
      "source": [
        "len(agoda_df.loc[agoda_df['stars']>5])"
      ],
      "metadata": {
        "colab": {
          "base_uri": "https://localhost:8080/"
        },
        "id": "eg-0-kB0mIQ0",
        "outputId": "2ab5197a-7d3d-4747-c8a2-cf83b3c65c20"
      },
      "execution_count": 39,
      "outputs": [
        {
          "output_type": "execute_result",
          "data": {
            "text/plain": [
              "0"
            ]
          },
          "metadata": {},
          "execution_count": 39
        }
      ]
    },
    {
      "cell_type": "markdown",
      "source": [
        "**Rating**"
      ],
      "metadata": {
        "id": "NEmr5VGlmvKe"
      }
    },
    {
      "cell_type": "code",
      "source": [
        "#Booking\n",
        "booking_df['Rating'] = booking_df['Rating'].apply(lambda x: float(str(x).replace(',', '.')))"
      ],
      "metadata": {
        "id": "vpSzdFeFnt-x"
      },
      "execution_count": 40,
      "outputs": []
    },
    {
      "cell_type": "code",
      "source": [
        "#Agoda\n",
        "agoda_df['rating'] = agoda_df['rating'].apply(lambda x: float(str(x).replace(',', '.')))"
      ],
      "metadata": {
        "id": "ED52aEeunx15"
      },
      "execution_count": 41,
      "outputs": []
    },
    {
      "cell_type": "markdown",
      "source": [
        "**Number of Reviews**"
      ],
      "metadata": {
        "id": "1b-LuhPNn5nb"
      }
    },
    {
      "cell_type": "code",
      "source": [
        "#Booking\n",
        "booking_df['Number of reviews'] = booking_df['Number of reviews'].apply(lambda x: re.sub('[^0-9]','', str(x)))"
      ],
      "metadata": {
        "id": "3MOx9eYUn8pT"
      },
      "execution_count": 42,
      "outputs": []
    },
    {
      "cell_type": "code",
      "source": [
        "#Booking\n",
        "booking_df['Number of reviews'] = booking_df['Number of reviews'].apply(lambda x: int(x))"
      ],
      "metadata": {
        "id": "XvwcdOWnsHhh"
      },
      "execution_count": 43,
      "outputs": []
    },
    {
      "cell_type": "code",
      "source": [
        "#Agoda\n",
        "agoda_df['n_reviews'] = agoda_df['n_reviews'].apply(lambda x: str(x).replace(' Nhận xét', ''))\n",
        "agoda_df['n_reviews'] = agoda_df['n_reviews'].apply(lambda x: str(x).replace('.', ''))"
      ],
      "metadata": {
        "id": "VtBPELaNoGUl"
      },
      "execution_count": 44,
      "outputs": []
    },
    {
      "cell_type": "code",
      "source": [
        "#Agoda\n",
        "agoda_df['n_reviews'] = agoda_df['n_reviews'].apply(lambda x: int(x))"
      ],
      "metadata": {
        "id": "IQSl9cR9spEw"
      },
      "execution_count": 45,
      "outputs": []
    },
    {
      "cell_type": "code",
      "source": [
        "#Agoda _ bỏ location rating\n",
        "agoda_df = agoda_df.drop(\"location rating\", 1)"
      ],
      "metadata": {
        "colab": {
          "base_uri": "https://localhost:8080/"
        },
        "id": "NNcUUbgItYy1",
        "outputId": "56cad2bc-5dbb-44d1-bc1d-e2c36a1f6dd3"
      },
      "execution_count": 46,
      "outputs": [
        {
          "output_type": "stream",
          "name": "stderr",
          "text": [
            "/usr/local/lib/python3.7/dist-packages/ipykernel_launcher.py:2: FutureWarning: In a future version of pandas all arguments of DataFrame.drop except for the argument 'labels' will be keyword-only\n",
            "  \n"
          ]
        }
      ]
    },
    {
      "cell_type": "markdown",
      "source": [
        "**Hotel name**"
      ],
      "metadata": {
        "id": "dbIRMa36pKFT"
      }
    },
    {
      "cell_type": "code",
      "source": [
        "#Booking\n",
        "booking_df['Hotel name'] = booking_df['Hotel name'].apply(lambda x: x.replace('\\n', ' '))\n",
        "booking_df['Hotel name'] = booking_df['Hotel name'].apply(lambda x: x.replace('\\r', ''))"
      ],
      "metadata": {
        "id": "3v9556cPpLw-"
      },
      "execution_count": 47,
      "outputs": []
    },
    {
      "cell_type": "markdown",
      "source": [
        "**City**"
      ],
      "metadata": {
        "id": "bbHX5S1TqFCf"
      }
    },
    {
      "cell_type": "code",
      "source": [
        "booking_df['City'].unique()"
      ],
      "metadata": {
        "colab": {
          "base_uri": "https://localhost:8080/"
        },
        "id": "0a2-GCnnqGNs",
        "outputId": "cbeafd55-5173-46d7-d02a-3cb981591354"
      },
      "execution_count": 48,
      "outputs": [
        {
          "output_type": "execute_result",
          "data": {
            "text/plain": [
              "array(['Hà Nội', 'TP. Hồ Chí Minh', 'Đà Lạt', 'Đà Nẵng', 'Nha Trang',\n",
              "       'Phú Quốc', 'Vũng Tàu', 'Hạ Long'], dtype=object)"
            ]
          },
          "metadata": {},
          "execution_count": 48
        }
      ]
    },
    {
      "cell_type": "code",
      "source": [
        "traveloka_df['City'].unique()"
      ],
      "metadata": {
        "colab": {
          "base_uri": "https://localhost:8080/"
        },
        "id": "yst6oOqJqLyP",
        "outputId": "41ed6f6c-e82c-4dab-85b7-4239b81eebbd"
      },
      "execution_count": 49,
      "outputs": [
        {
          "output_type": "execute_result",
          "data": {
            "text/plain": [
              "array(['Hà Nội', 'Hồ Chí Minh', 'Đà Lạt', 'Đà Nẵng', 'Nha Trang',\n",
              "       'Phú Quốc', 'Vũng Tàu', 'Hạ Long'], dtype=object)"
            ]
          },
          "metadata": {},
          "execution_count": 49
        }
      ]
    },
    {
      "cell_type": "code",
      "source": [
        "mytour_df['City'].unique()"
      ],
      "metadata": {
        "colab": {
          "base_uri": "https://localhost:8080/"
        },
        "id": "moanKb_SqRCf",
        "outputId": "0c56caaf-20ae-48ed-9cb6-eabe0589e31e"
      },
      "execution_count": 50,
      "outputs": [
        {
          "output_type": "execute_result",
          "data": {
            "text/plain": [
              "array(['Hà Nội', 'Hồ Chí Minh', 'Đà Lạt', 'Đà Nẵng', 'Nha Trang',\n",
              "       'Phú Quốc', 'Vũng Tàu', 'Hạ Long'], dtype=object)"
            ]
          },
          "metadata": {},
          "execution_count": 50
        }
      ]
    },
    {
      "cell_type": "code",
      "source": [
        "agoda_df['city'].unique()"
      ],
      "metadata": {
        "colab": {
          "base_uri": "https://localhost:8080/"
        },
        "id": "YqbnUjjNqS7f",
        "outputId": "32e91274-3df0-4ae7-d0c8-ec88e4a17890"
      },
      "execution_count": 51,
      "outputs": [
        {
          "output_type": "execute_result",
          "data": {
            "text/plain": [
              "array(['Nha Trang', 'Đảo Phú Quốc', 'Vũng Tàu', 'Ha Long',\n",
              "       'Hồ Chí Minh', 'Hà Nội', 'Đà Nẵng', 'Đà Lạt'], dtype=object)"
            ]
          },
          "metadata": {},
          "execution_count": 51
        }
      ]
    },
    {
      "cell_type": "code",
      "source": [
        "agoda_df.info()"
      ],
      "metadata": {
        "colab": {
          "base_uri": "https://localhost:8080/"
        },
        "id": "JEVwkuRFs3ot",
        "outputId": "91c26c1c-ac45-46bf-f405-452cde3c1286"
      },
      "execution_count": 52,
      "outputs": [
        {
          "output_type": "stream",
          "name": "stdout",
          "text": [
            "<class 'pandas.core.frame.DataFrame'>\n",
            "RangeIndex: 981 entries, 0 to 980\n",
            "Data columns (total 12 columns):\n",
            " #   Column         Non-Null Count  Dtype  \n",
            "---  ------         --------------  -----  \n",
            " 0   city           981 non-null    object \n",
            " 1   hotel name     981 non-null    object \n",
            " 2   url            981 non-null    object \n",
            " 3   address        981 non-null    object \n",
            " 4   stars          981 non-null    float64\n",
            " 5   price          981 non-null    int64  \n",
            " 6   rating         981 non-null    float64\n",
            " 7   n_reviews      981 non-null    int64  \n",
            " 8   image          981 non-null    object \n",
            " 9   reviews        981 non-null    object \n",
            " 10  facilities     981 non-null    object \n",
            " 11  nearby places  981 non-null    object \n",
            "dtypes: float64(2), int64(2), object(8)\n",
            "memory usage: 92.1+ KB\n"
          ]
        }
      ]
    },
    {
      "cell_type": "code",
      "source": [
        "booking_df.info()"
      ],
      "metadata": {
        "colab": {
          "base_uri": "https://localhost:8080/"
        },
        "id": "VCJuqvVrs86G",
        "outputId": "59594b7f-4d40-4adb-c177-867239b9fe98"
      },
      "execution_count": 53,
      "outputs": [
        {
          "output_type": "stream",
          "name": "stdout",
          "text": [
            "<class 'pandas.core.frame.DataFrame'>\n",
            "RangeIndex: 4875 entries, 0 to 4874\n",
            "Data columns (total 13 columns):\n",
            " #   Column             Non-Null Count  Dtype  \n",
            "---  ------             --------------  -----  \n",
            " 0   City               4875 non-null   object \n",
            " 1   Hotel name         4875 non-null   object \n",
            " 2   Url                4875 non-null   object \n",
            " 3   Address            4875 non-null   object \n",
            " 4   Stars              4875 non-null   int64  \n",
            " 5   Price              4875 non-null   int64  \n",
            " 6   Rating             4875 non-null   float64\n",
            " 7   Number of reviews  4875 non-null   int64  \n",
            " 8   Reviews            4875 non-null   object \n",
            " 9   Facilities         4875 non-null   object \n",
            " 10  Description        4875 non-null   object \n",
            " 11  Nearby places      4875 non-null   object \n",
            " 12  Image              4875 non-null   object \n",
            "dtypes: float64(1), int64(3), object(9)\n",
            "memory usage: 495.2+ KB\n"
          ]
        }
      ]
    },
    {
      "cell_type": "code",
      "source": [
        "traveloka_df.info()"
      ],
      "metadata": {
        "colab": {
          "base_uri": "https://localhost:8080/"
        },
        "id": "hK0d9qaXs_0c",
        "outputId": "54adba77-7834-4203-8dc3-c07d7c75c9ce"
      },
      "execution_count": 54,
      "outputs": [
        {
          "output_type": "stream",
          "name": "stdout",
          "text": [
            "<class 'pandas.core.frame.DataFrame'>\n",
            "RangeIndex: 1100 entries, 0 to 1099\n",
            "Data columns (total 13 columns):\n",
            " #   Column             Non-Null Count  Dtype  \n",
            "---  ------             --------------  -----  \n",
            " 0   City               1100 non-null   object \n",
            " 1   Hotel name         1100 non-null   object \n",
            " 2   Image              1100 non-null   object \n",
            " 3   Url                1100 non-null   object \n",
            " 4   Address            1100 non-null   object \n",
            " 5   Stars              1100 non-null   int64  \n",
            " 6   Min Price          1100 non-null   int64  \n",
            " 7   Rating             1100 non-null   float64\n",
            " 8   Number of reviews  1100 non-null   int64  \n",
            " 9   Reviews            1100 non-null   object \n",
            " 10  Facilities         1100 non-null   object \n",
            " 11  Description        1100 non-null   object \n",
            " 12  Nearby places      1100 non-null   object \n",
            "dtypes: float64(1), int64(3), object(9)\n",
            "memory usage: 111.8+ KB\n"
          ]
        }
      ]
    },
    {
      "cell_type": "code",
      "source": [
        "mytour_df.info()"
      ],
      "metadata": {
        "colab": {
          "base_uri": "https://localhost:8080/"
        },
        "id": "z6Z3MV41tEtn",
        "outputId": "509f3aca-4218-4405-f010-7a85681eaef5"
      },
      "execution_count": 55,
      "outputs": [
        {
          "output_type": "stream",
          "name": "stdout",
          "text": [
            "<class 'pandas.core.frame.DataFrame'>\n",
            "RangeIndex: 1048 entries, 0 to 1047\n",
            "Data columns (total 13 columns):\n",
            " #   Column             Non-Null Count  Dtype  \n",
            "---  ------             --------------  -----  \n",
            " 0   City               1048 non-null   object \n",
            " 1   Hotel name         1048 non-null   object \n",
            " 2   Image              1048 non-null   object \n",
            " 3   Url                1048 non-null   object \n",
            " 4   Address            1048 non-null   object \n",
            " 5   Stars              1048 non-null   int64  \n",
            " 6   Min Price          1048 non-null   int64  \n",
            " 7   Rating             1048 non-null   float64\n",
            " 8   Number of reviews  1048 non-null   int64  \n",
            " 9   Reviews            1048 non-null   object \n",
            " 10  Facilities         1048 non-null   object \n",
            " 11  Description        1048 non-null   object \n",
            " 12  Nearby places      1048 non-null   object \n",
            "dtypes: float64(1), int64(3), object(9)\n",
            "memory usage: 106.6+ KB\n"
          ]
        }
      ]
    },
    {
      "cell_type": "markdown",
      "source": [
        "# **Lọc trùng dữ liệu**"
      ],
      "metadata": {
        "id": "YC3ecsCfrsDS"
      }
    },
    {
      "cell_type": "markdown",
      "source": [
        "**Traveloka**"
      ],
      "metadata": {
        "id": "EghQk0hBuufJ"
      }
    },
    {
      "cell_type": "code",
      "source": [
        "#Kiểm tra những Khách sạn trùng tên\n",
        "dups_name = traveloka_df.pivot_table(columns=[\"Hotel name\"], aggfunc='size')\n",
        "print(dups_name.where(dups_name > 1).sum())"
      ],
      "metadata": {
        "colab": {
          "base_uri": "https://localhost:8080/"
        },
        "id": "GA1mxAlHuwiJ",
        "outputId": "1a84edec-d37d-4043-fa9e-063400414b08"
      },
      "execution_count": 56,
      "outputs": [
        {
          "output_type": "stream",
          "name": "stdout",
          "text": [
            "80.0\n"
          ]
        }
      ]
    },
    {
      "cell_type": "code",
      "source": [
        "#Kiểm tra KS trùng địa chỉ và tên\n",
        "dups_name_1 = traveloka_df.pivot_table(columns=[\"Hotel name\", \"Address\"], aggfunc='size')\n",
        "print(dups_name_1.where(dups_name_1 > 1).sum())"
      ],
      "metadata": {
        "colab": {
          "base_uri": "https://localhost:8080/"
        },
        "id": "2uKHNc1Vu57i",
        "outputId": "68a558da-5c7f-4cf9-b069-dc9f11b9dd6e"
      },
      "execution_count": 57,
      "outputs": [
        {
          "output_type": "stream",
          "name": "stdout",
          "text": [
            "76.0\n"
          ]
        }
      ]
    },
    {
      "cell_type": "code",
      "source": [
        "#Kiểm tra KS trùng địa chỉ, tên và giá\n",
        "dups_name_p = traveloka_df.pivot_table(columns=[\"Hotel name\", \"Address\", \"Min Price\"], aggfunc='size')\n",
        "print(dups_name_p.where(dups_name_p > 1).sum())"
      ],
      "metadata": {
        "colab": {
          "base_uri": "https://localhost:8080/"
        },
        "id": "GGb_i-8gvENL",
        "outputId": "daf1c8a1-9167-4163-d1e5-8dea15fd8acb"
      },
      "execution_count": 58,
      "outputs": [
        {
          "output_type": "stream",
          "name": "stdout",
          "text": [
            "74.0\n"
          ]
        }
      ]
    },
    {
      "cell_type": "code",
      "source": [
        "#Lọc bỏ dữ liệu trùng lặp theo tên, địa chỉ và giá\n",
        "traveloka_df = traveloka_df.drop_duplicates(subset=[\"Hotel name\", \"Address\", \"Min Price\"])"
      ],
      "metadata": {
        "id": "1XGi1PguvJCi"
      },
      "execution_count": 59,
      "outputs": []
    },
    {
      "cell_type": "code",
      "source": [
        "dups_name_2 = traveloka_df.pivot_table(columns=[\"Hotel name\", \"Address\"], aggfunc='size')\n",
        "dups_name_2.loc[dups_name_2 > 1]"
      ],
      "metadata": {
        "colab": {
          "base_uri": "https://localhost:8080/"
        },
        "id": "g2ZmnwGwvLK6",
        "outputId": "73232db7-872f-4984-d4a5-1e95896a3e68"
      },
      "execution_count": 60,
      "outputs": [
        {
          "output_type": "execute_result",
          "data": {
            "text/plain": [
              "Hotel name                Address                                                                                                                          \n",
              "Citadines Marina Hạ Long  Peninsula 3, Marina Halong,, Halong Marine Blvd, Hung Thang Ward, phường Hùng Thắng, Thành phố Hạ Long, Tỉnh Quảng Ninh, Việt Nam    2\n",
              "dtype: int64"
            ]
          },
          "metadata": {},
          "execution_count": 60
        }
      ]
    },
    {
      "cell_type": "code",
      "source": [
        "#2 KS này chung tỉnh và chỉ khác đôi chút ở địa chỉ --> Ta loại bỏ khách sạn có giá cao hơn\n",
        "traveloka_df.loc[traveloka_df[\"Hotel name\"] == \"Citadines Marina Hạ Long\"]"
      ],
      "metadata": {
        "colab": {
          "base_uri": "https://localhost:8080/",
          "height": 454
        },
        "id": "nN1OjeoZvQeU",
        "outputId": "e515b908-b1d3-40cb-8530-2aaa8e2b49d2"
      },
      "execution_count": 61,
      "outputs": [
        {
          "output_type": "execute_result",
          "data": {
            "text/plain": [
              "         City                Hotel name  \\\n",
              "1041  Hạ Long  Citadines Marina Hạ Long   \n",
              "1077  Hạ Long  Citadines Marina Hạ Long   \n",
              "\n",
              "                                                  Image  \\\n",
              "1041  ['https://ik.imagekit.io/tvlk/apr-asset/TzEv3Z...   \n",
              "1077  ['https://ik.imagekit.io/tvlk/apr-asset/TzEv3Z...   \n",
              "\n",
              "                                                    Url  \\\n",
              "1041  https://www.traveloka.com/vi-vn/hotel/vietnam/...   \n",
              "1077  https://www.traveloka.com/vi-vn/hotel/vietnam/...   \n",
              "\n",
              "                                                Address  Stars  Min Price  \\\n",
              "1041  Peninsula 3, Marina Halong,, Halong Marine Blv...      4    2724384   \n",
              "1077  Peninsula 3, Marina Halong,, Halong Marine Blv...      4    4427121   \n",
              "\n",
              "      Rating  Number of reviews Reviews  \\\n",
              "1041     0.0                  0      []   \n",
              "1077     0.0                  0      []   \n",
              "\n",
              "                                             Facilities  \\\n",
              "1041  ['Hồ bơi', 'Nhà hàng', 'Lễ tân 24h', 'WiFi', '...   \n",
              "1077  ['Hồ bơi', 'Nhà hàng', 'Lễ tân 24h', 'WiFi', '...   \n",
              "\n",
              "                                            Description  \\\n",
              "1041  Giờ nhận và trả phòng\\r\\nGiờ nhận phòng: Từ 14...   \n",
              "1077  Giờ nhận và trả phòng\\r\\nGiờ nhận phòng: Từ 14...   \n",
              "\n",
              "                                          Nearby places  \n",
              "1041  [('Cái Dăm Market', '1.01 km'), ('Bệnh viện qu...  \n",
              "1077  [('Cái Dăm Market', '1.01 km'), ('Bệnh viện qu...  "
            ],
            "text/html": [
              "\n",
              "  <div id=\"df-306aac7e-0c9b-431c-a556-dd7a871b5b91\">\n",
              "    <div class=\"colab-df-container\">\n",
              "      <div>\n",
              "<style scoped>\n",
              "    .dataframe tbody tr th:only-of-type {\n",
              "        vertical-align: middle;\n",
              "    }\n",
              "\n",
              "    .dataframe tbody tr th {\n",
              "        vertical-align: top;\n",
              "    }\n",
              "\n",
              "    .dataframe thead th {\n",
              "        text-align: right;\n",
              "    }\n",
              "</style>\n",
              "<table border=\"1\" class=\"dataframe\">\n",
              "  <thead>\n",
              "    <tr style=\"text-align: right;\">\n",
              "      <th></th>\n",
              "      <th>City</th>\n",
              "      <th>Hotel name</th>\n",
              "      <th>Image</th>\n",
              "      <th>Url</th>\n",
              "      <th>Address</th>\n",
              "      <th>Stars</th>\n",
              "      <th>Min Price</th>\n",
              "      <th>Rating</th>\n",
              "      <th>Number of reviews</th>\n",
              "      <th>Reviews</th>\n",
              "      <th>Facilities</th>\n",
              "      <th>Description</th>\n",
              "      <th>Nearby places</th>\n",
              "    </tr>\n",
              "  </thead>\n",
              "  <tbody>\n",
              "    <tr>\n",
              "      <th>1041</th>\n",
              "      <td>Hạ Long</td>\n",
              "      <td>Citadines Marina Hạ Long</td>\n",
              "      <td>['https://ik.imagekit.io/tvlk/apr-asset/TzEv3Z...</td>\n",
              "      <td>https://www.traveloka.com/vi-vn/hotel/vietnam/...</td>\n",
              "      <td>Peninsula 3, Marina Halong,, Halong Marine Blv...</td>\n",
              "      <td>4</td>\n",
              "      <td>2724384</td>\n",
              "      <td>0.0</td>\n",
              "      <td>0</td>\n",
              "      <td>[]</td>\n",
              "      <td>['Hồ bơi', 'Nhà hàng', 'Lễ tân 24h', 'WiFi', '...</td>\n",
              "      <td>Giờ nhận và trả phòng\\r\\nGiờ nhận phòng: Từ 14...</td>\n",
              "      <td>[('Cái Dăm Market', '1.01 km'), ('Bệnh viện qu...</td>\n",
              "    </tr>\n",
              "    <tr>\n",
              "      <th>1077</th>\n",
              "      <td>Hạ Long</td>\n",
              "      <td>Citadines Marina Hạ Long</td>\n",
              "      <td>['https://ik.imagekit.io/tvlk/apr-asset/TzEv3Z...</td>\n",
              "      <td>https://www.traveloka.com/vi-vn/hotel/vietnam/...</td>\n",
              "      <td>Peninsula 3, Marina Halong,, Halong Marine Blv...</td>\n",
              "      <td>4</td>\n",
              "      <td>4427121</td>\n",
              "      <td>0.0</td>\n",
              "      <td>0</td>\n",
              "      <td>[]</td>\n",
              "      <td>['Hồ bơi', 'Nhà hàng', 'Lễ tân 24h', 'WiFi', '...</td>\n",
              "      <td>Giờ nhận và trả phòng\\r\\nGiờ nhận phòng: Từ 14...</td>\n",
              "      <td>[('Cái Dăm Market', '1.01 km'), ('Bệnh viện qu...</td>\n",
              "    </tr>\n",
              "  </tbody>\n",
              "</table>\n",
              "</div>\n",
              "      <button class=\"colab-df-convert\" onclick=\"convertToInteractive('df-306aac7e-0c9b-431c-a556-dd7a871b5b91')\"\n",
              "              title=\"Convert this dataframe to an interactive table.\"\n",
              "              style=\"display:none;\">\n",
              "        \n",
              "  <svg xmlns=\"http://www.w3.org/2000/svg\" height=\"24px\"viewBox=\"0 0 24 24\"\n",
              "       width=\"24px\">\n",
              "    <path d=\"M0 0h24v24H0V0z\" fill=\"none\"/>\n",
              "    <path d=\"M18.56 5.44l.94 2.06.94-2.06 2.06-.94-2.06-.94-.94-2.06-.94 2.06-2.06.94zm-11 1L8.5 8.5l.94-2.06 2.06-.94-2.06-.94L8.5 2.5l-.94 2.06-2.06.94zm10 10l.94 2.06.94-2.06 2.06-.94-2.06-.94-.94-2.06-.94 2.06-2.06.94z\"/><path d=\"M17.41 7.96l-1.37-1.37c-.4-.4-.92-.59-1.43-.59-.52 0-1.04.2-1.43.59L10.3 9.45l-7.72 7.72c-.78.78-.78 2.05 0 2.83L4 21.41c.39.39.9.59 1.41.59.51 0 1.02-.2 1.41-.59l7.78-7.78 2.81-2.81c.8-.78.8-2.07 0-2.86zM5.41 20L4 18.59l7.72-7.72 1.47 1.35L5.41 20z\"/>\n",
              "  </svg>\n",
              "      </button>\n",
              "      \n",
              "  <style>\n",
              "    .colab-df-container {\n",
              "      display:flex;\n",
              "      flex-wrap:wrap;\n",
              "      gap: 12px;\n",
              "    }\n",
              "\n",
              "    .colab-df-convert {\n",
              "      background-color: #E8F0FE;\n",
              "      border: none;\n",
              "      border-radius: 50%;\n",
              "      cursor: pointer;\n",
              "      display: none;\n",
              "      fill: #1967D2;\n",
              "      height: 32px;\n",
              "      padding: 0 0 0 0;\n",
              "      width: 32px;\n",
              "    }\n",
              "\n",
              "    .colab-df-convert:hover {\n",
              "      background-color: #E2EBFA;\n",
              "      box-shadow: 0px 1px 2px rgba(60, 64, 67, 0.3), 0px 1px 3px 1px rgba(60, 64, 67, 0.15);\n",
              "      fill: #174EA6;\n",
              "    }\n",
              "\n",
              "    [theme=dark] .colab-df-convert {\n",
              "      background-color: #3B4455;\n",
              "      fill: #D2E3FC;\n",
              "    }\n",
              "\n",
              "    [theme=dark] .colab-df-convert:hover {\n",
              "      background-color: #434B5C;\n",
              "      box-shadow: 0px 1px 3px 1px rgba(0, 0, 0, 0.15);\n",
              "      filter: drop-shadow(0px 1px 2px rgba(0, 0, 0, 0.3));\n",
              "      fill: #FFFFFF;\n",
              "    }\n",
              "  </style>\n",
              "\n",
              "      <script>\n",
              "        const buttonEl =\n",
              "          document.querySelector('#df-306aac7e-0c9b-431c-a556-dd7a871b5b91 button.colab-df-convert');\n",
              "        buttonEl.style.display =\n",
              "          google.colab.kernel.accessAllowed ? 'block' : 'none';\n",
              "\n",
              "        async function convertToInteractive(key) {\n",
              "          const element = document.querySelector('#df-306aac7e-0c9b-431c-a556-dd7a871b5b91');\n",
              "          const dataTable =\n",
              "            await google.colab.kernel.invokeFunction('convertToInteractive',\n",
              "                                                     [key], {});\n",
              "          if (!dataTable) return;\n",
              "\n",
              "          const docLinkHtml = 'Like what you see? Visit the ' +\n",
              "            '<a target=\"_blank\" href=https://colab.research.google.com/notebooks/data_table.ipynb>data table notebook</a>'\n",
              "            + ' to learn more about interactive tables.';\n",
              "          element.innerHTML = '';\n",
              "          dataTable['output_type'] = 'display_data';\n",
              "          await google.colab.output.renderOutput(dataTable, element);\n",
              "          const docLink = document.createElement('div');\n",
              "          docLink.innerHTML = docLinkHtml;\n",
              "          element.appendChild(docLink);\n",
              "        }\n",
              "      </script>\n",
              "    </div>\n",
              "  </div>\n",
              "  "
            ]
          },
          "metadata": {},
          "execution_count": 61
        }
      ]
    },
    {
      "cell_type": "code",
      "source": [
        "traveloka_df = traveloka_df.drop([1077])"
      ],
      "metadata": {
        "id": "GJJPuCiGwCdB"
      },
      "execution_count": 62,
      "outputs": []
    },
    {
      "cell_type": "code",
      "source": [
        "dups_name_2 = traveloka_df.pivot_table(columns=[\"Hotel name\"], aggfunc='size')\n",
        "dups_name_2.loc[dups_name_2 > 1]"
      ],
      "metadata": {
        "colab": {
          "base_uri": "https://localhost:8080/"
        },
        "id": "sZ8ouRnfv-vH",
        "outputId": "4b543f89-4d7c-4b6f-c83d-3750def9805c"
      },
      "execution_count": 63,
      "outputs": [
        {
          "output_type": "execute_result",
          "data": {
            "text/plain": [
              "Hotel name\n",
              "Hoang Ha Hotel               2\n",
              "Movenpick Resort Cam Ranh    2\n",
              "dtype: int64"
            ]
          },
          "metadata": {},
          "execution_count": 63
        }
      ]
    },
    {
      "cell_type": "code",
      "source": [
        "#2 KS này ở khác tỉnh nên có thể giữ lại\n",
        "traveloka_df.loc[traveloka_df[\"Hotel name\"] == \"Hoang Ha Hotel\"]"
      ],
      "metadata": {
        "colab": {
          "base_uri": "https://localhost:8080/",
          "height": 488
        },
        "id": "3a2DmpziwObz",
        "outputId": "76a750c2-579d-4b60-832c-fe50a9976635"
      },
      "execution_count": 64,
      "outputs": [
        {
          "output_type": "execute_result",
          "data": {
            "text/plain": [
              "            City      Hotel name  \\\n",
              "292  Hồ Chí Minh  Hoang Ha Hotel   \n",
              "501       Đà Lạt  Hoang Ha Hotel   \n",
              "\n",
              "                                                 Image  \\\n",
              "292  ['https://ik.imagekit.io/tvlk/apr-asset/dgXfoy...   \n",
              "501  ['https://ik.imagekit.io/tvlk/apr-asset/dgXfoy...   \n",
              "\n",
              "                                                   Url  \\\n",
              "292  https://www.traveloka.com/vi-vn/hotel/vietnam/...   \n",
              "501  https://www.traveloka.com/vi-vn/hotel/vietnam/...   \n",
              "\n",
              "                                               Address  Stars  Min Price  \\\n",
              "292  57 Trưong Quốc Dung, phường 10, Quận Phú Nhuận...      2     528000   \n",
              "501  203 Nguyễn Công Trứ, Phường 2, Đà Lạt, Tỉnh Lâ...      1     350000   \n",
              "\n",
              "     Rating  Number of reviews  \\\n",
              "292     8.1                 43   \n",
              "501     0.0                  4   \n",
              "\n",
              "                                               Reviews  \\\n",
              "292  ['', 'Khách sạn cũ, vệ sinh không tốt. Tuy nhi...   \n",
              "501  ['cô chủ dễ thương, thuê xe rẻ với lại phòng ố...   \n",
              "\n",
              "                                         Facilities  \\\n",
              "292  ['Máy lạnh', 'Nhà hàng', 'Chỗ đậu xe', 'WiFi']   \n",
              "501             ['Chỗ đậu xe', 'Thang máy', 'WiFi']   \n",
              "\n",
              "                                           Description  \\\n",
              "292  Giờ nhận và trả phòng\\r\\nGiờ nhận phòng: 14:00...   \n",
              "501  Giờ nhận và trả phòng\\r\\nGiờ nhận phòng: 14:00...   \n",
              "\n",
              "                                         Nearby places  \n",
              "292  [('Jamiul Muslimin Mosque', '84 m'), ('Saigon ...  \n",
              "501  [('Linh Son Pagoda', '702 m'), ('Big C Dalat',...  "
            ],
            "text/html": [
              "\n",
              "  <div id=\"df-f4fb1b28-91cc-4d9b-9859-6efff042fb1a\">\n",
              "    <div class=\"colab-df-container\">\n",
              "      <div>\n",
              "<style scoped>\n",
              "    .dataframe tbody tr th:only-of-type {\n",
              "        vertical-align: middle;\n",
              "    }\n",
              "\n",
              "    .dataframe tbody tr th {\n",
              "        vertical-align: top;\n",
              "    }\n",
              "\n",
              "    .dataframe thead th {\n",
              "        text-align: right;\n",
              "    }\n",
              "</style>\n",
              "<table border=\"1\" class=\"dataframe\">\n",
              "  <thead>\n",
              "    <tr style=\"text-align: right;\">\n",
              "      <th></th>\n",
              "      <th>City</th>\n",
              "      <th>Hotel name</th>\n",
              "      <th>Image</th>\n",
              "      <th>Url</th>\n",
              "      <th>Address</th>\n",
              "      <th>Stars</th>\n",
              "      <th>Min Price</th>\n",
              "      <th>Rating</th>\n",
              "      <th>Number of reviews</th>\n",
              "      <th>Reviews</th>\n",
              "      <th>Facilities</th>\n",
              "      <th>Description</th>\n",
              "      <th>Nearby places</th>\n",
              "    </tr>\n",
              "  </thead>\n",
              "  <tbody>\n",
              "    <tr>\n",
              "      <th>292</th>\n",
              "      <td>Hồ Chí Minh</td>\n",
              "      <td>Hoang Ha Hotel</td>\n",
              "      <td>['https://ik.imagekit.io/tvlk/apr-asset/dgXfoy...</td>\n",
              "      <td>https://www.traveloka.com/vi-vn/hotel/vietnam/...</td>\n",
              "      <td>57 Trưong Quốc Dung, phường 10, Quận Phú Nhuận...</td>\n",
              "      <td>2</td>\n",
              "      <td>528000</td>\n",
              "      <td>8.1</td>\n",
              "      <td>43</td>\n",
              "      <td>['', 'Khách sạn cũ, vệ sinh không tốt. Tuy nhi...</td>\n",
              "      <td>['Máy lạnh', 'Nhà hàng', 'Chỗ đậu xe', 'WiFi']</td>\n",
              "      <td>Giờ nhận và trả phòng\\r\\nGiờ nhận phòng: 14:00...</td>\n",
              "      <td>[('Jamiul Muslimin Mosque', '84 m'), ('Saigon ...</td>\n",
              "    </tr>\n",
              "    <tr>\n",
              "      <th>501</th>\n",
              "      <td>Đà Lạt</td>\n",
              "      <td>Hoang Ha Hotel</td>\n",
              "      <td>['https://ik.imagekit.io/tvlk/apr-asset/dgXfoy...</td>\n",
              "      <td>https://www.traveloka.com/vi-vn/hotel/vietnam/...</td>\n",
              "      <td>203 Nguyễn Công Trứ, Phường 2, Đà Lạt, Tỉnh Lâ...</td>\n",
              "      <td>1</td>\n",
              "      <td>350000</td>\n",
              "      <td>0.0</td>\n",
              "      <td>4</td>\n",
              "      <td>['cô chủ dễ thương, thuê xe rẻ với lại phòng ố...</td>\n",
              "      <td>['Chỗ đậu xe', 'Thang máy', 'WiFi']</td>\n",
              "      <td>Giờ nhận và trả phòng\\r\\nGiờ nhận phòng: 14:00...</td>\n",
              "      <td>[('Linh Son Pagoda', '702 m'), ('Big C Dalat',...</td>\n",
              "    </tr>\n",
              "  </tbody>\n",
              "</table>\n",
              "</div>\n",
              "      <button class=\"colab-df-convert\" onclick=\"convertToInteractive('df-f4fb1b28-91cc-4d9b-9859-6efff042fb1a')\"\n",
              "              title=\"Convert this dataframe to an interactive table.\"\n",
              "              style=\"display:none;\">\n",
              "        \n",
              "  <svg xmlns=\"http://www.w3.org/2000/svg\" height=\"24px\"viewBox=\"0 0 24 24\"\n",
              "       width=\"24px\">\n",
              "    <path d=\"M0 0h24v24H0V0z\" fill=\"none\"/>\n",
              "    <path d=\"M18.56 5.44l.94 2.06.94-2.06 2.06-.94-2.06-.94-.94-2.06-.94 2.06-2.06.94zm-11 1L8.5 8.5l.94-2.06 2.06-.94-2.06-.94L8.5 2.5l-.94 2.06-2.06.94zm10 10l.94 2.06.94-2.06 2.06-.94-2.06-.94-.94-2.06-.94 2.06-2.06.94z\"/><path d=\"M17.41 7.96l-1.37-1.37c-.4-.4-.92-.59-1.43-.59-.52 0-1.04.2-1.43.59L10.3 9.45l-7.72 7.72c-.78.78-.78 2.05 0 2.83L4 21.41c.39.39.9.59 1.41.59.51 0 1.02-.2 1.41-.59l7.78-7.78 2.81-2.81c.8-.78.8-2.07 0-2.86zM5.41 20L4 18.59l7.72-7.72 1.47 1.35L5.41 20z\"/>\n",
              "  </svg>\n",
              "      </button>\n",
              "      \n",
              "  <style>\n",
              "    .colab-df-container {\n",
              "      display:flex;\n",
              "      flex-wrap:wrap;\n",
              "      gap: 12px;\n",
              "    }\n",
              "\n",
              "    .colab-df-convert {\n",
              "      background-color: #E8F0FE;\n",
              "      border: none;\n",
              "      border-radius: 50%;\n",
              "      cursor: pointer;\n",
              "      display: none;\n",
              "      fill: #1967D2;\n",
              "      height: 32px;\n",
              "      padding: 0 0 0 0;\n",
              "      width: 32px;\n",
              "    }\n",
              "\n",
              "    .colab-df-convert:hover {\n",
              "      background-color: #E2EBFA;\n",
              "      box-shadow: 0px 1px 2px rgba(60, 64, 67, 0.3), 0px 1px 3px 1px rgba(60, 64, 67, 0.15);\n",
              "      fill: #174EA6;\n",
              "    }\n",
              "\n",
              "    [theme=dark] .colab-df-convert {\n",
              "      background-color: #3B4455;\n",
              "      fill: #D2E3FC;\n",
              "    }\n",
              "\n",
              "    [theme=dark] .colab-df-convert:hover {\n",
              "      background-color: #434B5C;\n",
              "      box-shadow: 0px 1px 3px 1px rgba(0, 0, 0, 0.15);\n",
              "      filter: drop-shadow(0px 1px 2px rgba(0, 0, 0, 0.3));\n",
              "      fill: #FFFFFF;\n",
              "    }\n",
              "  </style>\n",
              "\n",
              "      <script>\n",
              "        const buttonEl =\n",
              "          document.querySelector('#df-f4fb1b28-91cc-4d9b-9859-6efff042fb1a button.colab-df-convert');\n",
              "        buttonEl.style.display =\n",
              "          google.colab.kernel.accessAllowed ? 'block' : 'none';\n",
              "\n",
              "        async function convertToInteractive(key) {\n",
              "          const element = document.querySelector('#df-f4fb1b28-91cc-4d9b-9859-6efff042fb1a');\n",
              "          const dataTable =\n",
              "            await google.colab.kernel.invokeFunction('convertToInteractive',\n",
              "                                                     [key], {});\n",
              "          if (!dataTable) return;\n",
              "\n",
              "          const docLinkHtml = 'Like what you see? Visit the ' +\n",
              "            '<a target=\"_blank\" href=https://colab.research.google.com/notebooks/data_table.ipynb>data table notebook</a>'\n",
              "            + ' to learn more about interactive tables.';\n",
              "          element.innerHTML = '';\n",
              "          dataTable['output_type'] = 'display_data';\n",
              "          await google.colab.output.renderOutput(dataTable, element);\n",
              "          const docLink = document.createElement('div');\n",
              "          docLink.innerHTML = docLinkHtml;\n",
              "          element.appendChild(docLink);\n",
              "        }\n",
              "      </script>\n",
              "    </div>\n",
              "  </div>\n",
              "  "
            ]
          },
          "metadata": {},
          "execution_count": 64
        }
      ]
    },
    {
      "cell_type": "code",
      "source": [
        "#Tuy nhiên, 2 KS này chung tỉnh và chỉ khác đôi chút ở địa chỉ --> Ta loại bỏ khách sạn có giá cao hơn\n",
        "traveloka_df.loc[traveloka_df[\"Hotel name\"] == \"Movenpick Resort Cam Ranh\"]"
      ],
      "metadata": {
        "colab": {
          "base_uri": "https://localhost:8080/",
          "height": 436
        },
        "id": "Hp9rwghUwPtz",
        "outputId": "e0f2e0bf-f3b0-46a1-b9e3-20e4fca3d2a2"
      },
      "execution_count": 65,
      "outputs": [
        {
          "output_type": "execute_result",
          "data": {
            "text/plain": [
              "          City                 Hotel name  \\\n",
              "732  Nha Trang  Movenpick Resort Cam Ranh   \n",
              "741  Nha Trang  Movenpick Resort Cam Ranh   \n",
              "\n",
              "                                                 Image  \\\n",
              "732  ['https://ik.imagekit.io/tvlk/apr-asset/TzEv3Z...   \n",
              "741  ['https://ik.imagekit.io/tvlk/apr-asset/p8EuAB...   \n",
              "\n",
              "                                                   Url  \\\n",
              "732  https://www.traveloka.com/vi-vn/hotel/vietnam/...   \n",
              "741  https://www.traveloka.com/vi-vn/hotel/vietnam/...   \n",
              "\n",
              "                                               Address  Stars  Min Price  \\\n",
              "732  Plot D12, Cam Hai Dong, Cam Hải Đông, Nha Tran...      5    2896300   \n",
              "741  Plot D 12 ABC Cam Hai Dong CAM LAM DISTRIC, Ca...      5    3402786   \n",
              "\n",
              "     Rating  Number of reviews  \\\n",
              "732     8.5                125   \n",
              "741     0.0                  2   \n",
              "\n",
              "                                               Reviews  \\\n",
              "732  ['Thời gian checkin khá lâu. Resort xếp khách ...   \n",
              "741  ['Ở căn hộ condotel tiện lợi, có bếp tủ lạnh m...   \n",
              "\n",
              "                                            Facilities  \\\n",
              "732  ['Hồ bơi', 'Nhà hàng', 'Lễ tân 24h', 'WiFi', '...   \n",
              "741                                               ['']   \n",
              "\n",
              "                                           Description  \\\n",
              "732  Giờ nhận và trả phòng\\r\\nGiờ nhận phòng: Từ 15...   \n",
              "741  Giờ nhận và trả phòng\\r\\nGiờ nhận phòng: Từ 14...   \n",
              "\n",
              "                                         Nearby places  \n",
              "732  [('Bãi Dài', '2.63 km'), ('Sân bay quốc tế C...  \n",
              "741  [('Gac Ma Vietnam Soldier Monument', '5.76 km'...  "
            ],
            "text/html": [
              "\n",
              "  <div id=\"df-0bd94c96-ba20-4908-8236-7655cf4d3202\">\n",
              "    <div class=\"colab-df-container\">\n",
              "      <div>\n",
              "<style scoped>\n",
              "    .dataframe tbody tr th:only-of-type {\n",
              "        vertical-align: middle;\n",
              "    }\n",
              "\n",
              "    .dataframe tbody tr th {\n",
              "        vertical-align: top;\n",
              "    }\n",
              "\n",
              "    .dataframe thead th {\n",
              "        text-align: right;\n",
              "    }\n",
              "</style>\n",
              "<table border=\"1\" class=\"dataframe\">\n",
              "  <thead>\n",
              "    <tr style=\"text-align: right;\">\n",
              "      <th></th>\n",
              "      <th>City</th>\n",
              "      <th>Hotel name</th>\n",
              "      <th>Image</th>\n",
              "      <th>Url</th>\n",
              "      <th>Address</th>\n",
              "      <th>Stars</th>\n",
              "      <th>Min Price</th>\n",
              "      <th>Rating</th>\n",
              "      <th>Number of reviews</th>\n",
              "      <th>Reviews</th>\n",
              "      <th>Facilities</th>\n",
              "      <th>Description</th>\n",
              "      <th>Nearby places</th>\n",
              "    </tr>\n",
              "  </thead>\n",
              "  <tbody>\n",
              "    <tr>\n",
              "      <th>732</th>\n",
              "      <td>Nha Trang</td>\n",
              "      <td>Movenpick Resort Cam Ranh</td>\n",
              "      <td>['https://ik.imagekit.io/tvlk/apr-asset/TzEv3Z...</td>\n",
              "      <td>https://www.traveloka.com/vi-vn/hotel/vietnam/...</td>\n",
              "      <td>Plot D12, Cam Hai Dong, Cam Hải Đông, Nha Tran...</td>\n",
              "      <td>5</td>\n",
              "      <td>2896300</td>\n",
              "      <td>8.5</td>\n",
              "      <td>125</td>\n",
              "      <td>['Thời gian checkin khá lâu. Resort xếp khách ...</td>\n",
              "      <td>['Hồ bơi', 'Nhà hàng', 'Lễ tân 24h', 'WiFi', '...</td>\n",
              "      <td>Giờ nhận và trả phòng\\r\\nGiờ nhận phòng: Từ 15...</td>\n",
              "      <td>[('Bãi Dài', '2.63 km'), ('Sân bay quốc tế C...</td>\n",
              "    </tr>\n",
              "    <tr>\n",
              "      <th>741</th>\n",
              "      <td>Nha Trang</td>\n",
              "      <td>Movenpick Resort Cam Ranh</td>\n",
              "      <td>['https://ik.imagekit.io/tvlk/apr-asset/p8EuAB...</td>\n",
              "      <td>https://www.traveloka.com/vi-vn/hotel/vietnam/...</td>\n",
              "      <td>Plot D 12 ABC Cam Hai Dong CAM LAM DISTRIC, Ca...</td>\n",
              "      <td>5</td>\n",
              "      <td>3402786</td>\n",
              "      <td>0.0</td>\n",
              "      <td>2</td>\n",
              "      <td>['Ở căn hộ condotel tiện lợi, có bếp tủ lạnh m...</td>\n",
              "      <td>['']</td>\n",
              "      <td>Giờ nhận và trả phòng\\r\\nGiờ nhận phòng: Từ 14...</td>\n",
              "      <td>[('Gac Ma Vietnam Soldier Monument', '5.76 km'...</td>\n",
              "    </tr>\n",
              "  </tbody>\n",
              "</table>\n",
              "</div>\n",
              "      <button class=\"colab-df-convert\" onclick=\"convertToInteractive('df-0bd94c96-ba20-4908-8236-7655cf4d3202')\"\n",
              "              title=\"Convert this dataframe to an interactive table.\"\n",
              "              style=\"display:none;\">\n",
              "        \n",
              "  <svg xmlns=\"http://www.w3.org/2000/svg\" height=\"24px\"viewBox=\"0 0 24 24\"\n",
              "       width=\"24px\">\n",
              "    <path d=\"M0 0h24v24H0V0z\" fill=\"none\"/>\n",
              "    <path d=\"M18.56 5.44l.94 2.06.94-2.06 2.06-.94-2.06-.94-.94-2.06-.94 2.06-2.06.94zm-11 1L8.5 8.5l.94-2.06 2.06-.94-2.06-.94L8.5 2.5l-.94 2.06-2.06.94zm10 10l.94 2.06.94-2.06 2.06-.94-2.06-.94-.94-2.06-.94 2.06-2.06.94z\"/><path d=\"M17.41 7.96l-1.37-1.37c-.4-.4-.92-.59-1.43-.59-.52 0-1.04.2-1.43.59L10.3 9.45l-7.72 7.72c-.78.78-.78 2.05 0 2.83L4 21.41c.39.39.9.59 1.41.59.51 0 1.02-.2 1.41-.59l7.78-7.78 2.81-2.81c.8-.78.8-2.07 0-2.86zM5.41 20L4 18.59l7.72-7.72 1.47 1.35L5.41 20z\"/>\n",
              "  </svg>\n",
              "      </button>\n",
              "      \n",
              "  <style>\n",
              "    .colab-df-container {\n",
              "      display:flex;\n",
              "      flex-wrap:wrap;\n",
              "      gap: 12px;\n",
              "    }\n",
              "\n",
              "    .colab-df-convert {\n",
              "      background-color: #E8F0FE;\n",
              "      border: none;\n",
              "      border-radius: 50%;\n",
              "      cursor: pointer;\n",
              "      display: none;\n",
              "      fill: #1967D2;\n",
              "      height: 32px;\n",
              "      padding: 0 0 0 0;\n",
              "      width: 32px;\n",
              "    }\n",
              "\n",
              "    .colab-df-convert:hover {\n",
              "      background-color: #E2EBFA;\n",
              "      box-shadow: 0px 1px 2px rgba(60, 64, 67, 0.3), 0px 1px 3px 1px rgba(60, 64, 67, 0.15);\n",
              "      fill: #174EA6;\n",
              "    }\n",
              "\n",
              "    [theme=dark] .colab-df-convert {\n",
              "      background-color: #3B4455;\n",
              "      fill: #D2E3FC;\n",
              "    }\n",
              "\n",
              "    [theme=dark] .colab-df-convert:hover {\n",
              "      background-color: #434B5C;\n",
              "      box-shadow: 0px 1px 3px 1px rgba(0, 0, 0, 0.15);\n",
              "      filter: drop-shadow(0px 1px 2px rgba(0, 0, 0, 0.3));\n",
              "      fill: #FFFFFF;\n",
              "    }\n",
              "  </style>\n",
              "\n",
              "      <script>\n",
              "        const buttonEl =\n",
              "          document.querySelector('#df-0bd94c96-ba20-4908-8236-7655cf4d3202 button.colab-df-convert');\n",
              "        buttonEl.style.display =\n",
              "          google.colab.kernel.accessAllowed ? 'block' : 'none';\n",
              "\n",
              "        async function convertToInteractive(key) {\n",
              "          const element = document.querySelector('#df-0bd94c96-ba20-4908-8236-7655cf4d3202');\n",
              "          const dataTable =\n",
              "            await google.colab.kernel.invokeFunction('convertToInteractive',\n",
              "                                                     [key], {});\n",
              "          if (!dataTable) return;\n",
              "\n",
              "          const docLinkHtml = 'Like what you see? Visit the ' +\n",
              "            '<a target=\"_blank\" href=https://colab.research.google.com/notebooks/data_table.ipynb>data table notebook</a>'\n",
              "            + ' to learn more about interactive tables.';\n",
              "          element.innerHTML = '';\n",
              "          dataTable['output_type'] = 'display_data';\n",
              "          await google.colab.output.renderOutput(dataTable, element);\n",
              "          const docLink = document.createElement('div');\n",
              "          docLink.innerHTML = docLinkHtml;\n",
              "          element.appendChild(docLink);\n",
              "        }\n",
              "      </script>\n",
              "    </div>\n",
              "  </div>\n",
              "  "
            ]
          },
          "metadata": {},
          "execution_count": 65
        }
      ]
    },
    {
      "cell_type": "code",
      "source": [
        "traveloka_df = traveloka_df.drop([741])"
      ],
      "metadata": {
        "id": "s_-04BaIwUsd"
      },
      "execution_count": 66,
      "outputs": []
    },
    {
      "cell_type": "code",
      "source": [
        "#Lọc KS có trùng địa chỉ\n",
        "dups_name_add = traveloka_df.pivot_table(columns=[\"Address\"], aggfunc='size')\n",
        "dups_name_add.where(dups_name_add > 1).sum()"
      ],
      "metadata": {
        "colab": {
          "base_uri": "https://localhost:8080/"
        },
        "id": "kfySsPntwaUM",
        "outputId": "5c63eefc-758a-4ee1-dd0c-8dce89536df2"
      },
      "execution_count": 67,
      "outputs": [
        {
          "output_type": "execute_result",
          "data": {
            "text/plain": [
              "6.0"
            ]
          },
          "metadata": {},
          "execution_count": 67
        }
      ]
    },
    {
      "cell_type": "code",
      "source": [
        "traveloka_df.loc[traveloka_df['Address'].isin([\"15 Nguyễn An Ninh, Côn Đảo (Hòn Sơn), Bà Rịa - Vũng Tàu, Việt Nam, 794317\",\n",
        "                                               \"2 Nguyễn Thị Minh Khai, Lộc Thọ, Nha Trang, Khánh Hòa, Việt Nam, 650000\",\n",
        "                                               \"Hồ Tràm, Xã Phước Thuận, Thành phố Vũng Tàu, Xuyên Mộc, Bà Rịa - Vũng Tàu, Việt Nam, 794978\"])]"
      ],
      "metadata": {
        "colab": {
          "base_uri": "https://localhost:8080/",
          "height": 1000
        },
        "id": "Ji0q5fSvwtJB",
        "outputId": "facd5d4c-0604-420d-9ace-0c6c41e58661"
      },
      "execution_count": 68,
      "outputs": [
        {
          "output_type": "execute_result",
          "data": {
            "text/plain": [
              "           City                           Hotel name  \\\n",
              "735   Nha Trang           Panorama Central Nha Trang   \n",
              "739   Nha Trang  Handy Panorama Nha Trang Ocean View   \n",
              "918    Vũng Tàu  Ho Tram Beach Boutique Resort & Spa   \n",
              "1009   Vũng Tàu             Hoang Ngoc Hotel Con Dao   \n",
              "1015   Vũng Tàu                      Hong Ngoc Hotel   \n",
              "1022   Vũng Tàu                  Vietsovpetro Resort   \n",
              "\n",
              "                                                  Image  \\\n",
              "735   ['https://ik.imagekit.io/tvlk/apr-asset/dgXfoy...   \n",
              "739   ['https://ik.imagekit.io/tvlk/apr-asset/dgXfoy...   \n",
              "918   ['https://ik.imagekit.io/tvlk/apr-asset/dgXfoy...   \n",
              "1009  ['https://ik.imagekit.io/tvlk/apr-asset/dgXfoy...   \n",
              "1015  ['https://ik.imagekit.io/tvlk/apr-asset/dgXfoy...   \n",
              "1022  ['https://ik.imagekit.io/tvlk/apr-asset/dgXfoy...   \n",
              "\n",
              "                                                    Url  \\\n",
              "735   https://www.traveloka.com/vi-vn/hotel/vietnam/...   \n",
              "739   https://www.traveloka.com/vi-vn/hotel/vietnam/...   \n",
              "918   https://www.traveloka.com/vi-vn/hotel/vietnam/...   \n",
              "1009  https://www.traveloka.com/vi-vn/hotel/vietnam/...   \n",
              "1015  https://www.traveloka.com/vi-vn/hotel/vietnam/...   \n",
              "1022  https://www.traveloka.com/vi-vn/hotel/vietnam/...   \n",
              "\n",
              "                                                Address  Stars  Min Price  \\\n",
              "735   2 Nguyễn Thị Minh Khai, Lộc Thọ, Nha Trang, Kh...      3    1126505   \n",
              "739   2 Nguyễn Thị Minh Khai, Lộc Thọ, Nha Trang, Kh...      4     890000   \n",
              "918   Hồ Tràm, Xã Phước Thuận, Thành phố Vũng Tàu, X...      4    5432400   \n",
              "1009  15 Nguyễn An Ninh, Côn Đảo (Hòn Sơn), Bà Rịa -...      1     588235   \n",
              "1015  15 Nguyễn An Ninh, Côn Đảo (Hòn Sơn), Bà Rịa -...      1     529412   \n",
              "1022  Hồ Tràm, Xã Phước Thuận, Thành phố Vũng Tàu, X...      4    7000000   \n",
              "\n",
              "      Rating  Number of reviews  \\\n",
              "735      0.0                  7   \n",
              "739      8.7                 32   \n",
              "918      8.7                164   \n",
              "1009     0.0                  3   \n",
              "1015     9.4                 14   \n",
              "1022     7.8                 18   \n",
              "\n",
              "                                                Reviews  \\\n",
              "735   ['Tôi đã có kỳ nghỉ tuyệt vời tại đây', 'phòng...   \n",
              "739   ['', 'Giao dịch nhanh, giá rất tốt. Ngay trung...   \n",
              "918   ['Nhân viên thân thiện, bếp ăn ngon. Dịch vụ c...   \n",
              "1009                                                 []   \n",
              "1015  ['Phòng sạch, nhân viên thân thiện', 'Tot, gan...   \n",
              "1022  ['', '', 'Gia đình tôi đã có 1 kỳ nghỉ lễ tuyệ...   \n",
              "\n",
              "                                             Facilities  \\\n",
              "735                                                ['']   \n",
              "739   ['Máy lạnh', 'Nhà hàng', 'Lễ tân 24h', 'Thang ...   \n",
              "918   ['Máy lạnh', 'Nhà hàng', 'Hồ bơi', 'Lễ tân 24h...   \n",
              "1009                               ['Máy lạnh', 'WiFi']   \n",
              "1015                               ['Máy lạnh', 'WiFi']   \n",
              "1022  ['Máy lạnh', 'Nhà hàng', 'Lễ tân 24h', 'Chỗ đậ...   \n",
              "\n",
              "                                            Description  \\\n",
              "735   Giờ nhận và trả phòng\\r\\nGiờ nhận phòng: 14:00...   \n",
              "739   Giờ nhận và trả phòng\\r\\nGiờ nhận phòng: Từ 14...   \n",
              "918   Giờ nhận và trả phòng\\r\\nGiờ nhận phòng: Từ 15...   \n",
              "1009  Giờ nhận và trả phòng\\r\\nGiờ nhận phòng: 14:00...   \n",
              "1015  Giờ nhận và trả phòng\\r\\nGiờ nhận phòng: 14:00...   \n",
              "1022  Giờ nhận và trả phòng\\r\\nGiờ nhận phòng: Từ 14...   \n",
              "\n",
              "                                          Nearby places  \n",
              "735   [('Quảng trường 2 tháng 4', '201 m'), ('Nha Tr...  \n",
              "739   [('Quảng trường 2 tháng 4', '236 m'), ('Nha Tr...  \n",
              "918   [('Bãi biển Hồ Tràm', '4.89 km'), ('Loc An Mar...  \n",
              "1009  [('Trại giam Phú Hải', '261 m'), ('Sân bay Côn...  \n",
              "1015  [('Trại giam Phú Hải', '242 m'), ('Sân bay Côn...  \n",
              "1022  [('Loc An Market', '5.14 km'), ('Bãi biển Hồ T...  "
            ],
            "text/html": [
              "\n",
              "  <div id=\"df-fc78674c-a468-4267-9dd8-78036a6d49ba\">\n",
              "    <div class=\"colab-df-container\">\n",
              "      <div>\n",
              "<style scoped>\n",
              "    .dataframe tbody tr th:only-of-type {\n",
              "        vertical-align: middle;\n",
              "    }\n",
              "\n",
              "    .dataframe tbody tr th {\n",
              "        vertical-align: top;\n",
              "    }\n",
              "\n",
              "    .dataframe thead th {\n",
              "        text-align: right;\n",
              "    }\n",
              "</style>\n",
              "<table border=\"1\" class=\"dataframe\">\n",
              "  <thead>\n",
              "    <tr style=\"text-align: right;\">\n",
              "      <th></th>\n",
              "      <th>City</th>\n",
              "      <th>Hotel name</th>\n",
              "      <th>Image</th>\n",
              "      <th>Url</th>\n",
              "      <th>Address</th>\n",
              "      <th>Stars</th>\n",
              "      <th>Min Price</th>\n",
              "      <th>Rating</th>\n",
              "      <th>Number of reviews</th>\n",
              "      <th>Reviews</th>\n",
              "      <th>Facilities</th>\n",
              "      <th>Description</th>\n",
              "      <th>Nearby places</th>\n",
              "    </tr>\n",
              "  </thead>\n",
              "  <tbody>\n",
              "    <tr>\n",
              "      <th>735</th>\n",
              "      <td>Nha Trang</td>\n",
              "      <td>Panorama Central Nha Trang</td>\n",
              "      <td>['https://ik.imagekit.io/tvlk/apr-asset/dgXfoy...</td>\n",
              "      <td>https://www.traveloka.com/vi-vn/hotel/vietnam/...</td>\n",
              "      <td>2 Nguyễn Thị Minh Khai, Lộc Thọ, Nha Trang, Kh...</td>\n",
              "      <td>3</td>\n",
              "      <td>1126505</td>\n",
              "      <td>0.0</td>\n",
              "      <td>7</td>\n",
              "      <td>['Tôi đã có kỳ nghỉ tuyệt vời tại đây', 'phòng...</td>\n",
              "      <td>['']</td>\n",
              "      <td>Giờ nhận và trả phòng\\r\\nGiờ nhận phòng: 14:00...</td>\n",
              "      <td>[('Quảng trường 2 tháng 4', '201 m'), ('Nha Tr...</td>\n",
              "    </tr>\n",
              "    <tr>\n",
              "      <th>739</th>\n",
              "      <td>Nha Trang</td>\n",
              "      <td>Handy Panorama Nha Trang Ocean View</td>\n",
              "      <td>['https://ik.imagekit.io/tvlk/apr-asset/dgXfoy...</td>\n",
              "      <td>https://www.traveloka.com/vi-vn/hotel/vietnam/...</td>\n",
              "      <td>2 Nguyễn Thị Minh Khai, Lộc Thọ, Nha Trang, Kh...</td>\n",
              "      <td>4</td>\n",
              "      <td>890000</td>\n",
              "      <td>8.7</td>\n",
              "      <td>32</td>\n",
              "      <td>['', 'Giao dịch nhanh, giá rất tốt. Ngay trung...</td>\n",
              "      <td>['Máy lạnh', 'Nhà hàng', 'Lễ tân 24h', 'Thang ...</td>\n",
              "      <td>Giờ nhận và trả phòng\\r\\nGiờ nhận phòng: Từ 14...</td>\n",
              "      <td>[('Quảng trường 2 tháng 4', '236 m'), ('Nha Tr...</td>\n",
              "    </tr>\n",
              "    <tr>\n",
              "      <th>918</th>\n",
              "      <td>Vũng Tàu</td>\n",
              "      <td>Ho Tram Beach Boutique Resort &amp; Spa</td>\n",
              "      <td>['https://ik.imagekit.io/tvlk/apr-asset/dgXfoy...</td>\n",
              "      <td>https://www.traveloka.com/vi-vn/hotel/vietnam/...</td>\n",
              "      <td>Hồ Tràm, Xã Phước Thuận, Thành phố Vũng Tàu, X...</td>\n",
              "      <td>4</td>\n",
              "      <td>5432400</td>\n",
              "      <td>8.7</td>\n",
              "      <td>164</td>\n",
              "      <td>['Nhân viên thân thiện, bếp ăn ngon. Dịch vụ c...</td>\n",
              "      <td>['Máy lạnh', 'Nhà hàng', 'Hồ bơi', 'Lễ tân 24h...</td>\n",
              "      <td>Giờ nhận và trả phòng\\r\\nGiờ nhận phòng: Từ 15...</td>\n",
              "      <td>[('Bãi biển Hồ Tràm', '4.89 km'), ('Loc An Mar...</td>\n",
              "    </tr>\n",
              "    <tr>\n",
              "      <th>1009</th>\n",
              "      <td>Vũng Tàu</td>\n",
              "      <td>Hoang Ngoc Hotel Con Dao</td>\n",
              "      <td>['https://ik.imagekit.io/tvlk/apr-asset/dgXfoy...</td>\n",
              "      <td>https://www.traveloka.com/vi-vn/hotel/vietnam/...</td>\n",
              "      <td>15 Nguyễn An Ninh, Côn Đảo (Hòn Sơn), Bà Rịa -...</td>\n",
              "      <td>1</td>\n",
              "      <td>588235</td>\n",
              "      <td>0.0</td>\n",
              "      <td>3</td>\n",
              "      <td>[]</td>\n",
              "      <td>['Máy lạnh', 'WiFi']</td>\n",
              "      <td>Giờ nhận và trả phòng\\r\\nGiờ nhận phòng: 14:00...</td>\n",
              "      <td>[('Trại giam Phú Hải', '261 m'), ('Sân bay Côn...</td>\n",
              "    </tr>\n",
              "    <tr>\n",
              "      <th>1015</th>\n",
              "      <td>Vũng Tàu</td>\n",
              "      <td>Hong Ngoc Hotel</td>\n",
              "      <td>['https://ik.imagekit.io/tvlk/apr-asset/dgXfoy...</td>\n",
              "      <td>https://www.traveloka.com/vi-vn/hotel/vietnam/...</td>\n",
              "      <td>15 Nguyễn An Ninh, Côn Đảo (Hòn Sơn), Bà Rịa -...</td>\n",
              "      <td>1</td>\n",
              "      <td>529412</td>\n",
              "      <td>9.4</td>\n",
              "      <td>14</td>\n",
              "      <td>['Phòng sạch, nhân viên thân thiện', 'Tot, gan...</td>\n",
              "      <td>['Máy lạnh', 'WiFi']</td>\n",
              "      <td>Giờ nhận và trả phòng\\r\\nGiờ nhận phòng: 14:00...</td>\n",
              "      <td>[('Trại giam Phú Hải', '242 m'), ('Sân bay Côn...</td>\n",
              "    </tr>\n",
              "    <tr>\n",
              "      <th>1022</th>\n",
              "      <td>Vũng Tàu</td>\n",
              "      <td>Vietsovpetro Resort</td>\n",
              "      <td>['https://ik.imagekit.io/tvlk/apr-asset/dgXfoy...</td>\n",
              "      <td>https://www.traveloka.com/vi-vn/hotel/vietnam/...</td>\n",
              "      <td>Hồ Tràm, Xã Phước Thuận, Thành phố Vũng Tàu, X...</td>\n",
              "      <td>4</td>\n",
              "      <td>7000000</td>\n",
              "      <td>7.8</td>\n",
              "      <td>18</td>\n",
              "      <td>['', '', 'Gia đình tôi đã có 1 kỳ nghỉ lễ tuyệ...</td>\n",
              "      <td>['Máy lạnh', 'Nhà hàng', 'Lễ tân 24h', 'Chỗ đậ...</td>\n",
              "      <td>Giờ nhận và trả phòng\\r\\nGiờ nhận phòng: Từ 14...</td>\n",
              "      <td>[('Loc An Market', '5.14 km'), ('Bãi biển Hồ T...</td>\n",
              "    </tr>\n",
              "  </tbody>\n",
              "</table>\n",
              "</div>\n",
              "      <button class=\"colab-df-convert\" onclick=\"convertToInteractive('df-fc78674c-a468-4267-9dd8-78036a6d49ba')\"\n",
              "              title=\"Convert this dataframe to an interactive table.\"\n",
              "              style=\"display:none;\">\n",
              "        \n",
              "  <svg xmlns=\"http://www.w3.org/2000/svg\" height=\"24px\"viewBox=\"0 0 24 24\"\n",
              "       width=\"24px\">\n",
              "    <path d=\"M0 0h24v24H0V0z\" fill=\"none\"/>\n",
              "    <path d=\"M18.56 5.44l.94 2.06.94-2.06 2.06-.94-2.06-.94-.94-2.06-.94 2.06-2.06.94zm-11 1L8.5 8.5l.94-2.06 2.06-.94-2.06-.94L8.5 2.5l-.94 2.06-2.06.94zm10 10l.94 2.06.94-2.06 2.06-.94-2.06-.94-.94-2.06-.94 2.06-2.06.94z\"/><path d=\"M17.41 7.96l-1.37-1.37c-.4-.4-.92-.59-1.43-.59-.52 0-1.04.2-1.43.59L10.3 9.45l-7.72 7.72c-.78.78-.78 2.05 0 2.83L4 21.41c.39.39.9.59 1.41.59.51 0 1.02-.2 1.41-.59l7.78-7.78 2.81-2.81c.8-.78.8-2.07 0-2.86zM5.41 20L4 18.59l7.72-7.72 1.47 1.35L5.41 20z\"/>\n",
              "  </svg>\n",
              "      </button>\n",
              "      \n",
              "  <style>\n",
              "    .colab-df-container {\n",
              "      display:flex;\n",
              "      flex-wrap:wrap;\n",
              "      gap: 12px;\n",
              "    }\n",
              "\n",
              "    .colab-df-convert {\n",
              "      background-color: #E8F0FE;\n",
              "      border: none;\n",
              "      border-radius: 50%;\n",
              "      cursor: pointer;\n",
              "      display: none;\n",
              "      fill: #1967D2;\n",
              "      height: 32px;\n",
              "      padding: 0 0 0 0;\n",
              "      width: 32px;\n",
              "    }\n",
              "\n",
              "    .colab-df-convert:hover {\n",
              "      background-color: #E2EBFA;\n",
              "      box-shadow: 0px 1px 2px rgba(60, 64, 67, 0.3), 0px 1px 3px 1px rgba(60, 64, 67, 0.15);\n",
              "      fill: #174EA6;\n",
              "    }\n",
              "\n",
              "    [theme=dark] .colab-df-convert {\n",
              "      background-color: #3B4455;\n",
              "      fill: #D2E3FC;\n",
              "    }\n",
              "\n",
              "    [theme=dark] .colab-df-convert:hover {\n",
              "      background-color: #434B5C;\n",
              "      box-shadow: 0px 1px 3px 1px rgba(0, 0, 0, 0.15);\n",
              "      filter: drop-shadow(0px 1px 2px rgba(0, 0, 0, 0.3));\n",
              "      fill: #FFFFFF;\n",
              "    }\n",
              "  </style>\n",
              "\n",
              "      <script>\n",
              "        const buttonEl =\n",
              "          document.querySelector('#df-fc78674c-a468-4267-9dd8-78036a6d49ba button.colab-df-convert');\n",
              "        buttonEl.style.display =\n",
              "          google.colab.kernel.accessAllowed ? 'block' : 'none';\n",
              "\n",
              "        async function convertToInteractive(key) {\n",
              "          const element = document.querySelector('#df-fc78674c-a468-4267-9dd8-78036a6d49ba');\n",
              "          const dataTable =\n",
              "            await google.colab.kernel.invokeFunction('convertToInteractive',\n",
              "                                                     [key], {});\n",
              "          if (!dataTable) return;\n",
              "\n",
              "          const docLinkHtml = 'Like what you see? Visit the ' +\n",
              "            '<a target=\"_blank\" href=https://colab.research.google.com/notebooks/data_table.ipynb>data table notebook</a>'\n",
              "            + ' to learn more about interactive tables.';\n",
              "          element.innerHTML = '';\n",
              "          dataTable['output_type'] = 'display_data';\n",
              "          await google.colab.output.renderOutput(dataTable, element);\n",
              "          const docLink = document.createElement('div');\n",
              "          docLink.innerHTML = docLinkHtml;\n",
              "          element.appendChild(docLink);\n",
              "        }\n",
              "      </script>\n",
              "    </div>\n",
              "  </div>\n",
              "  "
            ]
          },
          "metadata": {},
          "execution_count": 68
        }
      ]
    },
    {
      "cell_type": "code",
      "source": [
        "#Ta có thể lọc bỏ bản ghi 739 và 1009\n",
        "traveloka_df = traveloka_df.drop([739, 1009])"
      ],
      "metadata": {
        "id": "i2k6u0amwy3R"
      },
      "execution_count": 69,
      "outputs": []
    },
    {
      "cell_type": "code",
      "source": [
        "#Reset index\n",
        "traveloka_df = traveloka_df.reset_index(drop=True)"
      ],
      "metadata": {
        "id": "_YEl1Q0Dw2uj"
      },
      "execution_count": 70,
      "outputs": []
    },
    {
      "cell_type": "markdown",
      "source": [
        "**Mytour**"
      ],
      "metadata": {
        "id": "mRvLdkf4w83B"
      }
    },
    {
      "cell_type": "code",
      "source": [
        "#Kiểm tra những Khách sạn trùng tên\n",
        "dups_name = mytour_df.pivot_table(columns=[\"Hotel name\"], aggfunc='size')\n",
        "print(dups_name.where(dups_name > 1).sum())"
      ],
      "metadata": {
        "colab": {
          "base_uri": "https://localhost:8080/"
        },
        "id": "pOx5JV1zw-QK",
        "outputId": "6629ccf0-c579-4077-d5ab-aeecd7e9cddf"
      },
      "execution_count": 71,
      "outputs": [
        {
          "output_type": "stream",
          "name": "stdout",
          "text": [
            "28.0\n"
          ]
        }
      ]
    },
    {
      "cell_type": "code",
      "source": [
        "#Kiểm tra KS trùng địa chỉ và tên\n",
        "dups_name_1 = mytour_df.pivot_table(columns=[\"Hotel name\", \"Address\"], aggfunc='size')\n",
        "print(dups_name_1.where(dups_name_1 > 1).sum())"
      ],
      "metadata": {
        "colab": {
          "base_uri": "https://localhost:8080/"
        },
        "id": "SdKsn8CqxFtm",
        "outputId": "0b1dc61b-9b85-40a0-fb8b-cfda91053fa8"
      },
      "execution_count": 72,
      "outputs": [
        {
          "output_type": "stream",
          "name": "stdout",
          "text": [
            "26.0\n"
          ]
        }
      ]
    },
    {
      "cell_type": "code",
      "source": [
        "#Kiểm tra KS trùng địa chỉ, tên và giá\n",
        "dups_name_p = mytour_df.pivot_table(columns=[\"Hotel name\", \"Address\", \"Min Price\"], aggfunc='size')\n",
        "print(dups_name_p.where(dups_name_p > 1).sum())"
      ],
      "metadata": {
        "colab": {
          "base_uri": "https://localhost:8080/"
        },
        "id": "wd0Jv9YWxNrE",
        "outputId": "1321d2e2-3c53-4346-ff09-93c54f80d236"
      },
      "execution_count": 73,
      "outputs": [
        {
          "output_type": "stream",
          "name": "stdout",
          "text": [
            "26.0\n"
          ]
        }
      ]
    },
    {
      "cell_type": "code",
      "source": [
        "#Lọc bỏ dữ liệu trùng lặp theo tên, địa chỉ và giá\n",
        "mytour_df = mytour_df.drop_duplicates(subset=[\"Hotel name\", \"Address\", \"Min Price\"])"
      ],
      "metadata": {
        "id": "8JjP7RZExa0p"
      },
      "execution_count": 74,
      "outputs": []
    },
    {
      "cell_type": "code",
      "source": [
        "dups_name_2 = mytour_df.pivot_table(columns=[\"Hotel name\", \"Address\"], aggfunc='size')\n",
        "print(dups_name_2.where(dups_name_2 > 1).sum())"
      ],
      "metadata": {
        "colab": {
          "base_uri": "https://localhost:8080/"
        },
        "id": "t6ZgvRjcxfsa",
        "outputId": "5b92aaba-685f-4171-b8f2-260f0bf84367"
      },
      "execution_count": 75,
      "outputs": [
        {
          "output_type": "stream",
          "name": "stdout",
          "text": [
            "0.0\n"
          ]
        }
      ]
    },
    {
      "cell_type": "code",
      "source": [
        "dups_name_3 = mytour_df.pivot_table(columns=[\"Hotel name\"], aggfunc='size')\n",
        "print(dups_name_3.where(dups_name_3 > 1).sum())"
      ],
      "metadata": {
        "colab": {
          "base_uri": "https://localhost:8080/"
        },
        "id": "7ugnlhHvxjs6",
        "outputId": "327e5523-e7c8-45b4-c975-bd02a457057e"
      },
      "execution_count": 76,
      "outputs": [
        {
          "output_type": "stream",
          "name": "stdout",
          "text": [
            "2.0\n"
          ]
        }
      ]
    },
    {
      "cell_type": "code",
      "source": [
        "dups_name_3.loc[dups_name_3 > 1]"
      ],
      "metadata": {
        "colab": {
          "base_uri": "https://localhost:8080/"
        },
        "id": "tJRhN9OfxybU",
        "outputId": "a3f1fdc4-36fb-4d89-e5c4-4462381e2ae4"
      },
      "execution_count": 77,
      "outputs": [
        {
          "output_type": "execute_result",
          "data": {
            "text/plain": [
              "Hotel name\n",
              "Khách Sạn Galaxy    2\n",
              "dtype: int64"
            ]
          },
          "metadata": {},
          "execution_count": 77
        }
      ]
    },
    {
      "cell_type": "code",
      "source": [
        "#Do 2 KS này có thể là do cùng chi nhánh ở TP.Hồ Chí Minh --> Ta bỏ KS có giá cao hơn\n",
        "mytour_df.loc[mytour_df[\"Hotel name\"] == \"Khách Sạn Galaxy\"]"
      ],
      "metadata": {
        "colab": {
          "base_uri": "https://localhost:8080/",
          "height": 451
        },
        "id": "jxdOB2XZxt8I",
        "outputId": "eed42c44-71bb-40a3-9410-66dabd7f6c21"
      },
      "execution_count": 78,
      "outputs": [
        {
          "output_type": "execute_result",
          "data": {
            "text/plain": [
              "            City        Hotel name  \\\n",
              "335  Hồ Chí Minh  Khách Sạn Galaxy   \n",
              "375  Hồ Chí Minh  Khách Sạn Galaxy   \n",
              "\n",
              "                                                 Image  \\\n",
              "335  ['https://img.tripi.vn/cdn-cgi/image/width=840...   \n",
              "375  ['https://img.tripi.vn/cdn-cgi/image/width=124...   \n",
              "\n",
              "                                                   Url  \\\n",
              "335  https://mytour.vn/khach-san/23480-khach-san-ga...   \n",
              "375  https://mytour.vn/khach-san/46922-khach-san-ga...   \n",
              "\n",
              "                                               Address  Stars  Min Price  \\\n",
              "335  10-12-14 Đường Nội Khu Hưng Gia 3, Tân Phong, ...      2     629030   \n",
              "375  38/6, Lam Sơn, Phường 2, Quận Tân Bình, Hồ Chí...      2     493546   \n",
              "\n",
              "     Rating  Number of reviews  \\\n",
              "335    10.0                  1   \n",
              "375     7.0                  0   \n",
              "\n",
              "                                               Reviews  \\\n",
              "335  [\"Excellent value at an extremely friendly hot...   \n",
              "375                                                 []   \n",
              "\n",
              "                                            Facilities  \\\n",
              "335  ['Cho thuê xe máy', 'Đưa/đón khách sân bay', '...   \n",
              "375  ['Đưa/đón khách sân bay', 'Giữ hành lý', 'Báo ...   \n",
              "\n",
              "                                           Description  \\\n",
              "335  ['Tọa lạc tại Thành phố Hồ Chí Minh, nằm trong...   \n",
              "375  ['Cách sân bay Tân Sơn Nhất chỉ 700m, với 10 p...   \n",
              "\n",
              "                                         Nearby places  \n",
              "335  [('Red&Round', '41 m'), ('Cafe De Bodyfriend',...  \n",
              "375  [('Chùa Phổ Quang', '750 m'), ('Bảo Tàng Không...  "
            ],
            "text/html": [
              "\n",
              "  <div id=\"df-fc3a15fa-e1d1-4f2b-b4af-fb7eff5e3a65\">\n",
              "    <div class=\"colab-df-container\">\n",
              "      <div>\n",
              "<style scoped>\n",
              "    .dataframe tbody tr th:only-of-type {\n",
              "        vertical-align: middle;\n",
              "    }\n",
              "\n",
              "    .dataframe tbody tr th {\n",
              "        vertical-align: top;\n",
              "    }\n",
              "\n",
              "    .dataframe thead th {\n",
              "        text-align: right;\n",
              "    }\n",
              "</style>\n",
              "<table border=\"1\" class=\"dataframe\">\n",
              "  <thead>\n",
              "    <tr style=\"text-align: right;\">\n",
              "      <th></th>\n",
              "      <th>City</th>\n",
              "      <th>Hotel name</th>\n",
              "      <th>Image</th>\n",
              "      <th>Url</th>\n",
              "      <th>Address</th>\n",
              "      <th>Stars</th>\n",
              "      <th>Min Price</th>\n",
              "      <th>Rating</th>\n",
              "      <th>Number of reviews</th>\n",
              "      <th>Reviews</th>\n",
              "      <th>Facilities</th>\n",
              "      <th>Description</th>\n",
              "      <th>Nearby places</th>\n",
              "    </tr>\n",
              "  </thead>\n",
              "  <tbody>\n",
              "    <tr>\n",
              "      <th>335</th>\n",
              "      <td>Hồ Chí Minh</td>\n",
              "      <td>Khách Sạn Galaxy</td>\n",
              "      <td>['https://img.tripi.vn/cdn-cgi/image/width=840...</td>\n",
              "      <td>https://mytour.vn/khach-san/23480-khach-san-ga...</td>\n",
              "      <td>10-12-14 Đường Nội Khu Hưng Gia 3, Tân Phong, ...</td>\n",
              "      <td>2</td>\n",
              "      <td>629030</td>\n",
              "      <td>10.0</td>\n",
              "      <td>1</td>\n",
              "      <td>[\"Excellent value at an extremely friendly hot...</td>\n",
              "      <td>['Cho thuê xe máy', 'Đưa/đón khách sân bay', '...</td>\n",
              "      <td>['Tọa lạc tại Thành phố Hồ Chí Minh, nằm trong...</td>\n",
              "      <td>[('Red&amp;Round', '41 m'), ('Cafe De Bodyfriend',...</td>\n",
              "    </tr>\n",
              "    <tr>\n",
              "      <th>375</th>\n",
              "      <td>Hồ Chí Minh</td>\n",
              "      <td>Khách Sạn Galaxy</td>\n",
              "      <td>['https://img.tripi.vn/cdn-cgi/image/width=124...</td>\n",
              "      <td>https://mytour.vn/khach-san/46922-khach-san-ga...</td>\n",
              "      <td>38/6, Lam Sơn, Phường 2, Quận Tân Bình, Hồ Chí...</td>\n",
              "      <td>2</td>\n",
              "      <td>493546</td>\n",
              "      <td>7.0</td>\n",
              "      <td>0</td>\n",
              "      <td>[]</td>\n",
              "      <td>['Đưa/đón khách sân bay', 'Giữ hành lý', 'Báo ...</td>\n",
              "      <td>['Cách sân bay Tân Sơn Nhất chỉ 700m, với 10 p...</td>\n",
              "      <td>[('Chùa Phổ Quang', '750 m'), ('Bảo Tàng Không...</td>\n",
              "    </tr>\n",
              "  </tbody>\n",
              "</table>\n",
              "</div>\n",
              "      <button class=\"colab-df-convert\" onclick=\"convertToInteractive('df-fc3a15fa-e1d1-4f2b-b4af-fb7eff5e3a65')\"\n",
              "              title=\"Convert this dataframe to an interactive table.\"\n",
              "              style=\"display:none;\">\n",
              "        \n",
              "  <svg xmlns=\"http://www.w3.org/2000/svg\" height=\"24px\"viewBox=\"0 0 24 24\"\n",
              "       width=\"24px\">\n",
              "    <path d=\"M0 0h24v24H0V0z\" fill=\"none\"/>\n",
              "    <path d=\"M18.56 5.44l.94 2.06.94-2.06 2.06-.94-2.06-.94-.94-2.06-.94 2.06-2.06.94zm-11 1L8.5 8.5l.94-2.06 2.06-.94-2.06-.94L8.5 2.5l-.94 2.06-2.06.94zm10 10l.94 2.06.94-2.06 2.06-.94-2.06-.94-.94-2.06-.94 2.06-2.06.94z\"/><path d=\"M17.41 7.96l-1.37-1.37c-.4-.4-.92-.59-1.43-.59-.52 0-1.04.2-1.43.59L10.3 9.45l-7.72 7.72c-.78.78-.78 2.05 0 2.83L4 21.41c.39.39.9.59 1.41.59.51 0 1.02-.2 1.41-.59l7.78-7.78 2.81-2.81c.8-.78.8-2.07 0-2.86zM5.41 20L4 18.59l7.72-7.72 1.47 1.35L5.41 20z\"/>\n",
              "  </svg>\n",
              "      </button>\n",
              "      \n",
              "  <style>\n",
              "    .colab-df-container {\n",
              "      display:flex;\n",
              "      flex-wrap:wrap;\n",
              "      gap: 12px;\n",
              "    }\n",
              "\n",
              "    .colab-df-convert {\n",
              "      background-color: #E8F0FE;\n",
              "      border: none;\n",
              "      border-radius: 50%;\n",
              "      cursor: pointer;\n",
              "      display: none;\n",
              "      fill: #1967D2;\n",
              "      height: 32px;\n",
              "      padding: 0 0 0 0;\n",
              "      width: 32px;\n",
              "    }\n",
              "\n",
              "    .colab-df-convert:hover {\n",
              "      background-color: #E2EBFA;\n",
              "      box-shadow: 0px 1px 2px rgba(60, 64, 67, 0.3), 0px 1px 3px 1px rgba(60, 64, 67, 0.15);\n",
              "      fill: #174EA6;\n",
              "    }\n",
              "\n",
              "    [theme=dark] .colab-df-convert {\n",
              "      background-color: #3B4455;\n",
              "      fill: #D2E3FC;\n",
              "    }\n",
              "\n",
              "    [theme=dark] .colab-df-convert:hover {\n",
              "      background-color: #434B5C;\n",
              "      box-shadow: 0px 1px 3px 1px rgba(0, 0, 0, 0.15);\n",
              "      filter: drop-shadow(0px 1px 2px rgba(0, 0, 0, 0.3));\n",
              "      fill: #FFFFFF;\n",
              "    }\n",
              "  </style>\n",
              "\n",
              "      <script>\n",
              "        const buttonEl =\n",
              "          document.querySelector('#df-fc3a15fa-e1d1-4f2b-b4af-fb7eff5e3a65 button.colab-df-convert');\n",
              "        buttonEl.style.display =\n",
              "          google.colab.kernel.accessAllowed ? 'block' : 'none';\n",
              "\n",
              "        async function convertToInteractive(key) {\n",
              "          const element = document.querySelector('#df-fc3a15fa-e1d1-4f2b-b4af-fb7eff5e3a65');\n",
              "          const dataTable =\n",
              "            await google.colab.kernel.invokeFunction('convertToInteractive',\n",
              "                                                     [key], {});\n",
              "          if (!dataTable) return;\n",
              "\n",
              "          const docLinkHtml = 'Like what you see? Visit the ' +\n",
              "            '<a target=\"_blank\" href=https://colab.research.google.com/notebooks/data_table.ipynb>data table notebook</a>'\n",
              "            + ' to learn more about interactive tables.';\n",
              "          element.innerHTML = '';\n",
              "          dataTable['output_type'] = 'display_data';\n",
              "          await google.colab.output.renderOutput(dataTable, element);\n",
              "          const docLink = document.createElement('div');\n",
              "          docLink.innerHTML = docLinkHtml;\n",
              "          element.appendChild(docLink);\n",
              "        }\n",
              "      </script>\n",
              "    </div>\n",
              "  </div>\n",
              "  "
            ]
          },
          "metadata": {},
          "execution_count": 78
        }
      ]
    },
    {
      "cell_type": "code",
      "source": [
        "mytour_df = mytour_df.drop([335])"
      ],
      "metadata": {
        "id": "-2Gusj5Jx2TU"
      },
      "execution_count": 79,
      "outputs": []
    },
    {
      "cell_type": "code",
      "source": [
        "#Lọc KS có trùng địa chỉ\n",
        "dups_name_add = mytour_df.pivot_table(columns=[\"Address\"], aggfunc='size')\n",
        "dups_name_add.where(dups_name_add > 1).sum()"
      ],
      "metadata": {
        "colab": {
          "base_uri": "https://localhost:8080/"
        },
        "id": "SNhlofc7x-qG",
        "outputId": "db4aa8f8-571f-4b5a-fa88-aed0fcf27188"
      },
      "execution_count": 80,
      "outputs": [
        {
          "output_type": "execute_result",
          "data": {
            "text/plain": [
              "13.0"
            ]
          },
          "metadata": {},
          "execution_count": 80
        }
      ]
    },
    {
      "cell_type": "code",
      "source": [
        "dups_name_add.loc[dups_name_add > 1]"
      ],
      "metadata": {
        "colab": {
          "base_uri": "https://localhost:8080/"
        },
        "id": "NfhK1TSXyIuv",
        "outputId": "4a716201-a385-4c8a-960c-f92591180646"
      },
      "execution_count": 81,
      "outputs": [
        {
          "output_type": "execute_result",
          "data": {
            "text/plain": [
              "Address\n",
              "., Đảo Hòn Tre, Thành Phố Nha Trang, Khánh Hòa, Việt Nam           2\n",
              "3/1 , Trần Quang Khải, Thành Phố Nha Trang, Khánh Hòa, Việt Nam    2\n",
              "6b, Láng Hạ, Quận Ba Đình, Hà Nội, Việt Nam                        2\n",
              "86/4 , Trần Phú, Thành Phố Nha Trang, Khánh Hòa, Việt Nam          2\n",
              "Khu Bãi Dài, Gành Dầu, Phú Quốc, Kiên Giang, Việt Nam              2\n",
              "Tổ 5, Ấp Ông Lang, Cửa Dương, Phú Quốc, Kiên Giang, Việt Nam       3\n",
              "dtype: int64"
            ]
          },
          "metadata": {},
          "execution_count": 81
        }
      ]
    },
    {
      "cell_type": "code",
      "source": [
        "mytour_df.loc[mytour_df['Address'].isin([\"., Đảo Hòn Tre, Thành Phố Nha Trang, Khánh Hòa, Việt Nam\", \n",
        "                                         \"3/1 , Trần Quang Khải, Thành Phố Nha Trang, Khánh Hòa, Việt Nam\", \n",
        "                                         \"6b, Láng Hạ, Quận Ba Đình, Hà Nội, Việt Nam\", \n",
        "                                         \"86/4 , Trần Phú, Thành Phố Nha Trang, Khánh Hòa, Việt Nam\", \n",
        "                                         \"Khu Bãi Dài, Gành Dầu, Phú Quốc, Kiên Giang, Việt Nam\", \n",
        "                                         \"Tổ 5, Ấp Ông Lang, Cửa Dương, Phú Quốc, Kiên Giang, Việt Nam\"])]"
      ],
      "metadata": {
        "colab": {
          "base_uri": "https://localhost:8080/",
          "height": 1000
        },
        "id": "NNylIVj5yMOC",
        "outputId": "bf1cb6ba-be73-4621-e746-cf5e2bd5f025"
      },
      "execution_count": 82,
      "outputs": [
        {
          "output_type": "execute_result",
          "data": {
            "text/plain": [
              "          City                             Hotel name  \\\n",
              "30      Hà Nội               Khách Sạn Fortuna Hà Nội   \n",
              "59      Hà Nội              Khách Sạn The Pearl Hanoi   \n",
              "805  Nha Trang              Vinpearl Luxury Nha Trang   \n",
              "808  Nha Trang        Khách Sạn Dendro Gold Nha Trang   \n",
              "815  Nha Trang  Vinpearl Discovery Golflink Nha Trang   \n",
              "830  Nha Trang     Khách Sạn Golden Holiday Nha Trang   \n",
              "844  Nha Trang              Khách sạn Rigel Nha Trang   \n",
              "865  Nha Trang               Khách Sạn Golden Rain 2    \n",
              "883   Phú Quốc          Kingo Retreat Resort Phú Quốc   \n",
              "884   Phú Quốc        Vinpearl Resort & Golf Phú Quốc   \n",
              "886   Phú Quốc                  Elwood Premier Resort   \n",
              "904   Phú Quốc            Vinholidays Fiesta Phú Quốc   \n",
              "921   Phú Quốc                Bambusa Resort Phú Quốc   \n",
              "\n",
              "                                                 Image  \\\n",
              "30   ['https://img.tripi.vn/cdn-cgi/image/width=840...   \n",
              "59   ['https://img.tripi.vn/cdn-cgi/image/width=124...   \n",
              "805  ['https://img.tripi.vn/cdn-cgi/image/width=124...   \n",
              "808  ['https://img.tripi.vn/cdn-cgi/image/width=124...   \n",
              "815  ['https://img.tripi.vn/cdn-cgi/image/width=840...   \n",
              "830  ['https://img.tripi.vn/cdn-cgi/image/width=124...   \n",
              "844  ['https://img.tripi.vn/cdn-cgi/image/width=124...   \n",
              "865  ['https://img.tripi.vn/cdn-cgi/image/width=124...   \n",
              "883  ['https://img.tripi.vn/cdn-cgi/image/width=840...   \n",
              "884  ['https://storage.googleapis.com/tripi-assets/...   \n",
              "886  ['https://img.tripi.vn/cdn-cgi/image/width=840...   \n",
              "904  ['https://img.tripi.vn/cdn-cgi/image/width=840...   \n",
              "921  ['https://img.tripi.vn/cdn-cgi/image/width=840...   \n",
              "\n",
              "                                                   Url  \\\n",
              "30   https://mytour.vn/khach-san/1377-khach-san-for...   \n",
              "59   https://mytour.vn/khach-san/4747-khach-san-the...   \n",
              "805  https://mytour.vn/khach-san/498-vinpearl-luxur...   \n",
              "808  https://mytour.vn/khach-san/23714-khach-san-de...   \n",
              "815  https://mytour.vn/khach-san/48305-vinpearl-dis...   \n",
              "830  https://mytour.vn/khach-san/2235-khach-san-gol...   \n",
              "844  https://mytour.vn/khach-san/38389-khach-san-ri...   \n",
              "865  https://mytour.vn/khach-san/9824-khach-san-gol...   \n",
              "883  https://mytour.vn/khach-san/49434-kingo-retrea...   \n",
              "884  https://mytour.vn/khach-san/23193-vinpearl-res...   \n",
              "886  https://mytour.vn/khach-san/22493-elwood-premi...   \n",
              "904  https://mytour.vn/khach-san/48598-vinholidays-...   \n",
              "921  https://mytour.vn/khach-san/29466-bambusa-reso...   \n",
              "\n",
              "                                               Address  Stars  Min Price  \\\n",
              "30         6b, Láng Hạ, Quận Ba Đình, Hà Nội, Việt Nam      4    1239609   \n",
              "59         6b, Láng Hạ, Quận Ba Đình, Hà Nội, Việt Nam      3     756770   \n",
              "805  ., Đảo Hòn Tre, Thành Phố Nha Trang, Khánh Hòa...      5    3565715   \n",
              "808  86/4 , Trần Phú, Thành Phố Nha Trang, Khánh Hò...      4     475326   \n",
              "815  ., Đảo Hòn Tre, Thành Phố Nha Trang, Khánh Hòa...      5   10348053   \n",
              "830  3/1 , Trần Quang Khải, Thành Phố Nha Trang, Kh...      3     528140   \n",
              "844  86/4 , Trần Phú, Thành Phố Nha Trang, Khánh Hò...      4     454200   \n",
              "865  3/1 , Trần Quang Khải, Thành Phố Nha Trang, Kh...      3     260276   \n",
              "883  Tổ 5, Ấp Ông Lang, Cửa Dương, Phú Quốc, Kiên G...      4     939053   \n",
              "884  Khu Bãi Dài, Gành Dầu, Phú Quốc, Kiên Giang, V...      5    2874546   \n",
              "886  Tổ 5, Ấp Ông Lang, Cửa Dương, Phú Quốc, Kiên G...      4     526233   \n",
              "904  Khu Bãi Dài, Gành Dầu, Phú Quốc, Kiên Giang, V...      3    1277577   \n",
              "921  Tổ 5, Ấp Ông Lang, Cửa Dương, Phú Quốc, Kiên G...      3     643274   \n",
              "\n",
              "     Rating  Number of reviews  \\\n",
              "30      8.0                172   \n",
              "59      7.8                 49   \n",
              "805     8.8                124   \n",
              "808     8.8                 28   \n",
              "815     7.0                  0   \n",
              "830     8.0                249   \n",
              "844     9.2                122   \n",
              "865     7.8                 28   \n",
              "883     9.0                 41   \n",
              "884     8.8                191   \n",
              "886     8.6                112   \n",
              "904     7.2                  2   \n",
              "921     9.2                 40   \n",
              "\n",
              "                                               Reviews  \\\n",
              "30   ['Thất vọng', 'Rất tốt\\nLocation,B1', 'Kém', '...   \n",
              "59   ['Nhân viên nhiệt tình, chú đáo với khách\\nDo ...   \n",
              "805  ['Khách sạn nhìn chung là ổn\\nKhách sạn nằm ng...   \n",
              "808  ['A happy place, hài lòng\\nĐiểm 10 về sự nhiệt...   \n",
              "815                                                 []   \n",
              "830  ['Trải nghiệm tuyệt vời\\nKhách sạn sạch sẽ,giá...   \n",
              "844  ['Rigel hotel Thang 6/2022\\nPhòng sạch, nhân v...   \n",
              "865  ['- Vị trí: Ngay khu trung tâm nên tiện lợi ch...   \n",
              "883  ['Du lịch các gia đình.\\nDịch vụ ở đây ok,nhân...   \n",
              "884  ['Đánh giá Vin resort and golf\\nTạm ổn nhưng đ...   \n",
              "886  ['Nghĩ dưỡng tuyệt vời\\nTôi rất thích nơi này....   \n",
              "904  ['Khách sạn sạch sẽ, bể bơi rộng\\nVì là khách ...   \n",
              "921  ['(không có tiêu đề cho đánh giá này)\\nChoáng ...   \n",
              "\n",
              "                                            Facilities  \\\n",
              "30   ['Lễ tân 24h', 'Giữ hành lý', 'Internet miễn p...   \n",
              "59   ['Lễ tân 24h', 'Thu đổi ngoại tệ', 'Bán tour',...   \n",
              "805  ['Đưa/đón khách sân bay', 'Phòng gym', 'Đặt vé...   \n",
              "808  ['Đưa/đón khách sân bay', 'Phòng gym', 'Đặt vé...   \n",
              "815  ['Đưa/đón khách sân bay', 'Đưa/đón khách bến p...   \n",
              "830  ['Bán tour', 'Lễ tân 24h', 'Giữ hành lý', 'Int...   \n",
              "844  ['American Express', 'Đưa/đón khách sân bay', ...   \n",
              "865  ['Đưa/đón khách sân bay', 'Bán tour', 'Két an ...   \n",
              "883  ['Lễ tân 24h', 'Giữ hành lý', 'Bán tour', 'Int...   \n",
              "884  ['American Express', 'Đưa/đón khách sân bay', ...   \n",
              "886  ['American Express', 'Bãi đỗ xe', 'Trợ giúp đặ...   \n",
              "904  ['Giữ hành lý', 'Lễ tân 24h', 'Trợ giúp đặc bi...   \n",
              "921  ['American Express', 'Đưa/đón khách sân bay', ...   \n",
              "\n",
              "                                           Description  \\\n",
              "30   ['Khách sạn Fortuna là một trong những cơ sở l...   \n",
              "59   ['Được xây dựng vào tháng 2 năm 2013, Khách Sạ...   \n",
              "805  ['Vinpearl Luxury Nha Trang đem đến một nơi tr...   \n",
              "808  ['Khách Sạn Dendro Gold Nha Trang có không gia...   \n",
              "815  ['Vinpearl Discovery Golflink Nha Trang (Vinpe...   \n",
              "830  ['Khách sạn Golden Holiday là điểm du lịch bổ ...   \n",
              "844  ['Tọa lạc tại thành phố Nha Trang, Rigel Hotel...   \n",
              "865  ['Nằm ở vị trí thuận lợi trong Lộc Thọ, Golden...   \n",
              "883  ['Kingo Retreat Resort Phú Quốc cách bãi biển ...   \n",
              "884  ['Tọa lạc tại Bãi Dài, một trong những bãi biể...   \n",
              "886  ['Elwood Resort Phú Quốc tọa lạc bên bãi biển ...   \n",
              "904  ['Nằm ở đảo Phú Quốc, cách Bãi Dài 500 m, Vinh...   \n",
              "921  ['Cách sân bay Phú Quốc khoảng 15km về phía Na...   \n",
              "\n",
              "                                         Nearby places  \n",
              "30   [('Hakata Kouryu', '69 m'), ('May Mắn Restaura...  \n",
              "59   [('May Mắn Restaurant', '28 m'), ('Nhà Hàng Th...  \n",
              "805  [('VietStreet - Món Ăn Đường Phố', '3.4 km'), ...  \n",
              "808  [('Nhà Bar', '26 m'), ('Dinner at Cim’s', '124...  \n",
              "815          [('Bella Ciao Club Nha Trang', '6.9 km')]  \n",
              "830  [('Quán Hẻm Korean Restaurant', '44 m'), ('Nhà...  \n",
              "844  [('Nhà Bar', '162 m'), ('Hybrid', '206 m'), ('...  \n",
              "865                                                 []  \n",
              "883  [('Coco Palm Restaurant', '405 m'), ('Nhà hàng...  \n",
              "884  [('Hong Kong Taste Restaurant.', '2.3 km'), ('...  \n",
              "886  [('Nhà Hàng Eat Pray Love Phú Quốc', '498 m'),...  \n",
              "904  [('Vinpearl Safari Phú Quốc', '1.7 km'), ('Làn...  \n",
              "921  [('Nhà Hàng Eat Pray Love Phú Quốc', '870 m'),...  "
            ],
            "text/html": [
              "\n",
              "  <div id=\"df-a1cc8fef-c741-4d56-8ae9-f3201bc2f7b2\">\n",
              "    <div class=\"colab-df-container\">\n",
              "      <div>\n",
              "<style scoped>\n",
              "    .dataframe tbody tr th:only-of-type {\n",
              "        vertical-align: middle;\n",
              "    }\n",
              "\n",
              "    .dataframe tbody tr th {\n",
              "        vertical-align: top;\n",
              "    }\n",
              "\n",
              "    .dataframe thead th {\n",
              "        text-align: right;\n",
              "    }\n",
              "</style>\n",
              "<table border=\"1\" class=\"dataframe\">\n",
              "  <thead>\n",
              "    <tr style=\"text-align: right;\">\n",
              "      <th></th>\n",
              "      <th>City</th>\n",
              "      <th>Hotel name</th>\n",
              "      <th>Image</th>\n",
              "      <th>Url</th>\n",
              "      <th>Address</th>\n",
              "      <th>Stars</th>\n",
              "      <th>Min Price</th>\n",
              "      <th>Rating</th>\n",
              "      <th>Number of reviews</th>\n",
              "      <th>Reviews</th>\n",
              "      <th>Facilities</th>\n",
              "      <th>Description</th>\n",
              "      <th>Nearby places</th>\n",
              "    </tr>\n",
              "  </thead>\n",
              "  <tbody>\n",
              "    <tr>\n",
              "      <th>30</th>\n",
              "      <td>Hà Nội</td>\n",
              "      <td>Khách Sạn Fortuna Hà Nội</td>\n",
              "      <td>['https://img.tripi.vn/cdn-cgi/image/width=840...</td>\n",
              "      <td>https://mytour.vn/khach-san/1377-khach-san-for...</td>\n",
              "      <td>6b, Láng Hạ, Quận Ba Đình, Hà Nội, Việt Nam</td>\n",
              "      <td>4</td>\n",
              "      <td>1239609</td>\n",
              "      <td>8.0</td>\n",
              "      <td>172</td>\n",
              "      <td>['Thất vọng', 'Rất tốt\\nLocation,B1', 'Kém', '...</td>\n",
              "      <td>['Lễ tân 24h', 'Giữ hành lý', 'Internet miễn p...</td>\n",
              "      <td>['Khách sạn Fortuna là một trong những cơ sở l...</td>\n",
              "      <td>[('Hakata Kouryu', '69 m'), ('May Mắn Restaura...</td>\n",
              "    </tr>\n",
              "    <tr>\n",
              "      <th>59</th>\n",
              "      <td>Hà Nội</td>\n",
              "      <td>Khách Sạn The Pearl Hanoi</td>\n",
              "      <td>['https://img.tripi.vn/cdn-cgi/image/width=124...</td>\n",
              "      <td>https://mytour.vn/khach-san/4747-khach-san-the...</td>\n",
              "      <td>6b, Láng Hạ, Quận Ba Đình, Hà Nội, Việt Nam</td>\n",
              "      <td>3</td>\n",
              "      <td>756770</td>\n",
              "      <td>7.8</td>\n",
              "      <td>49</td>\n",
              "      <td>['Nhân viên nhiệt tình, chú đáo với khách\\nDo ...</td>\n",
              "      <td>['Lễ tân 24h', 'Thu đổi ngoại tệ', 'Bán tour',...</td>\n",
              "      <td>['Được xây dựng vào tháng 2 năm 2013, Khách Sạ...</td>\n",
              "      <td>[('May Mắn Restaurant', '28 m'), ('Nhà Hàng Th...</td>\n",
              "    </tr>\n",
              "    <tr>\n",
              "      <th>805</th>\n",
              "      <td>Nha Trang</td>\n",
              "      <td>Vinpearl Luxury Nha Trang</td>\n",
              "      <td>['https://img.tripi.vn/cdn-cgi/image/width=124...</td>\n",
              "      <td>https://mytour.vn/khach-san/498-vinpearl-luxur...</td>\n",
              "      <td>., Đảo Hòn Tre, Thành Phố Nha Trang, Khánh Hòa...</td>\n",
              "      <td>5</td>\n",
              "      <td>3565715</td>\n",
              "      <td>8.8</td>\n",
              "      <td>124</td>\n",
              "      <td>['Khách sạn nhìn chung là ổn\\nKhách sạn nằm ng...</td>\n",
              "      <td>['Đưa/đón khách sân bay', 'Phòng gym', 'Đặt vé...</td>\n",
              "      <td>['Vinpearl Luxury Nha Trang đem đến một nơi tr...</td>\n",
              "      <td>[('VietStreet - Món Ăn Đường Phố', '3.4 km'), ...</td>\n",
              "    </tr>\n",
              "    <tr>\n",
              "      <th>808</th>\n",
              "      <td>Nha Trang</td>\n",
              "      <td>Khách Sạn Dendro Gold Nha Trang</td>\n",
              "      <td>['https://img.tripi.vn/cdn-cgi/image/width=124...</td>\n",
              "      <td>https://mytour.vn/khach-san/23714-khach-san-de...</td>\n",
              "      <td>86/4 , Trần Phú, Thành Phố Nha Trang, Khánh Hò...</td>\n",
              "      <td>4</td>\n",
              "      <td>475326</td>\n",
              "      <td>8.8</td>\n",
              "      <td>28</td>\n",
              "      <td>['A happy place, hài lòng\\nĐiểm 10 về sự nhiệt...</td>\n",
              "      <td>['Đưa/đón khách sân bay', 'Phòng gym', 'Đặt vé...</td>\n",
              "      <td>['Khách Sạn Dendro Gold Nha Trang có không gia...</td>\n",
              "      <td>[('Nhà Bar', '26 m'), ('Dinner at Cim’s', '124...</td>\n",
              "    </tr>\n",
              "    <tr>\n",
              "      <th>815</th>\n",
              "      <td>Nha Trang</td>\n",
              "      <td>Vinpearl Discovery Golflink Nha Trang</td>\n",
              "      <td>['https://img.tripi.vn/cdn-cgi/image/width=840...</td>\n",
              "      <td>https://mytour.vn/khach-san/48305-vinpearl-dis...</td>\n",
              "      <td>., Đảo Hòn Tre, Thành Phố Nha Trang, Khánh Hòa...</td>\n",
              "      <td>5</td>\n",
              "      <td>10348053</td>\n",
              "      <td>7.0</td>\n",
              "      <td>0</td>\n",
              "      <td>[]</td>\n",
              "      <td>['Đưa/đón khách sân bay', 'Đưa/đón khách bến p...</td>\n",
              "      <td>['Vinpearl Discovery Golflink Nha Trang (Vinpe...</td>\n",
              "      <td>[('Bella Ciao Club Nha Trang', '6.9 km')]</td>\n",
              "    </tr>\n",
              "    <tr>\n",
              "      <th>830</th>\n",
              "      <td>Nha Trang</td>\n",
              "      <td>Khách Sạn Golden Holiday Nha Trang</td>\n",
              "      <td>['https://img.tripi.vn/cdn-cgi/image/width=124...</td>\n",
              "      <td>https://mytour.vn/khach-san/2235-khach-san-gol...</td>\n",
              "      <td>3/1 , Trần Quang Khải, Thành Phố Nha Trang, Kh...</td>\n",
              "      <td>3</td>\n",
              "      <td>528140</td>\n",
              "      <td>8.0</td>\n",
              "      <td>249</td>\n",
              "      <td>['Trải nghiệm tuyệt vời\\nKhách sạn sạch sẽ,giá...</td>\n",
              "      <td>['Bán tour', 'Lễ tân 24h', 'Giữ hành lý', 'Int...</td>\n",
              "      <td>['Khách sạn Golden Holiday là điểm du lịch bổ ...</td>\n",
              "      <td>[('Quán Hẻm Korean Restaurant', '44 m'), ('Nhà...</td>\n",
              "    </tr>\n",
              "    <tr>\n",
              "      <th>844</th>\n",
              "      <td>Nha Trang</td>\n",
              "      <td>Khách sạn Rigel Nha Trang</td>\n",
              "      <td>['https://img.tripi.vn/cdn-cgi/image/width=124...</td>\n",
              "      <td>https://mytour.vn/khach-san/38389-khach-san-ri...</td>\n",
              "      <td>86/4 , Trần Phú, Thành Phố Nha Trang, Khánh Hò...</td>\n",
              "      <td>4</td>\n",
              "      <td>454200</td>\n",
              "      <td>9.2</td>\n",
              "      <td>122</td>\n",
              "      <td>['Rigel hotel Thang 6/2022\\nPhòng sạch, nhân v...</td>\n",
              "      <td>['American Express', 'Đưa/đón khách sân bay', ...</td>\n",
              "      <td>['Tọa lạc tại thành phố Nha Trang, Rigel Hotel...</td>\n",
              "      <td>[('Nhà Bar', '162 m'), ('Hybrid', '206 m'), ('...</td>\n",
              "    </tr>\n",
              "    <tr>\n",
              "      <th>865</th>\n",
              "      <td>Nha Trang</td>\n",
              "      <td>Khách Sạn Golden Rain 2</td>\n",
              "      <td>['https://img.tripi.vn/cdn-cgi/image/width=124...</td>\n",
              "      <td>https://mytour.vn/khach-san/9824-khach-san-gol...</td>\n",
              "      <td>3/1 , Trần Quang Khải, Thành Phố Nha Trang, Kh...</td>\n",
              "      <td>3</td>\n",
              "      <td>260276</td>\n",
              "      <td>7.8</td>\n",
              "      <td>28</td>\n",
              "      <td>['- Vị trí: Ngay khu trung tâm nên tiện lợi ch...</td>\n",
              "      <td>['Đưa/đón khách sân bay', 'Bán tour', 'Két an ...</td>\n",
              "      <td>['Nằm ở vị trí thuận lợi trong Lộc Thọ, Golden...</td>\n",
              "      <td>[]</td>\n",
              "    </tr>\n",
              "    <tr>\n",
              "      <th>883</th>\n",
              "      <td>Phú Quốc</td>\n",
              "      <td>Kingo Retreat Resort Phú Quốc</td>\n",
              "      <td>['https://img.tripi.vn/cdn-cgi/image/width=840...</td>\n",
              "      <td>https://mytour.vn/khach-san/49434-kingo-retrea...</td>\n",
              "      <td>Tổ 5, Ấp Ông Lang, Cửa Dương, Phú Quốc, Kiên G...</td>\n",
              "      <td>4</td>\n",
              "      <td>939053</td>\n",
              "      <td>9.0</td>\n",
              "      <td>41</td>\n",
              "      <td>['Du lịch các gia đình.\\nDịch vụ ở đây ok,nhân...</td>\n",
              "      <td>['Lễ tân 24h', 'Giữ hành lý', 'Bán tour', 'Int...</td>\n",
              "      <td>['Kingo Retreat Resort Phú Quốc cách bãi biển ...</td>\n",
              "      <td>[('Coco Palm Restaurant', '405 m'), ('Nhà hàng...</td>\n",
              "    </tr>\n",
              "    <tr>\n",
              "      <th>884</th>\n",
              "      <td>Phú Quốc</td>\n",
              "      <td>Vinpearl Resort &amp; Golf Phú Quốc</td>\n",
              "      <td>['https://storage.googleapis.com/tripi-assets/...</td>\n",
              "      <td>https://mytour.vn/khach-san/23193-vinpearl-res...</td>\n",
              "      <td>Khu Bãi Dài, Gành Dầu, Phú Quốc, Kiên Giang, V...</td>\n",
              "      <td>5</td>\n",
              "      <td>2874546</td>\n",
              "      <td>8.8</td>\n",
              "      <td>191</td>\n",
              "      <td>['Đánh giá Vin resort and golf\\nTạm ổn nhưng đ...</td>\n",
              "      <td>['American Express', 'Đưa/đón khách sân bay', ...</td>\n",
              "      <td>['Tọa lạc tại Bãi Dài, một trong những bãi biể...</td>\n",
              "      <td>[('Hong Kong Taste Restaurant.', '2.3 km'), ('...</td>\n",
              "    </tr>\n",
              "    <tr>\n",
              "      <th>886</th>\n",
              "      <td>Phú Quốc</td>\n",
              "      <td>Elwood Premier Resort</td>\n",
              "      <td>['https://img.tripi.vn/cdn-cgi/image/width=840...</td>\n",
              "      <td>https://mytour.vn/khach-san/22493-elwood-premi...</td>\n",
              "      <td>Tổ 5, Ấp Ông Lang, Cửa Dương, Phú Quốc, Kiên G...</td>\n",
              "      <td>4</td>\n",
              "      <td>526233</td>\n",
              "      <td>8.6</td>\n",
              "      <td>112</td>\n",
              "      <td>['Nghĩ dưỡng tuyệt vời\\nTôi rất thích nơi này....</td>\n",
              "      <td>['American Express', 'Bãi đỗ xe', 'Trợ giúp đặ...</td>\n",
              "      <td>['Elwood Resort Phú Quốc tọa lạc bên bãi biển ...</td>\n",
              "      <td>[('Nhà Hàng Eat Pray Love Phú Quốc', '498 m'),...</td>\n",
              "    </tr>\n",
              "    <tr>\n",
              "      <th>904</th>\n",
              "      <td>Phú Quốc</td>\n",
              "      <td>Vinholidays Fiesta Phú Quốc</td>\n",
              "      <td>['https://img.tripi.vn/cdn-cgi/image/width=840...</td>\n",
              "      <td>https://mytour.vn/khach-san/48598-vinholidays-...</td>\n",
              "      <td>Khu Bãi Dài, Gành Dầu, Phú Quốc, Kiên Giang, V...</td>\n",
              "      <td>3</td>\n",
              "      <td>1277577</td>\n",
              "      <td>7.2</td>\n",
              "      <td>2</td>\n",
              "      <td>['Khách sạn sạch sẽ, bể bơi rộng\\nVì là khách ...</td>\n",
              "      <td>['Giữ hành lý', 'Lễ tân 24h', 'Trợ giúp đặc bi...</td>\n",
              "      <td>['Nằm ở đảo Phú Quốc, cách Bãi Dài 500 m, Vinh...</td>\n",
              "      <td>[('Vinpearl Safari Phú Quốc', '1.7 km'), ('Làn...</td>\n",
              "    </tr>\n",
              "    <tr>\n",
              "      <th>921</th>\n",
              "      <td>Phú Quốc</td>\n",
              "      <td>Bambusa Resort Phú Quốc</td>\n",
              "      <td>['https://img.tripi.vn/cdn-cgi/image/width=840...</td>\n",
              "      <td>https://mytour.vn/khach-san/29466-bambusa-reso...</td>\n",
              "      <td>Tổ 5, Ấp Ông Lang, Cửa Dương, Phú Quốc, Kiên G...</td>\n",
              "      <td>3</td>\n",
              "      <td>643274</td>\n",
              "      <td>9.2</td>\n",
              "      <td>40</td>\n",
              "      <td>['(không có tiêu đề cho đánh giá này)\\nChoáng ...</td>\n",
              "      <td>['American Express', 'Đưa/đón khách sân bay', ...</td>\n",
              "      <td>['Cách sân bay Phú Quốc khoảng 15km về phía Na...</td>\n",
              "      <td>[('Nhà Hàng Eat Pray Love Phú Quốc', '870 m'),...</td>\n",
              "    </tr>\n",
              "  </tbody>\n",
              "</table>\n",
              "</div>\n",
              "      <button class=\"colab-df-convert\" onclick=\"convertToInteractive('df-a1cc8fef-c741-4d56-8ae9-f3201bc2f7b2')\"\n",
              "              title=\"Convert this dataframe to an interactive table.\"\n",
              "              style=\"display:none;\">\n",
              "        \n",
              "  <svg xmlns=\"http://www.w3.org/2000/svg\" height=\"24px\"viewBox=\"0 0 24 24\"\n",
              "       width=\"24px\">\n",
              "    <path d=\"M0 0h24v24H0V0z\" fill=\"none\"/>\n",
              "    <path d=\"M18.56 5.44l.94 2.06.94-2.06 2.06-.94-2.06-.94-.94-2.06-.94 2.06-2.06.94zm-11 1L8.5 8.5l.94-2.06 2.06-.94-2.06-.94L8.5 2.5l-.94 2.06-2.06.94zm10 10l.94 2.06.94-2.06 2.06-.94-2.06-.94-.94-2.06-.94 2.06-2.06.94z\"/><path d=\"M17.41 7.96l-1.37-1.37c-.4-.4-.92-.59-1.43-.59-.52 0-1.04.2-1.43.59L10.3 9.45l-7.72 7.72c-.78.78-.78 2.05 0 2.83L4 21.41c.39.39.9.59 1.41.59.51 0 1.02-.2 1.41-.59l7.78-7.78 2.81-2.81c.8-.78.8-2.07 0-2.86zM5.41 20L4 18.59l7.72-7.72 1.47 1.35L5.41 20z\"/>\n",
              "  </svg>\n",
              "      </button>\n",
              "      \n",
              "  <style>\n",
              "    .colab-df-container {\n",
              "      display:flex;\n",
              "      flex-wrap:wrap;\n",
              "      gap: 12px;\n",
              "    }\n",
              "\n",
              "    .colab-df-convert {\n",
              "      background-color: #E8F0FE;\n",
              "      border: none;\n",
              "      border-radius: 50%;\n",
              "      cursor: pointer;\n",
              "      display: none;\n",
              "      fill: #1967D2;\n",
              "      height: 32px;\n",
              "      padding: 0 0 0 0;\n",
              "      width: 32px;\n",
              "    }\n",
              "\n",
              "    .colab-df-convert:hover {\n",
              "      background-color: #E2EBFA;\n",
              "      box-shadow: 0px 1px 2px rgba(60, 64, 67, 0.3), 0px 1px 3px 1px rgba(60, 64, 67, 0.15);\n",
              "      fill: #174EA6;\n",
              "    }\n",
              "\n",
              "    [theme=dark] .colab-df-convert {\n",
              "      background-color: #3B4455;\n",
              "      fill: #D2E3FC;\n",
              "    }\n",
              "\n",
              "    [theme=dark] .colab-df-convert:hover {\n",
              "      background-color: #434B5C;\n",
              "      box-shadow: 0px 1px 3px 1px rgba(0, 0, 0, 0.15);\n",
              "      filter: drop-shadow(0px 1px 2px rgba(0, 0, 0, 0.3));\n",
              "      fill: #FFFFFF;\n",
              "    }\n",
              "  </style>\n",
              "\n",
              "      <script>\n",
              "        const buttonEl =\n",
              "          document.querySelector('#df-a1cc8fef-c741-4d56-8ae9-f3201bc2f7b2 button.colab-df-convert');\n",
              "        buttonEl.style.display =\n",
              "          google.colab.kernel.accessAllowed ? 'block' : 'none';\n",
              "\n",
              "        async function convertToInteractive(key) {\n",
              "          const element = document.querySelector('#df-a1cc8fef-c741-4d56-8ae9-f3201bc2f7b2');\n",
              "          const dataTable =\n",
              "            await google.colab.kernel.invokeFunction('convertToInteractive',\n",
              "                                                     [key], {});\n",
              "          if (!dataTable) return;\n",
              "\n",
              "          const docLinkHtml = 'Like what you see? Visit the ' +\n",
              "            '<a target=\"_blank\" href=https://colab.research.google.com/notebooks/data_table.ipynb>data table notebook</a>'\n",
              "            + ' to learn more about interactive tables.';\n",
              "          element.innerHTML = '';\n",
              "          dataTable['output_type'] = 'display_data';\n",
              "          await google.colab.output.renderOutput(dataTable, element);\n",
              "          const docLink = document.createElement('div');\n",
              "          docLink.innerHTML = docLinkHtml;\n",
              "          element.appendChild(docLink);\n",
              "        }\n",
              "      </script>\n",
              "    </div>\n",
              "  </div>\n",
              "  "
            ]
          },
          "metadata": {},
          "execution_count": 82
        }
      ]
    },
    {
      "cell_type": "code",
      "source": [
        "mytour_df = mytour_df.drop([30, 808, 815, 830])"
      ],
      "metadata": {
        "id": "XIlxSjZ6yrs8"
      },
      "execution_count": 83,
      "outputs": []
    },
    {
      "cell_type": "code",
      "source": [
        "mytour_df = mytour_df.reset_index(drop=True)"
      ],
      "metadata": {
        "id": "m8J2-xmZzq-g"
      },
      "execution_count": 84,
      "outputs": []
    },
    {
      "cell_type": "markdown",
      "source": [
        "**Agoda**"
      ],
      "metadata": {
        "id": "qYvnv70Sz6eU"
      }
    },
    {
      "cell_type": "code",
      "source": [
        "#Kiểm tra những Khách sạn trùng tên\n",
        "ago_name = agoda_df.pivot_table(columns=[\"hotel name\"], aggfunc='size')\n",
        "print(ago_name.where(ago_name > 1).sum())"
      ],
      "metadata": {
        "colab": {
          "base_uri": "https://localhost:8080/"
        },
        "id": "GquSm4Mez7u-",
        "outputId": "1ff7eff0-b9c3-4d2c-eb67-2b1b5b799803"
      },
      "execution_count": 85,
      "outputs": [
        {
          "output_type": "stream",
          "name": "stdout",
          "text": [
            "323.0\n"
          ]
        }
      ]
    },
    {
      "cell_type": "code",
      "source": [
        "#Kiểm tra KS trùng địa chỉ và tên\n",
        "ago_name_1 = agoda_df.pivot_table(columns=[\"hotel name\", \"address\"], aggfunc='size')\n",
        "print(ago_name_1.where(ago_name_1 > 1).sum())"
      ],
      "metadata": {
        "colab": {
          "base_uri": "https://localhost:8080/"
        },
        "id": "SCXGLnTP0DJR",
        "outputId": "6c88806e-f812-4f05-a80c-4d1ed16762ec"
      },
      "execution_count": 86,
      "outputs": [
        {
          "output_type": "stream",
          "name": "stdout",
          "text": [
            "323.0\n"
          ]
        }
      ]
    },
    {
      "cell_type": "code",
      "source": [
        "#Kiểm tra KS trùng địa chỉ, tên và giá\n",
        "ago_name_p = agoda_df.pivot_table(columns=[\"hotel name\", \"address\", \"price\"], aggfunc='size')\n",
        "print(ago_name_p.where(ago_name_p > 1).sum())"
      ],
      "metadata": {
        "colab": {
          "base_uri": "https://localhost:8080/"
        },
        "id": "OF4iZ19_0IcF",
        "outputId": "7e592035-d35e-4a68-d54e-391cbb949a28"
      },
      "execution_count": 87,
      "outputs": [
        {
          "output_type": "stream",
          "name": "stdout",
          "text": [
            "323.0\n"
          ]
        }
      ]
    },
    {
      "cell_type": "code",
      "source": [
        "#Lọc bỏ dữ liệu trùng lặp theo tên, địa chỉ và giá\n",
        "agoda_df = agoda_df.drop_duplicates(subset=[\"hotel name\", \"address\", \"price\"])"
      ],
      "metadata": {
        "id": "z9YNnC_I0NAa"
      },
      "execution_count": 88,
      "outputs": []
    },
    {
      "cell_type": "code",
      "source": [
        "#Check\n",
        "ago_name_2 = agoda_df.pivot_table(columns=[\"hotel name\", \"address\"], aggfunc='size')\n",
        "print(ago_name_2.where(ago_name_2 > 1).sum())"
      ],
      "metadata": {
        "colab": {
          "base_uri": "https://localhost:8080/"
        },
        "id": "u2kutrFX0Pfj",
        "outputId": "425159c4-c24f-4fb3-b34f-1382f6cff6b4"
      },
      "execution_count": 89,
      "outputs": [
        {
          "output_type": "stream",
          "name": "stdout",
          "text": [
            "0.0\n"
          ]
        }
      ]
    },
    {
      "cell_type": "code",
      "source": [
        "#Check\n",
        "ago_name_3 = agoda_df.pivot_table(columns=[\"hotel name\"], aggfunc='size')\n",
        "print(ago_name_3.where(ago_name_3 > 1).sum())"
      ],
      "metadata": {
        "colab": {
          "base_uri": "https://localhost:8080/"
        },
        "id": "a7_zESLd0T9B",
        "outputId": "7dacd753-a812-427b-e380-225c28626538"
      },
      "execution_count": 90,
      "outputs": [
        {
          "output_type": "stream",
          "name": "stdout",
          "text": [
            "0.0\n"
          ]
        }
      ]
    },
    {
      "cell_type": "code",
      "source": [
        "#Check\n",
        "ago_name_3 = agoda_df.pivot_table(columns=[\"address\"], aggfunc='size')\n",
        "print(ago_name_3.where(ago_name_3 > 1).sum())"
      ],
      "metadata": {
        "colab": {
          "base_uri": "https://localhost:8080/"
        },
        "id": "gOBg7ZF90ceB",
        "outputId": "ddba3832-2fd5-4ac3-cb33-74288034110c"
      },
      "execution_count": 91,
      "outputs": [
        {
          "output_type": "stream",
          "name": "stdout",
          "text": [
            "17.0\n"
          ]
        }
      ]
    },
    {
      "cell_type": "code",
      "source": [
        "ago_name_3.loc[ago_name_3 > 1]"
      ],
      "metadata": {
        "colab": {
          "base_uri": "https://localhost:8080/"
        },
        "id": "PJ6RUbzk0mo7",
        "outputId": "04d703c5-2aa0-4ff7-dca5-7ac3d6e8950d"
      },
      "execution_count": 92,
      "outputs": [
        {
          "output_type": "execute_result",
          "data": {
            "text/plain": [
              "address\n",
              "16 Tôn Đản, Lộc Thọ, Nha Trang, Việt Nam    2\n",
              "Cảng Hòn Gai, Ha Long, Việt Nam             2\n",
              "Lộc Thọ, Nha Trang, Việt Nam                4\n",
              "Phước Mỹ, Đà Nẵng, Việt Nam                 3\n",
              "Quận 7, Hồ Chí Minh, Việt Nam               2\n",
              "Đảo Tuần Châu, Ha Long, Việt Nam            4\n",
              "dtype: int64"
            ]
          },
          "metadata": {},
          "execution_count": 92
        }
      ]
    },
    {
      "cell_type": "code",
      "source": [
        "agoda_df.loc[agoda_df['address'].isin([\"16 Tôn Đản, Lộc Thọ, Nha Trang, Việt Nam\", \n",
        "                                      \"Cảng Hòn Gai, Ha Long, Việt Nam\", \n",
        "                                      \"Lộc Thọ, Nha Trang, Việt Nam\", \n",
        "                                      \"Phước Mỹ, Đà Nẵng, Việt Nam\", \n",
        "                                      \"Quận 7, Hồ Chí Minh, Việt Nam\", \n",
        "                                      \"Đảo Tuần Châu, Ha Long, Việt Nam\"])]"
      ],
      "metadata": {
        "colab": {
          "base_uri": "https://localhost:8080/",
          "height": 1000
        },
        "id": "S0fDooBP0rHr",
        "outputId": "b63dd5af-5de9-4228-e659-4738c70007ec"
      },
      "execution_count": 93,
      "outputs": [
        {
          "output_type": "execute_result",
          "data": {
            "text/plain": [
              "            city                                         hotel name  \\\n",
              "29     Nha Trang  Khách Sạn & Căn Hộ Maple (Maple Hotel & Apartm...   \n",
              "40     Nha Trang                     Sea View Luxury Zoom Apartment   \n",
              "51     Nha Trang                       Sunrise Ocean View Apartment   \n",
              "62     Nha Trang                              Diamond Bay Residence   \n",
              "73     Nha Trang                   Căn hộ Galaxy (Galaxy Apartment)   \n",
              "107    Nha Trang  Khách sạn Pavillon Garden Nha Trang (Pavillon ...   \n",
              "211      Ha Long  Du Thuyền Paloma Cruise Hạ Long (Halong Paloma...   \n",
              "214      Ha Long                    Paradise Elegance Cruise Halong   \n",
              "215      Ha Long                               Halong Legacy Cruise   \n",
              "218      Ha Long                               Alisa Premier Cruise   \n",
              "219      Ha Long   Tàu Hương Hải Sealife (Huong Hai Sealife Cruise)   \n",
              "220      Ha Long      Du thuyền Bhaya Hạ Long (Bhaya Halong Cruise)   \n",
              "294  Hồ Chí Minh                 Căn hộ Jack 85 (Jack Apartment 85)   \n",
              "322  Hồ Chí Minh                                     Jack Apartment   \n",
              "815      Đà Nẵng           Biệt thự Fanta Suite (Fanta Suite Villa)   \n",
              "820      Đà Nẵng  Chung cư 70 m² 2 phòng ngủ, 2 phòng tắm riêng ...   \n",
              "913      Đà Nẵng  Chung cư 60 m² 2 phòng ngủ, 1 phòng tắm riêng ...   \n",
              "\n",
              "                                                   url  \\\n",
              "29   https://www.agoda.com/vi-vn/maple-hotel-apartm...   \n",
              "40   https://www.agoda.com/vi-vn/sea-view-luxury-zo...   \n",
              "51   https://www.agoda.com/vi-vn/sunrise-ocean-view...   \n",
              "62   https://www.agoda.com/vi-vn/diamond-bay-reside...   \n",
              "73   https://www.agoda.com/vi-vn/galaxy-apartment/h...   \n",
              "107  https://www.agoda.com/vi-vn/pavillon-garden-ho...   \n",
              "211  https://www.agoda.com/vi-vn/halong-paloma-crui...   \n",
              "214  https://www.agoda.com/vi-vn/paradise-elegance-...   \n",
              "215  https://www.agoda.com/vi-vn/halong-legacy-crui...   \n",
              "218  https://www.agoda.com/vi-vn/alisa-premier-crui...   \n",
              "219  https://www.agoda.com/vi-vn/huong-hai-sealife-...   \n",
              "220  https://www.agoda.com/vi-vn/bhaya-halong-cruis...   \n",
              "294  https://www.agoda.com/vi-vn/jack-apartment-85_...   \n",
              "322  https://www.agoda.com/vi-vn/jack-apartment_2/h...   \n",
              "815  https://www.agoda.com/vi-vn/fanta-suite-villa/...   \n",
              "820  https://www.agoda.com/vi-vn/wow-home-with-ocea...   \n",
              "913  https://www.agoda.com/vi-vn/daisy-apartment-29...   \n",
              "\n",
              "                                      address  stars     price  rating  \\\n",
              "29   16 Tôn Đản, Lộc Thọ, Nha Trang, Việt Nam    4.5    362216     8.6   \n",
              "40               Lộc Thọ, Nha Trang, Việt Nam    4.5   1246753     8.4   \n",
              "51               Lộc Thọ, Nha Trang, Việt Nam    4.5    337662     8.3   \n",
              "62               Lộc Thọ, Nha Trang, Việt Nam    4.5    788961     8.1   \n",
              "73               Lộc Thọ, Nha Trang, Việt Nam    4.0    182638     7.9   \n",
              "107  16 Tôn Đản, Lộc Thọ, Nha Trang, Việt Nam    3.0   1594371     7.8   \n",
              "211           Cảng Hòn Gai, Ha Long, Việt Nam    4.0   6493506     8.9   \n",
              "214          Đảo Tuần Châu, Ha Long, Việt Nam    5.0   5863636     8.9   \n",
              "215          Đảo Tuần Châu, Ha Long, Việt Nam    3.0   7913043     8.3   \n",
              "218          Đảo Tuần Châu, Ha Long, Việt Nam    5.0   5840869     9.2   \n",
              "219           Cảng Hòn Gai, Ha Long, Việt Nam    4.0  13160978     9.5   \n",
              "220          Đảo Tuần Châu, Ha Long, Việt Nam    4.0   6479955     8.9   \n",
              "294             Quận 7, Hồ Chí Minh, Việt Nam    4.5    519483     8.7   \n",
              "322             Quận 7, Hồ Chí Minh, Việt Nam    4.5    649361     8.6   \n",
              "815               Phước Mỹ, Đà Nẵng, Việt Nam    4.0    772727     8.2   \n",
              "820               Phước Mỹ, Đà Nẵng, Việt Nam    5.0   1000481     9.2   \n",
              "913               Phước Mỹ, Đà Nẵng, Việt Nam    5.0    692641     8.6   \n",
              "\n",
              "     n_reviews                                              image  \\\n",
              "29        1923  https://pix6.agoda.net/hotelImages/2537789/-1/...   \n",
              "40         147  https://pix6.agoda.net/hotelImages/163/1638950...   \n",
              "51         659  https://pix6.agoda.net/hotelImages/985079/-1/8...   \n",
              "62         274  https://pix6.agoda.net/hotelImages/568/568160/...   \n",
              "73         581  https://pix6.agoda.net/hotelImages/625/625297/...   \n",
              "107        760  https://pix5.agoda.net/hotelImages/699/699308/...   \n",
              "211        745  https://pix6.agoda.net/hotelImages/247936/-1/5...   \n",
              "214        210  https://pix5.agoda.net/hotelImages/116/1160092...   \n",
              "215        480  https://pix5.agoda.net/hotelImages/523292/-1/0...   \n",
              "218        743  https://pix6.agoda.net/hotelImages/2537815/-1/...   \n",
              "219        228  https://pix5.agoda.net/hotelImages/503/503046/...   \n",
              "220        279  https://pix6.agoda.net/hotelImages/246334/-1/2...   \n",
              "294        292  https://pix5.agoda.net/hotelImages/217/2170880...   \n",
              "322        229  https://pix6.agoda.net/hotelImages/2169196/-1/...   \n",
              "815        248  https://pix6.agoda.net/hotelImages/485/4858029...   \n",
              "820        107  https://pix6.agoda.net/hotelImages/4878988/0/5...   \n",
              "913        202  https://pix6.agoda.net/hotelImages/4497373/0/a...   \n",
              "\n",
              "                                               reviews  \\\n",
              "29                                                  []   \n",
              "40                                                  []   \n",
              "51   ['Tôi ở căn 1 phòng ngủ 50m /tối đa 4 người lớ...   \n",
              "62                                                  []   \n",
              "73                                                  []   \n",
              "107  ['Có điểm trừ là phòng hơi nhỏ và ngoài ban cô...   \n",
              "211                                                 []   \n",
              "214                                                 []   \n",
              "215                                                 []   \n",
              "218                                                 []   \n",
              "219                                                 []   \n",
              "220                                                 []   \n",
              "294                                                 []   \n",
              "322                                                 []   \n",
              "815                                                 []   \n",
              "820                                                 []   \n",
              "913                                                 []   \n",
              "\n",
              "                                            facilities  \\\n",
              "29   ['Nằm ở trung tâm Nha Trang', 'Dọn phòng hằng ...   \n",
              "40   ['Điều hòa', 'Đưa đón sân bay', 'Wi-Fi miễn ph...   \n",
              "51   ['Nằm ở trung tâm Nha Trang', 'Đưa đón sân bay...   \n",
              "62   ['Đưa đón sân bay', 'Wi-Fi miễn phí trong tất ...   \n",
              "73   ['Điều hòa', 'Đưa đón sân bay', 'Cách bãi biển...   \n",
              "107  ['Nằm ở trung tâm Nha Trang', 'Dọn phòng hằng ...   \n",
              "211  ['Đưa đón sân bay', 'Wi-Fi miễn phí trong tất ...   \n",
              "214  ['Dọn phòng hằng ngày', 'Điều hòa', 'Đưa đón s...   \n",
              "215  ['Quán bar', 'Điều hòa', 'Đưa đón sân bay', 'R...   \n",
              "218  ['Đưa đón sân bay', 'Wi-Fi miễn phí trong tất ...   \n",
              "219  ['Đưa đón sân bay', 'Wi-Fi miễn phí trong tất ...   \n",
              "220  ['Đưa đón sân bay', 'Cách bãi biển 880 m', 'Wi...   \n",
              "294  ['Đưa đón sân bay', 'Dọn phòng hằng ngày', 'Wi...   \n",
              "322  ['Đưa đón sân bay', 'Dọn phòng hằng ngày', 'Wi...   \n",
              "815  ['Nằm ở trung tâm Đà Nẵng', 'Đưa đón sân bay',...   \n",
              "820  ['Thang máy', 'Khu vực hút thuốc', 'Wi-Fi miễn...   \n",
              "913  ['Nằm ở trung tâm Đà Nẵng', 'Bãi để xe', 'Than...   \n",
              "\n",
              "                                         nearby places  \n",
              "29   ['Bảo tàng Hải dương học quốc gia Việt Nam - 3...  \n",
              "40   ['Hon Chong - 3,36 km', 'i resort - 3,79 km', ...  \n",
              "51   ['Bảo tàng Hải dương học quốc gia Việt Nam - 3...  \n",
              "62   ['Hon Chong - 3,01 km', 'i resort - 3,5 km', '...  \n",
              "73   ['Hon Chong - 3,95 km', 'i resort - 4,1 km', '...  \n",
              "107  ['Bảo tàng Hải dương học quốc gia Việt Nam - 3...  \n",
              "211  ['Đảo Soi Sim - 11,64 km', 'Hang Luồn - 12,93 ...  \n",
              "214  ['Đảo Soi Sim - 12,55 km', 'Hang Luồn - 20,65 ...  \n",
              "215  ['Đảo Soi Sim - 9,53 km', 'Hang Luồn - 21,65 k...  \n",
              "218  ['Đảo Soi Sim - 11,68 km', 'Hang Luồn - 20,4 k...  \n",
              "219  ['Đảo Soi Sim - 11,62 km', 'Hang Luồn - 12,97 ...  \n",
              "220  ['Đảo Soi Sim - 12,19 km', 'Hang Luồn - 20,74 ...  \n",
              "294  ['A O Show - Lune Production - 4,93 km', 'Saig...  \n",
              "322  ['A O Show - Lune Production - 4,97 km', 'Saig...  \n",
              "815  ['Bảo tàng Điêu khắc Chăm - 2,47 km', 'AU Mini...  \n",
              "820  ['Bảo tàng Điêu khắc Chăm - 2,55 km', 'My Khe ...  \n",
              "913  ['Bảo tàng Điêu khắc Chăm - 2,64 km', 'Beach H...  "
            ],
            "text/html": [
              "\n",
              "  <div id=\"df-e1f429af-44bc-49f8-b68b-9573c38713dd\">\n",
              "    <div class=\"colab-df-container\">\n",
              "      <div>\n",
              "<style scoped>\n",
              "    .dataframe tbody tr th:only-of-type {\n",
              "        vertical-align: middle;\n",
              "    }\n",
              "\n",
              "    .dataframe tbody tr th {\n",
              "        vertical-align: top;\n",
              "    }\n",
              "\n",
              "    .dataframe thead th {\n",
              "        text-align: right;\n",
              "    }\n",
              "</style>\n",
              "<table border=\"1\" class=\"dataframe\">\n",
              "  <thead>\n",
              "    <tr style=\"text-align: right;\">\n",
              "      <th></th>\n",
              "      <th>city</th>\n",
              "      <th>hotel name</th>\n",
              "      <th>url</th>\n",
              "      <th>address</th>\n",
              "      <th>stars</th>\n",
              "      <th>price</th>\n",
              "      <th>rating</th>\n",
              "      <th>n_reviews</th>\n",
              "      <th>image</th>\n",
              "      <th>reviews</th>\n",
              "      <th>facilities</th>\n",
              "      <th>nearby places</th>\n",
              "    </tr>\n",
              "  </thead>\n",
              "  <tbody>\n",
              "    <tr>\n",
              "      <th>29</th>\n",
              "      <td>Nha Trang</td>\n",
              "      <td>Khách Sạn &amp; Căn Hộ Maple (Maple Hotel &amp; Apartm...</td>\n",
              "      <td>https://www.agoda.com/vi-vn/maple-hotel-apartm...</td>\n",
              "      <td>16 Tôn Đản, Lộc Thọ, Nha Trang, Việt Nam</td>\n",
              "      <td>4.5</td>\n",
              "      <td>362216</td>\n",
              "      <td>8.6</td>\n",
              "      <td>1923</td>\n",
              "      <td>https://pix6.agoda.net/hotelImages/2537789/-1/...</td>\n",
              "      <td>[]</td>\n",
              "      <td>['Nằm ở trung tâm Nha Trang', 'Dọn phòng hằng ...</td>\n",
              "      <td>['Bảo tàng Hải dương học quốc gia Việt Nam - 3...</td>\n",
              "    </tr>\n",
              "    <tr>\n",
              "      <th>40</th>\n",
              "      <td>Nha Trang</td>\n",
              "      <td>Sea View Luxury Zoom Apartment</td>\n",
              "      <td>https://www.agoda.com/vi-vn/sea-view-luxury-zo...</td>\n",
              "      <td>Lộc Thọ, Nha Trang, Việt Nam</td>\n",
              "      <td>4.5</td>\n",
              "      <td>1246753</td>\n",
              "      <td>8.4</td>\n",
              "      <td>147</td>\n",
              "      <td>https://pix6.agoda.net/hotelImages/163/1638950...</td>\n",
              "      <td>[]</td>\n",
              "      <td>['Điều hòa', 'Đưa đón sân bay', 'Wi-Fi miễn ph...</td>\n",
              "      <td>['Hon Chong - 3,36 km', 'i resort - 3,79 km', ...</td>\n",
              "    </tr>\n",
              "    <tr>\n",
              "      <th>51</th>\n",
              "      <td>Nha Trang</td>\n",
              "      <td>Sunrise Ocean View Apartment</td>\n",
              "      <td>https://www.agoda.com/vi-vn/sunrise-ocean-view...</td>\n",
              "      <td>Lộc Thọ, Nha Trang, Việt Nam</td>\n",
              "      <td>4.5</td>\n",
              "      <td>337662</td>\n",
              "      <td>8.3</td>\n",
              "      <td>659</td>\n",
              "      <td>https://pix6.agoda.net/hotelImages/985079/-1/8...</td>\n",
              "      <td>['Tôi ở căn 1 phòng ngủ 50m /tối đa 4 người lớ...</td>\n",
              "      <td>['Nằm ở trung tâm Nha Trang', 'Đưa đón sân bay...</td>\n",
              "      <td>['Bảo tàng Hải dương học quốc gia Việt Nam - 3...</td>\n",
              "    </tr>\n",
              "    <tr>\n",
              "      <th>62</th>\n",
              "      <td>Nha Trang</td>\n",
              "      <td>Diamond Bay Residence</td>\n",
              "      <td>https://www.agoda.com/vi-vn/diamond-bay-reside...</td>\n",
              "      <td>Lộc Thọ, Nha Trang, Việt Nam</td>\n",
              "      <td>4.5</td>\n",
              "      <td>788961</td>\n",
              "      <td>8.1</td>\n",
              "      <td>274</td>\n",
              "      <td>https://pix6.agoda.net/hotelImages/568/568160/...</td>\n",
              "      <td>[]</td>\n",
              "      <td>['Đưa đón sân bay', 'Wi-Fi miễn phí trong tất ...</td>\n",
              "      <td>['Hon Chong - 3,01 km', 'i resort - 3,5 km', '...</td>\n",
              "    </tr>\n",
              "    <tr>\n",
              "      <th>73</th>\n",
              "      <td>Nha Trang</td>\n",
              "      <td>Căn hộ Galaxy (Galaxy Apartment)</td>\n",
              "      <td>https://www.agoda.com/vi-vn/galaxy-apartment/h...</td>\n",
              "      <td>Lộc Thọ, Nha Trang, Việt Nam</td>\n",
              "      <td>4.0</td>\n",
              "      <td>182638</td>\n",
              "      <td>7.9</td>\n",
              "      <td>581</td>\n",
              "      <td>https://pix6.agoda.net/hotelImages/625/625297/...</td>\n",
              "      <td>[]</td>\n",
              "      <td>['Điều hòa', 'Đưa đón sân bay', 'Cách bãi biển...</td>\n",
              "      <td>['Hon Chong - 3,95 km', 'i resort - 4,1 km', '...</td>\n",
              "    </tr>\n",
              "    <tr>\n",
              "      <th>107</th>\n",
              "      <td>Nha Trang</td>\n",
              "      <td>Khách sạn Pavillon Garden Nha Trang (Pavillon ...</td>\n",
              "      <td>https://www.agoda.com/vi-vn/pavillon-garden-ho...</td>\n",
              "      <td>16 Tôn Đản, Lộc Thọ, Nha Trang, Việt Nam</td>\n",
              "      <td>3.0</td>\n",
              "      <td>1594371</td>\n",
              "      <td>7.8</td>\n",
              "      <td>760</td>\n",
              "      <td>https://pix5.agoda.net/hotelImages/699/699308/...</td>\n",
              "      <td>['Có điểm trừ là phòng hơi nhỏ và ngoài ban cô...</td>\n",
              "      <td>['Nằm ở trung tâm Nha Trang', 'Dọn phòng hằng ...</td>\n",
              "      <td>['Bảo tàng Hải dương học quốc gia Việt Nam - 3...</td>\n",
              "    </tr>\n",
              "    <tr>\n",
              "      <th>211</th>\n",
              "      <td>Ha Long</td>\n",
              "      <td>Du Thuyền Paloma Cruise Hạ Long (Halong Paloma...</td>\n",
              "      <td>https://www.agoda.com/vi-vn/halong-paloma-crui...</td>\n",
              "      <td>Cảng Hòn Gai, Ha Long, Việt Nam</td>\n",
              "      <td>4.0</td>\n",
              "      <td>6493506</td>\n",
              "      <td>8.9</td>\n",
              "      <td>745</td>\n",
              "      <td>https://pix6.agoda.net/hotelImages/247936/-1/5...</td>\n",
              "      <td>[]</td>\n",
              "      <td>['Đưa đón sân bay', 'Wi-Fi miễn phí trong tất ...</td>\n",
              "      <td>['Đảo Soi Sim - 11,64 km', 'Hang Luồn - 12,93 ...</td>\n",
              "    </tr>\n",
              "    <tr>\n",
              "      <th>214</th>\n",
              "      <td>Ha Long</td>\n",
              "      <td>Paradise Elegance Cruise Halong</td>\n",
              "      <td>https://www.agoda.com/vi-vn/paradise-elegance-...</td>\n",
              "      <td>Đảo Tuần Châu, Ha Long, Việt Nam</td>\n",
              "      <td>5.0</td>\n",
              "      <td>5863636</td>\n",
              "      <td>8.9</td>\n",
              "      <td>210</td>\n",
              "      <td>https://pix5.agoda.net/hotelImages/116/1160092...</td>\n",
              "      <td>[]</td>\n",
              "      <td>['Dọn phòng hằng ngày', 'Điều hòa', 'Đưa đón s...</td>\n",
              "      <td>['Đảo Soi Sim - 12,55 km', 'Hang Luồn - 20,65 ...</td>\n",
              "    </tr>\n",
              "    <tr>\n",
              "      <th>215</th>\n",
              "      <td>Ha Long</td>\n",
              "      <td>Halong Legacy Cruise</td>\n",
              "      <td>https://www.agoda.com/vi-vn/halong-legacy-crui...</td>\n",
              "      <td>Đảo Tuần Châu, Ha Long, Việt Nam</td>\n",
              "      <td>3.0</td>\n",
              "      <td>7913043</td>\n",
              "      <td>8.3</td>\n",
              "      <td>480</td>\n",
              "      <td>https://pix5.agoda.net/hotelImages/523292/-1/0...</td>\n",
              "      <td>[]</td>\n",
              "      <td>['Quán bar', 'Điều hòa', 'Đưa đón sân bay', 'R...</td>\n",
              "      <td>['Đảo Soi Sim - 9,53 km', 'Hang Luồn - 21,65 k...</td>\n",
              "    </tr>\n",
              "    <tr>\n",
              "      <th>218</th>\n",
              "      <td>Ha Long</td>\n",
              "      <td>Alisa Premier Cruise</td>\n",
              "      <td>https://www.agoda.com/vi-vn/alisa-premier-crui...</td>\n",
              "      <td>Đảo Tuần Châu, Ha Long, Việt Nam</td>\n",
              "      <td>5.0</td>\n",
              "      <td>5840869</td>\n",
              "      <td>9.2</td>\n",
              "      <td>743</td>\n",
              "      <td>https://pix6.agoda.net/hotelImages/2537815/-1/...</td>\n",
              "      <td>[]</td>\n",
              "      <td>['Đưa đón sân bay', 'Wi-Fi miễn phí trong tất ...</td>\n",
              "      <td>['Đảo Soi Sim - 11,68 km', 'Hang Luồn - 20,4 k...</td>\n",
              "    </tr>\n",
              "    <tr>\n",
              "      <th>219</th>\n",
              "      <td>Ha Long</td>\n",
              "      <td>Tàu Hương Hải Sealife (Huong Hai Sealife Cruise)</td>\n",
              "      <td>https://www.agoda.com/vi-vn/huong-hai-sealife-...</td>\n",
              "      <td>Cảng Hòn Gai, Ha Long, Việt Nam</td>\n",
              "      <td>4.0</td>\n",
              "      <td>13160978</td>\n",
              "      <td>9.5</td>\n",
              "      <td>228</td>\n",
              "      <td>https://pix5.agoda.net/hotelImages/503/503046/...</td>\n",
              "      <td>[]</td>\n",
              "      <td>['Đưa đón sân bay', 'Wi-Fi miễn phí trong tất ...</td>\n",
              "      <td>['Đảo Soi Sim - 11,62 km', 'Hang Luồn - 12,97 ...</td>\n",
              "    </tr>\n",
              "    <tr>\n",
              "      <th>220</th>\n",
              "      <td>Ha Long</td>\n",
              "      <td>Du thuyền Bhaya Hạ Long (Bhaya Halong Cruise)</td>\n",
              "      <td>https://www.agoda.com/vi-vn/bhaya-halong-cruis...</td>\n",
              "      <td>Đảo Tuần Châu, Ha Long, Việt Nam</td>\n",
              "      <td>4.0</td>\n",
              "      <td>6479955</td>\n",
              "      <td>8.9</td>\n",
              "      <td>279</td>\n",
              "      <td>https://pix6.agoda.net/hotelImages/246334/-1/2...</td>\n",
              "      <td>[]</td>\n",
              "      <td>['Đưa đón sân bay', 'Cách bãi biển 880 m', 'Wi...</td>\n",
              "      <td>['Đảo Soi Sim - 12,19 km', 'Hang Luồn - 20,74 ...</td>\n",
              "    </tr>\n",
              "    <tr>\n",
              "      <th>294</th>\n",
              "      <td>Hồ Chí Minh</td>\n",
              "      <td>Căn hộ Jack 85 (Jack Apartment 85)</td>\n",
              "      <td>https://www.agoda.com/vi-vn/jack-apartment-85_...</td>\n",
              "      <td>Quận 7, Hồ Chí Minh, Việt Nam</td>\n",
              "      <td>4.5</td>\n",
              "      <td>519483</td>\n",
              "      <td>8.7</td>\n",
              "      <td>292</td>\n",
              "      <td>https://pix5.agoda.net/hotelImages/217/2170880...</td>\n",
              "      <td>[]</td>\n",
              "      <td>['Đưa đón sân bay', 'Dọn phòng hằng ngày', 'Wi...</td>\n",
              "      <td>['A O Show - Lune Production - 4,93 km', 'Saig...</td>\n",
              "    </tr>\n",
              "    <tr>\n",
              "      <th>322</th>\n",
              "      <td>Hồ Chí Minh</td>\n",
              "      <td>Jack Apartment</td>\n",
              "      <td>https://www.agoda.com/vi-vn/jack-apartment_2/h...</td>\n",
              "      <td>Quận 7, Hồ Chí Minh, Việt Nam</td>\n",
              "      <td>4.5</td>\n",
              "      <td>649361</td>\n",
              "      <td>8.6</td>\n",
              "      <td>229</td>\n",
              "      <td>https://pix6.agoda.net/hotelImages/2169196/-1/...</td>\n",
              "      <td>[]</td>\n",
              "      <td>['Đưa đón sân bay', 'Dọn phòng hằng ngày', 'Wi...</td>\n",
              "      <td>['A O Show - Lune Production - 4,97 km', 'Saig...</td>\n",
              "    </tr>\n",
              "    <tr>\n",
              "      <th>815</th>\n",
              "      <td>Đà Nẵng</td>\n",
              "      <td>Biệt thự Fanta Suite (Fanta Suite Villa)</td>\n",
              "      <td>https://www.agoda.com/vi-vn/fanta-suite-villa/...</td>\n",
              "      <td>Phước Mỹ, Đà Nẵng, Việt Nam</td>\n",
              "      <td>4.0</td>\n",
              "      <td>772727</td>\n",
              "      <td>8.2</td>\n",
              "      <td>248</td>\n",
              "      <td>https://pix6.agoda.net/hotelImages/485/4858029...</td>\n",
              "      <td>[]</td>\n",
              "      <td>['Nằm ở trung tâm Đà Nẵng', 'Đưa đón sân bay',...</td>\n",
              "      <td>['Bảo tàng Điêu khắc Chăm - 2,47 km', 'AU Mini...</td>\n",
              "    </tr>\n",
              "    <tr>\n",
              "      <th>820</th>\n",
              "      <td>Đà Nẵng</td>\n",
              "      <td>Chung cư 70 m² 2 phòng ngủ, 2 phòng tắm riêng ...</td>\n",
              "      <td>https://www.agoda.com/vi-vn/wow-home-with-ocea...</td>\n",
              "      <td>Phước Mỹ, Đà Nẵng, Việt Nam</td>\n",
              "      <td>5.0</td>\n",
              "      <td>1000481</td>\n",
              "      <td>9.2</td>\n",
              "      <td>107</td>\n",
              "      <td>https://pix6.agoda.net/hotelImages/4878988/0/5...</td>\n",
              "      <td>[]</td>\n",
              "      <td>['Thang máy', 'Khu vực hút thuốc', 'Wi-Fi miễn...</td>\n",
              "      <td>['Bảo tàng Điêu khắc Chăm - 2,55 km', 'My Khe ...</td>\n",
              "    </tr>\n",
              "    <tr>\n",
              "      <th>913</th>\n",
              "      <td>Đà Nẵng</td>\n",
              "      <td>Chung cư 60 m² 2 phòng ngủ, 1 phòng tắm riêng ...</td>\n",
              "      <td>https://www.agoda.com/vi-vn/daisy-apartment-29...</td>\n",
              "      <td>Phước Mỹ, Đà Nẵng, Việt Nam</td>\n",
              "      <td>5.0</td>\n",
              "      <td>692641</td>\n",
              "      <td>8.6</td>\n",
              "      <td>202</td>\n",
              "      <td>https://pix6.agoda.net/hotelImages/4497373/0/a...</td>\n",
              "      <td>[]</td>\n",
              "      <td>['Nằm ở trung tâm Đà Nẵng', 'Bãi để xe', 'Than...</td>\n",
              "      <td>['Bảo tàng Điêu khắc Chăm - 2,64 km', 'Beach H...</td>\n",
              "    </tr>\n",
              "  </tbody>\n",
              "</table>\n",
              "</div>\n",
              "      <button class=\"colab-df-convert\" onclick=\"convertToInteractive('df-e1f429af-44bc-49f8-b68b-9573c38713dd')\"\n",
              "              title=\"Convert this dataframe to an interactive table.\"\n",
              "              style=\"display:none;\">\n",
              "        \n",
              "  <svg xmlns=\"http://www.w3.org/2000/svg\" height=\"24px\"viewBox=\"0 0 24 24\"\n",
              "       width=\"24px\">\n",
              "    <path d=\"M0 0h24v24H0V0z\" fill=\"none\"/>\n",
              "    <path d=\"M18.56 5.44l.94 2.06.94-2.06 2.06-.94-2.06-.94-.94-2.06-.94 2.06-2.06.94zm-11 1L8.5 8.5l.94-2.06 2.06-.94-2.06-.94L8.5 2.5l-.94 2.06-2.06.94zm10 10l.94 2.06.94-2.06 2.06-.94-2.06-.94-.94-2.06-.94 2.06-2.06.94z\"/><path d=\"M17.41 7.96l-1.37-1.37c-.4-.4-.92-.59-1.43-.59-.52 0-1.04.2-1.43.59L10.3 9.45l-7.72 7.72c-.78.78-.78 2.05 0 2.83L4 21.41c.39.39.9.59 1.41.59.51 0 1.02-.2 1.41-.59l7.78-7.78 2.81-2.81c.8-.78.8-2.07 0-2.86zM5.41 20L4 18.59l7.72-7.72 1.47 1.35L5.41 20z\"/>\n",
              "  </svg>\n",
              "      </button>\n",
              "      \n",
              "  <style>\n",
              "    .colab-df-container {\n",
              "      display:flex;\n",
              "      flex-wrap:wrap;\n",
              "      gap: 12px;\n",
              "    }\n",
              "\n",
              "    .colab-df-convert {\n",
              "      background-color: #E8F0FE;\n",
              "      border: none;\n",
              "      border-radius: 50%;\n",
              "      cursor: pointer;\n",
              "      display: none;\n",
              "      fill: #1967D2;\n",
              "      height: 32px;\n",
              "      padding: 0 0 0 0;\n",
              "      width: 32px;\n",
              "    }\n",
              "\n",
              "    .colab-df-convert:hover {\n",
              "      background-color: #E2EBFA;\n",
              "      box-shadow: 0px 1px 2px rgba(60, 64, 67, 0.3), 0px 1px 3px 1px rgba(60, 64, 67, 0.15);\n",
              "      fill: #174EA6;\n",
              "    }\n",
              "\n",
              "    [theme=dark] .colab-df-convert {\n",
              "      background-color: #3B4455;\n",
              "      fill: #D2E3FC;\n",
              "    }\n",
              "\n",
              "    [theme=dark] .colab-df-convert:hover {\n",
              "      background-color: #434B5C;\n",
              "      box-shadow: 0px 1px 3px 1px rgba(0, 0, 0, 0.15);\n",
              "      filter: drop-shadow(0px 1px 2px rgba(0, 0, 0, 0.3));\n",
              "      fill: #FFFFFF;\n",
              "    }\n",
              "  </style>\n",
              "\n",
              "      <script>\n",
              "        const buttonEl =\n",
              "          document.querySelector('#df-e1f429af-44bc-49f8-b68b-9573c38713dd button.colab-df-convert');\n",
              "        buttonEl.style.display =\n",
              "          google.colab.kernel.accessAllowed ? 'block' : 'none';\n",
              "\n",
              "        async function convertToInteractive(key) {\n",
              "          const element = document.querySelector('#df-e1f429af-44bc-49f8-b68b-9573c38713dd');\n",
              "          const dataTable =\n",
              "            await google.colab.kernel.invokeFunction('convertToInteractive',\n",
              "                                                     [key], {});\n",
              "          if (!dataTable) return;\n",
              "\n",
              "          const docLinkHtml = 'Like what you see? Visit the ' +\n",
              "            '<a target=\"_blank\" href=https://colab.research.google.com/notebooks/data_table.ipynb>data table notebook</a>'\n",
              "            + ' to learn more about interactive tables.';\n",
              "          element.innerHTML = '';\n",
              "          dataTable['output_type'] = 'display_data';\n",
              "          await google.colab.output.renderOutput(dataTable, element);\n",
              "          const docLink = document.createElement('div');\n",
              "          docLink.innerHTML = docLinkHtml;\n",
              "          element.appendChild(docLink);\n",
              "        }\n",
              "      </script>\n",
              "    </div>\n",
              "  </div>\n",
              "  "
            ]
          },
          "metadata": {},
          "execution_count": 93
        }
      ]
    },
    {
      "cell_type": "code",
      "source": [
        "agoda_df = agoda_df.drop([322])"
      ],
      "metadata": {
        "id": "p7iiIt_A0-Vv"
      },
      "execution_count": 94,
      "outputs": []
    },
    {
      "cell_type": "code",
      "source": [
        "agoda_df = agoda_df.reset_index(drop=True)"
      ],
      "metadata": {
        "id": "-qYqxZY90_T_"
      },
      "execution_count": 95,
      "outputs": []
    },
    {
      "cell_type": "markdown",
      "source": [
        "**Booking**"
      ],
      "metadata": {
        "id": "IxrFg1fw1jlE"
      }
    },
    {
      "cell_type": "code",
      "source": [
        "#Kiểm tra những Khách sạn trùng tên\n",
        "dups_name = booking_df.pivot_table(columns=[\"Hotel name\"], aggfunc='size')\n",
        "#Có 101 KS trùng tên\n",
        "dups_name.where(dups_name > 1).sum()"
      ],
      "metadata": {
        "colab": {
          "base_uri": "https://localhost:8080/"
        },
        "id": "Kprqd_6v1lB6",
        "outputId": "83534b30-a957-40fe-b544-01b8507ecc57"
      },
      "execution_count": 96,
      "outputs": [
        {
          "output_type": "execute_result",
          "data": {
            "text/plain": [
              "101.0"
            ]
          },
          "metadata": {},
          "execution_count": 96
        }
      ]
    },
    {
      "cell_type": "code",
      "source": [
        "#Kiểm tra KS trùng địa chỉ và tên\n",
        "dups_name_1 = booking_df.pivot_table(columns=[\"Hotel name\", \"Address\"], aggfunc='size')\n",
        "#Có 45 KS trùng địa chỉ và tên\n",
        "dups_name_1.where(dups_name_1 > 1).sum()"
      ],
      "metadata": {
        "colab": {
          "base_uri": "https://localhost:8080/"
        },
        "id": "eDM2T2aK1qnp",
        "outputId": "a560b082-3c2f-4a24-92ec-4812962f24fa"
      },
      "execution_count": 97,
      "outputs": [
        {
          "output_type": "execute_result",
          "data": {
            "text/plain": [
              "45.0"
            ]
          },
          "metadata": {},
          "execution_count": 97
        }
      ]
    },
    {
      "cell_type": "code",
      "source": [
        "#Kiểm tra KS trùng địa chỉ, tên và giá\n",
        "dups_name_p = booking_df.pivot_table(columns=[\"Hotel name\", \"Address\", \"Price\"], aggfunc='size')\n",
        "#Có 32 KS trùng địa chỉ, tên và giá\n",
        "dups_name_p.where(dups_name_p > 1).sum()"
      ],
      "metadata": {
        "colab": {
          "base_uri": "https://localhost:8080/"
        },
        "id": "hzEAQlqh1tGu",
        "outputId": "34d5cf21-008a-4492-b289-c1559ae8fdca"
      },
      "execution_count": 98,
      "outputs": [
        {
          "output_type": "execute_result",
          "data": {
            "text/plain": [
              "32.0"
            ]
          },
          "metadata": {},
          "execution_count": 98
        }
      ]
    },
    {
      "cell_type": "code",
      "source": [
        "#Lọc bỏ dữ liệu trùng lặp theo tên, địa chỉ và giá\n",
        "booking_df = booking_df.drop_duplicates(subset=[\"Hotel name\", \"Address\", \"Price\"])"
      ],
      "metadata": {
        "id": "8v2QTmuv1ynB"
      },
      "execution_count": 99,
      "outputs": []
    },
    {
      "cell_type": "code",
      "source": [
        "#Check\n",
        "dups_name_2 = booking_df.pivot_table(columns=[\"Hotel name\", \"Address\"], aggfunc='size')\n",
        "#Như vậy, sau khi loại bước đầu, còn 13 KS trùng tên và địa chỉ\n",
        "dups_name_2.where(dups_name_2 > 1).sum()"
      ],
      "metadata": {
        "colab": {
          "base_uri": "https://localhost:8080/"
        },
        "id": "M4zFGsO811ga",
        "outputId": "e41a22bd-67fe-4d3f-8c45-390fbcea1ac7"
      },
      "execution_count": 100,
      "outputs": [
        {
          "output_type": "execute_result",
          "data": {
            "text/plain": [
              "13.0"
            ]
          },
          "metadata": {},
          "execution_count": 100
        }
      ]
    },
    {
      "cell_type": "code",
      "source": [
        "dups_name_2.loc[dups_name_2 > 1]"
      ],
      "metadata": {
        "colab": {
          "base_uri": "https://localhost:8080/"
        },
        "id": "5QOnfLJV161W",
        "outputId": "62760816-2fad-40d0-c27c-ae12f966a6e3"
      },
      "execution_count": 101,
      "outputs": [
        {
          "output_type": "execute_result",
          "data": {
            "text/plain": [
              "Hotel name                                                             Address                                                        \n",
              "Căn hộ Melody Vũng Tàu                                                 149 Võ Thị Sáu, Vũng Tàu, Việt Nam                              2\n",
              "Căn hộ Mới trên Booking.com Căn Hộ 2 Phòng Ngủ Mường Thanh Viễn Triều  3 Phạm Văn Đồng, Nha Trang, Việt Nam                              2\n",
              "Căn hộ Mới trên Booking.com Happy stay home                            281/27/1 Lê Văn Sỹ, Quận Tân Bình, TP. Hồ Chí Minh, Việt Nam    3\n",
              "Căn hộ Mới trên Booking.com LASON Nha Trang Hotel & Apartment          Hoàng Tăng Bí, Nha Trang, Việt Nam                                2\n",
              "Khách sạn HANZ Bao Hoang Hotel Dalat                                   48 Đường Hà Huy Tập, Đà Lạt, Việt Nam                             2\n",
              "Khách sạn Hương Trà Hotel apartment                                    128 Hồ Nghinh, Đà Nẵng, Việt Nam                                  2\n",
              "dtype: int64"
            ]
          },
          "metadata": {},
          "execution_count": 101
        }
      ]
    },
    {
      "cell_type": "code",
      "source": [
        "ls_name = [\"Căn hộ Melody Vũng Tàu\",\n",
        "           \"Căn hộ Mới trên Booking.com Căn Hộ 2 Phòng Ngủ Mường Thanh Viễn Triều\",\n",
        "           \"Căn hộ Mới trên Booking.com Happy stay home\",\n",
        "           \"Căn hộ Mới trên Booking.com LASON Nha Trang Hotel & Apartment\",\n",
        "           \"Khách sạn HANZ Bao Hoang Hotel Dalat\",\n",
        "           \"Khách sạn Hương Trà Hotel apartment\"]"
      ],
      "metadata": {
        "id": "sguVgR0U1-FE"
      },
      "execution_count": 102,
      "outputs": []
    },
    {
      "cell_type": "code",
      "source": [
        "#Do những KS này có thể là do cùng chi nhánh ở tỉnh nào --> Ta bỏ KS có giá cao hơn (1792, 1898, 2180, 2688, 3697, 3764, 4663)\n",
        "booking_df.loc[booking_df[\"Hotel name\"].isin(ls_name)]"
      ],
      "metadata": {
        "colab": {
          "base_uri": "https://localhost:8080/",
          "height": 1000
        },
        "id": "LLbLaXTd2D2L",
        "outputId": "04941923-cc11-41e8-9bfe-f3a13889af7c"
      },
      "execution_count": 103,
      "outputs": [
        {
          "output_type": "execute_result",
          "data": {
            "text/plain": [
              "                   City                                         Hotel name  \\\n",
              "1792  TP. Hồ Chí Minh        Căn hộ Mới trên Booking.com Happy stay home   \n",
              "1892  TP. Hồ Chí Minh        Căn hộ Mới trên Booking.com Happy stay home   \n",
              "1898  TP. Hồ Chí Minh        Căn hộ Mới trên Booking.com Happy stay home   \n",
              "2061             Đà Lạt               Khách sạn HANZ Bao Hoang Hotel Dalat   \n",
              "2180             Đà Lạt               Khách sạn HANZ Bao Hoang Hotel Dalat   \n",
              "2688            Đà Nẵng                Khách sạn Hương Trà Hotel apartment   \n",
              "3193            Đà Nẵng                Khách sạn Hương Trà Hotel apartment   \n",
              "3406          Nha Trang  Căn hộ Mới trên Booking.com Căn Hộ 2 Phòng Ngủ...   \n",
              "3697          Nha Trang  Căn hộ Mới trên Booking.com LASON Nha Trang Ho...   \n",
              "3754          Nha Trang  Căn hộ Mới trên Booking.com LASON Nha Trang Ho...   \n",
              "3764          Nha Trang  Căn hộ Mới trên Booking.com Căn Hộ 2 Phòng Ngủ...   \n",
              "4514         Vũng Tàu                             Căn hộ Melody Vũng Tàu   \n",
              "4662         Vũng Tàu                             Căn hộ Melody Vũng Tàu   \n",
              "\n",
              "                                                    Url  \\\n",
              "1792  https://www.booking.com/hotel/vn/happy-stay-ho...   \n",
              "1892  https://www.booking.com/hotel/vn/happy-stay-ho...   \n",
              "1898  https://www.booking.com/hotel/vn/happy-stay-ho...   \n",
              "2061  https://www.booking.com/hotel/vn/hanz-bao-hong...   \n",
              "2180  https://www.booking.com/hotel/vn/bao-dang.vi.h...   \n",
              "2688  https://www.booking.com/hotel/vn/huong-tra-apa...   \n",
              "3193  https://www.booking.com/hotel/vn/huong-tra-apa...   \n",
              "3406  https://www.booking.com/hotel/vn/can-ho-2-phon...   \n",
              "3697  https://www.booking.com/hotel/vn/lason-nha-tra...   \n",
              "3754  https://www.booking.com/hotel/vn/lason-nha-tra...   \n",
              "3764  https://www.booking.com/hotel/vn/can-ho-2-phon...   \n",
              "4514  https://www.booking.com/hotel/vn/melody-vung-t...   \n",
              "4662  https://www.booking.com/hotel/vn/melody-vung-t...   \n",
              "\n",
              "                                                Address  Stars    Price  \\\n",
              "1792  281/27/1 Lê Văn Sỹ, Quận Tân Bình, TP. Hồ Chi...      0   201600   \n",
              "1892  281/27/1 Lê Văn Sỹ, Quận Tân Bình, TP. Hồ Chi...      0   192000   \n",
              "1898  281/27/1 Lê Văn Sỹ, Quận Tân Bình, TP. Hồ Chi...      0   250000   \n",
              "2061             48 Đường Hà Huy Tập, Đà Lạt, Việt Nam      0   271188   \n",
              "2180             48 Đường Hà Huy Tập, Đà Lạt, Việt Nam      0   371700   \n",
              "2688                  128 Hồ Nghinh, Đà Nẵng, Việt Nam      1   300000   \n",
              "3193                  128 Hồ Nghinh, Đà Nẵng, Việt Nam      2   270000   \n",
              "3406              3 Phạm Văn Đồng, Nha Trang, Việt Nam      0   700000   \n",
              "3697                Hoàng Tăng Bí, Nha Trang, Việt Nam      0   360000   \n",
              "3754                Hoàng Tăng Bí, Nha Trang, Việt Nam      0   300000   \n",
              "3764              3 Phạm Văn Đồng, Nha Trang, Việt Nam      0   750000   \n",
              "4514              149 Võ Thị Sáu, Vũng Tàu, Việt Nam      0  2700000   \n",
              "4662              149 Võ Thị Sáu, Vũng Tàu, Việt Nam      0  3116000   \n",
              "\n",
              "      Rating  Number of reviews  \\\n",
              "1792     0.0                  0   \n",
              "1892     0.0                  0   \n",
              "1898     0.0                  0   \n",
              "2061     8.0                  2   \n",
              "2180     8.3                 43   \n",
              "2688     9.0                  1   \n",
              "3193     7.0                  1   \n",
              "3406     0.0                  0   \n",
              "3697     0.0                  0   \n",
              "3754     0.0                  0   \n",
              "3764     0.0                  0   \n",
              "4514    10.0                  2   \n",
              "4662     0.0                  0   \n",
              "\n",
              "                                                Reviews  \\\n",
              "1792                                                 []   \n",
              "1892                                                 []   \n",
              "1898                                                 []   \n",
              "2061                                                 []   \n",
              "2180  ['“Phòng ốc rộng rãi, thoáng! Nhân viên Thân t...   \n",
              "2688                                                 []   \n",
              "3193                                                 []   \n",
              "3406                                                 []   \n",
              "3697                                                 []   \n",
              "3754                                                 []   \n",
              "3764                                                 []   \n",
              "4514                                                 []   \n",
              "4662                                                 []   \n",
              "\n",
              "                                             Facilities  \\\n",
              "1792  ['Cho phép mang theo vật nuôi', 'Điều hòa nh...   \n",
              "1892  ['Chỗ đỗ xe miễn phí', 'Cho phép mang the...   \n",
              "1898               ['Chỗ đỗ xe', 'Điều hòa nhiệt độ']   \n",
              "2061  ['Wi-Fi miễn phí', 'Chỗ đỗ xe', 'Cho phép...   \n",
              "2180  ['Xe đưa đón sân bay', 'Phòng không hút thu...   \n",
              "2688  ['Wi-Fi miễn phí', 'Giáp biển', 'Dịch vụ p...   \n",
              "3193  ['Xe đưa đón sân bay', 'Giáp biển', 'Phòng g...   \n",
              "3406  ['Xe đưa đón sân bay', 'Giáp biển', 'Trung tâ...   \n",
              "3697  ['Phòng không hút thuốc', 'Giáp biển', 'Chô...   \n",
              "3754  ['Phòng không hút thuốc', 'Phòng gia đình...   \n",
              "3764                                    ['Chỗ đỗ xe']   \n",
              "4514                                    ['Chỗ đỗ xe']   \n",
              "4662   ['Chỗ đỗ xe', 'Cho phép mang theo vật nuôi']   \n",
              "\n",
              "                                            Description  \\\n",
              "1792  Happy stay home is situated in the Tan Binh di...   \n",
              "1892  Happy stay home is situated in the Tan Binh di...   \n",
              "1898  Situated in Ho Chi Minh City in the Ho Chi Min...   \n",
              "2061  Set in Da Lat and with Lam Vien Square reachab...   \n",
              "2180  \\r\\nBạn đủ điều kiện nhận giảm giá Genius tại ...   \n",
              "2688  Chỗ nghỉ này cách bãi biển 3 phút đi bộ. Set i...   \n",
              "3193  Chỗ nghỉ này cách bãi biển 9 phút đi bộ. Hương...   \n",
              "3406  Chỗ nghỉ này cách bãi biển 1 phút đi bộ. Căn H...   \n",
              "3697  Chỗ nghỉ này cách bãi biển 12 phút đi bộ. 1.3 ...   \n",
              "3754  Chỗ nghỉ này cách bãi biển 12 phút đi bộ. LASO...   \n",
              "3764  Chỗ nghỉ này cách bãi biển 1 phút đi bộ. Locat...   \n",
              "4514  Located 600 metres from Back Beach, 1.3 km fro...   \n",
              "4662  Boasting air-conditioned accommodation with a ...   \n",
              "\n",
              "                                          Nearby places  \\\n",
              "1792  [('Sân vận động Quân khu 7', '0,9 km'), ('Đại ...   \n",
              "1892  [('Sân vận động Quân khu 7', '0,9 km'), ('Đại ...   \n",
              "1898  [('Sân vận động Quân khu 7', '0,9 km'), ('Đại ...   \n",
              "2061  [('Cock Church', '0,4 km'), ('Lam Vien Square'...   \n",
              "2180  [('Cock Church', '0,4 km'), ('Lam Vien Square'...   \n",
              "2688  [('Làng chài Mân Thái', '1,6 km'), ('Cầu sông ...   \n",
              "3193  [('Làng chài Mân Thái', '1,6 km'), ('Cầu sông ...   \n",
              "3406  [('Hòn Chồng', '0,5 km'), ('Chùa Hòn Đỏ', '1,1...   \n",
              "3697  [('Hòn Chồng', '2 km'), ('Chùa Hòn Đỏ', '2,7 k...   \n",
              "3754  [('Hòn Chồng', '2 km'), ('Chùa Hòn Đỏ', '2,7 k...   \n",
              "3764  [('Hòn Chồng', '0,5 km'), ('Chùa Hòn Đỏ', '1,1...   \n",
              "4514  [('Vung Tau Lighthouse', '1 km'), ('Tượng Chúa...   \n",
              "4662  [('Vung Tau Lighthouse', '1 km'), ('Tượng Chúa...   \n",
              "\n",
              "                                                  Image  \n",
              "1792  ['https://cf.bstatic.com/xdata/images/hotel/ma...  \n",
              "1892  ['https://cf.bstatic.com/xdata/images/hotel/ma...  \n",
              "1898  ['https://cf.bstatic.com/xdata/images/hotel/ma...  \n",
              "2061  ['https://cf.bstatic.com/xdata/images/hotel/ma...  \n",
              "2180  ['https://cf.bstatic.com/xdata/images/hotel/ma...  \n",
              "2688  ['https://cf.bstatic.com/xdata/images/hotel/ma...  \n",
              "3193  ['https://cf.bstatic.com/xdata/images/hotel/ma...  \n",
              "3406  ['https://cf.bstatic.com/xdata/images/hotel/ma...  \n",
              "3697  ['https://cf.bstatic.com/xdata/images/hotel/ma...  \n",
              "3754  ['https://cf.bstatic.com/xdata/images/hotel/ma...  \n",
              "3764  ['https://cf.bstatic.com/xdata/images/hotel/ma...  \n",
              "4514  ['https://cf.bstatic.com/xdata/images/hotel/ma...  \n",
              "4662  ['https://cf.bstatic.com/xdata/images/hotel/ma...  "
            ],
            "text/html": [
              "\n",
              "  <div id=\"df-2ce5358b-eaaf-4e6f-a9f6-9b6751890ebc\">\n",
              "    <div class=\"colab-df-container\">\n",
              "      <div>\n",
              "<style scoped>\n",
              "    .dataframe tbody tr th:only-of-type {\n",
              "        vertical-align: middle;\n",
              "    }\n",
              "\n",
              "    .dataframe tbody tr th {\n",
              "        vertical-align: top;\n",
              "    }\n",
              "\n",
              "    .dataframe thead th {\n",
              "        text-align: right;\n",
              "    }\n",
              "</style>\n",
              "<table border=\"1\" class=\"dataframe\">\n",
              "  <thead>\n",
              "    <tr style=\"text-align: right;\">\n",
              "      <th></th>\n",
              "      <th>City</th>\n",
              "      <th>Hotel name</th>\n",
              "      <th>Url</th>\n",
              "      <th>Address</th>\n",
              "      <th>Stars</th>\n",
              "      <th>Price</th>\n",
              "      <th>Rating</th>\n",
              "      <th>Number of reviews</th>\n",
              "      <th>Reviews</th>\n",
              "      <th>Facilities</th>\n",
              "      <th>Description</th>\n",
              "      <th>Nearby places</th>\n",
              "      <th>Image</th>\n",
              "    </tr>\n",
              "  </thead>\n",
              "  <tbody>\n",
              "    <tr>\n",
              "      <th>1792</th>\n",
              "      <td>TP. Hồ Chí Minh</td>\n",
              "      <td>Căn hộ Mới trên Booking.com Happy stay home</td>\n",
              "      <td>https://www.booking.com/hotel/vn/happy-stay-ho...</td>\n",
              "      <td>281/27/1 Lê Văn Sỹ, Quận Tân Bình, TP. Hồ Chi...</td>\n",
              "      <td>0</td>\n",
              "      <td>201600</td>\n",
              "      <td>0.0</td>\n",
              "      <td>0</td>\n",
              "      <td>[]</td>\n",
              "      <td>['Cho phép mang theo vật nuôi', 'Điều hòa nh...</td>\n",
              "      <td>Happy stay home is situated in the Tan Binh di...</td>\n",
              "      <td>[('Sân vận động Quân khu 7', '0,9 km'), ('Đại ...</td>\n",
              "      <td>['https://cf.bstatic.com/xdata/images/hotel/ma...</td>\n",
              "    </tr>\n",
              "    <tr>\n",
              "      <th>1892</th>\n",
              "      <td>TP. Hồ Chí Minh</td>\n",
              "      <td>Căn hộ Mới trên Booking.com Happy stay home</td>\n",
              "      <td>https://www.booking.com/hotel/vn/happy-stay-ho...</td>\n",
              "      <td>281/27/1 Lê Văn Sỹ, Quận Tân Bình, TP. Hồ Chi...</td>\n",
              "      <td>0</td>\n",
              "      <td>192000</td>\n",
              "      <td>0.0</td>\n",
              "      <td>0</td>\n",
              "      <td>[]</td>\n",
              "      <td>['Chỗ đỗ xe miễn phí', 'Cho phép mang the...</td>\n",
              "      <td>Happy stay home is situated in the Tan Binh di...</td>\n",
              "      <td>[('Sân vận động Quân khu 7', '0,9 km'), ('Đại ...</td>\n",
              "      <td>['https://cf.bstatic.com/xdata/images/hotel/ma...</td>\n",
              "    </tr>\n",
              "    <tr>\n",
              "      <th>1898</th>\n",
              "      <td>TP. Hồ Chí Minh</td>\n",
              "      <td>Căn hộ Mới trên Booking.com Happy stay home</td>\n",
              "      <td>https://www.booking.com/hotel/vn/happy-stay-ho...</td>\n",
              "      <td>281/27/1 Lê Văn Sỹ, Quận Tân Bình, TP. Hồ Chi...</td>\n",
              "      <td>0</td>\n",
              "      <td>250000</td>\n",
              "      <td>0.0</td>\n",
              "      <td>0</td>\n",
              "      <td>[]</td>\n",
              "      <td>['Chỗ đỗ xe', 'Điều hòa nhiệt độ']</td>\n",
              "      <td>Situated in Ho Chi Minh City in the Ho Chi Min...</td>\n",
              "      <td>[('Sân vận động Quân khu 7', '0,9 km'), ('Đại ...</td>\n",
              "      <td>['https://cf.bstatic.com/xdata/images/hotel/ma...</td>\n",
              "    </tr>\n",
              "    <tr>\n",
              "      <th>2061</th>\n",
              "      <td>Đà Lạt</td>\n",
              "      <td>Khách sạn HANZ Bao Hoang Hotel Dalat</td>\n",
              "      <td>https://www.booking.com/hotel/vn/hanz-bao-hong...</td>\n",
              "      <td>48 Đường Hà Huy Tập, Đà Lạt, Việt Nam</td>\n",
              "      <td>0</td>\n",
              "      <td>271188</td>\n",
              "      <td>8.0</td>\n",
              "      <td>2</td>\n",
              "      <td>[]</td>\n",
              "      <td>['Wi-Fi miễn phí', 'Chỗ đỗ xe', 'Cho phép...</td>\n",
              "      <td>Set in Da Lat and with Lam Vien Square reachab...</td>\n",
              "      <td>[('Cock Church', '0,4 km'), ('Lam Vien Square'...</td>\n",
              "      <td>['https://cf.bstatic.com/xdata/images/hotel/ma...</td>\n",
              "    </tr>\n",
              "    <tr>\n",
              "      <th>2180</th>\n",
              "      <td>Đà Lạt</td>\n",
              "      <td>Khách sạn HANZ Bao Hoang Hotel Dalat</td>\n",
              "      <td>https://www.booking.com/hotel/vn/bao-dang.vi.h...</td>\n",
              "      <td>48 Đường Hà Huy Tập, Đà Lạt, Việt Nam</td>\n",
              "      <td>0</td>\n",
              "      <td>371700</td>\n",
              "      <td>8.3</td>\n",
              "      <td>43</td>\n",
              "      <td>['“Phòng ốc rộng rãi, thoáng! Nhân viên Thân t...</td>\n",
              "      <td>['Xe đưa đón sân bay', 'Phòng không hút thu...</td>\n",
              "      <td>\\r\\nBạn đủ điều kiện nhận giảm giá Genius tại ...</td>\n",
              "      <td>[('Cock Church', '0,4 km'), ('Lam Vien Square'...</td>\n",
              "      <td>['https://cf.bstatic.com/xdata/images/hotel/ma...</td>\n",
              "    </tr>\n",
              "    <tr>\n",
              "      <th>2688</th>\n",
              "      <td>Đà Nẵng</td>\n",
              "      <td>Khách sạn Hương Trà Hotel apartment</td>\n",
              "      <td>https://www.booking.com/hotel/vn/huong-tra-apa...</td>\n",
              "      <td>128 Hồ Nghinh, Đà Nẵng, Việt Nam</td>\n",
              "      <td>1</td>\n",
              "      <td>300000</td>\n",
              "      <td>9.0</td>\n",
              "      <td>1</td>\n",
              "      <td>[]</td>\n",
              "      <td>['Wi-Fi miễn phí', 'Giáp biển', 'Dịch vụ p...</td>\n",
              "      <td>Chỗ nghỉ này cách bãi biển 3 phút đi bộ. Set i...</td>\n",
              "      <td>[('Làng chài Mân Thái', '1,6 km'), ('Cầu sông ...</td>\n",
              "      <td>['https://cf.bstatic.com/xdata/images/hotel/ma...</td>\n",
              "    </tr>\n",
              "    <tr>\n",
              "      <th>3193</th>\n",
              "      <td>Đà Nẵng</td>\n",
              "      <td>Khách sạn Hương Trà Hotel apartment</td>\n",
              "      <td>https://www.booking.com/hotel/vn/huong-tra-apa...</td>\n",
              "      <td>128 Hồ Nghinh, Đà Nẵng, Việt Nam</td>\n",
              "      <td>2</td>\n",
              "      <td>270000</td>\n",
              "      <td>7.0</td>\n",
              "      <td>1</td>\n",
              "      <td>[]</td>\n",
              "      <td>['Xe đưa đón sân bay', 'Giáp biển', 'Phòng g...</td>\n",
              "      <td>Chỗ nghỉ này cách bãi biển 9 phút đi bộ. Hương...</td>\n",
              "      <td>[('Làng chài Mân Thái', '1,6 km'), ('Cầu sông ...</td>\n",
              "      <td>['https://cf.bstatic.com/xdata/images/hotel/ma...</td>\n",
              "    </tr>\n",
              "    <tr>\n",
              "      <th>3406</th>\n",
              "      <td>Nha Trang</td>\n",
              "      <td>Căn hộ Mới trên Booking.com Căn Hộ 2 Phòng Ngủ...</td>\n",
              "      <td>https://www.booking.com/hotel/vn/can-ho-2-phon...</td>\n",
              "      <td>3 Phạm Văn Đồng, Nha Trang, Việt Nam</td>\n",
              "      <td>0</td>\n",
              "      <td>700000</td>\n",
              "      <td>0.0</td>\n",
              "      <td>0</td>\n",
              "      <td>[]</td>\n",
              "      <td>['Xe đưa đón sân bay', 'Giáp biển', 'Trung tâ...</td>\n",
              "      <td>Chỗ nghỉ này cách bãi biển 1 phút đi bộ. Căn H...</td>\n",
              "      <td>[('Hòn Chồng', '0,5 km'), ('Chùa Hòn Đỏ', '1,1...</td>\n",
              "      <td>['https://cf.bstatic.com/xdata/images/hotel/ma...</td>\n",
              "    </tr>\n",
              "    <tr>\n",
              "      <th>3697</th>\n",
              "      <td>Nha Trang</td>\n",
              "      <td>Căn hộ Mới trên Booking.com LASON Nha Trang Ho...</td>\n",
              "      <td>https://www.booking.com/hotel/vn/lason-nha-tra...</td>\n",
              "      <td>Hoàng Tăng Bí, Nha Trang, Việt Nam</td>\n",
              "      <td>0</td>\n",
              "      <td>360000</td>\n",
              "      <td>0.0</td>\n",
              "      <td>0</td>\n",
              "      <td>[]</td>\n",
              "      <td>['Phòng không hút thuốc', 'Giáp biển', 'Chô...</td>\n",
              "      <td>Chỗ nghỉ này cách bãi biển 12 phút đi bộ. 1.3 ...</td>\n",
              "      <td>[('Hòn Chồng', '2 km'), ('Chùa Hòn Đỏ', '2,7 k...</td>\n",
              "      <td>['https://cf.bstatic.com/xdata/images/hotel/ma...</td>\n",
              "    </tr>\n",
              "    <tr>\n",
              "      <th>3754</th>\n",
              "      <td>Nha Trang</td>\n",
              "      <td>Căn hộ Mới trên Booking.com LASON Nha Trang Ho...</td>\n",
              "      <td>https://www.booking.com/hotel/vn/lason-nha-tra...</td>\n",
              "      <td>Hoàng Tăng Bí, Nha Trang, Việt Nam</td>\n",
              "      <td>0</td>\n",
              "      <td>300000</td>\n",
              "      <td>0.0</td>\n",
              "      <td>0</td>\n",
              "      <td>[]</td>\n",
              "      <td>['Phòng không hút thuốc', 'Phòng gia đình...</td>\n",
              "      <td>Chỗ nghỉ này cách bãi biển 12 phút đi bộ. LASO...</td>\n",
              "      <td>[('Hòn Chồng', '2 km'), ('Chùa Hòn Đỏ', '2,7 k...</td>\n",
              "      <td>['https://cf.bstatic.com/xdata/images/hotel/ma...</td>\n",
              "    </tr>\n",
              "    <tr>\n",
              "      <th>3764</th>\n",
              "      <td>Nha Trang</td>\n",
              "      <td>Căn hộ Mới trên Booking.com Căn Hộ 2 Phòng Ngủ...</td>\n",
              "      <td>https://www.booking.com/hotel/vn/can-ho-2-phon...</td>\n",
              "      <td>3 Phạm Văn Đồng, Nha Trang, Việt Nam</td>\n",
              "      <td>0</td>\n",
              "      <td>750000</td>\n",
              "      <td>0.0</td>\n",
              "      <td>0</td>\n",
              "      <td>[]</td>\n",
              "      <td>['Chỗ đỗ xe']</td>\n",
              "      <td>Chỗ nghỉ này cách bãi biển 1 phút đi bộ. Locat...</td>\n",
              "      <td>[('Hòn Chồng', '0,5 km'), ('Chùa Hòn Đỏ', '1,1...</td>\n",
              "      <td>['https://cf.bstatic.com/xdata/images/hotel/ma...</td>\n",
              "    </tr>\n",
              "    <tr>\n",
              "      <th>4514</th>\n",
              "      <td>Vũng Tàu</td>\n",
              "      <td>Căn hộ Melody Vũng Tàu</td>\n",
              "      <td>https://www.booking.com/hotel/vn/melody-vung-t...</td>\n",
              "      <td>149 Võ Thị Sáu, Vũng Tàu, Việt Nam</td>\n",
              "      <td>0</td>\n",
              "      <td>2700000</td>\n",
              "      <td>10.0</td>\n",
              "      <td>2</td>\n",
              "      <td>[]</td>\n",
              "      <td>['Chỗ đỗ xe']</td>\n",
              "      <td>Located 600 metres from Back Beach, 1.3 km fro...</td>\n",
              "      <td>[('Vung Tau Lighthouse', '1 km'), ('Tượng Chúa...</td>\n",
              "      <td>['https://cf.bstatic.com/xdata/images/hotel/ma...</td>\n",
              "    </tr>\n",
              "    <tr>\n",
              "      <th>4662</th>\n",
              "      <td>Vũng Tàu</td>\n",
              "      <td>Căn hộ Melody Vũng Tàu</td>\n",
              "      <td>https://www.booking.com/hotel/vn/melody-vung-t...</td>\n",
              "      <td>149 Võ Thị Sáu, Vũng Tàu, Việt Nam</td>\n",
              "      <td>0</td>\n",
              "      <td>3116000</td>\n",
              "      <td>0.0</td>\n",
              "      <td>0</td>\n",
              "      <td>[]</td>\n",
              "      <td>['Chỗ đỗ xe', 'Cho phép mang theo vật nuôi']</td>\n",
              "      <td>Boasting air-conditioned accommodation with a ...</td>\n",
              "      <td>[('Vung Tau Lighthouse', '1 km'), ('Tượng Chúa...</td>\n",
              "      <td>['https://cf.bstatic.com/xdata/images/hotel/ma...</td>\n",
              "    </tr>\n",
              "  </tbody>\n",
              "</table>\n",
              "</div>\n",
              "      <button class=\"colab-df-convert\" onclick=\"convertToInteractive('df-2ce5358b-eaaf-4e6f-a9f6-9b6751890ebc')\"\n",
              "              title=\"Convert this dataframe to an interactive table.\"\n",
              "              style=\"display:none;\">\n",
              "        \n",
              "  <svg xmlns=\"http://www.w3.org/2000/svg\" height=\"24px\"viewBox=\"0 0 24 24\"\n",
              "       width=\"24px\">\n",
              "    <path d=\"M0 0h24v24H0V0z\" fill=\"none\"/>\n",
              "    <path d=\"M18.56 5.44l.94 2.06.94-2.06 2.06-.94-2.06-.94-.94-2.06-.94 2.06-2.06.94zm-11 1L8.5 8.5l.94-2.06 2.06-.94-2.06-.94L8.5 2.5l-.94 2.06-2.06.94zm10 10l.94 2.06.94-2.06 2.06-.94-2.06-.94-.94-2.06-.94 2.06-2.06.94z\"/><path d=\"M17.41 7.96l-1.37-1.37c-.4-.4-.92-.59-1.43-.59-.52 0-1.04.2-1.43.59L10.3 9.45l-7.72 7.72c-.78.78-.78 2.05 0 2.83L4 21.41c.39.39.9.59 1.41.59.51 0 1.02-.2 1.41-.59l7.78-7.78 2.81-2.81c.8-.78.8-2.07 0-2.86zM5.41 20L4 18.59l7.72-7.72 1.47 1.35L5.41 20z\"/>\n",
              "  </svg>\n",
              "      </button>\n",
              "      \n",
              "  <style>\n",
              "    .colab-df-container {\n",
              "      display:flex;\n",
              "      flex-wrap:wrap;\n",
              "      gap: 12px;\n",
              "    }\n",
              "\n",
              "    .colab-df-convert {\n",
              "      background-color: #E8F0FE;\n",
              "      border: none;\n",
              "      border-radius: 50%;\n",
              "      cursor: pointer;\n",
              "      display: none;\n",
              "      fill: #1967D2;\n",
              "      height: 32px;\n",
              "      padding: 0 0 0 0;\n",
              "      width: 32px;\n",
              "    }\n",
              "\n",
              "    .colab-df-convert:hover {\n",
              "      background-color: #E2EBFA;\n",
              "      box-shadow: 0px 1px 2px rgba(60, 64, 67, 0.3), 0px 1px 3px 1px rgba(60, 64, 67, 0.15);\n",
              "      fill: #174EA6;\n",
              "    }\n",
              "\n",
              "    [theme=dark] .colab-df-convert {\n",
              "      background-color: #3B4455;\n",
              "      fill: #D2E3FC;\n",
              "    }\n",
              "\n",
              "    [theme=dark] .colab-df-convert:hover {\n",
              "      background-color: #434B5C;\n",
              "      box-shadow: 0px 1px 3px 1px rgba(0, 0, 0, 0.15);\n",
              "      filter: drop-shadow(0px 1px 2px rgba(0, 0, 0, 0.3));\n",
              "      fill: #FFFFFF;\n",
              "    }\n",
              "  </style>\n",
              "\n",
              "      <script>\n",
              "        const buttonEl =\n",
              "          document.querySelector('#df-2ce5358b-eaaf-4e6f-a9f6-9b6751890ebc button.colab-df-convert');\n",
              "        buttonEl.style.display =\n",
              "          google.colab.kernel.accessAllowed ? 'block' : 'none';\n",
              "\n",
              "        async function convertToInteractive(key) {\n",
              "          const element = document.querySelector('#df-2ce5358b-eaaf-4e6f-a9f6-9b6751890ebc');\n",
              "          const dataTable =\n",
              "            await google.colab.kernel.invokeFunction('convertToInteractive',\n",
              "                                                     [key], {});\n",
              "          if (!dataTable) return;\n",
              "\n",
              "          const docLinkHtml = 'Like what you see? Visit the ' +\n",
              "            '<a target=\"_blank\" href=https://colab.research.google.com/notebooks/data_table.ipynb>data table notebook</a>'\n",
              "            + ' to learn more about interactive tables.';\n",
              "          element.innerHTML = '';\n",
              "          dataTable['output_type'] = 'display_data';\n",
              "          await google.colab.output.renderOutput(dataTable, element);\n",
              "          const docLink = document.createElement('div');\n",
              "          docLink.innerHTML = docLinkHtml;\n",
              "          element.appendChild(docLink);\n",
              "        }\n",
              "      </script>\n",
              "    </div>\n",
              "  </div>\n",
              "  "
            ]
          },
          "metadata": {},
          "execution_count": 103
        }
      ]
    },
    {
      "cell_type": "code",
      "source": [
        "booking_df = booking_df.drop([1792, 1898, 2180, 2688, 3697, 3764, 4662])"
      ],
      "metadata": {
        "id": "ps646-yf2Hr_"
      },
      "execution_count": 104,
      "outputs": []
    },
    {
      "cell_type": "code",
      "source": [
        "#Done _ (1)\n",
        "sdups_name_2 = booking_df.pivot_table(columns=[\"Hotel name\", \"Address\"], aggfunc='size')\n",
        "sdups_name_2.where(sdups_name_2 > 1).sum()"
      ],
      "metadata": {
        "colab": {
          "base_uri": "https://localhost:8080/"
        },
        "id": "mPVTJc702KdM",
        "outputId": "260ae7eb-c407-4727-8dad-f408ea75a83a"
      },
      "execution_count": 105,
      "outputs": [
        {
          "output_type": "execute_result",
          "data": {
            "text/plain": [
              "0.0"
            ]
          },
          "metadata": {},
          "execution_count": 105
        }
      ]
    },
    {
      "cell_type": "code",
      "source": [
        "#Check\n",
        "dups_name_3 = booking_df.pivot_table(columns=[\"Hotel name\"], aggfunc='size')\n",
        "#Vẫn còn 56 KS trùng tên\n",
        "dups_name_3.where(dups_name_3 > 1).sum()"
      ],
      "metadata": {
        "colab": {
          "base_uri": "https://localhost:8080/"
        },
        "id": "bxaLUpMm2twr",
        "outputId": "a508d5d7-7ca5-4dae-9ba8-6ff3534617e9"
      },
      "execution_count": 106,
      "outputs": [
        {
          "output_type": "execute_result",
          "data": {
            "text/plain": [
              "56.0"
            ]
          },
          "metadata": {},
          "execution_count": 106
        }
      ]
    },
    {
      "cell_type": "code",
      "source": [
        "#Có thể những KS này là chi nhánh trong cùng 1 thành phố --> bỏ những KS giá cao (615, )\n",
        "#Nếu khác thành phố thì giữ lại\n",
        "dups_name_4 = booking_df.pivot_table(columns=[\"Hotel name\", \"City\"], aggfunc='size')\n",
        "#Vẫn còn 15 KS trùng tên\n",
        "dups_name_4.where(dups_name_4 > 1).sum()"
      ],
      "metadata": {
        "colab": {
          "base_uri": "https://localhost:8080/"
        },
        "id": "hGE4KGQ22x_T",
        "outputId": "5eaa8129-905c-4127-c84a-603bf4c34195"
      },
      "execution_count": 107,
      "outputs": [
        {
          "output_type": "execute_result",
          "data": {
            "text/plain": [
              "15.0"
            ]
          },
          "metadata": {},
          "execution_count": 107
        }
      ]
    },
    {
      "cell_type": "code",
      "source": [
        "dups_name_4.loc[dups_name_4 > 1]"
      ],
      "metadata": {
        "colab": {
          "base_uri": "https://localhost:8080/"
        },
        "id": "3SMBToOe21JT",
        "outputId": "b33a05e0-393c-4c06-ddc4-9cdea67baede"
      },
      "execution_count": 108,
      "outputs": [
        {
          "output_type": "execute_result",
          "data": {
            "text/plain": [
              "Hotel name                                                    City             \n",
              "Biệt thự Mới trên Booking.com Kẻ Mơ's House                   Đà Lạt               2\n",
              "Biệt thự Sky Villa                                            Vũng Tàu           2\n",
              "Căn hộ Langmandi Apartment                                    Hà Nội             3\n",
              "Căn hộ Tiến Đạt Apartment                                     Nha Trang            2\n",
              "Khách sạn Galaxy Hotel                                        TP. Hồ Chí Minh    2\n",
              "Khách sạn Royal Hotel                                         Hà Nội             2\n",
              "Nhà nghỉ mát Mới trên Booking.com Artichoke Home & Apartment  Đà Lạt               2\n",
              "dtype: int64"
            ]
          },
          "metadata": {},
          "execution_count": 108
        }
      ]
    },
    {
      "cell_type": "code",
      "source": [
        "ls_name_1 = [\"Biệt thự Mới trên Booking.com Kẻ Mơ's House\",                     \n",
        "            \"Biệt thự Sky Villa\",                                                \n",
        "            \"Căn hộ Langmandi Apartment\",                                                                            \n",
        "            \"Căn hộ Tiến Đạt Apartment\",                                         \n",
        "            \"Khách sạn Galaxy Hotel\",                                                \n",
        "            \"Khách sạn Royal Hotel\",                                       \n",
        "            \"Nhà nghỉ mát Mới trên Booking.com Artichoke Home & Apartment\",                                          \n",
        "             ]"
      ],
      "metadata": {
        "id": "Xe1AojVE24hY"
      },
      "execution_count": 109,
      "outputs": []
    },
    {
      "cell_type": "code",
      "source": [
        "#Lọc bỏ (315, 615, 735, 1555, 2250, 2582, 3482, 4382)\n",
        "booking_df.loc[booking_df[\"Hotel name\"].isin(ls_name_1)]"
      ],
      "metadata": {
        "colab": {
          "base_uri": "https://localhost:8080/",
          "height": 1000
        },
        "id": "YBnkkkYu2_VE",
        "outputId": "50bb3548-1d50-44e6-9f8b-81d4a933ef82"
      },
      "execution_count": 110,
      "outputs": [
        {
          "output_type": "execute_result",
          "data": {
            "text/plain": [
              "                   City                                         Hotel name  \\\n",
              "315            Hà Nội                              Khách sạn Royal Hotel   \n",
              "566            Hà Nội                         Căn hộ Langmandi Apartment   \n",
              "579            Hà Nội                              Khách sạn Royal Hotel   \n",
              "615            Hà Nội                         Căn hộ Langmandi Apartment   \n",
              "735            Hà Nội                         Căn hộ Langmandi Apartment   \n",
              "1550  TP. Hồ Chí Minh                             Khách sạn Galaxy Hotel   \n",
              "1555  TP. Hồ Chí Minh                             Khách sạn Galaxy Hotel   \n",
              "2250             Đà Lạt        Biệt thự Mới trên Booking.com Kẻ Mơ's House   \n",
              "2540             Đà Lạt        Biệt thự Mới trên Booking.com Kẻ Mơ's House   \n",
              "2556             Đà Lạt  Nhà nghỉ mát Mới trên Booking.com Artichoke Ho...   \n",
              "2582             Đà Lạt  Nhà nghỉ mát Mới trên Booking.com Artichoke Ho...   \n",
              "3444          Nha Trang                          Căn hộ Tiến Đạt Apartment   \n",
              "3482          Nha Trang                          Căn hộ Tiến Đạt Apartment   \n",
              "4381         Vũng Tàu                                 Biệt thự Sky Villa   \n",
              "4671         Vũng Tàu                                 Biệt thự Sky Villa   \n",
              "\n",
              "                                                    Url  \\\n",
              "315   https://www.booking.com/hotel/vn/royal-ba-dinh...   \n",
              "566   https://www.booking.com/hotel/vn/langmandi-apa...   \n",
              "579   https://www.booking.com/hotel/vn/royal-hanoi1....   \n",
              "615   https://www.booking.com/hotel/vn/langmandi-apa...   \n",
              "735   https://www.booking.com/hotel/vn/langmandi-apa...   \n",
              "1550  https://www.booking.com/hotel/vn/galaxy-go-vap...   \n",
              "1555  https://www.booking.com/hotel/vn/galaxy-apartm...   \n",
              "2250  https://www.booking.com/hotel/vn/ke-mos-house-...   \n",
              "2540  https://www.booking.com/hotel/vn/ke-mos-house....   \n",
              "2556  https://www.booking.com/hotel/vn/artichoke-hom...   \n",
              "2582  https://www.booking.com/hotel/vn/artichoke-hom...   \n",
              "3444  https://www.booking.com/hotel/vn/tien-dat-apar...   \n",
              "3482  https://www.booking.com/hotel/vn/tien-dat-apar...   \n",
              "4381  https://www.booking.com/hotel/vn/sky-villa-vun...   \n",
              "4671  https://www.booking.com/hotel/vn/sky-villa-vun...   \n",
              "\n",
              "                                                Address  Stars     Price  \\\n",
              "315   62 Phạm Huy Thông Ngọc Khánh , Ba Đình , Hanoi...      3    560000   \n",
              "566    58 Ấu Triệu, Quận Hoàn Kiếm, Hà Nội, Việt Nam      3    437400   \n",
              "579   19 Hang Chao Street, Cat Linh Ward, Dong Da Di...      3    549400   \n",
              "615   51 Lê Hồng Phong, Quận Ba Đình, Hà Nội, Việ...      3    647190   \n",
              "735      8 Nhà Thờ, Quận Hoàn Kiếm, Hà Nội, Việt Nam      0    575280   \n",
              "1550  594-596 Nguyễn Oanh phường 6 quận gò vấp 594-5...      0    405000   \n",
              "1555  Số 12 đường nội khu Hưng Gia 3, Khu đô thị Phú...      0   1031200   \n",
              "2250           5 Đường Trần Khánh Dư, Đà Lạt, Việt Nam      0   3750000   \n",
              "2540           9 Đường Trần Khánh Dư, Đà Lạt, Việt Nam      0   3150000   \n",
              "2556  8 Đường Thiên Thành, phường 4, Đà Lạt, Đà Lạt,...      0    945000   \n",
              "2582             172 Nguyễn Văn Trỗi, Đà Lạt, Việt Nam      0   1800000   \n",
              "3444  19 20 21 Trịnh Hoài Đức, P. Vĩnh Hòa, TP. Nha ...      0    220000   \n",
              "3482  19, 20, 21 Trịnh Hoài Đức, P. Vĩnh Hòa, Tp. Nh...      0    220000   \n",
              "4381  298/6 phan chu trinh,phường 2 ,thành phố vũng ...      4  22500000   \n",
              "4671          298 Phan Chu Trinh, Vũng Tàu, Việt Nam      3  17820000   \n",
              "\n",
              "      Rating  Number of reviews  \\\n",
              "315      9.4                227   \n",
              "566      7.7                 45   \n",
              "579      6.8                 58   \n",
              "615      7.8                 14   \n",
              "735      5.0                  1   \n",
              "1550     8.0                261   \n",
              "1555     8.6                 27   \n",
              "2250     0.0                  0   \n",
              "2540     0.0                  0   \n",
              "2556     0.0                  0   \n",
              "2582     0.0                  0   \n",
              "3444     9.5                 11   \n",
              "3482     9.3                  3   \n",
              "4381     7.0                  1   \n",
              "4671     0.0                  0   \n",
              "\n",
              "                                                Reviews  \\\n",
              "315   ['“Vị trí đẹp, view đẹp, lân cận có nhiều tiện...   \n",
              "566   ['“bếp đầy đủ tiện nghi, giường thoải mái, vị ...   \n",
              "579                                                  []   \n",
              "615                                                  []   \n",
              "735                                                  []   \n",
              "1550  ['“Phòng sạch sẽ, thoáng mát, nv dễ thương, nh...   \n",
              "1555  ['“Lễ tân rất dễ mến. Lần sau mình sẽ tiếp tục...   \n",
              "2250                                                 []   \n",
              "2540                                                 []   \n",
              "2556                                                 []   \n",
              "2582                                                 []   \n",
              "3444  ['“Chủ căn hộ rất thân thiện và lịch sự, phòng...   \n",
              "3482  ['“Anh chị chủ với lễ tân cực kì thân thiện vu...   \n",
              "4381                                                 []   \n",
              "4671                                                 []   \n",
              "\n",
              "                                             Facilities  \\\n",
              "315   ['1 hồ bơi', 'Xe đưa đón sân bay', 'Phòng kh...   \n",
              "566   ['Phòng không hút thuốc', 'Wi-Fi miễn phí...   \n",
              "579   ['Xe đưa đón sân bay', 'Phòng không hút thu...   \n",
              "615   ['Phòng không hút thuốc', 'Phòng gia đình...   \n",
              "735   ['Phòng không hút thuốc', 'Phòng gia đình...   \n",
              "1550  ['Phòng không hút thuốc', 'Wi-Fi miễn phí...   \n",
              "1555  ['Phòng không hút thuốc', 'Wi-Fi miễn phí...   \n",
              "2250  ['Chỗ đỗ xe miễn phí', 'Cho phép mang the...   \n",
              "2540  ['Chỗ đỗ xe miễn phí', 'Cho phép mang the...   \n",
              "2556                         ['Chỗ đỗ xe miễn phí']   \n",
              "2582                         ['Chỗ đỗ xe miễn phí']   \n",
              "3444  ['Wi-Fi miễn phí', 'Chỗ đỗ xe', 'Dịch vụ...   \n",
              "3482  ['Phòng không hút thuốc', 'Wi-Fi miễn phí...   \n",
              "4381  ['1 hồ bơi', 'Xe đưa đón sân bay', 'Phòng kh...   \n",
              "4671  ['1 hồ bơi', 'Chỗ đỗ xe miễn phí', 'Cho ph...   \n",
              "\n",
              "                                            Description  \\\n",
              "315   \\r\\nBạn đủ điều kiện nhận giảm giá Genius tại ...   \n",
              "566   \\r\\nBạn đủ điều kiện nhận giảm giá Genius tại ...   \n",
              "579   Nằm ở thành phố Hà Nội, cách Văn Miếu - Quốc T...   \n",
              "615   \\r\\nBạn đủ điều kiện nhận giảm giá Genius tại ...   \n",
              "735   Located in the centre of Hanoi, 200 metres fro...   \n",
              "1550  \\r\\nBạn đủ điều kiện nhận giảm giá Genius tại ...   \n",
              "1555  \\r\\nBạn đủ điều kiện nhận giảm giá Genius tại ...   \n",
              "2250  Nằm ở thành phố Đà Lạt, cách Vườn hoa Đà Lạt 1...   \n",
              "2540  Nằm ở thành phố Đà Lạt, cách Vườn hoa Đà Lạt 1...   \n",
              "2556  Artichoke Home & Apartment is located in the X...   \n",
              "2582  Artichoke Home & Apartment is set in Da Lat, 1...   \n",
              "3444  Situated in Nha Trang, 1.3 km from Hon Chong B...   \n",
              "3482  Located in Nha Trang in the Khanh Hoa region, ...   \n",
              "4381  Tọa lạc tại thành phố Vũng Tàu, Sky Villa cung...   \n",
              "4671  Sky Villa tọa lạc tại thành phố Vũng Tàu, chỉ ...   \n",
              "\n",
              "                                          Nearby places  \\\n",
              "315   [('Hồ Ngọc Khánh', '0,2 km'), ('Đại học RMIT',...   \n",
              "566   [('Nhà thờ Thánh Joseph', '0,1 km'), ('Nationa...   \n",
              "579   [('Văn Miếu - Quốc Tử Giám', '0,2 km'), ('Sân ...   \n",
              "615   [('Chùa Một Cột', '0,2 km'), ('Lăng Chủ tịch H...   \n",
              "735   [('Nhà thờ Thánh Joseph', '0,2 km'), ('Hồ Hoàn...   \n",
              "1550  [('Saigon Mall Go Vap', '2 km'), ('Vincom Plaz...   \n",
              "1555  [('SC VivoCity', '0,8 km'), ('Bệnh viện FV', '...   \n",
              "2250  [('Dalat Palace Golf Club', '0,7 km'), ('Linh ...   \n",
              "2540  [('Dalat Palace Golf Club', '0,7 km'), ('Linh ...   \n",
              "2556  [('Khách sạn Hằng Nga', '0,6 km'), ('Chùa Lâm ...   \n",
              "2582  [('Linh Son Pagoda', '0,1 km'), ('Nhà thờ Doma...   \n",
              "3444  [('Hòn Chồng', '2 km'), ('Tháp Bà Ponagar', '2...   \n",
              "3482  [('Hòn Chồng', '2 km'), ('Tháp Bà Ponagar', '2...   \n",
              "4381  [('Tượng Chúa Ki-tô', '0,4 km'), ('Mũi Nghinh...   \n",
              "4671  [('Tượng Chúa Ki-tô', '0,4 km'), ('Vung Tau Li...   \n",
              "\n",
              "                                                  Image  \n",
              "315   ['https://cf.bstatic.com/xdata/images/hotel/ma...  \n",
              "566   ['https://cf.bstatic.com/xdata/images/hotel/ma...  \n",
              "579   ['https://cf.bstatic.com/xdata/images/hotel/ma...  \n",
              "615   ['https://cf.bstatic.com/xdata/images/hotel/ma...  \n",
              "735   ['https://cf.bstatic.com/xdata/images/hotel/ma...  \n",
              "1550  ['https://cf.bstatic.com/xdata/images/hotel/ma...  \n",
              "1555  ['https://cf.bstatic.com/xdata/images/hotel/ma...  \n",
              "2250  ['https://cf.bstatic.com/xdata/images/hotel/ma...  \n",
              "2540  ['https://cf.bstatic.com/xdata/images/hotel/ma...  \n",
              "2556  ['https://cf.bstatic.com/xdata/images/hotel/ma...  \n",
              "2582  ['https://cf.bstatic.com/xdata/images/hotel/ma...  \n",
              "3444  ['https://cf.bstatic.com/xdata/images/hotel/ma...  \n",
              "3482  ['https://cf.bstatic.com/xdata/images/hotel/ma...  \n",
              "4381  ['https://cf.bstatic.com/xdata/images/hotel/ma...  \n",
              "4671  ['https://cf.bstatic.com/xdata/images/hotel/ma...  "
            ],
            "text/html": [
              "\n",
              "  <div id=\"df-2571e778-59dc-45bd-88fd-dec375340ce1\">\n",
              "    <div class=\"colab-df-container\">\n",
              "      <div>\n",
              "<style scoped>\n",
              "    .dataframe tbody tr th:only-of-type {\n",
              "        vertical-align: middle;\n",
              "    }\n",
              "\n",
              "    .dataframe tbody tr th {\n",
              "        vertical-align: top;\n",
              "    }\n",
              "\n",
              "    .dataframe thead th {\n",
              "        text-align: right;\n",
              "    }\n",
              "</style>\n",
              "<table border=\"1\" class=\"dataframe\">\n",
              "  <thead>\n",
              "    <tr style=\"text-align: right;\">\n",
              "      <th></th>\n",
              "      <th>City</th>\n",
              "      <th>Hotel name</th>\n",
              "      <th>Url</th>\n",
              "      <th>Address</th>\n",
              "      <th>Stars</th>\n",
              "      <th>Price</th>\n",
              "      <th>Rating</th>\n",
              "      <th>Number of reviews</th>\n",
              "      <th>Reviews</th>\n",
              "      <th>Facilities</th>\n",
              "      <th>Description</th>\n",
              "      <th>Nearby places</th>\n",
              "      <th>Image</th>\n",
              "    </tr>\n",
              "  </thead>\n",
              "  <tbody>\n",
              "    <tr>\n",
              "      <th>315</th>\n",
              "      <td>Hà Nội</td>\n",
              "      <td>Khách sạn Royal Hotel</td>\n",
              "      <td>https://www.booking.com/hotel/vn/royal-ba-dinh...</td>\n",
              "      <td>62 Phạm Huy Thông Ngọc Khánh , Ba Đình , Hanoi...</td>\n",
              "      <td>3</td>\n",
              "      <td>560000</td>\n",
              "      <td>9.4</td>\n",
              "      <td>227</td>\n",
              "      <td>['“Vị trí đẹp, view đẹp, lân cận có nhiều tiện...</td>\n",
              "      <td>['1 hồ bơi', 'Xe đưa đón sân bay', 'Phòng kh...</td>\n",
              "      <td>\\r\\nBạn đủ điều kiện nhận giảm giá Genius tại ...</td>\n",
              "      <td>[('Hồ Ngọc Khánh', '0,2 km'), ('Đại học RMIT',...</td>\n",
              "      <td>['https://cf.bstatic.com/xdata/images/hotel/ma...</td>\n",
              "    </tr>\n",
              "    <tr>\n",
              "      <th>566</th>\n",
              "      <td>Hà Nội</td>\n",
              "      <td>Căn hộ Langmandi Apartment</td>\n",
              "      <td>https://www.booking.com/hotel/vn/langmandi-apa...</td>\n",
              "      <td>58 Ấu Triệu, Quận Hoàn Kiếm, Hà Nội, Việt Nam</td>\n",
              "      <td>3</td>\n",
              "      <td>437400</td>\n",
              "      <td>7.7</td>\n",
              "      <td>45</td>\n",
              "      <td>['“bếp đầy đủ tiện nghi, giường thoải mái, vị ...</td>\n",
              "      <td>['Phòng không hút thuốc', 'Wi-Fi miễn phí...</td>\n",
              "      <td>\\r\\nBạn đủ điều kiện nhận giảm giá Genius tại ...</td>\n",
              "      <td>[('Nhà thờ Thánh Joseph', '0,1 km'), ('Nationa...</td>\n",
              "      <td>['https://cf.bstatic.com/xdata/images/hotel/ma...</td>\n",
              "    </tr>\n",
              "    <tr>\n",
              "      <th>579</th>\n",
              "      <td>Hà Nội</td>\n",
              "      <td>Khách sạn Royal Hotel</td>\n",
              "      <td>https://www.booking.com/hotel/vn/royal-hanoi1....</td>\n",
              "      <td>19 Hang Chao Street, Cat Linh Ward, Dong Da Di...</td>\n",
              "      <td>3</td>\n",
              "      <td>549400</td>\n",
              "      <td>6.8</td>\n",
              "      <td>58</td>\n",
              "      <td>[]</td>\n",
              "      <td>['Xe đưa đón sân bay', 'Phòng không hút thu...</td>\n",
              "      <td>Nằm ở thành phố Hà Nội, cách Văn Miếu - Quốc T...</td>\n",
              "      <td>[('Văn Miếu - Quốc Tử Giám', '0,2 km'), ('Sân ...</td>\n",
              "      <td>['https://cf.bstatic.com/xdata/images/hotel/ma...</td>\n",
              "    </tr>\n",
              "    <tr>\n",
              "      <th>615</th>\n",
              "      <td>Hà Nội</td>\n",
              "      <td>Căn hộ Langmandi Apartment</td>\n",
              "      <td>https://www.booking.com/hotel/vn/langmandi-apa...</td>\n",
              "      <td>51 Lê Hồng Phong, Quận Ba Đình, Hà Nội, Việ...</td>\n",
              "      <td>3</td>\n",
              "      <td>647190</td>\n",
              "      <td>7.8</td>\n",
              "      <td>14</td>\n",
              "      <td>[]</td>\n",
              "      <td>['Phòng không hút thuốc', 'Phòng gia đình...</td>\n",
              "      <td>\\r\\nBạn đủ điều kiện nhận giảm giá Genius tại ...</td>\n",
              "      <td>[('Chùa Một Cột', '0,2 km'), ('Lăng Chủ tịch H...</td>\n",
              "      <td>['https://cf.bstatic.com/xdata/images/hotel/ma...</td>\n",
              "    </tr>\n",
              "    <tr>\n",
              "      <th>735</th>\n",
              "      <td>Hà Nội</td>\n",
              "      <td>Căn hộ Langmandi Apartment</td>\n",
              "      <td>https://www.booking.com/hotel/vn/langmandi-apa...</td>\n",
              "      <td>8 Nhà Thờ, Quận Hoàn Kiếm, Hà Nội, Việt Nam</td>\n",
              "      <td>0</td>\n",
              "      <td>575280</td>\n",
              "      <td>5.0</td>\n",
              "      <td>1</td>\n",
              "      <td>[]</td>\n",
              "      <td>['Phòng không hút thuốc', 'Phòng gia đình...</td>\n",
              "      <td>Located in the centre of Hanoi, 200 metres fro...</td>\n",
              "      <td>[('Nhà thờ Thánh Joseph', '0,2 km'), ('Hồ Hoàn...</td>\n",
              "      <td>['https://cf.bstatic.com/xdata/images/hotel/ma...</td>\n",
              "    </tr>\n",
              "    <tr>\n",
              "      <th>1550</th>\n",
              "      <td>TP. Hồ Chí Minh</td>\n",
              "      <td>Khách sạn Galaxy Hotel</td>\n",
              "      <td>https://www.booking.com/hotel/vn/galaxy-go-vap...</td>\n",
              "      <td>594-596 Nguyễn Oanh phường 6 quận gò vấp 594-5...</td>\n",
              "      <td>0</td>\n",
              "      <td>405000</td>\n",
              "      <td>8.0</td>\n",
              "      <td>261</td>\n",
              "      <td>['“Phòng sạch sẽ, thoáng mát, nv dễ thương, nh...</td>\n",
              "      <td>['Phòng không hút thuốc', 'Wi-Fi miễn phí...</td>\n",
              "      <td>\\r\\nBạn đủ điều kiện nhận giảm giá Genius tại ...</td>\n",
              "      <td>[('Saigon Mall Go Vap', '2 km'), ('Vincom Plaz...</td>\n",
              "      <td>['https://cf.bstatic.com/xdata/images/hotel/ma...</td>\n",
              "    </tr>\n",
              "    <tr>\n",
              "      <th>1555</th>\n",
              "      <td>TP. Hồ Chí Minh</td>\n",
              "      <td>Khách sạn Galaxy Hotel</td>\n",
              "      <td>https://www.booking.com/hotel/vn/galaxy-apartm...</td>\n",
              "      <td>Số 12 đường nội khu Hưng Gia 3, Khu đô thị Phú...</td>\n",
              "      <td>0</td>\n",
              "      <td>1031200</td>\n",
              "      <td>8.6</td>\n",
              "      <td>27</td>\n",
              "      <td>['“Lễ tân rất dễ mến. Lần sau mình sẽ tiếp tục...</td>\n",
              "      <td>['Phòng không hút thuốc', 'Wi-Fi miễn phí...</td>\n",
              "      <td>\\r\\nBạn đủ điều kiện nhận giảm giá Genius tại ...</td>\n",
              "      <td>[('SC VivoCity', '0,8 km'), ('Bệnh viện FV', '...</td>\n",
              "      <td>['https://cf.bstatic.com/xdata/images/hotel/ma...</td>\n",
              "    </tr>\n",
              "    <tr>\n",
              "      <th>2250</th>\n",
              "      <td>Đà Lạt</td>\n",
              "      <td>Biệt thự Mới trên Booking.com Kẻ Mơ's House</td>\n",
              "      <td>https://www.booking.com/hotel/vn/ke-mos-house-...</td>\n",
              "      <td>5 Đường Trần Khánh Dư, Đà Lạt, Việt Nam</td>\n",
              "      <td>0</td>\n",
              "      <td>3750000</td>\n",
              "      <td>0.0</td>\n",
              "      <td>0</td>\n",
              "      <td>[]</td>\n",
              "      <td>['Chỗ đỗ xe miễn phí', 'Cho phép mang the...</td>\n",
              "      <td>Nằm ở thành phố Đà Lạt, cách Vườn hoa Đà Lạt 1...</td>\n",
              "      <td>[('Dalat Palace Golf Club', '0,7 km'), ('Linh ...</td>\n",
              "      <td>['https://cf.bstatic.com/xdata/images/hotel/ma...</td>\n",
              "    </tr>\n",
              "    <tr>\n",
              "      <th>2540</th>\n",
              "      <td>Đà Lạt</td>\n",
              "      <td>Biệt thự Mới trên Booking.com Kẻ Mơ's House</td>\n",
              "      <td>https://www.booking.com/hotel/vn/ke-mos-house....</td>\n",
              "      <td>9 Đường Trần Khánh Dư, Đà Lạt, Việt Nam</td>\n",
              "      <td>0</td>\n",
              "      <td>3150000</td>\n",
              "      <td>0.0</td>\n",
              "      <td>0</td>\n",
              "      <td>[]</td>\n",
              "      <td>['Chỗ đỗ xe miễn phí', 'Cho phép mang the...</td>\n",
              "      <td>Nằm ở thành phố Đà Lạt, cách Vườn hoa Đà Lạt 1...</td>\n",
              "      <td>[('Dalat Palace Golf Club', '0,7 km'), ('Linh ...</td>\n",
              "      <td>['https://cf.bstatic.com/xdata/images/hotel/ma...</td>\n",
              "    </tr>\n",
              "    <tr>\n",
              "      <th>2556</th>\n",
              "      <td>Đà Lạt</td>\n",
              "      <td>Nhà nghỉ mát Mới trên Booking.com Artichoke Ho...</td>\n",
              "      <td>https://www.booking.com/hotel/vn/artichoke-hom...</td>\n",
              "      <td>8 Đường Thiên Thành, phường 4, Đà Lạt, Đà Lạt,...</td>\n",
              "      <td>0</td>\n",
              "      <td>945000</td>\n",
              "      <td>0.0</td>\n",
              "      <td>0</td>\n",
              "      <td>[]</td>\n",
              "      <td>['Chỗ đỗ xe miễn phí']</td>\n",
              "      <td>Artichoke Home &amp; Apartment is located in the X...</td>\n",
              "      <td>[('Khách sạn Hằng Nga', '0,6 km'), ('Chùa Lâm ...</td>\n",
              "      <td>['https://cf.bstatic.com/xdata/images/hotel/ma...</td>\n",
              "    </tr>\n",
              "    <tr>\n",
              "      <th>2582</th>\n",
              "      <td>Đà Lạt</td>\n",
              "      <td>Nhà nghỉ mát Mới trên Booking.com Artichoke Ho...</td>\n",
              "      <td>https://www.booking.com/hotel/vn/artichoke-hom...</td>\n",
              "      <td>172 Nguyễn Văn Trỗi, Đà Lạt, Việt Nam</td>\n",
              "      <td>0</td>\n",
              "      <td>1800000</td>\n",
              "      <td>0.0</td>\n",
              "      <td>0</td>\n",
              "      <td>[]</td>\n",
              "      <td>['Chỗ đỗ xe miễn phí']</td>\n",
              "      <td>Artichoke Home &amp; Apartment is set in Da Lat, 1...</td>\n",
              "      <td>[('Linh Son Pagoda', '0,1 km'), ('Nhà thờ Doma...</td>\n",
              "      <td>['https://cf.bstatic.com/xdata/images/hotel/ma...</td>\n",
              "    </tr>\n",
              "    <tr>\n",
              "      <th>3444</th>\n",
              "      <td>Nha Trang</td>\n",
              "      <td>Căn hộ Tiến Đạt Apartment</td>\n",
              "      <td>https://www.booking.com/hotel/vn/tien-dat-apar...</td>\n",
              "      <td>19 20 21 Trịnh Hoài Đức, P. Vĩnh Hòa, TP. Nha ...</td>\n",
              "      <td>0</td>\n",
              "      <td>220000</td>\n",
              "      <td>9.5</td>\n",
              "      <td>11</td>\n",
              "      <td>['“Chủ căn hộ rất thân thiện và lịch sự, phòng...</td>\n",
              "      <td>['Wi-Fi miễn phí', 'Chỗ đỗ xe', 'Dịch vụ...</td>\n",
              "      <td>Situated in Nha Trang, 1.3 km from Hon Chong B...</td>\n",
              "      <td>[('Hòn Chồng', '2 km'), ('Tháp Bà Ponagar', '2...</td>\n",
              "      <td>['https://cf.bstatic.com/xdata/images/hotel/ma...</td>\n",
              "    </tr>\n",
              "    <tr>\n",
              "      <th>3482</th>\n",
              "      <td>Nha Trang</td>\n",
              "      <td>Căn hộ Tiến Đạt Apartment</td>\n",
              "      <td>https://www.booking.com/hotel/vn/tien-dat-apar...</td>\n",
              "      <td>19, 20, 21 Trịnh Hoài Đức, P. Vĩnh Hòa, Tp. Nh...</td>\n",
              "      <td>0</td>\n",
              "      <td>220000</td>\n",
              "      <td>9.3</td>\n",
              "      <td>3</td>\n",
              "      <td>['“Anh chị chủ với lễ tân cực kì thân thiện vu...</td>\n",
              "      <td>['Phòng không hút thuốc', 'Wi-Fi miễn phí...</td>\n",
              "      <td>Located in Nha Trang in the Khanh Hoa region, ...</td>\n",
              "      <td>[('Hòn Chồng', '2 km'), ('Tháp Bà Ponagar', '2...</td>\n",
              "      <td>['https://cf.bstatic.com/xdata/images/hotel/ma...</td>\n",
              "    </tr>\n",
              "    <tr>\n",
              "      <th>4381</th>\n",
              "      <td>Vũng Tàu</td>\n",
              "      <td>Biệt thự Sky Villa</td>\n",
              "      <td>https://www.booking.com/hotel/vn/sky-villa-vun...</td>\n",
              "      <td>298/6 phan chu trinh,phường 2 ,thành phố vũng ...</td>\n",
              "      <td>4</td>\n",
              "      <td>22500000</td>\n",
              "      <td>7.0</td>\n",
              "      <td>1</td>\n",
              "      <td>[]</td>\n",
              "      <td>['1 hồ bơi', 'Xe đưa đón sân bay', 'Phòng kh...</td>\n",
              "      <td>Tọa lạc tại thành phố Vũng Tàu, Sky Villa cung...</td>\n",
              "      <td>[('Tượng Chúa Ki-tô', '0,4 km'), ('Mũi Nghinh...</td>\n",
              "      <td>['https://cf.bstatic.com/xdata/images/hotel/ma...</td>\n",
              "    </tr>\n",
              "    <tr>\n",
              "      <th>4671</th>\n",
              "      <td>Vũng Tàu</td>\n",
              "      <td>Biệt thự Sky Villa</td>\n",
              "      <td>https://www.booking.com/hotel/vn/sky-villa-vun...</td>\n",
              "      <td>298 Phan Chu Trinh, Vũng Tàu, Việt Nam</td>\n",
              "      <td>3</td>\n",
              "      <td>17820000</td>\n",
              "      <td>0.0</td>\n",
              "      <td>0</td>\n",
              "      <td>[]</td>\n",
              "      <td>['1 hồ bơi', 'Chỗ đỗ xe miễn phí', 'Cho ph...</td>\n",
              "      <td>Sky Villa tọa lạc tại thành phố Vũng Tàu, chỉ ...</td>\n",
              "      <td>[('Tượng Chúa Ki-tô', '0,4 km'), ('Vung Tau Li...</td>\n",
              "      <td>['https://cf.bstatic.com/xdata/images/hotel/ma...</td>\n",
              "    </tr>\n",
              "  </tbody>\n",
              "</table>\n",
              "</div>\n",
              "      <button class=\"colab-df-convert\" onclick=\"convertToInteractive('df-2571e778-59dc-45bd-88fd-dec375340ce1')\"\n",
              "              title=\"Convert this dataframe to an interactive table.\"\n",
              "              style=\"display:none;\">\n",
              "        \n",
              "  <svg xmlns=\"http://www.w3.org/2000/svg\" height=\"24px\"viewBox=\"0 0 24 24\"\n",
              "       width=\"24px\">\n",
              "    <path d=\"M0 0h24v24H0V0z\" fill=\"none\"/>\n",
              "    <path d=\"M18.56 5.44l.94 2.06.94-2.06 2.06-.94-2.06-.94-.94-2.06-.94 2.06-2.06.94zm-11 1L8.5 8.5l.94-2.06 2.06-.94-2.06-.94L8.5 2.5l-.94 2.06-2.06.94zm10 10l.94 2.06.94-2.06 2.06-.94-2.06-.94-.94-2.06-.94 2.06-2.06.94z\"/><path d=\"M17.41 7.96l-1.37-1.37c-.4-.4-.92-.59-1.43-.59-.52 0-1.04.2-1.43.59L10.3 9.45l-7.72 7.72c-.78.78-.78 2.05 0 2.83L4 21.41c.39.39.9.59 1.41.59.51 0 1.02-.2 1.41-.59l7.78-7.78 2.81-2.81c.8-.78.8-2.07 0-2.86zM5.41 20L4 18.59l7.72-7.72 1.47 1.35L5.41 20z\"/>\n",
              "  </svg>\n",
              "      </button>\n",
              "      \n",
              "  <style>\n",
              "    .colab-df-container {\n",
              "      display:flex;\n",
              "      flex-wrap:wrap;\n",
              "      gap: 12px;\n",
              "    }\n",
              "\n",
              "    .colab-df-convert {\n",
              "      background-color: #E8F0FE;\n",
              "      border: none;\n",
              "      border-radius: 50%;\n",
              "      cursor: pointer;\n",
              "      display: none;\n",
              "      fill: #1967D2;\n",
              "      height: 32px;\n",
              "      padding: 0 0 0 0;\n",
              "      width: 32px;\n",
              "    }\n",
              "\n",
              "    .colab-df-convert:hover {\n",
              "      background-color: #E2EBFA;\n",
              "      box-shadow: 0px 1px 2px rgba(60, 64, 67, 0.3), 0px 1px 3px 1px rgba(60, 64, 67, 0.15);\n",
              "      fill: #174EA6;\n",
              "    }\n",
              "\n",
              "    [theme=dark] .colab-df-convert {\n",
              "      background-color: #3B4455;\n",
              "      fill: #D2E3FC;\n",
              "    }\n",
              "\n",
              "    [theme=dark] .colab-df-convert:hover {\n",
              "      background-color: #434B5C;\n",
              "      box-shadow: 0px 1px 3px 1px rgba(0, 0, 0, 0.15);\n",
              "      filter: drop-shadow(0px 1px 2px rgba(0, 0, 0, 0.3));\n",
              "      fill: #FFFFFF;\n",
              "    }\n",
              "  </style>\n",
              "\n",
              "      <script>\n",
              "        const buttonEl =\n",
              "          document.querySelector('#df-2571e778-59dc-45bd-88fd-dec375340ce1 button.colab-df-convert');\n",
              "        buttonEl.style.display =\n",
              "          google.colab.kernel.accessAllowed ? 'block' : 'none';\n",
              "\n",
              "        async function convertToInteractive(key) {\n",
              "          const element = document.querySelector('#df-2571e778-59dc-45bd-88fd-dec375340ce1');\n",
              "          const dataTable =\n",
              "            await google.colab.kernel.invokeFunction('convertToInteractive',\n",
              "                                                     [key], {});\n",
              "          if (!dataTable) return;\n",
              "\n",
              "          const docLinkHtml = 'Like what you see? Visit the ' +\n",
              "            '<a target=\"_blank\" href=https://colab.research.google.com/notebooks/data_table.ipynb>data table notebook</a>'\n",
              "            + ' to learn more about interactive tables.';\n",
              "          element.innerHTML = '';\n",
              "          dataTable['output_type'] = 'display_data';\n",
              "          await google.colab.output.renderOutput(dataTable, element);\n",
              "          const docLink = document.createElement('div');\n",
              "          docLink.innerHTML = docLinkHtml;\n",
              "          element.appendChild(docLink);\n",
              "        }\n",
              "      </script>\n",
              "    </div>\n",
              "  </div>\n",
              "  "
            ]
          },
          "metadata": {},
          "execution_count": 110
        }
      ]
    },
    {
      "cell_type": "code",
      "source": [
        "booking_df = booking_df.drop([315, 615, 735, 1555, 2250, 2582, 3482, 4381])"
      ],
      "metadata": {
        "id": "YLMG3pGD3C8A"
      },
      "execution_count": 111,
      "outputs": []
    },
    {
      "cell_type": "code",
      "source": [
        "#Check\n",
        "sdups_name_4 = booking_df.pivot_table(columns=[\"Hotel name\", \"City\"], aggfunc='size')\n",
        "#Đã không còn KS trùng lặp\n",
        "sdups_name_4.where(sdups_name_4 > 1).sum()"
      ],
      "metadata": {
        "colab": {
          "base_uri": "https://localhost:8080/"
        },
        "id": "0p5mRSDT3E_W",
        "outputId": "00199ab2-2775-4216-968a-a2a8ca28e56a"
      },
      "execution_count": 112,
      "outputs": [
        {
          "output_type": "execute_result",
          "data": {
            "text/plain": [
              "0.0"
            ]
          },
          "metadata": {},
          "execution_count": 112
        }
      ]
    },
    {
      "cell_type": "code",
      "source": [
        "booking_df = booking_df.reset_index(drop=True)"
      ],
      "metadata": {
        "id": "b62CeFHn3Jgy"
      },
      "execution_count": 114,
      "outputs": []
    },
    {
      "cell_type": "code",
      "source": [
        "booking_df.info()"
      ],
      "metadata": {
        "colab": {
          "base_uri": "https://localhost:8080/"
        },
        "id": "_aLsMN5_3lqX",
        "outputId": "c326366c-1c22-48de-ee7e-ac62d796894e"
      },
      "execution_count": 115,
      "outputs": [
        {
          "output_type": "stream",
          "name": "stdout",
          "text": [
            "<class 'pandas.core.frame.DataFrame'>\n",
            "RangeIndex: 4844 entries, 0 to 4843\n",
            "Data columns (total 13 columns):\n",
            " #   Column             Non-Null Count  Dtype  \n",
            "---  ------             --------------  -----  \n",
            " 0   City               4844 non-null   object \n",
            " 1   Hotel name         4844 non-null   object \n",
            " 2   Url                4844 non-null   object \n",
            " 3   Address            4844 non-null   object \n",
            " 4   Stars              4844 non-null   int64  \n",
            " 5   Price              4844 non-null   int64  \n",
            " 6   Rating             4844 non-null   float64\n",
            " 7   Number of reviews  4844 non-null   int64  \n",
            " 8   Reviews            4844 non-null   object \n",
            " 9   Facilities         4844 non-null   object \n",
            " 10  Description        4844 non-null   object \n",
            " 11  Nearby places      4844 non-null   object \n",
            " 12  Image              4844 non-null   object \n",
            "dtypes: float64(1), int64(3), object(9)\n",
            "memory usage: 492.1+ KB\n"
          ]
        }
      ]
    },
    {
      "cell_type": "code",
      "source": [
        "traveloka_df.info()"
      ],
      "metadata": {
        "colab": {
          "base_uri": "https://localhost:8080/"
        },
        "id": "qMsOZlgF3zmy",
        "outputId": "b2c70160-2680-4d83-d465-c11951305832"
      },
      "execution_count": 116,
      "outputs": [
        {
          "output_type": "stream",
          "name": "stdout",
          "text": [
            "<class 'pandas.core.frame.DataFrame'>\n",
            "RangeIndex: 1059 entries, 0 to 1058\n",
            "Data columns (total 13 columns):\n",
            " #   Column             Non-Null Count  Dtype  \n",
            "---  ------             --------------  -----  \n",
            " 0   City               1059 non-null   object \n",
            " 1   Hotel name         1059 non-null   object \n",
            " 2   Image              1059 non-null   object \n",
            " 3   Url                1059 non-null   object \n",
            " 4   Address            1059 non-null   object \n",
            " 5   Stars              1059 non-null   int64  \n",
            " 6   Min Price          1059 non-null   int64  \n",
            " 7   Rating             1059 non-null   float64\n",
            " 8   Number of reviews  1059 non-null   int64  \n",
            " 9   Reviews            1059 non-null   object \n",
            " 10  Facilities         1059 non-null   object \n",
            " 11  Description        1059 non-null   object \n",
            " 12  Nearby places      1059 non-null   object \n",
            "dtypes: float64(1), int64(3), object(9)\n",
            "memory usage: 107.7+ KB\n"
          ]
        }
      ]
    },
    {
      "cell_type": "code",
      "source": [
        "mytour_df.info()"
      ],
      "metadata": {
        "colab": {
          "base_uri": "https://localhost:8080/"
        },
        "id": "4EvDWY4Z33kQ",
        "outputId": "42d90110-6d7e-42b9-c26c-2166de44b25a"
      },
      "execution_count": 117,
      "outputs": [
        {
          "output_type": "stream",
          "name": "stdout",
          "text": [
            "<class 'pandas.core.frame.DataFrame'>\n",
            "RangeIndex: 1030 entries, 0 to 1029\n",
            "Data columns (total 13 columns):\n",
            " #   Column             Non-Null Count  Dtype  \n",
            "---  ------             --------------  -----  \n",
            " 0   City               1030 non-null   object \n",
            " 1   Hotel name         1030 non-null   object \n",
            " 2   Image              1030 non-null   object \n",
            " 3   Url                1030 non-null   object \n",
            " 4   Address            1030 non-null   object \n",
            " 5   Stars              1030 non-null   int64  \n",
            " 6   Min Price          1030 non-null   int64  \n",
            " 7   Rating             1030 non-null   float64\n",
            " 8   Number of reviews  1030 non-null   int64  \n",
            " 9   Reviews            1030 non-null   object \n",
            " 10  Facilities         1030 non-null   object \n",
            " 11  Description        1030 non-null   object \n",
            " 12  Nearby places      1030 non-null   object \n",
            "dtypes: float64(1), int64(3), object(9)\n",
            "memory usage: 104.7+ KB\n"
          ]
        }
      ]
    },
    {
      "cell_type": "code",
      "source": [
        "agoda_df.info()"
      ],
      "metadata": {
        "colab": {
          "base_uri": "https://localhost:8080/"
        },
        "id": "MEa5hHYh37GQ",
        "outputId": "9ccc3b27-f4bf-4751-d02d-c80d9c1030ec"
      },
      "execution_count": 118,
      "outputs": [
        {
          "output_type": "stream",
          "name": "stdout",
          "text": [
            "<class 'pandas.core.frame.DataFrame'>\n",
            "RangeIndex: 806 entries, 0 to 805\n",
            "Data columns (total 12 columns):\n",
            " #   Column         Non-Null Count  Dtype  \n",
            "---  ------         --------------  -----  \n",
            " 0   city           806 non-null    object \n",
            " 1   hotel name     806 non-null    object \n",
            " 2   url            806 non-null    object \n",
            " 3   address        806 non-null    object \n",
            " 4   stars          806 non-null    float64\n",
            " 5   price          806 non-null    int64  \n",
            " 6   rating         806 non-null    float64\n",
            " 7   n_reviews      806 non-null    int64  \n",
            " 8   image          806 non-null    object \n",
            " 9   reviews        806 non-null    object \n",
            " 10  facilities     806 non-null    object \n",
            " 11  nearby places  806 non-null    object \n",
            "dtypes: float64(2), int64(2), object(8)\n",
            "memory usage: 75.7+ KB\n"
          ]
        }
      ]
    },
    {
      "cell_type": "markdown",
      "source": [
        "# **Tiền xử lý dữ liệu matching**"
      ],
      "metadata": {
        "id": "xyYGpZ8548YA"
      }
    },
    {
      "cell_type": "markdown",
      "source": [
        "**Hotel name**"
      ],
      "metadata": {
        "id": "G8U498M15ghd"
      }
    },
    {
      "cell_type": "code",
      "source": [
        "#Bước 1: Chuyển tên KS về dạng chữ thường\n",
        "traveloka_df['new_name'] = traveloka_df['Hotel name'].str.lower()\n",
        "mytour_df['new_name'] = mytour_df['Hotel name'].str.lower()\n",
        "agoda_df['new_name'] = agoda_df['hotel name'].str.lower()\n",
        "booking_df['new_name'] = booking_df['Hotel name'].str.lower()"
      ],
      "metadata": {
        "id": "tt-7MBUc4_9t"
      },
      "execution_count": 119,
      "outputs": []
    },
    {
      "cell_type": "code",
      "source": [
        "#Bước 2: Loại bỏ những substring thông dụng: khách sạn, căn hộ,...\n",
        "subnames = [\"căn hộ\", \"apartment\", \n",
        "            \"khách sạn\", \"hotel\", \"hostel\", \"nhà khách\", \"nhà thuyền\"\n",
        "            \"khu\", \"nghỉ dưỡng\", \"nghỉ mát\", \"resort\", \"spa\",\n",
        "            \"nhà\", \"nhà dân dịch vụ\", \"home\", \"house\", \"homestay\", \"serviced homestay\",\n",
        "            \"biệt thự\", \"villa\", \n",
        "            \"du thuyền\", \"cruise\", \n",
        "            \"gần\", \"sang trọng\", \"near\", \"luxury\", \"mới\", \n",
        "            \"bungalow\", \"restaurant\", \"residences\", \"studio\", \"bar\", \n",
        "            \"và\", \"and\", \"&\"\n",
        "            ]\n",
        "agoda_df['new_name'].replace(subnames,'', inplace=True, regex=True)\n",
        "booking_df['new_name'].replace(subnames,'', inplace=True, regex=True)\n",
        "traveloka_df['new_name'].replace(subnames,'', inplace=True, regex=True)\n",
        "mytour_df['new_name'].replace(subnames,'', inplace=True, regex=True)"
      ],
      "metadata": {
        "id": "zjzupXRz5ItZ"
      },
      "execution_count": 120,
      "outputs": []
    },
    {
      "cell_type": "code",
      "source": [
        "#Bước 3: Bỏ dấu\n",
        "agoda_df['new_name']=[unidecode.unidecode(y) for y in agoda_df['new_name']]\n",
        "booking_df['new_name']=[unidecode.unidecode(y) for y in booking_df['new_name']]\n",
        "traveloka_df['new_name']=[unidecode.unidecode(y) for y in traveloka_df['new_name']]\n",
        "mytour_df['new_name']=[unidecode.unidecode(y) for y in mytour_df['new_name']]"
      ],
      "metadata": {
        "id": "q8EEqQUr5LH8"
      },
      "execution_count": 124,
      "outputs": []
    },
    {
      "cell_type": "code",
      "source": [
        "#Bước 4: Với những tên KS có 2 phần tiếng anh, tiếng việt --> lấy 1 phần\n",
        "agoda_df['new_name'] = [y.partition('(')[0] for y in agoda_df['new_name']]\n",
        "booking_df['new_name'] = [y.partition('(')[0] for y in booking_df['new_name']]\n",
        "traveloka_df['new_name'] = [y.partition('(')[0] for y in traveloka_df['new_name']]\n",
        "mytour_df['new_name'] = [y.partition('(')[0] for y in mytour_df['new_name']]"
      ],
      "metadata": {
        "id": "8MCLnxgS5aC7"
      },
      "execution_count": 125,
      "outputs": []
    },
    {
      "cell_type": "code",
      "source": [
        "#Bước 5: Loại bỏ khoảng cách giữa các từ\n",
        "agoda_df['new_name'].replace(' ','', inplace=True, regex=True)\n",
        "booking_df['new_name'].replace(' ','', inplace=True, regex=True)\n",
        "traveloka_df['new_name'].replace(' ','', inplace=True, regex=True)\n",
        "mytour_df['new_name'].replace(' ','', inplace=True, regex=True)"
      ],
      "metadata": {
        "id": "E4v96TS15cUp"
      },
      "execution_count": 126,
      "outputs": []
    },
    {
      "cell_type": "code",
      "source": [
        "#Check kết quả\n",
        "for i in range(100):\n",
        "    print(traveloka_df['Hotel name'][i]+' ==> '+traveloka_df['new_name'][i])\n",
        "print(\"\\n====================\\n\")\n",
        "for i in range(100):\n",
        "    print(booking_df['Hotel name'][i]+' ==> '+booking_df['new_name'][i])\n",
        "print(\"\\n====================\\n\")\n",
        "for i in range(100):\n",
        "    print(agoda_df['hotel name'][i]+' ==> '+agoda_df['new_name'][i])\n",
        "print(\"\\n====================\\n\")\n",
        "for i in range(100):\n",
        "    print(mytour_df['Hotel name'][i]+' ==> '+mytour_df['new_name'][i])"
      ],
      "metadata": {
        "colab": {
          "base_uri": "https://localhost:8080/"
        },
        "id": "JhHooeLx5eeI",
        "outputId": "dbbbad41-7e6b-4ff0-bc42-f2058cd9020e"
      },
      "execution_count": 127,
      "outputs": [
        {
          "output_type": "stream",
          "name": "stdout",
          "text": [
            "Khách sạn MK Premier Boutique ==> mkpremierboutique\n",
            "Classy Holiday Hotel & Spa ==> classyholiday\n",
            "La Beaute Boutique Hotel & Spa ==> labeauteboutique\n",
            "Căn Hộ Wecozy ==> wecozy\n",
            "Green Hotel & Apartment HN ==> greenhn\n",
            "Chariot Hotel ==> chariot\n",
            "Khách sạn Grand Plaza Hà Nội ==> grplazahanoi\n",
            "VNAHOMES APARTHOTEL ==> vnasapart\n",
            "Lucien Hanoi Hotel & Spa ==> lucienhanoi\n",
            "SOJO Ga Hanoi ==> sojogahanoi\n",
            "Hanoi Le Jardin Hotel & Spa ==> hanoilejardin\n",
            "Mina Hotel & Spa ==> mina\n",
            "Khách Sạn Halais ==> halais\n",
            "Hanoi E Central Hotel ==> hanoiecentral\n",
            "Hanoi Emerald Waters Hotel & Spa ==> hanoiemeraldwaters\n",
            "Khách sạn Bảo Sơn ==> baoson\n",
            "Romantique Hotel De Hanoi ==> romantiquedehanoi\n",
            "Millennium Hanoi Hotel ==> millenniumhanoi\n",
            "ISTAY Hotel Apartment 6 ==> istay6\n",
            "Honeymoon Hotel and Apartment ==> honeymoon\n",
            "New Style House Hotel ==> newstyle\n",
            "V-Studio Hotel Apartment 3 ==> v-3\n",
            "Hanoi Brilliant Hotel and Spa ==> hanoibrilliant\n",
            "My Hotel 23 ==> my23\n",
            "Little Hanoi Hotel ==> littlehanoi\n",
            "Spring Hotel Hanoi ==> springhanoi\n",
            "Khách Sạn Mia Hanoi ==> miahanoi\n",
            "Ken Hotel By Connek ==> kenbyconnek\n",
            "Khách sạn Luân Đôn Hà Nội ==> luandonhanoi\n",
            "Hanoi Pearl Hotel ==> hanoipearl\n",
            "C'bon Hotel Do Quang ==> c'bondoquang\n",
            "O'gallery Premier Hotel & Spa ==> o'gallerypremier\n",
            "Hovi Hoang Cau 3 - My Hotel ==> hovihoangcau3-my\n",
            "L'Harmonie Hotel & Spa ==> l'harmonie\n",
            " Bach Duong Hotel ==> bachduong\n",
            "Mayflower Hotel Hanoi ==> mayflowerhanoi\n",
            "Hanoi Vision Boutique Hotel ==> hanoivisionboutique\n",
            "Bonsella Hotel ==> bonsella\n",
            "Hanoi Boutique Hotel & Spa ==> hanoiboutique\n",
            "Hanoi Grand Maison Hotel (Previous: Hanoi Gratitude Hotel) ==> hanoigrmaison\n",
            "Imperial Hotel & Spa ==> imperial\n",
            "Patel Hotel Hanoi ==> patelhanoi\n",
            "Khách sạn The Chi Boutique ==> thechiboutique\n",
            "Quang Chung Hotel ==> quangchung\n",
            "Somerset West Lake Hanoi ==> somersetwestlakehanoi\n",
            "Capsule Hanoi Luxury Hostel ==> capsulehanoi\n",
            "The Galaxy Home Hotel & Apartment ==> thegalaxy\n",
            "La Nueva  Boutique Hotel Hanoi ==> lanuevaboutiquehanoi\n",
            "Emerald Hotel Hanoi ==> emeraldhanoi\n",
            "Hanoi Central Park Hotel ==> hanoicentralpark\n",
            "Irest Apartment ==> irest\n",
            "Khách sạn Little Diamond ==> littlediamond\n",
            "Vision Premier Hotel & Spa ==> visionpremier\n",
            "Thang Long Hotel Hanoi ==> thanglonghanoi\n",
            "InterContinental Hotels HANOI WESTLAKE ==> intercontinentalshanoiwestlake\n",
            "Church Legend Hotel Hanoi ==> churchlegendhanoi\n",
            "Khách sạn Milan ==> milan\n",
            "Lieber Hotel 2 ==> lieber2\n",
            "Centre Point Hanoi Hotel ==> centrepointhanoi\n",
            "Diamond Legend Hotel ==> diamondlegend\n",
            "A25 Hotel - 15 Hang Than ==> a25-15hangthan\n",
            "Ha Noi Hotel Ba Dinh ==> hanoibadinh\n",
            "Khách Sạn Lavie ==> lavie\n",
            "Hanoi Esplendor Hotel & Spa ==> hanoiesplendor\n",
            "Khách sạn Bluebell ==> bluebell\n",
            "Khách Sạn Titanic 2 ==> titanic2\n",
            "V-Studio Hotel Apartment 2 ==> v-2\n",
            "P-Link Hotel ==> p-link\n",
            "Khách sạn Hà Nội Phố ==> hanoipho\n",
            "Royal Holiday Hanoi Hotel ==> royalholidayhanoi\n",
            "Poonsa Duy Tan Hotel and Serviced Apartment ==> poonsaduytanserviced\n",
            "Rosee Apartment ==> rosee\n",
            "Ohana Hotel ==> ohana\n",
            "Maro Hotel ==> maro\n",
            "Sap Hotel By Connek ==> sapbyconnek\n",
            "Hanoi Amore Hotel & Travel ==> hanoiamoretravel\n",
            "Matilda Boutique Hotel and Spa ==> matildaboutique\n",
            "Khách sạn Blue 29 ==> blue29\n",
            "Hotel De La Seine ==> delaseine\n",
            "Dream Hotel & Apartment ==> dream\n",
            "The Bloom Classic ==> thebloomclassic\n",
            "Maple Garden Apartment ==> maplegarden\n",
            "Little Charm Hanoi Hostel ==> littlecharmhanoi\n",
            "La Batisse Kim Ma Hotel ==> labatissekimma\n",
            "Hanoi Golden Hotel ==> hanoigolden\n",
            "A25 Hotel - 66 Tran Thai Tong ==> a25-66tranthaitong\n",
            "Saigon Palace - Tran Quoc Hoan ==> saigonpalace-tranquochoan\n",
            "Riverside Hanoi Hotel ==> riversidehanoi\n",
            "A25 Hotel - Hoàng Đạo Thúy ==> a25-hoangdaothuy\n",
            "Khách sạn Vọng Xưa ==> vongxua\n",
            "Golden Lotus Luxury Hotel ==> goldenlotus\n",
            "Hotel Bel Ami Hanoi ==> belamihanoi\n",
            "The Poppy Villa & Hotel ==> thepoppy\n",
            "Khách sạn Hilton Hà Nội ==> hiltonhanoi\n",
            "The West Hotel And Spa  ==> thewest\n",
            "Anh Duong Hotel Hanoi  ==> anhduonghanoi\n",
            "Mia Casa By Satori ==> miacasabysatori\n",
            "Lenid De Ho Guom Hotel ==> leniddehoguom\n",
            "King Ly Hotel ==> kingly\n",
            "Fukurai Hotel And Apartments   ==> fukurais\n",
            "\n",
            "====================\n",
            "\n",
            "Khách sạn HANZ Regal Hotel Hanoi ==> hanzregalhanoi\n",
            "Khách sạn La Nueva Boutique Hotel Hanoi & Spa ==> lanuevaboutiquehanoi\n",
            "Khách sạn La Storia Ruby Hotel ==> lastoriaruby\n",
            "Khách sạn LeaH Silk Hotel ==> leahsilk\n",
            "Khách sạn Babylon Premium Hotel & Spa ==> babylonpremium\n",
            "Căn hộ Mới trên Booking.com Sumitomo Hotel & Service Apartment 20 Lane 12 Dao Tan ==> trenbooking.comsumitomoservice20lane12daotan\n",
            "Khách sạn Bella Rosa Suite Hotel & Spa ==> bellarosasuite\n",
            "Khách sạn The Noble Swan Hotel & Spa ==> thenobleswan\n",
            "Khách sạn Hanoi House Hostel & Travel ==> hanoitravel\n",
            "Khách sạn Luxury Old Quarter Hotel & Gym ==> oldquartergym\n",
            "Khách sạn Viola Royal Hotel & Spa ==> violaroyal\n",
            "Khách sạn Labevie Hotel ==> labevie\n",
            "Khách sạn Classic Street Hotel ==> classicstreet\n",
            "Khách sạn Bella Rosa Hotel & Spa ==> bellarosa\n",
            "Khách sạn Hanoi Center Silk Hotel & Travel ==> hanoicentersilktravel\n",
            "Khách sạn Blue Hanoi Inn Hotel ==> bluehanoiinn\n",
            "Khách sạn Acoustic Hotel & Spa ==> acoustic\n",
            "Khách sạn Hanoi Prime Center Hotel ==> hanoiprimecenter\n",
            "Khách sạn Mercy Hotel ==> mercy\n",
            "Khách sạn Hanoi Media Hotel & Spa ==> hanoimedia\n",
            "Khách sạn Hanoi Lakeside Premium Hotel ==> hanoilakesidepremium\n",
            "Khách sạn My Moon Hotel Hanoi ==> mymoonhanoi\n",
            "Khách sạn Hanoi La Siesta Hotel Trendy ==> hanoilasiestatrendy\n",
            "Nhà trọ Hanoi Buffalo Hostel ==> trohanoibuffalo\n",
            "Khách sạn Hanoi Posh Boutique Hotel ==> hanoiposhboutique\n",
            "Khách sạn Matilda Boutique Hotel & Spa ==> matildaboutique\n",
            "Khách sạn Imperial Hotel & Spa ==> imperial\n",
            "Khách sạn Spring Hotel Hanoi ==> springhanoi\n",
            "Khách sạn Hanoi Allure Hotel ==> hanoiallure\n",
            "Khách sạn Ambassador Hanoi Hotel & Spa ==> ambassadorhanoi\n",
            "Khách sạn MIA HOTEL ==> mia\n",
            "Khách sạn 22Land Residence Hotel & Spa ==> 22lresidence\n",
            "Khách sạn Bonne Nuit Hotel & Spa Hanoi ==> bonnenuithanoi\n",
            "Khách sạn O'Gallery Premier Hotel & Spa ==> o'gallerypremier\n",
            "Khách sạn Hai Bay Hotel & Restaurant ==> haibay\n",
            "Căn hộ Moon West Lake Hotel & Residence ==> moonwestlakeresidence\n",
            "Khách sạn Lavender Central Hotel & Spa Hanoi ==> lavendercentralhanoi\n",
            "Khách sạn Hanoi Sunshine Hotel ==> hanoisunshine\n",
            "Khách sạn Le Grand Hanoi Hotel ==> legrhanoi\n",
            "Khách sạn Hanoi La Storia Hotel ==> hanoilastoria\n",
            "Khách sạn La Sinfonía del Rey Hotel & Spa ==> lasinfoniadelrey\n",
            "Khách sạn The West Hotel & Spa ==> thewest\n",
            "Khách sạn Grand Dragon Hotel Hanoi ==> grdragonhanoi\n",
            "Khách sạn Hanoi La Siesta Hotel & Spa ==> hanoilasiesta\n",
            "Khách sạn Grandiose Hotel & Spa ==> griose\n",
            "Khách sạn Hanoi Emerald Waters Hotel & Spa ==> hanoiemeraldwaters\n",
            "Khách sạn Dal Vostro Hotel & Spa ==> dalvostro\n",
            "Căn hộ WECOZY HANOI - Railway Side, The Old Quarter ==> wecozyhanoi-railwayside,theoldquarter\n",
            "Khách sạn Midori Boutique Hotel ==> midoriboutique\n",
            "Khách sạn Hanoi Marvellous Hotel & Spa ==> hanoimarvellous\n",
            "Khách sạn Silk Path Boutique Hanoi ==> silkpathboutiquehanoi\n",
            "Khách sạn Hanoi Emerald Waters Hotel Valley ==> hanoiemeraldwatersvalley\n",
            "Khách sạn Golden Cyclo Premier Hotel ==> goldencyclopremier\n",
            "Khách sạn The Lapis Hotel ==> thelapis\n",
            "Khách sạn Hanoi Exclusive Hotel ==> hanoiexclusive\n",
            "Khách sạn Bonsella Hotel ==> bonsella\n",
            "Khách sạn Amorita Boutique Hotel Hanoi ==> amoritaboutiquehanoi\n",
            "Khách sạn Bao Hung Hotel & Apartment ==> baohung\n",
            "Nhà trọ Hanoi Central Backpackers Hostel ==> trohanoicentralbackpackers\n",
            "Khách sạn La Palm Hotel ==> lapalm\n",
            "Khách sạn Hanoi La Selva Central Hotel & Spa ==> hanoilaselvacentral\n",
            "Nhà trọ Little Charm Hanoi Hostel - Homestay ==> trolittlecharmhanoi-stay\n",
            "Khách sạn Brandi Fuji Hotel ==> brifuji\n",
            "Khách sạn Hanoi Aria Central Hotel & Spa ==> hanoiariacentral\n",
            "Căn hộ Rose Apartment ==> rose\n",
            "Khách sạn Aurora Premium Hotel & Spa ==> aurorapremium\n",
            "Khách sạn Parkside Sunline Hotel ==> parksidesunline\n",
            "Khách sạn La Siesta Premium Hang Be ==> lasiestapremiumhangbe\n",
            "Khách sạn Nature Hotel ==> nature\n",
            "Căn hộ Mới trên Booking.com Vinhomes Skylake Pham Hung, Hà Nội, Việt Nam ==> trenbooking.comvinsskylakephamhung,hanoi,vietnam\n",
            "Khách sạn SEN LUXURY HOTEL ==> sen\n",
            "Nhà trọ Hanoi EcoStay 1 hostel ==> trohanoiecostay1\n",
            "Khách sạn Mia Casa by Satori ==> miacasabysatori\n",
            "Khách sạn Riverside Hanoi Hotel ==> riversidehanoi\n",
            "Khách sạn Hanoi Royal Palace Hotel 2 ==> hanoiroyalpalace2\n",
            "Khách sạn căn hộ The Bloom Hanoi ==> thebloomhanoi\n",
            "Căn hộ Mới trên Booking.com Anthyhouse - Studio Apt in Greenbay Mễ Trì - Luxury/Cozy/Friendly ==> trenbooking.comanthy-aptingreenbaymetri-/cozy/friendly\n",
            "Khách sạn Splendid Star Grand Hotel and Spa ==> splendidstargr\n",
            "Khách sạn Marina Hotel Hanoi ==> marinahanoi\n",
            "Khách sạn Hanoian Central Hotel & Spa ==> hanoiancentral\n",
            "Khách sạn 22housing Vinhomes Metropolis Hotel & Residence ==> 22housingvinsmetropolisresidence\n",
            "Chỗ nghỉ nhà dân Aura Home 16Typh ==> chonghidanaura16typh\n",
            "Khách sạn Hanoi Little Town Hotel ==> hanoilittletown\n",
            "Chỗ nghỉ nhà dân Mới trên Booking.com Jasmine Homestay ==> chonghidantrenbooking.comjasminestay\n",
            "Nhà trọ Nexy Hostel ==> tronexy\n",
            "Nhà nghỉ B&B Themes Hotel ==> nghibbthemes\n",
            "Khách sạn Sunrise Hanoi Hotel ==> sunrisehanoi\n",
            "Khách sạn Mai Hotel ==> mai\n",
            "Khách sạn Hanoi Sky Hotel ==> hanoisky\n",
            "Khách sạn Hanoi Pearl Hotel ==> hanoipearl\n",
            "Căn hộ Mới trên Booking.com Charming new apartment ==> trenbooking.comcharmingnew\n",
            "Nhà trọ Hanoi City Backpackers Hostel ==> trohanoicitybackpackers\n",
            "Khách sạn căn hộ The Galaxy Home Hotel & Apartment ==> thegalaxy\n",
            "Khách sạn Lucky 3 Hotel ==> lucky3\n",
            "Khách sạn Mới trên Booking.com Silk Flower Hotel ==> trenbooking.comsilkflower\n",
            "Khách sạn Mới trên Booking.com Grace Hotel & Residence ==> trenbooking.comgraceresidence\n",
            "Khách sạn Splendid Holiday Hotel ==> splendidholiday\n",
            "Khách sạn căn hộ Fresh West lake ==> freshwestlake\n",
            "Căn hộ Canvas Cau Giay Apartments ==> canvascaugiays\n",
            "Nhà trọ Hanoi Backpackersuite Hostel ==> trohanoibackpackersuite\n",
            "\n",
            "====================\n",
            "\n",
            "Căn Hộ Star Beach (Star Beach Apartment) ==> starbeach\n",
            "Khách Sạn Le's Cham (Le's Cham Hotel) ==> le'scham\n",
            "LeMore Hotel Nha Trang ==> lemorenhatrang\n",
            "Căn hộ Kymodo Panorama (Kymodo Panorama Apartment) ==> kymodopanorama\n",
            "InterContinental Nha Trang ==> intercontinentalnhatrang\n",
            "Libra Nha Trang Hotel ==> libranhatrang\n",
            "Khách Sạn Regalia Gold (Regalia Gold Hotel) ==> regaliagold\n",
            "Khách Sạn Cozy Nha Trang (Nhatrang Cozy Hotel) ==> cozynhatrang\n",
            "Khu Nghỉ Dưỡng Movenpick Cam Ranh (Movenpick Resort Cam Ranh) ==> khumovenpickcamranh\n",
            "Six Senses Ninh Vân Bay (Six Senses Ninh Van Bay) ==> sixsensesninhvanbay\n",
            "Khách sạn Novotel Nha Trang (Novotel Nha Trang Hotel) ==> novotelnhatrang\n",
            "Vinpearl Condotel Beachfront Nha Trang ==> vinpearlcondotelbeachfrontnhatrang\n",
            "Sheraton Nha Trang Hotel & Spa ==> sheratonnhatrang\n",
            "Khách sạn Tokia Nha Trang (Tokia Hotel Nha Trang) ==> tokianhatrang\n",
            "Khách Sạn The Art Nest Nha Trang (The Art Nest Hotel Nha Trang) ==> theartnestnhatrang\n",
            "Evason Ana Mandara Nha Trang Resort ==> evasonanamaranhatrang\n",
            "Khách sạn Havana  Nha Trang (Havana Nha Trang Hotel) ==> havananhatrang\n",
            "An Phu Gia Apartment & Hotel ==> anphugia\n",
            "Xala Boutique Hotel ==> xalaboutique\n",
            "Citadines Bayfront Nha Trang ==> citadinesbayfrontnhatrang\n",
            "Virgo Hotel ==> virgo\n",
            "Khách Sạn Agnes Nha Trang (Agnes Nha Trang Hotel) ==> agnesnhatrang\n",
            "Vinpearl Condotel Empire Nha Trang ==> vinpearlcondotelempirenhatrang\n",
            "Khách sạn Sunrise Nha Trang Beach Hotel & Spa (Sunrise Nha Trang Beach Hotel & Spa) ==> sunrisenhatrangbeach\n",
            "Khách sạn Alana Nha Trang (Alana Nha Trang Beach Hotel) ==> alananhatrang\n",
            "ibis Styles Nha Trang ==> ibisstylesnhatrang\n",
            "Khách sạn V Nha Trang (V Hotel Nha Trang) ==> vnhatrang\n",
            "Khách sạn Imperial Nha trang (Imperial Nha Trang Hotel) ==> imperialnhatrang\n",
            "Khách sạn Mường Thanh Luxury Nha Trang (Muong Thanh Luxury Nha Trang Hotel) ==> muongthanhnhatrang\n",
            "Khách Sạn & Căn Hộ Maple (Maple Hotel & Apartment) ==> maple\n",
            "Khách Sạn Starcity Nha Trang (StarCity Nha Trang Hotel) ==> starcitynhatrang\n",
            "Khách sạn Comodo Nha Trang (Comodo Nha Trang Hotel) ==> comodonhatrang\n",
            "Khách sạn Aaron (Aaron Hotel) ==> aaron\n",
            "Khách Sạn Erica Nha Trang (Erica Nha Trang Hotel) ==> ericanhatrang\n",
            "The Costa Nha Trang (The Costa Nha Trang Residences) ==> thecostanhatrang\n",
            "Khách Sạn Atlantic Nha Trang (Atlantic Nha Trang Hotel) ==> atlanticnhatrang\n",
            "Tabalo Hostel Nha Trang ==> tabalonhatrang\n",
            "Khách sạn LegendSea (LegendSea Hotel) ==> legendsea\n",
            "Căn Hộ Iseaview Nha Trang Beach - Dịch Vụ Cao Cấp Bởi Ven (Iseaview Nha Trang Beach Apartment - Super Service Host by Ven) ==> iseaviewnhatrangbeach-dichvucaocapboiven\n",
            "Venue Hotel ==> venue\n",
            "Sea View Luxury Zoom Apartment ==> seaviewzoom\n",
            "Khách sạn Galliot (Galliot Hotel Nha Trang) ==> galliot\n",
            "Khách sạn Dendro (Dendro Hotel Nha Trang) ==> dendro\n",
            "Apus Hotel (Apus Hotel ) ==> apus\n",
            "Sunny Hotel Nha Trang ==> sunnynhatrang\n",
            "Khách sạn Melissa (Melissa Hotel) ==> melissa\n",
            "Khách sạn Boss Nha Trang (Boss Hotel Nha Trang) ==> bossnhatrang\n",
            "Khách sạn Edele (Edele Hotel Nha Trang) ==> edele\n",
            "Khách Sạn Ruby (Ruby Hotel) ==> ruby\n",
            "Khách sạn AZURA (Azura Hotel) ==> azura\n",
            "Sunrise Ocean View Apartment ==> sunriseoceanview\n",
            "Khách sạn & Căn hộ Harvey (Harvey Hotel & Apartment) ==> harvey\n",
            "Khách sạn Poseidon Nha Trang (Poseidon Nha Trang Hotel) ==> poseidonnhatrang\n",
            "Khách Sạn Glory Nha Trang (Glory Hotel Nha Trang) ==> glorynhatrang\n",
            "Khách sạn TND (TND Hotel) ==> tnd\n",
            "Khách sạn ABAY Nha Trang (ABAY Hotel Nha Trang) ==> abaynhatrang\n",
            "The Summer Hotel ==> thesummer\n",
            "Truong Hai Hotel ==> truonghai\n",
            "Khách sạn Galina & Spa (Galina Hotel & Spa) ==> galina\n",
            "Diamond Bay Residence ==> diamondbayresidence\n",
            "Khách sạn Blue Star Nha Trang (Blue Star Hotel Nha Trang) ==> bluestarnhatrang\n",
            "Blu-One Hotel and Residences ==> blu-one\n",
            "Khách sạn Paris Nha Trang (Paris Nha Trang Hotel and Apartment) ==> parisnhatrang\n",
            "Senkotel Nha Trang Managed by NEST Group ==> senkotelnhatrangmanagedbynestgroup\n",
            "Khu Du Lịch Hòn Ông (Whale Island Resort) ==> khudulichhonong\n",
            "Khách sạn Nha Trang Palace (Nha Trang Palace Hotel) ==> nhatrangpalace\n",
            "Khách sạn Hòa Bình Xanh (Green Peace Hotel) ==> hoabinhxanh\n",
            "Khách sạn Golden Holiday (Golden Holiday Hotel Nha Trang) ==> goldenholiday\n",
            "Khách sạn New Sun Nha Trang (New Sun Hotel Nha Trang) ==> newsunnhatrang\n",
            "Souvenir Nha Trang Hotel ==> souvenirnhatrang\n",
            "Căn hộ Galaxy (Galaxy Apartment) ==> galaxy\n",
            "Khách sạn Majestic Star (Majestic Star Hotel) ==> majesticstar\n",
            "Seven Seas Hotel and Apartment ==> sevenseas\n",
            "Khách sạn Nhi Phi (Nhi Phi Hotel Nha Trang) ==> nhiphi\n",
            "Holi Beach Hotel and Apartments ==> holibeachs\n",
            "BIDV Hotel Nha Trang ==> bidvnhatrang\n",
            "Khách Sạn Camellia (Camellia Hotel) ==> camellia\n",
            "Khách sạn Vân Nam Nha Trang (Van Nam Hotel Nha Trang) ==> vannamnhatrang\n",
            "iBeach Apartment ==> ibeach\n",
            "Khách sạn The Light Hotel & Resort (The Light Hotel & Resort) ==> thelight\n",
            "Gold Ocean Apartments Nha Trang ==> goldoceansnhatrang\n",
            "Nhà nghỉ Việt Nam Backpackers - Ninhvana (Vietnam Backpacker Hostels - Ninhvana) ==> nghivietnambackpackers-ninhvana\n",
            "Khách Sạn Apollo Nha Trang (Apollo Hotel Nha Trang) ==> apollonhatrang\n",
            "Khách Sạn Nha Trang Pearl (Nha Trang Pearl Hotel) ==> nhatrangpearl\n",
            "Asia Paradise Hotel Nha Trang ==> asiaparadisenhatrang\n",
            "Khách Sạn 7S Aladin Nha Trang (7S Hotel Aladin Nha Trang) ==> 7saladinnhatrang\n",
            "Phuong Hoa Hotel Nha Trang ==> phuonghoanhatrang\n",
            "Khách Sạn Rembrandt Nha Trang (Rembrandt Hotel Nha Trang) ==> rembrtnhatrang\n",
            "Khách sạn Blue Pearl (Blue Pearl Hotel) ==> bluepearl\n",
            "Khách Sạn Carina (Carina Hotel) ==> carina\n",
            "VillageHouse Nha Trang (Village Hostel Nha Trang) ==> genhatrang\n",
            "Queen Hotel Tran Phu ==> queentranphu\n",
            "Sun City Hotel ==> suncity\n",
            "Queen 7 Hotel Nha Trang ==> queen7nhatrang\n",
            "Trần Viễn Đông (Tran Vien Dong) ==> tranviendong\n",
            "Khách sạn Queen 3 Nha Trang (Queen 3 Hotel Nha Trang) ==> queen3nhatrang\n",
            "Khách Sạn New Mexico (New Mexico Hotel) ==> newmexico\n",
            "Khách sạn Pavillon Garden Nha Trang (Pavillon Garden Hotel Nha Trang) ==> pavillongardennhatrang\n",
            "Khách sạn Nice Swan (Nice Swan Hotel Nha Trang) ==> niceswan\n",
            "Khách sạn Sealight Nha Trang (Sealight Hotel Nha Trang) ==> sealightnhatrang\n",
            "\n",
            "====================\n",
            "\n",
            "Khách Sạn Apricot Hà Nội ==> apricothanoi\n",
            "Khách Sạn Imperial Hà Nội ==> imperialhanoi\n",
            "Khách Sạn Beryl Palace Hanoi ==> berylpalacehanoi\n",
            "Khách sạn La Nueva Boutique Hà Nội ==> lanuevaboutiquehanoi\n",
            "Khách Sạn Melia Hà Nội ==> meliahanoi\n",
            "Khách Sạn Sofitel Legend Metropole Hanoi ==> sofitellegendmetropolehanoi\n",
            "Khách sạn Pullman Hanoi  ==> pullmanhanoi\n",
            "The West Hotel & Spa  ==> thewest\n",
            "Glory Resort  ==> glory\n",
            "Khách Sạn Ping Hà Nội ==> pinghanoi\n",
            "Khách Sạn Somerset West Lake Serviced Residences ==> somersetwestlakeserviced\n",
            "Thảo Viên Resort ==> thaovien\n",
            "Khách Sạn Hilton Hanoi Opera ==> hiltonhanoiopera\n",
            "Khách Sạn Pan Pacific Hà Nội ==> panpacifichanoi\n",
            "Khách sạn & Spa Hà Nội Marvellous ==> hanoimarvellous\n",
            "Khách sạn Grand Vista Hà Nội ==> grvistahanoi\n",
            "La Sinfonía del Rey Hotel & Spa ==> lasinfoniadelrey\n",
            "Khách sạn Grande Collection Hotel & Spa ==> grecollection\n",
            "Khách sạn La Siesta Premium Hàng Bè Hà Nội ==> lasiestapremiumhangbehanoi\n",
            "Khách Sạn Minerva Church ==> minervachurch\n",
            "Khách Sạn Golden Silk Boutique ==> goldensilkboutique\n",
            "Khách Sạn Thắng Lợi Hà Nội ==> thangloihanoi\n",
            "Khách sạn Hà Nội Pearl Hotel ==> hanoipearl\n",
            "Khách Sạn Hanoi Club & Residences ==> hanoiclub\n",
            "Căn Hộ Dịch Vụ 22 Housing Vinhomes D'Capital ==> dichvu22housingvinsd'capital\n",
            "Khách Sạn La Siesta Classic Mã Mây ==> lasiestaclassicmamay\n",
            "Khách Sạn A25 (A25 Hotel & Spa) ==> a25\n",
            "Khách Sạn Grand Plaza Hà Nội ==> grplazahanoi\n",
            "Khách Sạn du Parc Hà Nội ==> duparchanoi\n",
            "Khách sạn AIRA Boutique Hanoi Hotel & Spa ==> airaboutiquehanoi\n",
            "Khách sạn Hanoi  Center Silk ==> hanoicentersilk\n",
            "Khách Sạn Solaria ==> solaria\n",
            "Aurora Premium Hotel & Spa ==> aurorapremium\n",
            "Khách Sạn Mường Thanh Hà Nội Centre  ==> muongthanhhanoicentre\n",
            "Khách Sạn The Noble Swan Hotel & Spa ==> thenobleswan\n",
            "Khách Sạn Grand Cititel Hà Nội ==> grcititelhanoi\n",
            "Khách Sạn Somerset West Point Hà Nội ==> somersetwestpointhanoi\n",
            "Khách Sạn Sunline ==> sunline\n",
            "Khách Sạn Authentic Hà Nội ==> authentichanoi\n",
            "Hotel Du Monde ==> dumonde\n",
            "Khách Sạn Hanoi Le Jardin Hotel & Spa ==> hanoilejardin\n",
            "Khách sạn Blue Hà Nội Inn City (Blue Hanoi Inn Group) ==> bluehanoiinncity\n",
            "Khách Sạn Gatsby Hà Nội ==> gatsbyhanoi\n",
            "Khách Sạn Dinh Hà Nội ==> dinhhanoi\n",
            "Khách sạn Hòa Bình Hà Nội ==> hoabinhhanoi\n",
            "Khách Sạn Hồ Hoàn Kiếm ==> hohoankiem\n",
            "Khách sạn Hanoi Lakeside Premium ==> hanoilakesidepremium\n",
            "Khách Sạn Ma Coeur Boutique ==> macoeurboutique\n",
            "Khách Sạn Kuretake Inn ==> kuretakeinn\n",
            "Khách sạn A25 - 66 Trần Thái Tông ==> a25-66tranthaitong\n",
            "Khách Sạn Văn Miếu 2 ==> vanmieu2\n",
            "Khách Sạn Sunny 1 ==> sunny1\n",
            "Khách Sạn Somerset Grand Hà Nội ==> somersetgrhanoi\n",
            "Khách sạn Golden Legend Diamond  ==> goldenlegenddiamond\n",
            "Khách Sạn T&M Luxury Hà Nội ==> tmhanoi\n",
            "Mai Charming Hotel and Spa ==> maicharming\n",
            "Khách Sạn A25 - Asean Ngô Sĩ Liên ==> a25-aseanngosilien\n",
            "Rose Garden Hotel & Apartment ==> rosegarden\n",
            "Khách Sạn The Pearl Hanoi ==> thepearlhanoi\n",
            "Khách sạn 22Land Residence 71 Hàng Bông  ==> 22lresidence71hangbong\n",
            "Khách Sạn Eden - Đoàn Trần Nghiệp ==> eden-doantrannghiep\n",
            "Green hotel apartment ==> green\n",
            "Khách Sạn Somerset Hòa Bình ==> somersethoabinh\n",
            "Khách Sạn Lakeside Palace ==> lakesidepalace\n",
            "Khách sạn Tirant  ==> tirant\n",
            "Khách Sạn Thăng Long Espana ==> thanglongena\n",
            "Khách Sạn Mường Thanh Grand Xa La ==> muongthanhgrxala\n",
            "Khách sạn Hà Nội ==> hanoi\n",
            "Khách sạn Blue 29 (Blue Hanoi Inn Group) ==> blue29\n",
            "Khách sạn Romantique De Hanoi ==> romantiquedehanoi\n",
            "Khách sạn Hanoi Fiesta Hotel & Spa ==> hanoifiesta\n",
            "Khách Sạn Mỹ Lan Hà Nội ==> mylanhanoi\n",
            "Căn hộ London Hanoi Apartment ==> londonhanoi\n",
            "Khách Sạn L'Heritage Centre Hà Nội ==> l'heritagecentrehanoi\n",
            "Khách Sạn A25 - 44 Hàng Bún ==> a25-44hangbun\n",
            "Khách Sạn Vision Boutique ==> visionboutique\n",
            "Khách Sạn Hong Ngoc Dynastie Boutique Hotel & Spa ==> hongngocdynastieboutique\n",
            "Khách sạn 3T Hà Nội 2 ==> 3thanoi2\n",
            "Khách Sạn Vision Premier ==> visionpremier\n",
            "Khách sạn Lenid Thợ Nhuộm ==> lenidthonhuom\n",
            "Khách sạn Hanoi Ancient Paradise ==> hanoiancientparadise\n",
            "Eastin Hotel & Residences Hà Nội ==> eastinhanoi\n",
            "Khách sạn Khăn Quàng Đỏ ==> khanquangdo\n",
            "Khách sạn Hanoi Bella Rosa ==> hanoibellarosa\n",
            "Khách sạn C'bon ==> c'bon\n",
            "Shendo Vinhomes Metropolis ==> shendovinsmetropolis\n",
            "Khách sạn Dragon Pearl Hanoi ==> dragonpearlhanoi\n",
            "Khách Sạn Hà Nội Emerald Waters Valley  ==> hanoiemeraldwatersvalley\n",
            "Khách Sạn Tú Linh Palace ==> tulinhpalace\n",
            "Khách sạn Bella Rosa Trendy ==> bellarosatrendy\n",
            "Khách sạn Brandi Fuji ==> brifuji\n",
            "Khách Sạn Hilton Garden Inn Hanoi ==> hiltongardeninnhanoi\n",
            "Khách Sạn A25 - 61 Lương Ngọc Quyến ==> a25-61luongngocquyen\n",
            "Khách sạn Hanoi Elpis ==> hanoielpis\n",
            "Khách sạn Inearth Hà Nội ==> ithhanoi\n",
            "Khách Sạn Eternity Hà Nội ==> eternityhanoi\n",
            "Khách sạn New Century Hà Nội ==> newcenturyhanoi\n",
            "Khách Sạn Spring Hanoi ==> springhanoi\n",
            "Khách Sạn La Mejor Hotel & Sky Bar  ==> khachsanlamejorsky\n",
            "Khách sạn A25 - Trần Quý Cáp ==> a25-tranquycap\n"
          ]
        }
      ]
    },
    {
      "cell_type": "markdown",
      "source": [
        "**Address**"
      ],
      "metadata": {
        "id": "GBCBOha355NN"
      }
    },
    {
      "cell_type": "code",
      "source": [
        "#Bước 1: Chuyển về dạng chữ thường\n",
        "traveloka_df['new_add'] = traveloka_df['Address'].str.lower()\n",
        "mytour_df['new_add'] = mytour_df['Address'].str.lower()\n",
        "agoda_df['new_add'] = agoda_df['address'].str.lower()\n",
        "booking_df['new_add'] = booking_df['Address'].str.lower()"
      ],
      "metadata": {
        "id": "N9h2Hf6B56r_"
      },
      "execution_count": 128,
      "outputs": []
    },
    {
      "cell_type": "code",
      "source": [
        "#Bước 2: Loại bỏ mã vùng/mã tỉnh \n",
        "traveloka_df['new_add'] = [y.partition(', việt nam')[0] for y in traveloka_df['new_add']]\n",
        "booking_df['new_add'] = [y.partition(', việt nam')[0] for y in booking_df['new_add']]\n",
        "agoda_df['new_add'] = [y.partition(', việt nam')[0] for y in agoda_df['new_add']]\n",
        "mytour_df['new_add'] = [y.partition(', việt nam')[0] for y in mytour_df['new_add']]"
      ],
      "metadata": {
        "id": "5gOw2cs56D7y"
      },
      "execution_count": 129,
      "outputs": []
    },
    {
      "cell_type": "code",
      "source": [
        "#Bước 3: Loại bỏ các substring thông dụng\n",
        "subadds = [\"xóm\", \"quận\", \"thị xã\", \"ngõ\", \"số\", \"tòa\", \"thành phố\", \"phố cổ\", \"phố\",  \n",
        "           \"đường\", \"phường\", \"cư xá\", \"cảng\", \"hẻm\", \"khu\", \"đô thị\", \"nhà\",\n",
        "           \"ngách\", \"phòng\", \"căn\", \"tầng\", \"tỉnh\", \"tổ\", \"ap\", \"ấp\", \"lô\", \"bãi\",\n",
        "           \"xã\", \"huyện\", \"du lịch\", \"di tích\", \"đại lộ\", \"đảo\", \"và\", \"tel 02633.608084\",\n",
        "           \"trung tâm\", \"đối diện\", \"phía\", \"sau\", \"trước\", \"siêu thị\", \"vn\", \"quan\",\n",
        "           \"no\", \"no.\", \"nos\", \"island\", \"alley\", \"lane\", \"street\", \"ward\", \"district\",\n",
        "           \"group\", \"province\", \"block\", \"beach\", \"city\", \"basilica\", \"market\", \"lake\",\n",
        "           \"area\", \"unit\", \"gate\", \"port\", \"wharft\", \"near by\", \"building\", \"zone\",\n",
        "           \"tp\", \"str\", \"st\", \"dist\", \"pro\", \"bis\", \"kđt\", \"hcmc\", \"hcm\", \n",
        "           \"hà nội\", \"hồ chí minh\", \"đà lạt\", \"đà nẵng\", \"nha trang\", \"vũng tàu\", \n",
        "           \"phú quốc\", \"quảng ninh\", \"hạ long\", \"ha long\", \"ha noi\", \"ho chi minh\",\n",
        "           \"da lat\", \"da nang\", \"vung tau\", \"phu quoc\", \"quang ninh\", \"viet nam\", \"vietnam\", \n",
        "           \",\"\n",
        "            ]"
      ],
      "metadata": {
        "id": "YQ6xuNGK6GB9"
      },
      "execution_count": 130,
      "outputs": []
    },
    {
      "cell_type": "code",
      "source": [
        "agoda_df['new_add'].replace(subadds,'', inplace=True, regex=True)\n",
        "booking_df['new_add'].replace(subadds,'', inplace=True, regex=True)\n",
        "traveloka_df['new_add'].replace(subadds,'', inplace=True, regex=True)\n",
        "mytour_df['new_add'].replace(subadds,'', inplace=True, regex=True)"
      ],
      "metadata": {
        "id": "57Nm8HSA6IJE"
      },
      "execution_count": 131,
      "outputs": []
    },
    {
      "cell_type": "code",
      "source": [
        "# #Bước 4: Bỏ dấu\n",
        "agoda_df['new_add']=[unidecode.unidecode(y) for y in agoda_df['new_add']]\n",
        "booking_df['new_add']=[unidecode.unidecode(y) for y in booking_df['new_add']]\n",
        "traveloka_df['new_add']=[unidecode.unidecode(y) for y in traveloka_df['new_add']]\n",
        "mytour_df['new_add']=[unidecode.unidecode(y) for y in mytour_df['new_add']]"
      ],
      "metadata": {
        "id": "i7-sS6ED6KZ4"
      },
      "execution_count": 132,
      "outputs": []
    },
    {
      "cell_type": "code",
      "source": [
        "#Bước 5: Loại bỏ khoảng cách giữa các từ\n",
        "# agoda_df['new_add'].str.replace('(','').str.replace(')','').str.replace('.','')\n",
        "# booking_df['new_add'].str.replace('(','').str.replace(')','').str.replace('.','')\n",
        "# traveloka_df['new_add'].str.replace('(','').str.replace(')','').str.replace('.','')\n",
        "# mytour_df['new_add'].str.replace('(','').str.replace(')','').str.replace('.','')\n",
        "agoda_df['new_add'].replace(' ','', inplace=True, regex=True)\n",
        "booking_df['new_add'].replace(' ','', inplace=True, regex=True)\n",
        "traveloka_df['new_add'].replace(' ','', inplace=True, regex=True)\n",
        "mytour_df['new_add'].replace(' ','', inplace=True, regex=True)"
      ],
      "metadata": {
        "id": "wnVyLemM6MHj"
      },
      "execution_count": 133,
      "outputs": []
    },
    {
      "cell_type": "code",
      "source": [
        "#Check kết quả\n",
        "for i in range(100):\n",
        "    print(traveloka_df['Address'][i]+' ==> '+traveloka_df['new_add'][i])\n",
        "print(\"\\n====================\\n\")\n",
        "for i in range(100):\n",
        "    print(booking_df['Address'][i]+' ==> '+booking_df['new_add'][i])\n",
        "print(\"\\n====================\\n\")\n",
        "for i in range(100):\n",
        "    print(agoda_df['address'][i]+' ==> '+agoda_df['new_add'][i])\n",
        "print(\"\\n====================\\n\")\n",
        "for i in range(100):\n",
        "    print(mytour_df['Address'][i]+' ==> '+mytour_df['new_add'][i])"
      ],
      "metadata": {
        "colab": {
          "base_uri": "https://localhost:8080/"
        },
        "id": "mRWwGKh16OK0",
        "outputId": "9a00cfda-3627-4749-c288-6a7baf9d13d2"
      },
      "execution_count": 134,
      "outputs": [
        {
          "output_type": "stream",
          "name": "stdout",
          "text": [
            "72-74 Hàng Buồm, Hàng Buồm, Quận Hoàn Kiếm, Hà Nội, Việt Nam, 100000 ==> 72-74hangbuomhangbuomquanhoankiem\n",
            "49 Lãn Ông, Hàng Bồ, Quận Hoàn Kiếm, Hà Nội, Việt Nam, 108313 ==> 49lanonghangboquanhoankiem\n",
            "11 Ngõ Trung Yên, phố Đinh Liệt, Hoan Kiếm, Hàng Bạc, Quận Hoàn Kiếm, Hà Nội, Việt Nam, 106876 ==> 11trungyendinhliethoankiemhangbacquanhoankiem\n",
            "Số 20, Tống Duy Tân, Phố Hàng Bống, Hàng Bông, Quận Hoàn Kiếm, Hà Nội, Việt Nam, 100000 ==> 20tongduytanhangbonghangbongquanhoankiem\n",
            "No 5, alley 148 Tran Duy Hung street, Yen Hoa ward, Cau Giay district, Hanoi, Phường Trung Hòa, Quận Cầu Giấy, Hà Nội, Việt Nam, 100000 ==> 5148tranduyhungyenhoacaugiayhaitrunghoaquancaugiay\n",
            "235 Phố Huế, Phố Huế, Quận Hai Bà Trưng, Hà Nội, Việt Nam, 100000 ==> 235phohuehuequanhaibatrung\n",
            "117 Trần Duy Hưng, Phường Trung Hòa, Quận Cầu Giấy, Hà Nội, Việt Nam, 100000 ==> 117tranduyhungtrunghoaquancaugiay\n",
            "30 Phố Võng Thị , Bưởi, Tây Hồ, Hà Nội, Việt Nam, 100000 ==> 30vongthibuoitayho\n",
            "Số 2 , Cầu Gỗ , Hoàn Kiếm , Hàng Bạc, Quận Hoàn Kiếm, Hà Nội, Việt Nam, 11000 ==> 2caugohoankiemhangbacquanhoankiem\n",
            "115 Trần Hưng Đạo, Cửa  Nam, Quận Hoàn Kiếm, Hà Nội, Việt Nam, 10000 ==> 115tranhungdaocuanamquanhoankiem\n",
            "46 Nguyễn Trường Tộ, Trúc Bạch, Quận Ba Đình, Hà Nội, Việt Nam, 100000 ==> 46nguyentruongtotrucbachquanbadinh\n",
            "40 Hàng Buồm, Hàng Buồm, Quận Hoàn Kiếm, Hà Nội, Việt Nam, 100000 ==> 40hangbuomhangbuomquanhoankiem\n",
            "48 Trần Nhân Tông, Nguyễn Du, Nguyễn Du, Quận Hai Bà Trưng, Hà Nội, Việt Nam, 11600 ==> 48trannhantongnguyendunguyenduquanhaibatrung\n",
            "18 Lò Sũ, Hoàn Kiếm, Lý Thái Tổ, Quận Hoàn Kiếm, Hà Nội, Việt Nam, 10000 ==> 18losuhoankiemlythaiquanhoankiem\n",
            "47 Lò Sũ, Lý Thái Tổ, Quận Hoàn Kiếm, Hà Nội, Việt Nam, 100000 ==> 47losulythaiquanhoankiem\n",
            "50 Nguyễn Chí Thanh, Láng Thượng, Quận Đống Đa, Hà Nội, Việt Nam, 100000 ==> 50nguyenchithanhlangthuongquandongda\n",
            "35 -37 Bát Sứ, Hàng Bồ, Hoàn Kiếm, Hàng Bồ, Quận Hoàn Kiếm, Hà Nội, Việt Nam, 100000 ==> 35-37batsuhangbohoankiemhangboquanhoankiem\n",
            "246B Hàng Bông, Cửa  Nam, Quận Hoàn Kiếm, Hà Nội, Việt Nam, 100000 ==> 246bhangbongcuanamquanhoankiem\n",
            "3 Hẻm 148 Trần Duy Hưng, Phường Trung Hòa, Quận Cầu Giấy, Hà Nội, Việt Nam, 550000 ==> 3148tranduyhungtrunghoaquancaugiay\n",
            "210 Lạc Long Quân, Bưởi, Tây Hồ, Hà Nội, Việt Nam, 100000 ==> 210laclongquanbuoitayho\n",
            "141a, ngõ 141 Nguyễn Ngọc Vũ, Phường Trung Hòa, Quận Cầu Giấy, Hà Nội, Việt Nam, 100000 ==> 141a141nguyenngocvutrunghoaquancaugiay\n",
            "Số 16 Ngõ 1, Phố Đồng Me, Phường Mễ Trì, Nam Từ Liêm, Hà Nội, Việt Nam, 100000 ==> 161dongmemetrinamtuliem\n",
            "44 Hàng Trống, Hoàn Kiếm, Phường Hàng Trống, Quận Hoàn Kiếm, Hà Nội, Việt Nam, 100000 ==> 44hangtronghoankiemphuonghangtrongquanhoankiem\n",
            "23 Bùi Thị Xuân, Bùi Thị Xuân, Quận Hai Bà Trưng, Hà Nội, Việt Nam, 100000 ==> 23buithixuanbuithixuanquanhaibatrung\n",
            "32 Lê Thái Tổ, Phường Hàng Trống, Quận Hoàn Kiếm, Hà Nội, Việt Nam, 107531 ==> 32lethaiphuonghangtrongquanhoankiem\n",
            "100 Dịch Vọng Hậu, Dịch Vọng Hậu, Quận Cầu Giấy, Hà Nội, Việt Nam, 100000 ==> 100dichvonghaudichvonghauquancaugiay\n",
            "số 90, ngõ 116 Phố Nhân Hòa (Đối diện ngõ 9 phố Hoàng Đạo Thúy), phường Nhân Chính, Thanh Xuân, Hà Nội, Việt Nam, 100000 ==> 90116nhanhoa(9hoangdaothuy)nhanchinhthanhxuan\n",
            "98 Hàng Gai, Hàng Gai, Quận Hoàn Kiếm, Hà Nội, Việt Nam, 110703 ==> 98hanggaihanggaiquanhoankiem\n",
            "Ngõ 45, Trần Thái Tông, Quận Cầu Giấy, Hà Nội, Việt Nam, 70000 ==> 45tranthaitongquancaugiay\n",
            "6 Ngô Bảo Khanh, Phường Hàng Trống, Quận Hoàn Kiếm, Hà Nội, Việt Nam, 10000 - 150000 ==> 6ngobaokhanhphuonghangtrongquanhoankiem\n",
            "1A Ngõ 26 Đỗ Quang, Trung Hòa Nhân Chính, Trung Hoà, Cầu Giấy, Phường Trung Hòa, Quận Cầu Giấy, Hà Nội, Việt Nam, 100000 ==> 1a26dogtrunghoanhanchinhtrunghoacaugiaytrunghoaquancaugiay\n",
            "122 Hàng Bông, Hàng Bông, Quận Hoàn Kiếm, Hà Nội, Việt Nam, 100000 ==> 122hangbonghangbongquanhoankiem\n",
            "Số 3, ngõ 34/68, Hoàng Cầu, Ô Chợ Dừa, Quận Đống Đa, Hà Nội, Việt Nam, 100000 ==> 334/68hoangcauochoduaquandongda\n",
            "187 Hàng Bông, Hoàn Kiếm, Hàng Bông, Quận Hoàn Kiếm, Hà Nội, Việt Nam, 11000 ==> 187hangbonghoankiemhangbongquanhoankiem\n",
            "Số C5, D6 phố Trần Thái Tông, Quận Cầu Giấy, Hà Nội, Việt Nam, 100000 ==> c5d6tranthaitongquancaugiay\n",
            "11 Hàng Rươi, Hàng Mã, Quận Hoàn Kiếm, Hà Nội, Việt Nam, 100000 ==> 11hangruoihangmaquanhoankiem\n",
            "08 Ngõ Thọ Xương, Phố Ấu Triệu, Phường Hàng Trống, Quận Hoàn Kiếm, Hà Nội, Việt Nam, 100000 ==> 08thoxuongautrieuphuonghangtrongquanhoankiem\n",
            "3 Bảo Khánh, Phường Hàng Trống, Quận Hoàn Kiếm, Hà Nội, Việt Nam, 110204 ==> 3baokhanhphuonghangtrongquanhoankiem\n",
            "7 Ngõ Gạch   , Hàng Buồm, Quận Hoàn Kiếm, Hà Nội, Việt Nam, 100000 ==> 7gachhangbuomquanhoankiem\n",
            "108 Hàng Bông, Hàng Bông, Quận Hoàn Kiếm, Hà Nội, Việt Nam, 103543 ==> 108hangbonghangbongquanhoankiem\n",
            "44 Hàng Hành, Phường Hàng Trống, Quận Hoàn Kiếm, Hà Nội, Việt Nam, 100000 ==> 44hanghanhphuonghangtrongquanhoankiem\n",
            "35 Lê Đức Thọ, Mỹ Đình 2, Nam Từ Liêm, Hà Nội, Việt Nam, 100000 ==> 35leducthomydinh2namtuliem\n",
            "13 Đường Nhà Chung, Phường Hàng Trống, Quận Hoàn Kiếm, Hà Nội, Việt Nam, 100000 ==> 13chungphuonghangtrongquanhoankiem\n",
            "56 Lê Văn Thiêm, Nhân Chính, phường Nhân Chính, Thanh Xuân, Hà Nội, Việt Nam, 100000 ==> 56levanthiemnhanchinhnhanchinhthanhxuan\n",
            "254D Thuy Khue Street, Tay Ho, Thụy Khuê, Tây Hồ, Hà Nội, Việt Nam, 100000 ==> 254dthuyetayhothuyetayho\n",
            "20, Ngõ 160, Ngọc Hà, Ngọc Hà, Quận Ba Đình, Hà Nội, Việt Nam, 100000 ==> 20160ngochangochaquanbadinh\n",
            "Số nhà 36E, phố Dịch Vọng Hậu, Tổ 27, Dịch Vọng Hậu, Quận Cầu Giấy, Hà Nội, Việt Nam, 100000 ==> 36edichvonghau27dichvonghauquancaugiay\n",
            "32 Lò Sũ,  Phường Lý Thái Tổ, Lý Thái Tổ, Quận Hoàn Kiếm, Hà Nội, Việt Nam, 100000 ==> 32losulythailythaiquanhoankiem\n",
            "64 Triệu Việt Vương, Bùi Thị Xuân, Quận Hai Bà Trưng, Hà Nội, Việt Nam, 100000 ==> 64trieuvietvuongbuithixuanquanhaibatrung\n",
            "58 Hàng Bè, Lý Thái Tổ, Quận Hoàn Kiếm, Hà Nội, Việt Nam, 113586 ==> 58hangbelythaiquanhoankiem\n",
            "202 Nguyễn Văn Tuyết, Trung Liệt, Đống Đa, Trung Liệt, Quận Đống Đa, Hà Nội, Việt Nam, 100000 ==> 202nguyenvantuyettrunglietdongdatrunglietquandongda\n",
            "11 Bát Đàn, Hàng Bồ, Quận Hoàn Kiếm, Hà Nội, Việt Nam, 106322 ==> 11batdanhangboquanhoankiem\n",
            "41 Phủ Doãn, Quận Hoàn Kiếm, Hà Nội, Việt Nam, 100000 ==> 41phudoanquanhoankiem\n",
            "713 Giải Phóng, phường Phương Liệt, Thanh Xuân, Hà Nội, Việt Nam, 100000 ==> 713giaiphongphuonglietthanhxuan\n",
            "05 Tu Hoa,Tay Ho, Quảng An, Tây Hồ, Hà Nội, Việt Nam, 10000 ==> 05tuhoatayhoquangantayho\n",
            "46 Ấu Triệu, Phường Hàng Trống, Quận Hoàn Kiếm, Hà Nội, Việt Nam, 107131 ==> 46autrieuphuonghangtrongquanhoankiem\n",
            "30/157 Chùa Láng, Phượng Lãng Thượng, Láng Thượng, Quận Đống Đa, Hà Nội, Việt Nam, 100000 ==> 30/157chualangphuonglangthuonglangthuongquandongda\n",
            "4 Yên Phúc, Phúc La, Quận Hà Đông, Hà Nội, Việt Nam, 100000 ==> 4yenphucphuclaquanhadong\n",
            "25 Hàng Hành, Phường Hàng Trống, Phường Hàng Trống, Quận Hoàn Kiếm, Hà Nội, Việt Nam, 100000 ==> 25hanghanhhangtrongphuonghangtrongquanhoankiem\n",
            "59 Hàng Cót, Phường Hàng Mã, Hàng Mã, Quận Hoàn Kiếm, Hà Nội, Việt Nam, 70000 ==> 59hangcothangmahangmaquanhoankiem\n",
            "15A Hàng Than, Nguyễn Trung Trực, Quận Ba Đình, Hà Nội, Việt Nam, 100000 ==> 15ahangthannguyentrungtrucquanbadinh\n",
            "D8 Giảng Võ, Giảng Võ, Quận Ba Đình, Hà Nội, Việt Nam, 100000 ==> d8giangvogiangvoquanbadinh\n",
            " 25N7B, Ngõ Số 7, Đường Hoàng Minh Giám, phường Nhân Chính, Thanh Xuân, Hà Nội, Việt Nam, 11415 ==> 25n7b7hoangminhgiamnhanchinhthanhxuan\n",
            "78-80 Hàng Gà, Hàng Bồ, Quận Hoàn Kiếm, Hà Nội, Việt Nam, 100000 ==> 78-80hanggahangboquanhoankiem\n",
            "41 Ngõ Huyện, Phường Hàng Trống, Quận Hoàn Kiếm, Hà Nội, Việt Nam, 106764 ==> 41phuonghangtrongquanhoankiem\n",
            "Số 22, Ngõ 467 Phạm Văn Đồng, Cổ Nhuế 1, Bắc Từ Liêm, Hà Nội , Cổ Nhuế 1, Huyện Bắc Từ Liêm, Hà Nội, Việt Nam, 100000 ==> 22467phamvandongconhue1bactuliemconhue1huyenbactuliem\n",
            "Số 47, Ngõ 148 Trần Duy Hưng, Trung Hoa, Phường Trung Hòa, Quận Cầu Giấy, Hà Nội, Việt Nam, 100000 ==> 47148tranduyhungtrunghoatrunghoaquancaugiay\n",
            "36, Ngõ 26, Hoàng Quốc Việt, Nghia Do ward, Quận Cầu Giấy, Hà Nội, Việt Nam, 100000 ==> 3626hoangquocvietnghiadoquancaugiay\n",
            "46 Nguyễn Văn Tố, Cửa Đông, Quận Hoàn Kiếm, Hà Nội, Việt Nam, 102134 ==> 46nguyenvantocuadongquanhoankiem\n",
            "19 Hàng Hành, Phường Hàng Trống, Quận Hoàn Kiếm, Hà Nội, Việt Nam, 107643 ==> 19hanghanhphuonghangtrongquanhoankiem\n",
            "No. 05 Tho Thap Street, Dich Vong Hau Ward, Cau Giay District,, Quận Cầu Giấy, Hà Nội, Việt Nam, 100000 ==> .05thothdichvonghaucaugiayquancaugiay\n",
            "31/C2 AR2 Nam Trung Yên, Cầu Giấy, Phường Trung Hòa, Quận Cầu Giấy, Hà Nội, Việt Nam, 100000 ==> 31/c2ar2namtrungyencaugiaytrunghoaquancaugiay\n",
            "153 Trieu Viet Vuong, Hai Ba Trung, Bùi Thị Xuân, Quận Hai Bà Trưng, Hà Nội, Việt Nam, 100000 ==> 153trieuvietvuonghaibatrungbuithixuanquanhaibatrung\n",
            "64 Cầu Gỗ, Hàng Bạc, Quận Hoàn Kiếm, Hà Nội, Việt Nam, 104541 ==> 64caugohangbacquanhoankiem\n",
            "27- 29 Gia Ngư, Hàng Bạc, Quận Hoàn Kiếm, Hà Nội, Việt Nam, 111434 ==> 27-29gianguhangbacquanhoankiem\n",
            "105 Vũ Tông Phan, phương Khương Trung, Thanh Xuân, Hà Nội, Việt Nam, 100000 ==> 105vutongphanphuongkhuongtrungthanhxuan\n",
            "73 Phố Mã Mây, Hàng Buồm, Hoàn Kiếm, Hàng Buồm, Quận Hoàn Kiếm, Hà Nội, Việt Nam, 100000 ==> 73mamayhangbuomhoankiemhangbuomquanhoankiem\n",
            "Số 3, Ngõ 325, Giãng Võ, Cát Linh, Quận Đống Đa, Hà Nội, Việt Nam, 100000 ==> 3325giangvocatlinhquandongda\n",
            "47 Nguyễn Như Đổ, Văn Miếu, Quận Đống Đa, Hà Nội, Việt Nam, 100000 ==> 47nguyennhudovanmieuquandongda\n",
            "64 Nguyễn Lương Bằng, Nam Đồng, Quận Đống Đa, Hà Nội, Việt Nam, 100000 ==> 64nguyenluongbangnamdongquandongda\n",
            "58 Trương Công Giai, Quận Cầu Giấy, Hà Nội, Việt Nam, 100000 ==> 58truongconggiaiquancaugiay\n",
            "Số 15 ngõ 6 ngách 41 Trần Quốc Hoàn, quận Cầu Giấy, Dịch Vọng Hậu, Quận Cầu Giấy, Hà Nội, Việt Nam, 100000 ==> 15641tranquochoancaugiaydichvonghauquancaugiay\n",
            "44 Hàng Bồ, Hàng Bồ, Quận Hoàn Kiếm, Hà Nội, Việt Nam, 70000 ==> 44hangbohangboquanhoankiem\n",
            " Ngõ 143 Kim Mã, Kim Mã, Quận Ba Đình, Hà Nội, Việt Nam, 100000 ==> 143kimmakimmaquanbadinh\n",
            "12 Ngõ Gạch, Hàng Buồm, Quận Hoàn Kiếm, Hà Nội, Việt Nam, 100000 ==> 12gachhangbuomquanhoankiem\n",
            "66 Trần Thái Tông, Dịch Vọng Hậu, Quận Cầu Giấy, Hà Nội, Việt Nam, 100000 ==> 66tranthaitongdichvonghauquancaugiay\n",
            "No.10, alley 53/21, lane 53, Tran Quoc Hoan Street., Dich Vong Hau ward, Dịch Vọng Hậu, Quận Cầu Giấy, Hà Nội, Việt Nam, 100000 ==> .1053/2153tranquochoan.dichvonghaudichvonghauquancaugiay\n",
            "118 Nguyễn Đình Hoàn, Nghia Do ward, Quận Cầu Giấy, Hà Nội, Việt Nam, 122737 ==> 118nguyendinhhoannghiadoquancaugiay\n",
            "Số 17, Lô 5, Hoàng Đạo Thúy, phường Nhân Chính, Thanh Xuân, Hà Nội, Việt Nam, 100000 ==> 175hoangdaothuynhanchinhthanhxuan\n",
            "193 Phố Vọng, Đồng Tâm, Đồng Tâm, Quận Hai Bà Trưng, Hà Nội, Việt Nam, 1000000 ==> 193vongdongtamdongtamquanhaibatrung\n",
            "53-55 Hàng Trống, Phường Hàng Trống, Quận Hoàn Kiếm, Hà Nội, Việt Nam, 111653 ==> 53-55hangtrongphuonghangtrongquanhoankiem\n",
            "244 Hàng Bông, Cửa  Nam, Quận Hoàn Kiếm, Hà Nội, Việt Nam, 100000 ==> 244hangbongcuanamquanhoankiem\n",
            "12 - 14 Ngõ Bà Triệu, Lê Đại Hành, Quận Hai Bà Trưng, Hà Nội, Việt Nam, 100000 ==> 12-14batrieuledaihanhquanhaibatrung\n",
            "1 Le Thanh Tong Street, Hoan Kiem District, Tràng Tiền, Quận Hoàn Kiếm, Hà Nội, Việt Nam, 10000 ==> 1lethanhtonghoankiemtrangtienquanhoankiem\n",
            "23 Hàng Đào, Hoàn Kiếm, Hàng Đào, Quận Hoàn Kiếm, Hà Nội, Việt Nam, 100000 ==> 23hangdaohoankiemhangdaoquanhoankiem\n",
            "Võ Văn Kiệt, Điền Xá, Sóc Sơn, xã Quang Tiến, Sóc Sơn, Hà Nội, Việt Nam, 12220 ==> vovankietdienxasocsongtiensocson\n",
            "26 Nam Ngư, Cửa  Nam, Quận Hoàn Kiếm, Hà Nội, Việt Nam, 100000 ==> 26namngucuanamquanhoankiem\n",
            " 38 Hai Bà Trưng, Tràng Tiền, Quận Hoàn Kiếm, Hà Nội, Việt Nam, 100000 ==> 38haibatrungtrangtienquanhoankiem\n",
            "8 Lý Thái Tổ, Lý Thái Tổ, Quận Hoàn Kiếm, Hà Nội, Việt Nam, 107594 ==> 8lythailythaiquanhoankiem\n",
            "Số 1, ngõ 7 Liễu Giai, Liễu Giai, Quận Ba Đình, Hà Nội, Việt Nam, 100000 ==> 17lieugiailieugiaiquanbadinh\n",
            "\n",
            "====================\n",
            "\n",
            "90 Pham Huy Thong, Quận Ba Đình, Hà Nội, Việt Nam ==> 90phamhuythongbadinhhanoi\n",
            "32 Lo Su Street, Quận Hoàn Kiếm, Hà Nội, Việt Nam ==> 32losuhoankiemhanoi\n",
            "3 Yen Thai Street, Quận Hoàn Kiếm, Hà Nội, Việt Nam ==> 3yenthaihoankiemhanoi\n",
            "41- 43 Hàng Bông, Hoàn Kiếm , Hà Nội, Quận Hoàn Kiếm, Hà Nội, Việt Nam ==> 41-43hangbonghoankiemhoankiemhanoi\n",
            "05-07 Hàng Hòm, Quận Hoàn Kiếm, Hà Nội, Việt Nam ==> 05-07hanghomhoankiemhanoi\n",
            "20 Ngõ 12 Phố Đào Tấn, Quận Ba Đình, Hà Nội, Việt Nam ==> 2012daotanbadinhhanoi\n",
            "11 Cau Go, Old Quarter, Hoan Kiem, Quận Hoàn Kiếm, Hà Nội, Việt Nam ==> 11caugooldquarterhoankiemhoankiemhanoi\n",
            "22 Chan Cam, Hoan Kiem, Quận Hoàn Kiếm, Hà Nội, Việt Nam ==> 22chancamhoankiemhoankiemhanoi\n",
            "85 Ma May Street, Quận Hoàn Kiếm, Hà Nội, Việt Nam ==> 85mamayhoankiemhanoi\n",
            "67 Hang Bo St, Hoan Kiem Dist, Quận Hoàn Kiếm, Hà Nội, Việt Nam ==> 67hangbohoankiemdihoankiemhanoi\n",
            "06 Luong Ngoc Quyen Str Hoan Kiem Dist, Quận Hoàn Kiếm, Hà Nội, Việt Nam ==> 06luongngocquyenhoankiemdihoankiemhanoi\n",
            "34 Hang Tre Street, Quận Hoàn Kiếm, Hà Nội, Việt Nam ==> 34hangtrehoankiemhanoi\n",
            "41 Hang Be Street, Quận Hoàn Kiếm, Hà Nội, Việt Nam ==> 41hangbehoankiemhanoi\n",
            "21 Cau Go, Quận Hoàn Kiếm, Hà Nội, Việt Nam ==> 21caugohoankiemhanoi\n",
            "22A Ta Hien Street, Hang Buom, Quận Hoàn Kiếm, Hà Nội, Việt Nam ==> 22atahienhangbuomhoankiemhanoi\n",
            "12B Chan Cam, Quận Hoàn Kiếm, Hà Nội, Việt Nam ==> 12bchancamhoankiemhanoi\n",
            "39 Thợ Nhuộm, Quận Hoàn Kiếm, Hà Nội, Việt Nam ==> 39thonhuomhoankiemhanoi\n",
            "36 Hang Huong, Quận Hoàn Kiếm, Hà Nội, Việt Nam ==> 36hanghuonghoankiemhanoi\n",
            "No 45 Alley 651 Minh Khai street, Hai Ba Trung District, Quận Hai Bà Trưng, Hà Nội, Việt Nam ==> 45651minhkhaihaibatrunghaibatrunghanoi\n",
            "11 Hang Dau, Quận Hoàn Kiếm, Hà Nội, Việt Nam ==> 11hangdauhoankiemhanoi\n",
            "60 Cầu Gỗ, Quận Hoàn Kiếm, Hà Nội, Việt Nam ==> 60caugohoankiemhanoi\n",
            "59 Cua Dong, Hoan Kiem, Quận Hoàn Kiếm, Hà Nội, Việt Nam ==> 59cuadonghoankiemhoankiemhanoi\n",
            "12 Nguyen Quang Bich, Hoan Kiem, Quận Hoàn Kiếm, Hà Nội, Việt Nam ==> 12nguyengbichhoankiemhoankiemhanoi\n",
            "44 Hang Giay Street, Hoan Kiem District, Ha Noi, Quận Hoàn Kiếm, Hà Nội, Việt Nam ==> 44hanggiayhoankiemhaihoankiemhanoi\n",
            "4A Hàng Giấy, Đồng Xuân, Quận Hoàn Kiếm, Hà Nội, Việt Nam ==> 4ahanggiaydongxuanhoankiemhanoi\n",
            "73 Ma May Street, Quận Hoàn Kiếm, Hà Nội, Việt Nam ==> 73mamayhoankiemhanoi\n",
            "44 Hang Hanh Street, Quận Hoàn Kiếm, Hà Nội, Việt Nam ==> 44hanghanhhoankiemhanoi\n",
            "100 Dich Vong Hau Street, Cau Giay District, Cau Giay, Hà Nội, Việt Nam ==> 100dichvonghaucaugiaycaugiayhanoi\n",
            "52 Dao Duy Tu, Hoan Kiem District, Hanoi, Quận Hoàn Kiếm, Hà Nội, Việt Nam ==> 52daoduytuhoankiemhaihoankiemhanoi\n",
            "65 Hang Dieu Street, Quận Hoàn Kiếm, Hà Nội, Việt Nam ==> 65hangdieuhoankiemhanoi\n",
            "Số 90 ngõ 116 Phố Nhân Hòa, Phường Nhân Chính, Quận Thanh Xuân, Hà Nội ( Đối diện ngõ 9 Hoàng Đạo Thúy Kéo dài), Quận Thanh Xuân, Hà Nội, Việt Nam ==> 90116nhanhoanhanchinhthanhxuan(9hoangdaothuykeodai)thanhxuanhanoi\n",
            "02 Nguyen Dinh Hoan, Cau Giay, Hà Nội, Việt Nam ==> 02nguyendinhhoancaugiayhanoi\n",
            "30A Cua Dong, Hoan Kiem, Quận Hoàn Kiếm, Hà Nội, Việt Nam ==> 30acuadonghoankiemhoankiemhanoi\n",
            "122 Hang Bong, Quận Hoàn Kiếm, Hà Nội, Việt Nam ==> 122hangbonghoankiemhanoi\n",
            "27 Hang Bong Street, Hoan Kiem District, Quận Hoàn Kiếm, Hà Nội, Việt Nam ==> 27hangbonghoankiemhoankiemhanoi\n",
            "185 Trích Sài, Quận Tây Hồ, Hà Nội, Việt Nam ==> 185trichsaitayhohanoi\n",
            "37 - 39 Hang Bac , Quận Hoàn Kiếm, Hà Nội, Việt Nam ==> 37-39hangbachoankiemhanoi\n",
            "18 Hang Hom Street, Quận Hoàn Kiếm, Hà Nội, Việt Nam ==> 18hanghomhoankiemhanoi\n",
            "1B9 Dam Trau, Bach Dang, Hai Ba Trung dist., Quận Hai Bà Trưng, Hà Nội, Việt Nam ==> 1b9damtraubachdanghaibatrungdi.haibatrunghanoi\n",
            "45 Hang Dong street, Hoan Kiem district, Quận Hoàn Kiếm, Hà Nội, Việt Nam ==> 45hangdonghoankiemhoankiemhanoi\n",
            "33-35 Hang Dau, Hoan Kiem, Quận Hoàn Kiếm, Hà Nội, Việt Nam ==> 33-35hangdauhoankiemhoankiemhanoi\n",
            "23 Hàng Đào, Quận Hoàn Kiếm, Hà Nội, Việt Nam ==> 23hangdaohoankiemhanoi\n",
            "21 Le Van Luong Street, Nhan Chinh Ward, Thanh Xuan District, Hanoi City, Vietnam, Quận Thanh Xuân, Hà Nội, Việt Nam ==> 21levanluongnhanchinhthanhxuanhaithanhxuanhanoi\n",
            "94 Ma May, Hang Buom Ward, Hoan Kiem District, Quận Hoàn Kiếm, Hà Nội, Việt Nam ==> 94mamayhangbuomhoankiemhoankiemhanoi\n",
            "11 Lieu Giai, Ba Dinh, Quận Ba Đình, Hà Nội, Việt Nam ==> 11lieugiaibadinhbadinhhanoi\n",
            "47 Lo Su, Quận Hoàn Kiếm, Hà Nội, Việt Nam ==> 47losuhoankiemhanoi\n",
            "12, Bao Khanh Lane, Hoan Kiem, Quận Hoàn Kiếm, Hà Nội, Việt Nam ==> 12baokhanhhoankiemhoankiemhanoi\n",
            "20 Tống Duy Tân, Quận Hoàn Kiếm, Hà Nội, Việt Nam ==> 20tongduytanhoankiemhanoi\n",
            "43 Trieu Viet Vuong Street, Quận Hai Bà Trưng, Hà Nội, Việt Nam ==> 43trieuvietvuonghaibatrunghanoi\n",
            "55 Duong Thanh Street, Quận Hoàn Kiếm, Hà Nội, Việt Nam ==> 55duongthanhhoankiemhanoi\n",
            "21 Hang Khay, Quận Hoàn Kiếm, Hà Nội, Việt Nam ==> 21hangkhayhoankiemhanoi\n",
            "22 Lò Sũ, Quận Hoàn Kiếm, Hà Nội, Việt Nam ==> 22losuhoankiemhanoi\n",
            "36 - 38 Ha Trung, Hang Bong, Hoan Kiem, Quận Hoàn Kiếm, Hà Nội, Việt Nam ==> 36-38hatrunghangbonghoankiemhoankiemhanoi\n",
            "21 Tran Hung Dao St, Hoan Kiem Dist, Quận Hoàn Kiếm, Hà Nội, Việt Nam ==> 21tranhungdaohoankiemdihoankiemhanoi\n",
            "40 Hang Dieu Steet, Old Quarter Hoan Kiem District, Hanoi, Quận Hoàn Kiếm, Hà Nội, Việt Nam ==> 40hangdieueetoldquarterhoankiemhaihoankiemhanoi\n",
            "3 Bao Khanh, Quận Hoàn Kiếm, Hà Nội, Việt Nam ==> 3baokhanhhoankiemhanoi\n",
            "7 Hang Dau street, Hang Bac ward, Hoan Kiem district, Quận Hoàn Kiếm, Hà Nội, Việt Nam ==> 7hangdauhangbachoankiemhoankiemhanoi\n",
            "18/76 Trần Thái Tông, Phường Dịch Vọng Hậu, quận Cầu Giấy, Hà Nội, Cau Giay, Hà Nội, Việt Nam ==> 18/76tranthaitongdichvonghaucaugiaycaugiayhanoi\n",
            "16 Thanh Ha Street, Hoan Kiem District, Quận Hoàn Kiếm, Hà Nội, Việt Nam ==> 16thanhhahoankiemhoankiemhanoi\n",
            "45 Hang Bo, Hoan Kiem, Quận Hoàn Kiếm, Hà Nội, Việt Nam ==> 45hangbohoankiemhoankiemhanoi\n",
            "90 Cầu Gỗ, Quận Hoàn Kiếm, Hà Nội, Việt Nam ==> 90caugohoankiemhanoi\n",
            "44 Hàng Bồ, Hoàn Kiếm, Hanoi, Vietnam, Quận Hoàn Kiếm, Hà Nội, Việt Nam ==> 44hangbohoankiemhaihoankiemhanoi\n",
            "82, Dao Tan Street, Ba Dinh District, Quận Ba Đình, Hà Nội, Việt Nam ==> 82daotanbadinhbadinhhanoi\n",
            "45 Lê Duẩn Hoàn Kiếm, Hà Nội, Hà Nội, Việt Nam ==> 45leduanhoankiemhanoi\n",
            "63 Phố Quang Trung, Quận Hai Bà Trưng, Hà Nội, Việt Nam ==> 63gtrunghaibatrunghanoi\n",
            "61 Hàng Bè, Quận Hoàn Kiếm, Hà Nội, Việt Nam ==> 61hangbehoankiemhanoi\n",
            "72 - 74 Dai Co VIet, Quận Hai Bà Trưng, Hà Nội, Việt Nam ==> 72-74daicoviethaibatrunghanoi\n",
            "27 Hang Be, Quận Hoàn Kiếm, Hà Nội, Việt Nam ==> 27hangbehoankiemhanoi\n",
            "No.35, Lane 75, Tran Thai Tong, Cau Giay, Hà Nội, Việt Nam ==> .3575tranthaitongcaugiayhanoi\n",
            "52 Phạm Hùng, Hà Nội, Việt Nam ==> 52phamhunghanoi\n",
            "26/118 Nguyen Khanh Toan, Cau Giay, Hà Nội, Việt Nam ==> 26/118nguyenkhanhtoancaugiayhanoi\n",
            "38 Hang Giay, Hang Buom, Hoan Kiem, Quận Hoàn Kiếm, Hà Nội, Việt Nam ==> 38hanggiayhangbuomhoankiemhoankiemhanoi\n",
            "26 Nam Ngư, Quận Hoàn Kiếm, Hà Nội, Việt Nam ==> 26namnguhoankiemhanoi\n",
            "118 Nguyen Dinh Hoan, Bo Song Road, Nghia Do, Cau Giay, Cau Giay, Hà Nội, Việt Nam ==> 118nguyendinhhoanbosongroadnghiadocaugiaycaugiayhanoi\n",
            "95 Hang Bong Street, Quận Hoàn Kiếm, Hà Nội, Việt Nam ==> 95hangbonghoankiemhanoi\n",
            "36 Phố Dịch Vọng Hậu, Cau Giay, Hà Nội, Việt Nam ==> 36dichvonghaucaugiayhanoi\n",
            "7 Đường Cao Tốc 08, Hà Nội, Việt Nam ==> 7caotoc08hanoi\n",
            "14 Tho Xuong Lane, Au Trieu, Quận Hoàn Kiếm, Hà Nội, Việt Nam ==> 14thoxuongautrieuhoankiemhanoi\n",
            "22 Miếu Đầm, Mễ Trì, Từ Liêm, Hà Nội, Vietnam, Hà Nội, Việt Nam ==> 22mieudammetrituliemhanoi\n",
            "42A Hang Cot Street, Quận Hoàn Kiếm, Hà Nội, Việt Nam ==> 42ahangcothoankiemhanoi\n",
            "29 Liễu Giai Vinhomes Metropolis, Quận Ba Đình, Hà Nội, Việt Nam ==> 29lieugiaivinhomesmetropolisbadinhhanoi\n",
            "16H Hàng Bè, Quận Hoàn Kiếm, Hà Nội, Việt Nam ==> 16hhangbehoankiemhanoi\n",
            "77 Hang Luoc Street, Quận Hoàn Kiếm, Hà Nội, Việt Nam ==> 77hangluochoankiemhanoi\n",
            "2 Phủ Doãn, Quận Hoàn Kiếm, Hà Nội, Việt Nam ==> 2phudoanhoankiemhanoi\n",
            "12 To Tich Street, Hoan Kiem District, Quận Hoàn Kiếm, Hà Nội, Việt Nam ==> 12totichhoankiemhoankiemhanoi\n",
            "121 hàng buồm,hoàn kiếm, hà nội 4 Tầng, Quận Hoàn Kiếm, Hà Nội, Việt Nam ==> 121hangbuomhoankiem4hoankiemhanoi\n",
            "716 Bach Dang, Hai Ba Trung District, Quận Hai Bà Trưng, Hà Nội, Việt Nam ==> 716bachdanghaibatrunghaibatrunghanoi\n",
            "39 Phố Đặng Văn Ngữ 39 Đặng Văn Ngữ, Quận Đống Đa, Hà Nội, Việt Nam ==> 39dangvanngu39dangvanngudongdahanoi\n",
            "27 Tong Duy Tan, Quận Hoàn Kiếm, Hà Nội, Việt Nam ==> 27tongduytanhoankiemhanoi\n",
            "Number 6 - Bao Khanh lane, Quận Hoàn Kiếm, Hà Nội, Việt Nam ==> number6-baokhanhhoankiemhanoi\n",
            "89 Phố Trần Quốc Vượng, Cau Giay, Hà Nội, Việt Nam ==> 89tranquocvuongcaugiayhanoi\n",
            "55 Bat Su Street, Quận Hoàn Kiếm, Hà Nội, Việt Nam ==> 55batsuhoankiemhanoi\n",
            "36E Dich Vong Hau Street, Cau Giay District, Hanoi, Cau Giay, Hà Nội, Việt Nam ==> 36edichvonghaucaugiayhaicaugiayhanoi\n",
            "81 Hang Bong Street, Quận Hoàn Kiếm, Hà Nội, Việt Nam ==> 81hangbonghoankiemhanoi\n",
            "10 Phố Yên Thái, Quận Hoàn Kiếm, Hà Nội, Việt Nam ==> 10yenthaihoankiemhanoi\n",
            "34 Ngõ 39 Đình Thôn Mỹ Đình, Từ Liêm, Hà Nội, Việt Nam ==> 3439dinhthonmydinhtuliemhanoi\n",
            "16 Tho Xuong Lane, Hang Trong Ward, Quận Hoàn Kiếm, Hà Nội, Việt Nam ==> 16thoxuonghangtronghoankiemhanoi\n",
            "No 12c, Alley 28, Tay Ho Street, Tay Ho District, Hanoi, Quận Tây Hồ, Hà Nội, Việt Nam ==> 12c28tayhotayhohaitayhohanoi\n",
            "139 Đường Cầu Giấy CTM Complex Building, Cau Giay, Hà Nội, Việt Nam ==> 139caugiayctmcomplexcaugiayhanoi\n",
            "22 Cửa Đông, Hoàn Kiếm, Hà Nội Hanoi City, Vietnam ., Quận Hoàn Kiếm, Hà Nội, Việt Nam ==> 22cuadonghoankiemhai.hoankiemhanoi\n",
            "\n",
            "====================\n",
            "\n",
            "02 Nguyen Thi Minh Khai Street, Lộc Thọ, Nha Trang, Việt Nam, 650000 ==> 02nguyenthiminhkhailoctho\n",
            "87 Bạch Đằng, Tân Lập, Nha Trang, Việt Nam ==> 87bachdangtanlap\n",
            "33A Tô Hiến Thành, Phường Tân Lập, Tân Lập, Nha Trang, Việt Nam, 650000 ==> 33atohienthanhtanlaptanlap\n",
            "02 Nguyen Thi Minh Khai Street, Panorama Building, Lộc Thọ, Nha Trang, Việt Nam, 650000 ==> 02nguyenthiminhkhaiparamaloctho\n",
            "32-34 Tran Phu Street, Lộc Thọ, Nha Trang, Việt Nam ==> 32-34tranphuloctho\n",
            "04 Hung Vuong Loc Tho Ward, Lộc Thọ, Nha Trang, Việt Nam, 650000 ==> 04hungvuongloctholoctho\n",
            "39 - 41 Nguyen Thi Minh Khai Street, Tân Lập, Nha Trang, Việt Nam, 650000 ==> 39-41nguyenthiminhkhaitanlap\n",
            "99 Nguyễn Thiện Thuật, Lộc Thọ, Nha Trang, Việt Nam, 650000 ==> 99nguyenthienthuatloctho\n",
            "Plot D12 ABC, Cam Hải Đông, Nha Trang, Việt Nam, 57000 ==> plotd12abccamhaidong\n",
            "Vinh Ninh Vân, Vịnh Ninh Vân, Nha Trang, Việt Nam ==> vinhninhvanvinhninhvan\n",
            "50 Trần Phú, Lộc Thọ, Nha Trang, Việt Nam ==> 50tranphuloctho\n",
            "78-80 phố Trần Phú, Lộc Thọ, Nha Trang, Việt Nam, 650000 ==> 78-80tranphuloctho\n",
            "26-28 Tran Phu Street, Lộc Thọ, Nha Trang, Việt Nam ==> 26-28tranphuloctho\n",
            "92/2 Hùng Vương, Lộc Thọ, Nha Trang, Việt Nam, 65000 ==> 92/2hungvuongloctho\n",
            "Số 7 đường Hùng Vương, Lộc Thọ, Nha Trang, Việt Nam, 65000 ==> 7hungvuongloctho\n",
            "Bãi Biển Trần Phú, Lộc Thọ, Nha Trang, Việt Nam, ==> bientranphuloctho\n",
            "38 Trần Phú, Lộc Thọ, Nha Trang, Việt Nam ==> 38tranphuloctho\n",
            "132/6 Hung Vuong, Lộc Thọ, Nha Trang, Việt Nam, 57000 ==> 132/6hungvuongloctho\n",
            "Số 3, Đường Tuệ Tĩnh, Lộc Thọ, Nha Trang, Việt Nam ==> 3tuetinhloctho\n",
            "62 Trần Phú,, Lộc Thọ, Nha Trang, Việt Nam ==> 62tranphuloctho\n",
            "39-41 Nguyễn Thị Minh Khai, Tân Lập, Nha Trang, Việt Nam ==> 39-41nguyenthiminhkhaitanlap\n",
            "19 Biệt Thự, Lộc Thọ, Nha Trang, Việt Nam ==> 19bietthuloctho\n",
            "44-46 Lê Thánh Tôn, Lộc Thọ, Nha Trang, Việt Nam ==> 44-46lethanhtonloctho\n",
            "12 Trần Phú, Xương Huân, Nha Trang, Việt Nam ==> 12tranphuxuonghuan\n",
            "07 Trần Quang Khải, Lộc Thọ, Nha Trang, Việt Nam ==> 07trangkhailoctho\n",
            "86 Hùng Vương, Phường Lộc Thọ, Thành phố Nha Trang, Lộc Thọ, Nha Trang, Việt Nam, 650000 ==> 86hungvuongloctholoctho\n",
            "8 Hùng Vương, Lộc Thọ, Nha Trang, Việt Nam ==> 8hungvuongloctho\n",
            "20 Trần Phú, Vĩnh Nguyên, Vĩnh Trường, Nha Trang, Việt Nam ==> 20tranphuvinhnguyenvinhtruong\n",
            "60 Trần Phú, Lộc Thọ, Nha Trang, Việt Nam ==> 60tranphuloctho\n",
            "16 Tôn Đản, Lộc Thọ, Nha Trang, Việt Nam ==> 16tondanloctho\n",
            "72 - 74 Trần Phú, Lộc Thọ, Nha Trang, Việt Nam ==> 72-74tranphuloctho\n",
            "86A Trần Phú, Lộc Thọ, Nha Trang, Việt Nam ==> 86atranphuloctho\n",
            "6Trần Quang Khải, Lộc Thọ, Nha Trang, Việt Nam ==> 6trangkhailoctho\n",
            "17 Biệt Thự, Lộc Thọ, Nha Trang, Việt Nam ==> 17bietthuloctho\n",
            "32 – 34 Trần Phú, Lộc Thọ, Nha Trang, Việt Nam ==> 32-34tranphuloctho\n",
            "17/11A Nguyễn Thị Minh Khai, Lộc Thọ, Nha Trang, Việt Nam ==> 17/11anguyenthiminhkhailoctho\n",
            "34/2/7 Nguyễn Thiện Thuật, Tân Lập, Nha Trang, Việt Nam ==> 34/2/7nguyenthienthuattanlap\n",
            "11 Biệt Thự, Lộc Thọ, Nha Trang, Việt Nam ==> 11bietthuloctho\n",
            "Vĩnh Phước, Nha Trang, Việt Nam ==> vinhphuoc\n",
            "24 Ton Dan Street, Lộc Thọ, Nha Trang, Việt Nam ==> 24tondanloctho\n",
            "Lộc Thọ, Nha Trang, Việt Nam ==> loctho\n",
            "61A Nguyen Thien Thuat Street, Lộc Thọ, Nha Trang, Việt Nam ==> 61anguyenthienthuatloctho\n",
            "92 Trần Phú, Lộc Thọ, Nha Trang, Việt Nam ==> 92tranphuloctho\n",
            "95/9, Đường Hùng Vương, Lộc Thọ, Nha Trang, Việt Nam, 8458 ==> 95/9hungvuongloctho\n",
            "96/2 Trần Phú, Lộc Thọ, Nha Trang, Việt Nam ==> 96/2tranphuloctho\n",
            "100A2-100A3 Trần Phú, Lộc Thọ, Nha Trang, Việt Nam ==> 100a2-100a3tranphuloctho\n",
            "10 Tôn Đản, Lộc Thọ, Nha Trang, Việt Nam ==> 10tondanloctho\n",
            "61 Nguyễn Thiện Thuật, Phường Lộc Thọ, Thành phố Nha Trang, Tỉnh Khánh Hóa, Lộc Thọ, Nha Trang, Việt Nam, 65000 ==> 61nguyenthienthuatlocthokhanhhoaloctho\n",
            "14 Trần Phú, Vĩnh Trường, Nha Trang, Việt Nam, 650000 ==> 14tranphuvinhtruong\n",
            "4/3 Trần Quang Khải, Phường Lộc Thọ, Lộc Thọ, Nha Trang, Việt Nam ==> 4/3trangkhailoctholoctho\n",
            "Lộc Thọ, Nha Trang, Việt Nam ==> loctho\n",
            "2A/7 Hùng Vương, Lộc Thọ, Nha Trang, Việt Nam ==> 2a/7hungvuongloctho\n",
            "30 Trần Quang Khải, Lộc Thọ, Nha Trang, Việt Nam ==> 30trangkhailoctho\n",
            "84A Tran Phu Street, Lộc Thọ, Nha Trang, Việt Nam, 650000 ==> 84atranphuloctho\n",
            "Số 7, Lê Lợi, Bãi biển Trần Phú, Thành Phố Nha Trang, tỉnh Khánh Hòa, Xương Huân, Nha Trang, Việt Nam ==> 7leloibientranphukhanhhoaxuonghuan\n",
            "6/2 Trần Quang Khải, Lộc Thọ, Nha Trang, Việt Nam, 650000 ==> 6/2trangkhailoctho\n",
            "34C-D Nguyễn Thiện Thuật, Tân Lập, Nha Trang, Việt Nam ==> 34c-dnguyenthienthuattanlap\n",
            "111/1/2 Hung Vuong Street, Lộc Thọ, Nha Trang, Việt Nam ==> 111/1/2hungvuongloctho\n",
            "5 Hùng Vương, Lộc Thọ, Nha Trang, Việt Nam ==> 5hungvuongloctho\n",
            "Lộc Thọ, Nha Trang, Việt Nam ==> loctho\n",
            "1B Biệt Thự, Lộc Thọ, Nha Trang, Việt Nam ==> 1bbietthuloctho\n",
            "11B Biệt Thự, Lộc Thọ, Nha Trang, Việt Nam ==> 11bbietthuloctho\n",
            "96B1/6 Trần Phú, Lộc Thọ, Nha Trang, Việt Nam ==> 96b1/6tranphuloctho\n",
            "64/15 Trần Phú, Lộc Thọ, Nha Trang, Việt Nam ==> 64/15tranphuloctho\n",
            "Thôn Đầm Môn, Xã Vạn Thạnh, Huyện Vạn Ninh, Khánh Hòa ( Bắc vịnh Vân Phong), Vịnh Vân Phong, Nha Trang, Việt Nam ==> thondammonvanthanhvanninhkhanhhoa(bacvinhvanphong)vinhvanphong\n",
            "09 Yersin, Phường Lộc Thọ, Lộc Thọ, Nha Trang, Việt Nam ==> 09yersinloctholoctho\n",
            "102 Nguyễn Thiện Thuật, Tân Lập, Nha Trang, Việt Nam ==> 102nguyenthienthuattanlap\n",
            "3/1 Tran Quang Khai, Lộc Thọ, Nha Trang, Việt Nam ==> 3/1trangkhailoctho\n",
            "2/3 Hùng Vương, Nha Trang, Lộc Thọ, Nha Trang, Việt Nam ==> 2/3hungvuongloctho\n",
            "132/38 Hùng Vương, Lộc Thọ, Nha Trang, Khánh Hòa., Lộc Thọ, Nha Trang, Việt Nam ==> 132/38hungvuonglocthokhanhhoa.loctho\n",
            "Lộc Thọ, Nha Trang, Việt Nam ==> loctho\n",
            "96B5 Trần Phú, Lộc Thọ, Nha Trang, Việt Nam ==> 96b5tranphuloctho\n",
            "118A Trịnh Phong, Tân Lập, Nha Trang, Việt Nam ==> 118atrinhphongtanlap\n",
            "10 Biệt Thự, Lộc Thọ, Nha Trang, Việt Nam ==> 10bietthuloctho\n",
            "Tầng 15, căn hộ 1506, Tòa Nhà Maple, 16 Tôn Đản, Lộc Thọ, Nha Trang, Việt Nam ==> 15ho1506mle16tondanloctho\n",
            "21 Hùng Vương, Lộc Thọ, Nha Trang, Việt Nam ==> 21hungvuongloctho\n",
            "98A Tran Phu, Lộc Thọ, Nha Trang, Việt Nam, 650000 ==> 98atranphuloctho\n",
            "32/1 Hùng Vương, Lộc Thọ, Nha Trang, Việt Nam ==> 32/1hungvuongloctho\n",
            "03-05 Pham Van Dong Stress ,, Vĩnh Phước, Nha Trang, Việt Nam, 625080 ==> 03-05phamvandongessvinhphuoc\n",
            "86B Trần Phú, Lộc Thọ, Nha Trang, Việt Nam ==> 86btranphuloctho\n",
            "Tầng 29, Mường Thanh Nha Trang Centre, 60 Trần Phú, Lộc Thọ, Nha Trang, Việt Nam ==> 29muongthanhcentre60tranphuloctho\n",
            "Thon Tay, Ninh Van, Ninh Hoa, Vịnh Ninh Vân, Nha Trang, Việt Nam ==> thontayninhvanninhhoavinhninhvan\n",
            "64/10 Tran Phu, Lộc Thọ, Nha Trang, Việt Nam, 650000 ==> 64/10tranphuloctho\n",
            "2 Phan Boi Chau, Xuong Huan, Nha Trang City, Khanh Hoa, Xương Huân, Nha Trang, Việt Nam, 57000 ==> 2phanboichauxuonghuankhanhhoaxuonghuan\n",
            "06 Biệt Thự, Lộc Thọ, Nha Trang, Việt Nam ==> 06bietthuloctho\n",
            "176/6 Hung Vuong, Lộc Thọ, Nha Trang, Việt Nam, 650000 ==> 176/6hungvuongloctho\n",
            "96 B1/11 Trần Phú, Lộc Thọ, Nha Trang, Việt Nam ==> 96b1/11tranphuloctho\n",
            "02 Trần Quang Khải, Lộc Thọ, Nha Trang, Việt Nam ==> 02trangkhailoctho\n",
            "90 - 92 Trần Phú, Lộc Thọ, Nha Trang, Việt Nam ==> 90-92tranphuloctho\n",
            "184 Hùng Vương, Lộc Thọ, Nha Trang, Việt Nam ==> 184hungvuongloctho\n",
            "172/19 Bạch Đằng, Phường Tân Lập, Thành Phố Nha Trang, Tỉnh Khánh Hòa. ( Hẻm 48 Nguyễn Thị Minh Khai), Tân Lập, Nha Trang, Việt Nam, 650000 ==> 172/19bachdangtanlapkhanhhoa.(48nguyenthiminhkhai)tanlap\n",
            "96B1/13 Trần Phú, Phường Lộc Thọ, Lộc Thọ, Nha Trang, Việt Nam ==> 96b1/13tranphuloctholoctho\n",
            "18 Tôn Đản, Lộc Thọ, Nha Trang, Việt Nam ==> 18tondanloctho\n",
            "19 Tue Tinh, Lộc Thọ, Nha Trang, Việt Nam, 650000 ==> 19tuetinhloctho\n",
            "15 Trần Hưng Đạo, Lộc Thọ, Nha Trang, Việt Nam ==> 15tranhungdaoloctho\n",
            "40 Đinh Tiên Hoàng, Lộc Thọ, Nha Trang, Việt Nam ==> 40dinhtienhoangloctho\n",
            "247/2 (99C) Nguyen Thien Thuat, Lộc Thọ, Nha Trang, Việt Nam, 650000 ==> 247/2(99c)nguyenthienthuatloctho\n",
            "16 Tôn Đản, Lộc Thọ, Nha Trang, Việt Nam ==> 16tondanloctho\n",
            "64 Hùng Vương, Lộc Thọ, Nha Trang, Việt Nam ==> 64hungvuongloctho\n",
            "6A Tôn Đản, Lộc Thọ, Nha Trang, Việt Nam ==> 6atondanloctho\n",
            "\n",
            "====================\n",
            "\n",
            "136, Hàng Trống, Quận Hoàn Kiếm, Hà Nội, Việt Nam ==> 136hangtronghoankiem\n",
            "44, Hàng Hành, Quận Hoàn Kiếm, Hà Nội, Việt Nam ==> 44hanghanhhoankiem\n",
            "173a, Hàng Bông, Quận Hoàn Kiếm, Hà Nội, Việt Nam ==> 173ahangbonghoankiem\n",
            "32, Lò Sũ, Quận Hoàn Kiếm, Hà Nội, Việt Nam ==> 32losuhoankiem\n",
            "44b, Lý Thường Kiệt, Quận Hoàn Kiếm, Hà Nội, Việt Nam ==> 44blythuongkiethoankiem\n",
            "15, Ngô Quyền, Quận Hoàn Kiếm, Hà Nội, Việt Nam ==> 15ngoquyenhoankiem\n",
            "40, Cát Linh, Quận Đống Đa, Hà Nội, Việt Nam ==> 40catlinhdongda\n",
            "23, Hàng Đào, Quận Hoàn Kiếm, Hà Nội, Việt Nam ==> 23hangdaohoankiem\n",
            "Đồi Dài , Xuân Sơn , Thị Xã Sơn Tây, Hà Nội, Việt Nam ==> doidaixuansonsontay\n",
            "26 - 28 , Mễ Trì Hạ, Quận Nam Từ Liêm, Hà Nội, Việt Nam ==> 26-28metrihanamtuliem\n",
            "254d, Thụy Khuê, Quận Tây Hồ, Hà Nội, Việt Nam ==> 254dthuyetayho\n",
            "0, Trung Sơn Trầm, Thị Xã Sơn Tây, Hà Nội, Việt Nam ==> 0trungsontramsontay\n",
            "01, Lê Thánh Tông, Quận Hoàn Kiếm, Hà Nội, Việt Nam ==> 01lethanhtonghoankiem\n",
            "01, Thanh Niên, Quận Ba Đình, Hà Nội, Việt Nam ==> 01thanhnienbadinh\n",
            "55, Đường Thành, Quận Hoàn Kiếm, Hà Nội, Việt Nam ==> 55thanhhoankiem\n",
            "146, Giảng Võ, Quận Ba Đình, Hà Nội, Việt Nam ==> 146giangvobadinh\n",
            "33-35 Hàng Dầu, Hàng Dầu, Quận Hoàn Kiếm, Hà Nội, Việt Nam ==> 33-35hangdauhangdauhoankiem\n",
            "46 - 48, Bát Sứ, Quận Hoàn Kiếm, Hà Nội, Việt Nam ==> 46-48batsuhoankiem\n",
            "27, Hàng Bè, Quận Hoàn Kiếm, Hà Nội, Việt Nam ==> 27hangbehoankiem\n",
            "09, Nhà Thờ, Quận Hoàn Kiếm, Hà Nội, Việt Nam ==> 09thohoankiem\n",
            "109-111, Hàng Gai, Quận Hoàn Kiếm, Hà Nội, Việt Nam ==> 109-111hanggaihoankiem\n",
            "200, Yên Phụ, Quận Tây Hồ, Hà Nội, Việt Nam ==> 200yenphutayho\n",
            "6, Ngõ Bảo Khánh, Quận Hoàn Kiếm, Hà Nội, Việt Nam ==> 6baokhanhhoankiem\n",
            "76, Yên Phụ, Quận Tây Hồ, Hà Nội, Việt Nam ==> 76yenphutayho\n",
            "Tòa C2 Dcapitale Trần Duy Hưng, Trung Hoà, Quận Cầu Giấy, Hà Nội, Việt Nam ==> c2dcitaletranduyhungtrunghoacaugiay\n",
            "94, Mã Mây, Quận Hoàn Kiếm, Hà Nội, Việt Nam ==> 94mamayhoankiem\n",
            "684, Minh Khai, Quận Hai Bà Trưng, Hà Nội, Việt Nam ==> 684minhkhaihaibatrung\n",
            "117, Trần Duy Hưng, Quận Cầu Giấy, Hà Nội, Việt Nam ==> 117tranduyhungcaugiay\n",
            "84 , Trần Nhân Tông, Quận Hai Bà Trưng, Hà Nội, Việt Nam ==> 84trannhantonghaibatrung\n",
            "38a, Trần Phú, Quận Ba Đình, Hà Nội, Việt Nam ==> 38atranphubadinh\n",
            "22a, Tạ Hiện, Quận Hoàn Kiếm, Hà Nội, Việt Nam ==> 22atahienhoankiem\n",
            "22, Bảo Khánh, Quận Hoàn Kiếm, Hà Nội, Việt Nam ==> 22baokhanhhoankiem\n",
            "61, Hàng Bè, Quận Hoàn Kiếm, Hà Nội, Việt Nam ==> 61hangbehoankiem\n",
            "78, Thợ Nhuộm, Quận Hoàn Kiếm, Hà Nội, Việt Nam ==> 78thonhuomhoankiem\n",
            "20-22, Chân Cầm, Quận Hoàn Kiếm, Hà Nội, Việt Nam ==> 20-22chancamhoankiem\n",
            "13b, Tông Đản, Quận Hoàn Kiếm, Hà Nội, Việt Nam ==> 13btongdanhoankiem\n",
            "02, Tây Hồ, Quận Tây Hồ, Hà Nội, Việt Nam ==> 02tayhotayho\n",
            "18, Bảo Khánh, Quận Hoàn Kiếm, Hà Nội, Việt Nam ==> 18baokhanhhoankiem\n",
            "13, Lý Thái Tổ, Quận Hoàn Kiếm, Hà Nội, Việt Nam ==> 13lythaihoankiem\n",
            "89, Hoàng Như Tiếp, Quận Long Biên, Hà Nội, Việt Nam ==> 89hoangnhutieplongbien\n",
            "46a, Nguyễn Trường Tộ, Quận Ba Đình, Hà Nội, Việt Nam ==> 46anguyentruongtobadinh\n",
            "7a, Tú Mỡ, Quận Cầu Giấy, Hà Nội, Việt Nam ==> 7atumocaugiay\n",
            "67, Hàng Thiếc, Quận Hoàn Kiếm, Hà Nội, Việt Nam ==> 67hangthiechoankiem\n",
            "17a ,ngõ 71, Đỗ Quang, Quận Cầu Giấy, Hà Nội, Việt Nam ==> 17a71dogcaugiay\n",
            "27, Lý Thường Kiệt, Quận Hoàn Kiếm, Hà Nội, Việt Nam ==> 27lythuongkiethoankiem\n",
            "29, Hàng Trống, Quận Hoàn Kiếm, Hà Nội, Việt Nam ==> 29hangtronghoankiem\n",
            "60, Cầu Gỗ, Quận Hoàn Kiếm, Hà Nội, Việt Nam ==> 60caugohoankiem\n",
            "40, Lò Sũ, Quận Hoàn Kiếm, Hà Nội, Việt Nam ==> 40losuhoankiem\n",
            "132 Kim Mã Ba Đình Hà Nội, Kim Mã, Quận Ba Đình, Hà Nội, Việt Nam ==> 132kimmabadinhkimmabadinh\n",
            "66, Trần Thái Tông, Quận Cầu Giấy, Hà Nội, Việt Nam ==> 66tranthaitongcaugiay\n",
            "159, Khâm Thiên, Quận Đống Đa, Hà Nội, Việt Nam ==> 159khamthiendongda\n",
            "2a/31, Nguyễn Chí Thanh, Quận Ba Đình, Hà Nội, Việt Nam ==> 2a/31nguyenchithanhbadinh\n",
            "49, Hai Bà Trưng, Quận Hoàn Kiếm, Hà Nội, Việt Nam ==> 49haibatrunghoankiem\n",
            "18, Chân Cầm, Quận Hoàn Kiếm, Hà Nội, Việt Nam ==> 18chancamhoankiem\n",
            "89, Lê Đức Thọ, Quận Nam Từ Liêm, Hà Nội, Việt Nam ==> 89leducthonamtuliem\n",
            "29, Hàng Bông, Quận Hoàn Kiếm, Hà Nội, Việt Nam ==> 29hangbonghoankiem\n",
            "12, Ngô Sĩ Liên, Quận Đống Đa, Hà Nội, Việt Nam ==> 12ngosiliendongda\n",
            "170, Ngọc Khánh, Quận Ba Đình, Hà Nội, Việt Nam ==> 170ngockhanhbadinh\n",
            "6b, Láng Hạ, Quận Ba Đình, Hà Nội, Việt Nam ==> 6blanghabadinh\n",
            "71 , Hàng Bông, Quận Hoàn Kiếm, Hà Nội, Việt Nam ==> 71hangbonghoankiem\n",
            "22, Bùi Thị Xuân, Quận Hai Bà Trưng, Hà Nội, Việt Nam ==> 22buithixuanhaibatrung\n",
            "148, Trần Duy Hưng, Quận Cầu Giấy, Hà Nội, Việt Nam ==> 148tranduyhungcaugiay\n",
            "106, Hoàng Quốc Việt, Quận Cầu Giấy, Hà Nội, Việt Nam ==> 106hoangquocvietcaugiay\n",
            "15, Hàng Hành, Quận Hoàn Kiếm, Hà Nội, Việt Nam ==> 15hanghanhhoankiem\n",
            "38, Gia Ngư, Quận Hoàn Kiếm, Hà Nội, Việt Nam ==> 38gianguhoankiem\n",
            "63, Nguyễn Trường Tộ, Quận Ba Đình, Hà Nội, Việt Nam ==> 63nguyentruongtobadinh\n",
            "66, Phúc La, Quận Hà Đông, Hà Nội, Việt Nam ==> 66phuclahadong\n",
            "D8, Giảng Võ, Quận Ba Đình, Hà Nội, Việt Nam ==> d8giangvobadinh\n",
            "3/325 Giảng Võ, Giảng Võ, Quận Đống Đa, Hà Nội, Việt Nam ==> 3/325giangvogiangvodongda\n",
            "Số 35-37 Phố Bát Sứ, Bát Sứ, Quận Hoàn Kiếm, Hà Nội, Việt Nam ==> 35-37batsubatsuhoankiem\n",
            "9, Hàng Muối, Quận Hoàn Kiếm, Hà Nội, Việt Nam ==> 9hangmuoihoankiem\n",
            "334, Bà Triệu, Quận Hai Bà Trưng, Hà Nội, Việt Nam ==> 334batrieuhaibatrung\n",
            "22 Ngõ 16, Nguyễn Văn Huyên, Quận Cầu Giấy, Hà Nội, Việt Nam ==> 2216nguyenvanhuyencaugiay\n",
            "14a, Lương Văn Can, Quận Hoàn Kiếm, Hà Nội, Việt Nam ==> 14aluongvancanhoankiem\n",
            "44, Hàng Bún, Quận Ba Đình, Hà Nội, Việt Nam ==> 44hangbunbadinh\n",
            "8, Ngõ Thọ Xương, Quận Hoàn Kiếm, Hà Nội, Việt Nam ==> 8thoxuonghoankiem\n",
            "30-34 Hàng Mành, Phường Hàng Gai, Hàng Mành, Quận Hoàn Kiếm, Hà Nội, Việt Nam ==> 30-34hangmanhhanggaihangmanhhoankiem\n",
            "39c, Hàng Hành, Quận Hoàn Kiếm, Hà Nội, Việt Nam ==> 39changhanhhoankiem\n",
            "41, Phủ Doãn, Quận Hoàn Kiếm, Hà Nội, Việt Nam ==> 41phudoanhoankiem\n",
            "54, Thợ Nhuộm, Quận Hoàn Kiếm, Hà Nội, Việt Nam ==> 54thonhuomhoankiem\n",
            "95, Hàng Chiếu, Quận Hoàn Kiếm, Hà Nội, Việt Nam ==> 95hangchieuhoankiem\n",
            "21 Phố Duy Tân, Mỹ Đình, Quận Cầu Giấy, Hà Nội, Việt Nam ==> 21duytanmydinhcaugiay\n",
            "189, Hoàng Hoa Thám, Quận Ba Đình, Hà Nội, Việt Nam ==> 189hoanghoathambadinh\n",
            "21, Cầu Gỗ, Quận Hoàn Kiếm, Hà Nội, Việt Nam ==> 21caugohoankiem\n",
            "1a, Ngõ 26 , Đỗ Quang, Quận Cầu Giấy, Hà Nội, Việt Nam ==> 1a26dogcaugiay\n",
            "29, Liễu Giai, Quận Ba Đình, Hà Nội, Việt Nam ==> 29lieugiaibadinh\n",
            "17e, Phan Đình Phùng, Quận Ba Đình, Hà Nội, Việt Nam ==> 17ephandinhphungbadinh\n",
            "22, Lò Sũ, Quận Hoàn Kiếm, Hà Nội, Việt Nam ==> 22losuhoankiem\n",
            "2b, Hàng Gà, Quận Hoàn Kiếm, Hà Nội, Việt Nam ==> 2bhanggahoankiem\n",
            "11, Lương Ngọc Quyến, Quận Hoàn Kiếm, Hà Nội, Việt Nam ==> 11luongngocquyenhoankiem\n",
            "82, Đào Tấn, Quận Ba Đình, Hà Nội, Việt Nam ==> 82daotanbadinh\n",
            "20, Phan Chu Trinh, Quận Hoàn Kiếm, Hà Nội, Việt Nam ==> 20phanchutrinhhoankiem\n",
            "61, Lương Ngọc Quyến, Quận Hoàn Kiếm, Hà Nội, Việt Nam ==> 61luongngocquyenhoankiem\n",
            "5, Đông Thái, Quận Hoàn Kiếm, Hà Nội, Việt Nam ==> 5dongthaihoankiem\n",
            "36d, Dịch Vọng Hậu, Quận Cầu Giấy, Hà Nội, Việt Nam ==> 36ddichvonghaucaugiay\n",
            "32, Yết Kiêu, Quận Hoàn Kiếm, Hà Nội, Việt Nam ==> 32yetkieuhoankiem\n",
            "Số 4 Khúc Thừa Dụ, Dịch Vọng, Quận Cầu Giấy, Hà Nội, Việt Nam ==> 4khucthuadudichvongcaugiay\n",
            "100, Dịch Vọng Hậu, Quận Cầu Giấy, Hà Nội, Việt Nam ==> 100dichvonghaucaugiay\n",
            "22, Tạ Hiện, Quận Hoàn Kiếm, Hà Nội, Việt Nam ==> 22tahienhoankiem\n",
            "28, Trần Quý Cáp, Quận Đống Đa, Hà Nội, Việt Nam ==> 28tranquycapdongda\n"
          ]
        }
      ]
    },
    {
      "cell_type": "markdown",
      "source": [
        "# **Merge_df**"
      ],
      "metadata": {
        "id": "lR8Aqcyk6ku-"
      }
    },
    {
      "cell_type": "code",
      "source": [
        "#Rename\n",
        "#Traveloka & Mytour\n",
        "traveloka_df.rename(columns = {'Min Price':'Price'}, inplace = True)\n",
        "mytour_df.rename(columns = {'Min Price':'Price'}, inplace = True)"
      ],
      "metadata": {
        "id": "exu4mMh_6oYP"
      },
      "execution_count": 136,
      "outputs": []
    },
    {
      "cell_type": "code",
      "source": [
        "agoda_df.columns"
      ],
      "metadata": {
        "colab": {
          "base_uri": "https://localhost:8080/"
        },
        "id": "DLYialll64eI",
        "outputId": "cd24c8fc-5871-4e20-f202-ed1c072409ed"
      },
      "execution_count": 137,
      "outputs": [
        {
          "output_type": "execute_result",
          "data": {
            "text/plain": [
              "Index(['city', 'hotel name', 'url', 'address', 'stars', 'price', 'rating',\n",
              "       'n_reviews', 'image', 'reviews', 'facilities', 'nearby places',\n",
              "       'new_name', 'new_add'],\n",
              "      dtype='object')"
            ]
          },
          "metadata": {},
          "execution_count": 137
        }
      ]
    },
    {
      "cell_type": "code",
      "source": [
        "#Agoda\n",
        "agoda_df.columns = [\"City\", \"Hotel name\", \"Url\", \"Address\", \"Stars\",\n",
        "                    \"Price\", \"Rating\", \"Number of reviews\",\"Image\", \"Reviews\",\n",
        "                    \"Facilities\", \"Nearby places\", \"new_name\", \"new_add\"]\n",
        "agoda_df[\"Description\"] = \"\""
      ],
      "metadata": {
        "id": "RInkUrl-7E_g"
      },
      "execution_count": 139,
      "outputs": []
    },
    {
      "cell_type": "code",
      "source": [
        "#Reorder\n",
        "column_order = [\"City\", \"Hotel name\", \"Url\", \"Address\", \"Stars\", \n",
        "                \"Price\", \"Rating\", \"Number of reviews\", \"Reviews\",\t\n",
        "                \"Facilities\",\t\"Description\",\t\"Nearby places\", \"Image\", \"new_name\", \"new_add\"]\n",
        "\n",
        "traveloka_df = traveloka_df.reindex(columns=column_order)\n",
        "mytour_df = mytour_df.reindex(columns=column_order)\n",
        "agoda_df = agoda_df.reindex(columns=column_order)"
      ],
      "metadata": {
        "id": "X6nf60zZ7RYR"
      },
      "execution_count": 140,
      "outputs": []
    },
    {
      "cell_type": "code",
      "source": [
        "booking_df.columns"
      ],
      "metadata": {
        "colab": {
          "base_uri": "https://localhost:8080/"
        },
        "id": "QtE27Vhr7Wi6",
        "outputId": "b5fe2bd8-1a52-4528-b226-e8ab7abd100c"
      },
      "execution_count": 141,
      "outputs": [
        {
          "output_type": "execute_result",
          "data": {
            "text/plain": [
              "Index(['City', 'Hotel name', 'Url', 'Address', 'Stars', 'Price', 'Rating',\n",
              "       'Number of reviews', 'Reviews', 'Facilities', 'Description',\n",
              "       'Nearby places', 'Image', 'new_name', 'new_add'],\n",
              "      dtype='object')"
            ]
          },
          "metadata": {},
          "execution_count": 141
        }
      ]
    },
    {
      "cell_type": "code",
      "source": [
        "agoda_df.columns"
      ],
      "metadata": {
        "colab": {
          "base_uri": "https://localhost:8080/"
        },
        "id": "AGeVjwYq7Zhh",
        "outputId": "a7c79b9d-5a1d-49e2-dc10-f0ac97636558"
      },
      "execution_count": 142,
      "outputs": [
        {
          "output_type": "execute_result",
          "data": {
            "text/plain": [
              "Index(['City', 'Hotel name', 'Url', 'Address', 'Stars', 'Price', 'Rating',\n",
              "       'Number of reviews', 'Reviews', 'Facilities', 'Description',\n",
              "       'Nearby places', 'Image', 'new_name', 'new_add'],\n",
              "      dtype='object')"
            ]
          },
          "metadata": {},
          "execution_count": 142
        }
      ]
    },
    {
      "cell_type": "code",
      "source": [
        "traveloka_df.columns"
      ],
      "metadata": {
        "colab": {
          "base_uri": "https://localhost:8080/"
        },
        "id": "lO8-BqWh7a2g",
        "outputId": "4856c164-1dfc-4ba7-f8b2-a21be14d51fb"
      },
      "execution_count": 143,
      "outputs": [
        {
          "output_type": "execute_result",
          "data": {
            "text/plain": [
              "Index(['City', 'Hotel name', 'Url', 'Address', 'Stars', 'Price', 'Rating',\n",
              "       'Number of reviews', 'Reviews', 'Facilities', 'Description',\n",
              "       'Nearby places', 'Image', 'new_name', 'new_add'],\n",
              "      dtype='object')"
            ]
          },
          "metadata": {},
          "execution_count": 143
        }
      ]
    },
    {
      "cell_type": "code",
      "source": [
        "mytour_df.columns"
      ],
      "metadata": {
        "colab": {
          "base_uri": "https://localhost:8080/"
        },
        "id": "uMUM1uHs7cVR",
        "outputId": "3828bafc-7f43-4a48-d3eb-b1513cb527df"
      },
      "execution_count": 144,
      "outputs": [
        {
          "output_type": "execute_result",
          "data": {
            "text/plain": [
              "Index(['City', 'Hotel name', 'Url', 'Address', 'Stars', 'Price', 'Rating',\n",
              "       'Number of reviews', 'Reviews', 'Facilities', 'Description',\n",
              "       'Nearby places', 'Image', 'new_name', 'new_add'],\n",
              "      dtype='object')"
            ]
          },
          "metadata": {},
          "execution_count": 144
        }
      ]
    },
    {
      "cell_type": "code",
      "source": [
        "#Concat\n",
        "frames = [booking_df, agoda_df, traveloka_df, mytour_df]"
      ],
      "metadata": {
        "id": "9TPJ9ZJ_7nQ4"
      },
      "execution_count": 146,
      "outputs": []
    },
    {
      "cell_type": "code",
      "source": [
        "data_res = pd.concat(frames)"
      ],
      "metadata": {
        "id": "CYFjQ-Wt7pPn"
      },
      "execution_count": 147,
      "outputs": []
    },
    {
      "cell_type": "code",
      "source": [
        "data_res['City'].unique()"
      ],
      "metadata": {
        "colab": {
          "base_uri": "https://localhost:8080/"
        },
        "id": "ULgy6MaC8Cd2",
        "outputId": "94c8ee85-f516-48c3-c76a-8d60b43001a3"
      },
      "execution_count": 150,
      "outputs": [
        {
          "output_type": "execute_result",
          "data": {
            "text/plain": [
              "array(['Hà Nội', 'TP. Hồ Chí Minh', 'Đà Lạt', 'Đà Nẵng', 'Nha Trang',\n",
              "       'Phú Quốc', 'Vũng Tàu', 'Hạ Long', 'Đảo Phú Quốc',\n",
              "       'Vũng Tàu', 'Ha Long', 'Hồ Chí Minh', 'Hà Nội', 'Hạ Long'],\n",
              "      dtype=object)"
            ]
          },
          "metadata": {},
          "execution_count": 150
        }
      ]
    },
    {
      "cell_type": "code",
      "source": [
        "data_res['City'] = np.where(data_res['City'] == 'Hà Nội', 'Hà Nội', data_res['City'])\n",
        "data_res['City'] = np.where(data_res['City'] == 'Vũng Tàu', 'Vũng Tàu', data_res['City'])\n",
        "data_res['City'] = np.where(data_res['City'] == 'Đảo Phú Quốc', 'Phú Quốc', data_res['City'])\n",
        "data_res['City'] = np.where(data_res['City'] == 'Hồ Chí Minh', 'TP. Hồ Chí Minh', data_res['City'])\n",
        "data_res['City'] = np.where(data_res['City'] == 'Hạ Long', 'Hạ Long', data_res['City'])\n",
        "data_res['City'] = np.where(data_res['City'] == 'Ha Long', 'Hạ Long', data_res['City'])"
      ],
      "metadata": {
        "id": "P2BoB1da8RBp"
      },
      "execution_count": 151,
      "outputs": []
    },
    {
      "cell_type": "code",
      "source": [
        "data_res['City'].unique()"
      ],
      "metadata": {
        "colab": {
          "base_uri": "https://localhost:8080/"
        },
        "id": "xUVIdRd88nVz",
        "outputId": "645ce8b2-755d-4fc3-b013-9b3219fe4f1e"
      },
      "execution_count": 152,
      "outputs": [
        {
          "output_type": "execute_result",
          "data": {
            "text/plain": [
              "array(['Hà Nội', 'TP. Hồ Chí Minh', 'Đà Lạt', 'Đà Nẵng', 'Nha Trang',\n",
              "       'Phú Quốc', 'Vũng Tàu', 'Hạ Long'], dtype=object)"
            ]
          },
          "metadata": {},
          "execution_count": 152
        }
      ]
    },
    {
      "cell_type": "code",
      "source": [
        "save_path = \"/content/drive/MyDrive/20212/THDL/data/after_matching/All_data.csv\"\n",
        "data_res.to_csv(save_path, index=False, encoding='utf8')"
      ],
      "metadata": {
        "id": "ThYI0-gM7qlL"
      },
      "execution_count": 154,
      "outputs": []
    },
    {
      "cell_type": "code",
      "source": [
        "len(data_res)"
      ],
      "metadata": {
        "colab": {
          "base_uri": "https://localhost:8080/"
        },
        "id": "CJ_s4jgq71Hi",
        "outputId": "f33052a3-11fd-4671-8f31-8a8e6a6f19f4"
      },
      "execution_count": 149,
      "outputs": [
        {
          "output_type": "execute_result",
          "data": {
            "text/plain": [
              "7739"
            ]
          },
          "metadata": {},
          "execution_count": 149
        }
      ]
    }
  ]
}