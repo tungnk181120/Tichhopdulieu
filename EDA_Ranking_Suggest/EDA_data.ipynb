{
  "nbformat": 4,
  "nbformat_minor": 0,
  "metadata": {
    "colab": {
      "name": "EDA_data.ipynb",
      "provenance": [],
      "collapsed_sections": [
        "zqoGzqdrYqVf",
        "11dztTH6bIoO",
        "wCE2rbn_cnYg",
        "9-KCSqvKO_qf"
      ]
    },
    "kernelspec": {
      "name": "python3",
      "display_name": "Python 3"
    },
    "language_info": {
      "name": "python"
    }
  },
  "cells": [
    {
      "cell_type": "code",
      "execution_count": null,
      "metadata": {
        "id": "EqITGYzi1DMa"
      },
      "outputs": [],
      "source": [
        "import pandas as pd\n",
        "import numpy as np\n",
        "import matplotlib.pyplot as plt\n",
        "import seaborn as sns\n",
        "import matplotlib"
      ]
    },
    {
      "cell_type": "code",
      "source": [
        "data_path = \"/content/drive/MyDrive/20212/THDL/data/after_matching/\"\n",
        "dupplicated_data = data_path + \"data_duplicated.csv\"\n",
        "mappped_data = data_path + \"data_mapped.csv\""
      ],
      "metadata": {
        "id": "POKN-Ruija-c"
      },
      "execution_count": null,
      "outputs": []
    },
    {
      "cell_type": "code",
      "source": [
        "src_mapped_df = pd.read_csv(mappped_data)"
      ],
      "metadata": {
        "id": "ApJKjx_hjop-"
      },
      "execution_count": null,
      "outputs": []
    },
    {
      "cell_type": "code",
      "source": [
        "src_dup_df = pd.read_csv(dupplicated_data)"
      ],
      "metadata": {
        "id": "PRa0UecD4Mpq"
      },
      "execution_count": null,
      "outputs": []
    },
    {
      "cell_type": "markdown",
      "source": [
        "# **Chuẩn hóa lại dữ liệu** "
      ],
      "metadata": {
        "id": "Kh1JOdFkSyX2"
      }
    },
    {
      "cell_type": "code",
      "source": [
        "save_path = data_path + \"data_final.csv\"\n",
        "save_path_dup = data_path + \"data_duplicated_final.csv\""
      ],
      "metadata": {
        "id": "UeULFGdaS3lF"
      },
      "execution_count": null,
      "outputs": []
    },
    {
      "cell_type": "code",
      "source": [
        "#Check số lượng thành phố\n",
        "src_mapped_df['City'].unique()"
      ],
      "metadata": {
        "colab": {
          "base_uri": "https://localhost:8080/"
        },
        "id": "s_6knEOhTTcK",
        "outputId": "71404c30-2507-4698-81df-366447c45d87"
      },
      "execution_count": null,
      "outputs": [
        {
          "output_type": "execute_result",
          "data": {
            "text/plain": [
              "array(['Hà Nội', 'TP. Hồ Chí Minh', 'Đà Lạt', 'Đà Nẵng', 'Nha Trang',\n",
              "       'Phú Quốc', '1', 'Vũng Tàu', 'Hạ Long', 'Đảo Phú Quốc',\n",
              "       'Vũng Tàu', 'Ha Long', 'Hồ Chí Minh', 'Hà Nội', 'Hạ Long'],\n",
              "      dtype=object)"
            ]
          },
          "metadata": {},
          "execution_count": 5
        }
      ]
    },
    {
      "cell_type": "code",
      "source": [
        "src_mapped_df[src_mapped_df['City']=='1']"
      ],
      "metadata": {
        "colab": {
          "base_uri": "https://localhost:8080/",
          "height": 179
        },
        "id": "0ZypGorFTckQ",
        "outputId": "266abe48-d135-4604-85c8-80c0ab8d8f02"
      },
      "execution_count": null,
      "outputs": [
        {
          "output_type": "execute_result",
          "data": {
            "text/plain": [
              "     Image new_name new_add    ID  Cluster Website City Hotel name Url  \\\n",
              "3692     1        1       1  3961      NaN     NaN    1          1   1   \n",
              "\n",
              "     Address  Stars  Price  Rating  Number of reviews Reviews Facilities  \\\n",
              "3692       1    1.0      1     1.0                  1       1          1   \n",
              "\n",
              "     Description Nearby places  \n",
              "3692           1             1  "
            ],
            "text/html": [
              "\n",
              "  <div id=\"df-4709bf8c-58a0-4faf-832c-fca482ddaaf7\">\n",
              "    <div class=\"colab-df-container\">\n",
              "      <div>\n",
              "<style scoped>\n",
              "    .dataframe tbody tr th:only-of-type {\n",
              "        vertical-align: middle;\n",
              "    }\n",
              "\n",
              "    .dataframe tbody tr th {\n",
              "        vertical-align: top;\n",
              "    }\n",
              "\n",
              "    .dataframe thead th {\n",
              "        text-align: right;\n",
              "    }\n",
              "</style>\n",
              "<table border=\"1\" class=\"dataframe\">\n",
              "  <thead>\n",
              "    <tr style=\"text-align: right;\">\n",
              "      <th></th>\n",
              "      <th>Image</th>\n",
              "      <th>new_name</th>\n",
              "      <th>new_add</th>\n",
              "      <th>ID</th>\n",
              "      <th>Cluster</th>\n",
              "      <th>Website</th>\n",
              "      <th>City</th>\n",
              "      <th>Hotel name</th>\n",
              "      <th>Url</th>\n",
              "      <th>Address</th>\n",
              "      <th>Stars</th>\n",
              "      <th>Price</th>\n",
              "      <th>Rating</th>\n",
              "      <th>Number of reviews</th>\n",
              "      <th>Reviews</th>\n",
              "      <th>Facilities</th>\n",
              "      <th>Description</th>\n",
              "      <th>Nearby places</th>\n",
              "    </tr>\n",
              "  </thead>\n",
              "  <tbody>\n",
              "    <tr>\n",
              "      <th>3692</th>\n",
              "      <td>1</td>\n",
              "      <td>1</td>\n",
              "      <td>1</td>\n",
              "      <td>3961</td>\n",
              "      <td>NaN</td>\n",
              "      <td>NaN</td>\n",
              "      <td>1</td>\n",
              "      <td>1</td>\n",
              "      <td>1</td>\n",
              "      <td>1</td>\n",
              "      <td>1.0</td>\n",
              "      <td>1</td>\n",
              "      <td>1.0</td>\n",
              "      <td>1</td>\n",
              "      <td>1</td>\n",
              "      <td>1</td>\n",
              "      <td>1</td>\n",
              "      <td>1</td>\n",
              "    </tr>\n",
              "  </tbody>\n",
              "</table>\n",
              "</div>\n",
              "      <button class=\"colab-df-convert\" onclick=\"convertToInteractive('df-4709bf8c-58a0-4faf-832c-fca482ddaaf7')\"\n",
              "              title=\"Convert this dataframe to an interactive table.\"\n",
              "              style=\"display:none;\">\n",
              "        \n",
              "  <svg xmlns=\"http://www.w3.org/2000/svg\" height=\"24px\"viewBox=\"0 0 24 24\"\n",
              "       width=\"24px\">\n",
              "    <path d=\"M0 0h24v24H0V0z\" fill=\"none\"/>\n",
              "    <path d=\"M18.56 5.44l.94 2.06.94-2.06 2.06-.94-2.06-.94-.94-2.06-.94 2.06-2.06.94zm-11 1L8.5 8.5l.94-2.06 2.06-.94-2.06-.94L8.5 2.5l-.94 2.06-2.06.94zm10 10l.94 2.06.94-2.06 2.06-.94-2.06-.94-.94-2.06-.94 2.06-2.06.94z\"/><path d=\"M17.41 7.96l-1.37-1.37c-.4-.4-.92-.59-1.43-.59-.52 0-1.04.2-1.43.59L10.3 9.45l-7.72 7.72c-.78.78-.78 2.05 0 2.83L4 21.41c.39.39.9.59 1.41.59.51 0 1.02-.2 1.41-.59l7.78-7.78 2.81-2.81c.8-.78.8-2.07 0-2.86zM5.41 20L4 18.59l7.72-7.72 1.47 1.35L5.41 20z\"/>\n",
              "  </svg>\n",
              "      </button>\n",
              "      \n",
              "  <style>\n",
              "    .colab-df-container {\n",
              "      display:flex;\n",
              "      flex-wrap:wrap;\n",
              "      gap: 12px;\n",
              "    }\n",
              "\n",
              "    .colab-df-convert {\n",
              "      background-color: #E8F0FE;\n",
              "      border: none;\n",
              "      border-radius: 50%;\n",
              "      cursor: pointer;\n",
              "      display: none;\n",
              "      fill: #1967D2;\n",
              "      height: 32px;\n",
              "      padding: 0 0 0 0;\n",
              "      width: 32px;\n",
              "    }\n",
              "\n",
              "    .colab-df-convert:hover {\n",
              "      background-color: #E2EBFA;\n",
              "      box-shadow: 0px 1px 2px rgba(60, 64, 67, 0.3), 0px 1px 3px 1px rgba(60, 64, 67, 0.15);\n",
              "      fill: #174EA6;\n",
              "    }\n",
              "\n",
              "    [theme=dark] .colab-df-convert {\n",
              "      background-color: #3B4455;\n",
              "      fill: #D2E3FC;\n",
              "    }\n",
              "\n",
              "    [theme=dark] .colab-df-convert:hover {\n",
              "      background-color: #434B5C;\n",
              "      box-shadow: 0px 1px 3px 1px rgba(0, 0, 0, 0.15);\n",
              "      filter: drop-shadow(0px 1px 2px rgba(0, 0, 0, 0.3));\n",
              "      fill: #FFFFFF;\n",
              "    }\n",
              "  </style>\n",
              "\n",
              "      <script>\n",
              "        const buttonEl =\n",
              "          document.querySelector('#df-4709bf8c-58a0-4faf-832c-fca482ddaaf7 button.colab-df-convert');\n",
              "        buttonEl.style.display =\n",
              "          google.colab.kernel.accessAllowed ? 'block' : 'none';\n",
              "\n",
              "        async function convertToInteractive(key) {\n",
              "          const element = document.querySelector('#df-4709bf8c-58a0-4faf-832c-fca482ddaaf7');\n",
              "          const dataTable =\n",
              "            await google.colab.kernel.invokeFunction('convertToInteractive',\n",
              "                                                     [key], {});\n",
              "          if (!dataTable) return;\n",
              "\n",
              "          const docLinkHtml = 'Like what you see? Visit the ' +\n",
              "            '<a target=\"_blank\" href=https://colab.research.google.com/notebooks/data_table.ipynb>data table notebook</a>'\n",
              "            + ' to learn more about interactive tables.';\n",
              "          element.innerHTML = '';\n",
              "          dataTable['output_type'] = 'display_data';\n",
              "          await google.colab.output.renderOutput(dataTable, element);\n",
              "          const docLink = document.createElement('div');\n",
              "          docLink.innerHTML = docLinkHtml;\n",
              "          element.appendChild(docLink);\n",
              "        }\n",
              "      </script>\n",
              "    </div>\n",
              "  </div>\n",
              "  "
            ]
          },
          "metadata": {},
          "execution_count": 6
        }
      ]
    },
    {
      "cell_type": "markdown",
      "source": [
        "Nhận thấy dữ liệu sau khi mapping chưa ổn định về số lượng thành phố --> Chuẩn hóa lại và xóa đi bản ghi thừa (3692)"
      ],
      "metadata": {
        "id": "oz4ktbk7d7kH"
      }
    },
    {
      "cell_type": "code",
      "source": [
        "src_mapped_df['City'] = np.where(src_mapped_df['City'] == 'Hà Nội', 'Hà Nội', src_mapped_df['City'])\n",
        "src_mapped_df['City'] = np.where(src_mapped_df['City'] == 'Vũng Tàu', 'Vũng Tàu', src_mapped_df['City'])\n",
        "src_mapped_df['City'] = np.where(src_mapped_df['City'] == 'Đảo Phú Quốc', 'Phú Quốc', src_mapped_df['City'])\n",
        "src_mapped_df['City'] = np.where(src_mapped_df['City'] == 'Hồ Chí Minh', 'TP. Hồ Chí Minh', src_mapped_df['City'])\n",
        "src_mapped_df['City'] = np.where(src_mapped_df['City'] == 'Hạ Long', 'Hạ Long', src_mapped_df['City'])\n",
        "src_mapped_df['City'] = np.where(src_mapped_df['City'] == 'Ha Long', 'Hạ Long', src_mapped_df['City'])"
      ],
      "metadata": {
        "id": "5v3ZDVueTwvD"
      },
      "execution_count": null,
      "outputs": []
    },
    {
      "cell_type": "code",
      "source": [
        "#Lọc bỏ bản ghi thừa\n",
        "src_mapped_df = src_mapped_df.drop([3692])\n",
        "#Reset lại index\n",
        "src_mapped_df = src_mapped_df.reset_index(drop=True)"
      ],
      "metadata": {
        "id": "aSdq9YDMUBav"
      },
      "execution_count": null,
      "outputs": []
    },
    {
      "cell_type": "code",
      "source": [
        "src_mapped_df['City'].unique()"
      ],
      "metadata": {
        "colab": {
          "base_uri": "https://localhost:8080/"
        },
        "id": "93XhCGlSUOW-",
        "outputId": "a4c68eba-4035-490c-c7d3-b5b5a00200d8"
      },
      "execution_count": null,
      "outputs": [
        {
          "output_type": "execute_result",
          "data": {
            "text/plain": [
              "array(['Hà Nội', 'TP. Hồ Chí Minh', 'Đà Lạt', 'Đà Nẵng', 'Nha Trang',\n",
              "       'Phú Quốc', 'Vũng Tàu', 'Hạ Long'], dtype=object)"
            ]
          },
          "metadata": {},
          "execution_count": 9
        }
      ]
    },
    {
      "cell_type": "code",
      "source": [
        "#Kiểm tra giá trị sao\n",
        "src_mapped_df['Stars'].loc[src_mapped_df['Stars']>5]"
      ],
      "metadata": {
        "colab": {
          "base_uri": "https://localhost:8080/"
        },
        "id": "9thK8PRsUZ9z",
        "outputId": "aaff1c0e-454a-42f8-a4a0-d10e10bdab99"
      },
      "execution_count": null,
      "outputs": [
        {
          "output_type": "execute_result",
          "data": {
            "text/plain": [
              "4552    25.0\n",
              "4565    45.0\n",
              "4567    45.0\n",
              "4569    35.0\n",
              "4573    15.0\n",
              "        ... \n",
              "5280    35.0\n",
              "5283    25.0\n",
              "5289    25.0\n",
              "5300    25.0\n",
              "5301    15.0\n",
              "Name: Stars, Length: 167, dtype: float64"
            ]
          },
          "metadata": {},
          "execution_count": 10
        }
      ]
    },
    {
      "cell_type": "markdown",
      "source": [
        "Nhận thấy, các giá trị này, thật ra là 2.5 sao hoặc 3.5 sao,... --> Chia cho 10 để thu được số sao thực sự"
      ],
      "metadata": {
        "id": "yFAu0xnPUnzE"
      }
    },
    {
      "cell_type": "code",
      "source": [
        "src_mapped_df['Stars'] = np.where(src_mapped_df['Stars'] > 5, src_mapped_df['Stars']/10 , src_mapped_df['Stars'])"
      ],
      "metadata": {
        "id": "r91_NfKPU1Fj"
      },
      "execution_count": null,
      "outputs": []
    },
    {
      "cell_type": "code",
      "source": [
        "#Lưu src_mapped\n",
        "# src_mapped_df.to_csv(save_path, index=False, encoding='utf8')"
      ],
      "metadata": {
        "id": "jKVjk_c13sUK"
      },
      "execution_count": null,
      "outputs": []
    },
    {
      "cell_type": "markdown",
      "source": [
        "Dành cho file dupplicated"
      ],
      "metadata": {
        "id": "8NCe4l8t4a0E"
      }
    },
    {
      "cell_type": "code",
      "source": [
        "#Check số lượng thành phố\n",
        "src_dup_df['City'].unique()"
      ],
      "metadata": {
        "colab": {
          "base_uri": "https://localhost:8080/"
        },
        "id": "OInEkRrJ4SdI",
        "outputId": "44587ec8-23af-44f9-c0c8-f43b1ee8536b"
      },
      "execution_count": null,
      "outputs": [
        {
          "output_type": "execute_result",
          "data": {
            "text/plain": [
              "array(['Hà Nội', 'TP. Hồ Chí Minh', 'Đà Lạt', 'Đà Nẵng', 'Nha Trang',\n",
              "       'Phú Quốc', 'Vũng Tàu', 'Hạ Long', 'Vũng Tàu', 'Hồ Chí Minh',\n",
              "       'Hà Nội', 'Hạ Long'], dtype=object)"
            ]
          },
          "metadata": {},
          "execution_count": 106
        }
      ]
    },
    {
      "cell_type": "code",
      "source": [
        "src_dup_df['City'] = np.where(src_dup_df['City'] == 'Hà Nội', 'Hà Nội', src_dup_df['City'])\n",
        "src_dup_df['City'] = np.where(src_dup_df['City'] == 'Vũng Tàu', 'Vũng Tàu', src_dup_df['City'])\n",
        "src_dup_df['City'] = np.where(src_dup_df['City'] == 'Hồ Chí Minh', 'TP. Hồ Chí Minh', src_dup_df['City'])\n",
        "src_dup_df['City'] = np.where(src_dup_df['City'] == 'Hạ Long', 'Hạ Long', src_dup_df['City'])"
      ],
      "metadata": {
        "id": "EdIwcKtv4Z-P"
      },
      "execution_count": null,
      "outputs": []
    },
    {
      "cell_type": "code",
      "source": [
        "src_dup_df['Stars'] = np.where(src_dup_df['Stars'] > 5, src_dup_df['Stars']/10 , src_dup_df['Stars'])"
      ],
      "metadata": {
        "id": "gxVFUBMH5LtK"
      },
      "execution_count": null,
      "outputs": []
    },
    {
      "cell_type": "code",
      "source": [
        "# src_dup_df.to_csv(save_path_dup, index=False, encoding='utf8')"
      ],
      "metadata": {
        "id": "VRgcF-SE5fE0"
      },
      "execution_count": null,
      "outputs": []
    },
    {
      "cell_type": "markdown",
      "source": [
        "# **Check dữ liệu sau khi mapping**"
      ],
      "metadata": {
        "id": "zqoGzqdrYqVf"
      }
    },
    {
      "cell_type": "code",
      "source": [
        "#Số lượng bản ghi và số thuộc tính trong CSDL\n",
        "print(\"Số bản ghi thu thập được là: \" + str(src_mapped_df.shape[0]))\n",
        "print(\"Số thuộc tính có trong nguồn là: \" + str(src_mapped_df.shape[1]))"
      ],
      "metadata": {
        "colab": {
          "base_uri": "https://localhost:8080/"
        },
        "id": "M9PRMJ_1zMRn",
        "outputId": "1509aa8f-7905-4784-8889-848d88c8c976"
      },
      "execution_count": null,
      "outputs": [
        {
          "output_type": "stream",
          "name": "stdout",
          "text": [
            "Số bản ghi thu thập được là: 7060\n",
            "Số thuộc tính có trong nguồn là: 18\n"
          ]
        }
      ]
    },
    {
      "cell_type": "code",
      "source": [
        "#Check null và thông tin tổng quan\n",
        "src_mapped_df.info()"
      ],
      "metadata": {
        "colab": {
          "base_uri": "https://localhost:8080/"
        },
        "id": "wEFHXkvkXppo",
        "outputId": "aed8067e-6d2d-467a-e4e5-0b248a3bc5e2"
      },
      "execution_count": null,
      "outputs": [
        {
          "output_type": "stream",
          "name": "stdout",
          "text": [
            "<class 'pandas.core.frame.DataFrame'>\n",
            "RangeIndex: 7060 entries, 0 to 7059\n",
            "Data columns (total 18 columns):\n",
            " #   Column             Non-Null Count  Dtype  \n",
            "---  ------             --------------  -----  \n",
            " 0   Image              7056 non-null   object \n",
            " 1   new_name           7054 non-null   object \n",
            " 2   new_add            7057 non-null   object \n",
            " 3   ID                 7060 non-null   int64  \n",
            " 4   Cluster            572 non-null    float64\n",
            " 5   Website            7060 non-null   object \n",
            " 6   City               7060 non-null   object \n",
            " 7   Hotel name         7060 non-null   object \n",
            " 8   Url                7060 non-null   object \n",
            " 9   Address            7060 non-null   object \n",
            " 10  Stars              7060 non-null   float64\n",
            " 11  Price              7060 non-null   int64  \n",
            " 12  Rating             7060 non-null   float64\n",
            " 13  Number of reviews  7060 non-null   int64  \n",
            " 14  Reviews            4735 non-null   object \n",
            " 15  Facilities         6997 non-null   object \n",
            " 16  Description        6291 non-null   object \n",
            " 17  Nearby places      6949 non-null   object \n",
            "dtypes: float64(3), int64(3), object(12)\n",
            "memory usage: 992.9+ KB\n"
          ]
        }
      ]
    },
    {
      "cell_type": "code",
      "source": [
        "src_mapped_df.describe()"
      ],
      "metadata": {
        "colab": {
          "base_uri": "https://localhost:8080/"
        },
        "id": "6-9KkxRAXxa4",
        "outputId": "e130a399-b559-41be-8a60-abb71dc765f3"
      },
      "execution_count": null,
      "outputs": [
        {
          "output_type": "execute_result",
          "data": {
            "text/plain": [
              "                ID     Cluster        Stars         Price       Rating  \\\n",
              "count  7060.000000  572.000000  7060.000000  7.060000e+03  7060.000000   \n",
              "mean   3778.618272  286.500000     2.264943  1.494647e+06     7.084873   \n",
              "std    2242.782146  165.266452     1.578703  5.234637e+06     3.171041   \n",
              "min       1.000000    1.000000     0.000000  2.080400e+04     0.000000   \n",
              "25%    1800.750000  143.750000     1.000000  4.100000e+05     7.300000   \n",
              "50%    3783.500000  286.500000     3.000000  6.500000e+05     8.400000   \n",
              "75%    5638.250000  429.250000     3.000000  1.100000e+06     8.900000   \n",
              "max    7745.000000  572.000000     5.000000  3.391889e+08    10.000000   \n",
              "\n",
              "       Number of reviews  \n",
              "count        7060.000000  \n",
              "mean          176.334419  \n",
              "std           414.244333  \n",
              "min             0.000000  \n",
              "25%             4.000000  \n",
              "50%            36.500000  \n",
              "75%           164.000000  \n",
              "max          6441.000000  "
            ],
            "text/html": [
              "\n",
              "  <div id=\"df-45860cc8-9a91-4f1f-80a9-aad96935cc6c\">\n",
              "    <div class=\"colab-df-container\">\n",
              "      <div>\n",
              "<style scoped>\n",
              "    .dataframe tbody tr th:only-of-type {\n",
              "        vertical-align: middle;\n",
              "    }\n",
              "\n",
              "    .dataframe tbody tr th {\n",
              "        vertical-align: top;\n",
              "    }\n",
              "\n",
              "    .dataframe thead th {\n",
              "        text-align: right;\n",
              "    }\n",
              "</style>\n",
              "<table border=\"1\" class=\"dataframe\">\n",
              "  <thead>\n",
              "    <tr style=\"text-align: right;\">\n",
              "      <th></th>\n",
              "      <th>ID</th>\n",
              "      <th>Cluster</th>\n",
              "      <th>Stars</th>\n",
              "      <th>Price</th>\n",
              "      <th>Rating</th>\n",
              "      <th>Number of reviews</th>\n",
              "    </tr>\n",
              "  </thead>\n",
              "  <tbody>\n",
              "    <tr>\n",
              "      <th>count</th>\n",
              "      <td>7060.000000</td>\n",
              "      <td>572.000000</td>\n",
              "      <td>7060.000000</td>\n",
              "      <td>7.060000e+03</td>\n",
              "      <td>7060.000000</td>\n",
              "      <td>7060.000000</td>\n",
              "    </tr>\n",
              "    <tr>\n",
              "      <th>mean</th>\n",
              "      <td>3778.618272</td>\n",
              "      <td>286.500000</td>\n",
              "      <td>2.264943</td>\n",
              "      <td>1.494647e+06</td>\n",
              "      <td>7.084873</td>\n",
              "      <td>176.334419</td>\n",
              "    </tr>\n",
              "    <tr>\n",
              "      <th>std</th>\n",
              "      <td>2242.782146</td>\n",
              "      <td>165.266452</td>\n",
              "      <td>1.578703</td>\n",
              "      <td>5.234637e+06</td>\n",
              "      <td>3.171041</td>\n",
              "      <td>414.244333</td>\n",
              "    </tr>\n",
              "    <tr>\n",
              "      <th>min</th>\n",
              "      <td>1.000000</td>\n",
              "      <td>1.000000</td>\n",
              "      <td>0.000000</td>\n",
              "      <td>2.080400e+04</td>\n",
              "      <td>0.000000</td>\n",
              "      <td>0.000000</td>\n",
              "    </tr>\n",
              "    <tr>\n",
              "      <th>25%</th>\n",
              "      <td>1800.750000</td>\n",
              "      <td>143.750000</td>\n",
              "      <td>1.000000</td>\n",
              "      <td>4.100000e+05</td>\n",
              "      <td>7.300000</td>\n",
              "      <td>4.000000</td>\n",
              "    </tr>\n",
              "    <tr>\n",
              "      <th>50%</th>\n",
              "      <td>3783.500000</td>\n",
              "      <td>286.500000</td>\n",
              "      <td>3.000000</td>\n",
              "      <td>6.500000e+05</td>\n",
              "      <td>8.400000</td>\n",
              "      <td>36.500000</td>\n",
              "    </tr>\n",
              "    <tr>\n",
              "      <th>75%</th>\n",
              "      <td>5638.250000</td>\n",
              "      <td>429.250000</td>\n",
              "      <td>3.000000</td>\n",
              "      <td>1.100000e+06</td>\n",
              "      <td>8.900000</td>\n",
              "      <td>164.000000</td>\n",
              "    </tr>\n",
              "    <tr>\n",
              "      <th>max</th>\n",
              "      <td>7745.000000</td>\n",
              "      <td>572.000000</td>\n",
              "      <td>5.000000</td>\n",
              "      <td>3.391889e+08</td>\n",
              "      <td>10.000000</td>\n",
              "      <td>6441.000000</td>\n",
              "    </tr>\n",
              "  </tbody>\n",
              "</table>\n",
              "</div>\n",
              "      <button class=\"colab-df-convert\" onclick=\"convertToInteractive('df-45860cc8-9a91-4f1f-80a9-aad96935cc6c')\"\n",
              "              title=\"Convert this dataframe to an interactive table.\"\n",
              "              style=\"display:none;\">\n",
              "        \n",
              "  <svg xmlns=\"http://www.w3.org/2000/svg\" height=\"24px\"viewBox=\"0 0 24 24\"\n",
              "       width=\"24px\">\n",
              "    <path d=\"M0 0h24v24H0V0z\" fill=\"none\"/>\n",
              "    <path d=\"M18.56 5.44l.94 2.06.94-2.06 2.06-.94-2.06-.94-.94-2.06-.94 2.06-2.06.94zm-11 1L8.5 8.5l.94-2.06 2.06-.94-2.06-.94L8.5 2.5l-.94 2.06-2.06.94zm10 10l.94 2.06.94-2.06 2.06-.94-2.06-.94-.94-2.06-.94 2.06-2.06.94z\"/><path d=\"M17.41 7.96l-1.37-1.37c-.4-.4-.92-.59-1.43-.59-.52 0-1.04.2-1.43.59L10.3 9.45l-7.72 7.72c-.78.78-.78 2.05 0 2.83L4 21.41c.39.39.9.59 1.41.59.51 0 1.02-.2 1.41-.59l7.78-7.78 2.81-2.81c.8-.78.8-2.07 0-2.86zM5.41 20L4 18.59l7.72-7.72 1.47 1.35L5.41 20z\"/>\n",
              "  </svg>\n",
              "      </button>\n",
              "      \n",
              "  <style>\n",
              "    .colab-df-container {\n",
              "      display:flex;\n",
              "      flex-wrap:wrap;\n",
              "      gap: 12px;\n",
              "    }\n",
              "\n",
              "    .colab-df-convert {\n",
              "      background-color: #E8F0FE;\n",
              "      border: none;\n",
              "      border-radius: 50%;\n",
              "      cursor: pointer;\n",
              "      display: none;\n",
              "      fill: #1967D2;\n",
              "      height: 32px;\n",
              "      padding: 0 0 0 0;\n",
              "      width: 32px;\n",
              "    }\n",
              "\n",
              "    .colab-df-convert:hover {\n",
              "      background-color: #E2EBFA;\n",
              "      box-shadow: 0px 1px 2px rgba(60, 64, 67, 0.3), 0px 1px 3px 1px rgba(60, 64, 67, 0.15);\n",
              "      fill: #174EA6;\n",
              "    }\n",
              "\n",
              "    [theme=dark] .colab-df-convert {\n",
              "      background-color: #3B4455;\n",
              "      fill: #D2E3FC;\n",
              "    }\n",
              "\n",
              "    [theme=dark] .colab-df-convert:hover {\n",
              "      background-color: #434B5C;\n",
              "      box-shadow: 0px 1px 3px 1px rgba(0, 0, 0, 0.15);\n",
              "      filter: drop-shadow(0px 1px 2px rgba(0, 0, 0, 0.3));\n",
              "      fill: #FFFFFF;\n",
              "    }\n",
              "  </style>\n",
              "\n",
              "      <script>\n",
              "        const buttonEl =\n",
              "          document.querySelector('#df-45860cc8-9a91-4f1f-80a9-aad96935cc6c button.colab-df-convert');\n",
              "        buttonEl.style.display =\n",
              "          google.colab.kernel.accessAllowed ? 'block' : 'none';\n",
              "\n",
              "        async function convertToInteractive(key) {\n",
              "          const element = document.querySelector('#df-45860cc8-9a91-4f1f-80a9-aad96935cc6c');\n",
              "          const dataTable =\n",
              "            await google.colab.kernel.invokeFunction('convertToInteractive',\n",
              "                                                     [key], {});\n",
              "          if (!dataTable) return;\n",
              "\n",
              "          const docLinkHtml = 'Like what you see? Visit the ' +\n",
              "            '<a target=\"_blank\" href=https://colab.research.google.com/notebooks/data_table.ipynb>data table notebook</a>'\n",
              "            + ' to learn more about interactive tables.';\n",
              "          element.innerHTML = '';\n",
              "          dataTable['output_type'] = 'display_data';\n",
              "          await google.colab.output.renderOutput(dataTable, element);\n",
              "          const docLink = document.createElement('div');\n",
              "          docLink.innerHTML = docLinkHtml;\n",
              "          element.appendChild(docLink);\n",
              "        }\n",
              "      </script>\n",
              "    </div>\n",
              "  </div>\n",
              "  "
            ]
          },
          "metadata": {},
          "execution_count": 14
        }
      ]
    },
    {
      "cell_type": "code",
      "source": [
        "src_mapped_df.head(3)"
      ],
      "metadata": {
        "colab": {
          "base_uri": "https://localhost:8080/"
        },
        "id": "rU_GgmFzX4EO",
        "outputId": "7f99e53c-2c7d-4ffd-a94c-2b488a7feacf"
      },
      "execution_count": null,
      "outputs": [
        {
          "output_type": "execute_result",
          "data": {
            "text/plain": [
              "                                               Image              new_name  \\\n",
              "0  https://cf.bstatic.com/xdata/images/hotel/max5...        hanzregalhanoi   \n",
              "1  https://cf.bstatic.com/xdata/images/hotel/max5...  lanuevaboutiquehanoi   \n",
              "2  https://cf.bstatic.com/xdata/images/hotel/max5...          lastoriaruby   \n",
              "\n",
              "                            new_add  ID  Cluster      Website    City  \\\n",
              "0  90phamhuythongbadinhhanoivietnam   1      NaN  booking.com  Hà Nội   \n",
              "1        32losuhoankiemhanoivietnam   2      NaN  booking.com  Hà Nội   \n",
              "2      3yenthaihoankiemhanoivietnam   3      NaN  booking.com  Hà Nội   \n",
              "\n",
              "                                      Hotel name  \\\n",
              "0               Khách sạn HANZ Regal Hotel Hanoi   \n",
              "1  Khách sạn La Nueva Boutique Hotel Hanoi & Spa   \n",
              "2                 Khách sạn La Storia Ruby Hotel   \n",
              "\n",
              "                                                 Url  \\\n",
              "0  https://www.booking.com/hotel/vn/90-pham-huy-t...   \n",
              "1  https://www.booking.com/hotel/vn/hanoi-eleganc...   \n",
              "2  https://www.booking.com/hotel/vn/hanoi-eleganc...   \n",
              "\n",
              "                                             Address  Stars    Price  Rating  \\\n",
              "0  90 Pham Huy Thong, Quận Ba Đình, Hà Nội, Viê...    2.0   421890     7.8   \n",
              "1  32 Lo Su Street, Quận Hoàn Kiếm, Hà Nội, Viê...    4.0  1316000     9.3   \n",
              "2  3 Yen Thai Street, Quận Hoàn Kiếm, Hà Nội, V...    3.0   625000     9.6   \n",
              "\n",
              "   Number of reviews                                            Reviews  \\\n",
              "0                 86  máy lạnh mát, wifi trong từng phòng nên mạnh, ...   \n",
              "1                209  Địa điểm tuyệt vời, đi một xíu là ra đến hồ Gư...   \n",
              "2                217  - vị trí gần hồ gươm rất tiện cho việc đi bộ q...   \n",
              "\n",
              "                                          Facilities  \\\n",
              "0  Xe đưa đón sân bay;Wi-Fi miễn phí;Phòng gi...   \n",
              "1  Xe đưa đón sân bay;Phòng không hút thuốc;T...   \n",
              "2  Xe đưa đón sân bay;Phòng không hút thuốc;W...   \n",
              "\n",
              "                                         Description  \\\n",
              "0  \\r\\nBạn đủ điều kiện nhận giảm giá Genius tại ...   \n",
              "1  \\r\\nBạn đủ điều kiện nhận giảm giá Genius tại ...   \n",
              "2  \\r\\nBạn đủ điều kiện nhận giảm giá Genius tại ...   \n",
              "\n",
              "                                       Nearby places  \n",
              "0  Hồ Ngọc Khánh, 0,3 km;Trung tâm thương mại Vin...  \n",
              "1  Nhà hát múa rối Thăng Long, 0,1 km;Đền Ngọc Sơ...  \n",
              "2  Quảng Trường Đông Kinh Nghĩa Thục, 0,4 km;Nhà ...  "
            ],
            "text/html": [
              "\n",
              "  <div id=\"df-94895a9c-58c2-4be7-a1ca-65c2c66db1db\">\n",
              "    <div class=\"colab-df-container\">\n",
              "      <div>\n",
              "<style scoped>\n",
              "    .dataframe tbody tr th:only-of-type {\n",
              "        vertical-align: middle;\n",
              "    }\n",
              "\n",
              "    .dataframe tbody tr th {\n",
              "        vertical-align: top;\n",
              "    }\n",
              "\n",
              "    .dataframe thead th {\n",
              "        text-align: right;\n",
              "    }\n",
              "</style>\n",
              "<table border=\"1\" class=\"dataframe\">\n",
              "  <thead>\n",
              "    <tr style=\"text-align: right;\">\n",
              "      <th></th>\n",
              "      <th>Image</th>\n",
              "      <th>new_name</th>\n",
              "      <th>new_add</th>\n",
              "      <th>ID</th>\n",
              "      <th>Cluster</th>\n",
              "      <th>Website</th>\n",
              "      <th>City</th>\n",
              "      <th>Hotel name</th>\n",
              "      <th>Url</th>\n",
              "      <th>Address</th>\n",
              "      <th>Stars</th>\n",
              "      <th>Price</th>\n",
              "      <th>Rating</th>\n",
              "      <th>Number of reviews</th>\n",
              "      <th>Reviews</th>\n",
              "      <th>Facilities</th>\n",
              "      <th>Description</th>\n",
              "      <th>Nearby places</th>\n",
              "    </tr>\n",
              "  </thead>\n",
              "  <tbody>\n",
              "    <tr>\n",
              "      <th>0</th>\n",
              "      <td>https://cf.bstatic.com/xdata/images/hotel/max5...</td>\n",
              "      <td>hanzregalhanoi</td>\n",
              "      <td>90phamhuythongbadinhhanoivietnam</td>\n",
              "      <td>1</td>\n",
              "      <td>NaN</td>\n",
              "      <td>booking.com</td>\n",
              "      <td>Hà Nội</td>\n",
              "      <td>Khách sạn HANZ Regal Hotel Hanoi</td>\n",
              "      <td>https://www.booking.com/hotel/vn/90-pham-huy-t...</td>\n",
              "      <td>90 Pham Huy Thong, Quận Ba Đình, Hà Nội, Viê...</td>\n",
              "      <td>2.0</td>\n",
              "      <td>421890</td>\n",
              "      <td>7.8</td>\n",
              "      <td>86</td>\n",
              "      <td>máy lạnh mát, wifi trong từng phòng nên mạnh, ...</td>\n",
              "      <td>Xe đưa đón sân bay;Wi-Fi miễn phí;Phòng gi...</td>\n",
              "      <td>\\r\\nBạn đủ điều kiện nhận giảm giá Genius tại ...</td>\n",
              "      <td>Hồ Ngọc Khánh, 0,3 km;Trung tâm thương mại Vin...</td>\n",
              "    </tr>\n",
              "    <tr>\n",
              "      <th>1</th>\n",
              "      <td>https://cf.bstatic.com/xdata/images/hotel/max5...</td>\n",
              "      <td>lanuevaboutiquehanoi</td>\n",
              "      <td>32losuhoankiemhanoivietnam</td>\n",
              "      <td>2</td>\n",
              "      <td>NaN</td>\n",
              "      <td>booking.com</td>\n",
              "      <td>Hà Nội</td>\n",
              "      <td>Khách sạn La Nueva Boutique Hotel Hanoi &amp; Spa</td>\n",
              "      <td>https://www.booking.com/hotel/vn/hanoi-eleganc...</td>\n",
              "      <td>32 Lo Su Street, Quận Hoàn Kiếm, Hà Nội, Viê...</td>\n",
              "      <td>4.0</td>\n",
              "      <td>1316000</td>\n",
              "      <td>9.3</td>\n",
              "      <td>209</td>\n",
              "      <td>Địa điểm tuyệt vời, đi một xíu là ra đến hồ Gư...</td>\n",
              "      <td>Xe đưa đón sân bay;Phòng không hút thuốc;T...</td>\n",
              "      <td>\\r\\nBạn đủ điều kiện nhận giảm giá Genius tại ...</td>\n",
              "      <td>Nhà hát múa rối Thăng Long, 0,1 km;Đền Ngọc Sơ...</td>\n",
              "    </tr>\n",
              "    <tr>\n",
              "      <th>2</th>\n",
              "      <td>https://cf.bstatic.com/xdata/images/hotel/max5...</td>\n",
              "      <td>lastoriaruby</td>\n",
              "      <td>3yenthaihoankiemhanoivietnam</td>\n",
              "      <td>3</td>\n",
              "      <td>NaN</td>\n",
              "      <td>booking.com</td>\n",
              "      <td>Hà Nội</td>\n",
              "      <td>Khách sạn La Storia Ruby Hotel</td>\n",
              "      <td>https://www.booking.com/hotel/vn/hanoi-eleganc...</td>\n",
              "      <td>3 Yen Thai Street, Quận Hoàn Kiếm, Hà Nội, V...</td>\n",
              "      <td>3.0</td>\n",
              "      <td>625000</td>\n",
              "      <td>9.6</td>\n",
              "      <td>217</td>\n",
              "      <td>- vị trí gần hồ gươm rất tiện cho việc đi bộ q...</td>\n",
              "      <td>Xe đưa đón sân bay;Phòng không hút thuốc;W...</td>\n",
              "      <td>\\r\\nBạn đủ điều kiện nhận giảm giá Genius tại ...</td>\n",
              "      <td>Quảng Trường Đông Kinh Nghĩa Thục, 0,4 km;Nhà ...</td>\n",
              "    </tr>\n",
              "  </tbody>\n",
              "</table>\n",
              "</div>\n",
              "      <button class=\"colab-df-convert\" onclick=\"convertToInteractive('df-94895a9c-58c2-4be7-a1ca-65c2c66db1db')\"\n",
              "              title=\"Convert this dataframe to an interactive table.\"\n",
              "              style=\"display:none;\">\n",
              "        \n",
              "  <svg xmlns=\"http://www.w3.org/2000/svg\" height=\"24px\"viewBox=\"0 0 24 24\"\n",
              "       width=\"24px\">\n",
              "    <path d=\"M0 0h24v24H0V0z\" fill=\"none\"/>\n",
              "    <path d=\"M18.56 5.44l.94 2.06.94-2.06 2.06-.94-2.06-.94-.94-2.06-.94 2.06-2.06.94zm-11 1L8.5 8.5l.94-2.06 2.06-.94-2.06-.94L8.5 2.5l-.94 2.06-2.06.94zm10 10l.94 2.06.94-2.06 2.06-.94-2.06-.94-.94-2.06-.94 2.06-2.06.94z\"/><path d=\"M17.41 7.96l-1.37-1.37c-.4-.4-.92-.59-1.43-.59-.52 0-1.04.2-1.43.59L10.3 9.45l-7.72 7.72c-.78.78-.78 2.05 0 2.83L4 21.41c.39.39.9.59 1.41.59.51 0 1.02-.2 1.41-.59l7.78-7.78 2.81-2.81c.8-.78.8-2.07 0-2.86zM5.41 20L4 18.59l7.72-7.72 1.47 1.35L5.41 20z\"/>\n",
              "  </svg>\n",
              "      </button>\n",
              "      \n",
              "  <style>\n",
              "    .colab-df-container {\n",
              "      display:flex;\n",
              "      flex-wrap:wrap;\n",
              "      gap: 12px;\n",
              "    }\n",
              "\n",
              "    .colab-df-convert {\n",
              "      background-color: #E8F0FE;\n",
              "      border: none;\n",
              "      border-radius: 50%;\n",
              "      cursor: pointer;\n",
              "      display: none;\n",
              "      fill: #1967D2;\n",
              "      height: 32px;\n",
              "      padding: 0 0 0 0;\n",
              "      width: 32px;\n",
              "    }\n",
              "\n",
              "    .colab-df-convert:hover {\n",
              "      background-color: #E2EBFA;\n",
              "      box-shadow: 0px 1px 2px rgba(60, 64, 67, 0.3), 0px 1px 3px 1px rgba(60, 64, 67, 0.15);\n",
              "      fill: #174EA6;\n",
              "    }\n",
              "\n",
              "    [theme=dark] .colab-df-convert {\n",
              "      background-color: #3B4455;\n",
              "      fill: #D2E3FC;\n",
              "    }\n",
              "\n",
              "    [theme=dark] .colab-df-convert:hover {\n",
              "      background-color: #434B5C;\n",
              "      box-shadow: 0px 1px 3px 1px rgba(0, 0, 0, 0.15);\n",
              "      filter: drop-shadow(0px 1px 2px rgba(0, 0, 0, 0.3));\n",
              "      fill: #FFFFFF;\n",
              "    }\n",
              "  </style>\n",
              "\n",
              "      <script>\n",
              "        const buttonEl =\n",
              "          document.querySelector('#df-94895a9c-58c2-4be7-a1ca-65c2c66db1db button.colab-df-convert');\n",
              "        buttonEl.style.display =\n",
              "          google.colab.kernel.accessAllowed ? 'block' : 'none';\n",
              "\n",
              "        async function convertToInteractive(key) {\n",
              "          const element = document.querySelector('#df-94895a9c-58c2-4be7-a1ca-65c2c66db1db');\n",
              "          const dataTable =\n",
              "            await google.colab.kernel.invokeFunction('convertToInteractive',\n",
              "                                                     [key], {});\n",
              "          if (!dataTable) return;\n",
              "\n",
              "          const docLinkHtml = 'Like what you see? Visit the ' +\n",
              "            '<a target=\"_blank\" href=https://colab.research.google.com/notebooks/data_table.ipynb>data table notebook</a>'\n",
              "            + ' to learn more about interactive tables.';\n",
              "          element.innerHTML = '';\n",
              "          dataTable['output_type'] = 'display_data';\n",
              "          await google.colab.output.renderOutput(dataTable, element);\n",
              "          const docLink = document.createElement('div');\n",
              "          docLink.innerHTML = docLinkHtml;\n",
              "          element.appendChild(docLink);\n",
              "        }\n",
              "      </script>\n",
              "    </div>\n",
              "  </div>\n",
              "  "
            ]
          },
          "metadata": {},
          "execution_count": 15
        }
      ]
    },
    {
      "cell_type": "markdown",
      "source": [
        "Khi EDA, ta không quan tâm đến những trường thuộc tính sinh ra trong quá trình matching và mapping --> Lọc bỏ những cột này"
      ],
      "metadata": {
        "id": "rIKN5qqgZCZe"
      }
    },
    {
      "cell_type": "markdown",
      "source": [
        "# **Chuẩn bị dữ liệu EDA**"
      ],
      "metadata": {
        "id": "11dztTH6bIoO"
      }
    },
    {
      "cell_type": "code",
      "source": [
        "#src_mapped_df.drop([\"new_name\", \"new_add\", \"ID\", \"Cluster\", \"Website\"], axis = 1, inplace = True)\n",
        "needed_cols = ['City', 'Hotel name', 'Stars', 'Price', 'Rating', 'Number of reviews', 'Facilities', 'Nearby places']"
      ],
      "metadata": {
        "id": "DO5EiRQcZKf2"
      },
      "execution_count": null,
      "outputs": []
    },
    {
      "cell_type": "code",
      "source": [
        "eda_hotels = src_mapped_df[needed_cols]"
      ],
      "metadata": {
        "id": "Ysjph1jBacqD"
      },
      "execution_count": null,
      "outputs": []
    },
    {
      "cell_type": "code",
      "source": [
        "eda_hotels.info()"
      ],
      "metadata": {
        "colab": {
          "base_uri": "https://localhost:8080/"
        },
        "id": "Y4VvTkADZW02",
        "outputId": "d8fd6ad0-d760-41ef-d2f2-01ffc3a81da3"
      },
      "execution_count": null,
      "outputs": [
        {
          "output_type": "stream",
          "name": "stdout",
          "text": [
            "<class 'pandas.core.frame.DataFrame'>\n",
            "RangeIndex: 7060 entries, 0 to 7059\n",
            "Data columns (total 8 columns):\n",
            " #   Column             Non-Null Count  Dtype  \n",
            "---  ------             --------------  -----  \n",
            " 0   City               7060 non-null   object \n",
            " 1   Hotel name         7060 non-null   object \n",
            " 2   Stars              7060 non-null   float64\n",
            " 3   Price              7060 non-null   int64  \n",
            " 4   Rating             7060 non-null   float64\n",
            " 5   Number of reviews  7060 non-null   int64  \n",
            " 6   Facilities         6997 non-null   object \n",
            " 7   Nearby places      6949 non-null   object \n",
            "dtypes: float64(2), int64(2), object(4)\n",
            "memory usage: 441.4+ KB\n"
          ]
        }
      ]
    },
    {
      "cell_type": "code",
      "source": [
        "eda_hotels.head()"
      ],
      "metadata": {
        "colab": {
          "base_uri": "https://localhost:8080/"
        },
        "id": "fkF6_p-eavVT",
        "outputId": "242d3813-d07b-4482-ffae-8f4a6d13044c"
      },
      "execution_count": null,
      "outputs": [
        {
          "output_type": "execute_result",
          "data": {
            "text/plain": [
              "     City                                     Hotel name  Stars    Price  \\\n",
              "0  Hà Nội               Khách sạn HANZ Regal Hotel Hanoi    2.0   421890   \n",
              "1  Hà Nội  Khách sạn La Nueva Boutique Hotel Hanoi & Spa    4.0  1316000   \n",
              "2  Hà Nội                 Khách sạn La Storia Ruby Hotel    3.0   625000   \n",
              "3  Hà Nội                      Khách sạn LeaH Silk Hotel    4.0  1800000   \n",
              "4  Hà Nội          Khách sạn Babylon Premium Hotel & Spa    4.0  1262250   \n",
              "\n",
              "   Rating  Number of reviews  \\\n",
              "0     7.8                 86   \n",
              "1     9.3                209   \n",
              "2     9.6                217   \n",
              "3     9.1                 72   \n",
              "4     9.4                627   \n",
              "\n",
              "                                          Facilities  \\\n",
              "0  Xe đưa đón sân bay;Wi-Fi miễn phí;Phòng gi...   \n",
              "1  Xe đưa đón sân bay;Phòng không hút thuốc;T...   \n",
              "2  Xe đưa đón sân bay;Phòng không hút thuốc;W...   \n",
              "3  1 hồ bơi;Xe đưa đón sân bay;Phòng không hút...   \n",
              "4  Xe đưa đón sân bay;Phòng không hút thuốc;T...   \n",
              "\n",
              "                                       Nearby places  \n",
              "0  Hồ Ngọc Khánh, 0,3 km;Trung tâm thương mại Vin...  \n",
              "1  Nhà hát múa rối Thăng Long, 0,1 km;Đền Ngọc Sơ...  \n",
              "2  Quảng Trường Đông Kinh Nghĩa Thục, 0,4 km;Nhà ...  \n",
              "3  Nhà thờ Thánh Joseph, 0,3 km;Quảng Trường Đông...  \n",
              "4  Quảng Trường Đông Kinh Nghĩa Thục, 0,3 km;Nhà ...  "
            ],
            "text/html": [
              "\n",
              "  <div id=\"df-14b825b0-fdf9-4804-abd1-08617b93358b\">\n",
              "    <div class=\"colab-df-container\">\n",
              "      <div>\n",
              "<style scoped>\n",
              "    .dataframe tbody tr th:only-of-type {\n",
              "        vertical-align: middle;\n",
              "    }\n",
              "\n",
              "    .dataframe tbody tr th {\n",
              "        vertical-align: top;\n",
              "    }\n",
              "\n",
              "    .dataframe thead th {\n",
              "        text-align: right;\n",
              "    }\n",
              "</style>\n",
              "<table border=\"1\" class=\"dataframe\">\n",
              "  <thead>\n",
              "    <tr style=\"text-align: right;\">\n",
              "      <th></th>\n",
              "      <th>City</th>\n",
              "      <th>Hotel name</th>\n",
              "      <th>Stars</th>\n",
              "      <th>Price</th>\n",
              "      <th>Rating</th>\n",
              "      <th>Number of reviews</th>\n",
              "      <th>Facilities</th>\n",
              "      <th>Nearby places</th>\n",
              "    </tr>\n",
              "  </thead>\n",
              "  <tbody>\n",
              "    <tr>\n",
              "      <th>0</th>\n",
              "      <td>Hà Nội</td>\n",
              "      <td>Khách sạn HANZ Regal Hotel Hanoi</td>\n",
              "      <td>2.0</td>\n",
              "      <td>421890</td>\n",
              "      <td>7.8</td>\n",
              "      <td>86</td>\n",
              "      <td>Xe đưa đón sân bay;Wi-Fi miễn phí;Phòng gi...</td>\n",
              "      <td>Hồ Ngọc Khánh, 0,3 km;Trung tâm thương mại Vin...</td>\n",
              "    </tr>\n",
              "    <tr>\n",
              "      <th>1</th>\n",
              "      <td>Hà Nội</td>\n",
              "      <td>Khách sạn La Nueva Boutique Hotel Hanoi &amp; Spa</td>\n",
              "      <td>4.0</td>\n",
              "      <td>1316000</td>\n",
              "      <td>9.3</td>\n",
              "      <td>209</td>\n",
              "      <td>Xe đưa đón sân bay;Phòng không hút thuốc;T...</td>\n",
              "      <td>Nhà hát múa rối Thăng Long, 0,1 km;Đền Ngọc Sơ...</td>\n",
              "    </tr>\n",
              "    <tr>\n",
              "      <th>2</th>\n",
              "      <td>Hà Nội</td>\n",
              "      <td>Khách sạn La Storia Ruby Hotel</td>\n",
              "      <td>3.0</td>\n",
              "      <td>625000</td>\n",
              "      <td>9.6</td>\n",
              "      <td>217</td>\n",
              "      <td>Xe đưa đón sân bay;Phòng không hút thuốc;W...</td>\n",
              "      <td>Quảng Trường Đông Kinh Nghĩa Thục, 0,4 km;Nhà ...</td>\n",
              "    </tr>\n",
              "    <tr>\n",
              "      <th>3</th>\n",
              "      <td>Hà Nội</td>\n",
              "      <td>Khách sạn LeaH Silk Hotel</td>\n",
              "      <td>4.0</td>\n",
              "      <td>1800000</td>\n",
              "      <td>9.1</td>\n",
              "      <td>72</td>\n",
              "      <td>1 hồ bơi;Xe đưa đón sân bay;Phòng không hút...</td>\n",
              "      <td>Nhà thờ Thánh Joseph, 0,3 km;Quảng Trường Đông...</td>\n",
              "    </tr>\n",
              "    <tr>\n",
              "      <th>4</th>\n",
              "      <td>Hà Nội</td>\n",
              "      <td>Khách sạn Babylon Premium Hotel &amp; Spa</td>\n",
              "      <td>4.0</td>\n",
              "      <td>1262250</td>\n",
              "      <td>9.4</td>\n",
              "      <td>627</td>\n",
              "      <td>Xe đưa đón sân bay;Phòng không hút thuốc;T...</td>\n",
              "      <td>Quảng Trường Đông Kinh Nghĩa Thục, 0,3 km;Nhà ...</td>\n",
              "    </tr>\n",
              "  </tbody>\n",
              "</table>\n",
              "</div>\n",
              "      <button class=\"colab-df-convert\" onclick=\"convertToInteractive('df-14b825b0-fdf9-4804-abd1-08617b93358b')\"\n",
              "              title=\"Convert this dataframe to an interactive table.\"\n",
              "              style=\"display:none;\">\n",
              "        \n",
              "  <svg xmlns=\"http://www.w3.org/2000/svg\" height=\"24px\"viewBox=\"0 0 24 24\"\n",
              "       width=\"24px\">\n",
              "    <path d=\"M0 0h24v24H0V0z\" fill=\"none\"/>\n",
              "    <path d=\"M18.56 5.44l.94 2.06.94-2.06 2.06-.94-2.06-.94-.94-2.06-.94 2.06-2.06.94zm-11 1L8.5 8.5l.94-2.06 2.06-.94-2.06-.94L8.5 2.5l-.94 2.06-2.06.94zm10 10l.94 2.06.94-2.06 2.06-.94-2.06-.94-.94-2.06-.94 2.06-2.06.94z\"/><path d=\"M17.41 7.96l-1.37-1.37c-.4-.4-.92-.59-1.43-.59-.52 0-1.04.2-1.43.59L10.3 9.45l-7.72 7.72c-.78.78-.78 2.05 0 2.83L4 21.41c.39.39.9.59 1.41.59.51 0 1.02-.2 1.41-.59l7.78-7.78 2.81-2.81c.8-.78.8-2.07 0-2.86zM5.41 20L4 18.59l7.72-7.72 1.47 1.35L5.41 20z\"/>\n",
              "  </svg>\n",
              "      </button>\n",
              "      \n",
              "  <style>\n",
              "    .colab-df-container {\n",
              "      display:flex;\n",
              "      flex-wrap:wrap;\n",
              "      gap: 12px;\n",
              "    }\n",
              "\n",
              "    .colab-df-convert {\n",
              "      background-color: #E8F0FE;\n",
              "      border: none;\n",
              "      border-radius: 50%;\n",
              "      cursor: pointer;\n",
              "      display: none;\n",
              "      fill: #1967D2;\n",
              "      height: 32px;\n",
              "      padding: 0 0 0 0;\n",
              "      width: 32px;\n",
              "    }\n",
              "\n",
              "    .colab-df-convert:hover {\n",
              "      background-color: #E2EBFA;\n",
              "      box-shadow: 0px 1px 2px rgba(60, 64, 67, 0.3), 0px 1px 3px 1px rgba(60, 64, 67, 0.15);\n",
              "      fill: #174EA6;\n",
              "    }\n",
              "\n",
              "    [theme=dark] .colab-df-convert {\n",
              "      background-color: #3B4455;\n",
              "      fill: #D2E3FC;\n",
              "    }\n",
              "\n",
              "    [theme=dark] .colab-df-convert:hover {\n",
              "      background-color: #434B5C;\n",
              "      box-shadow: 0px 1px 3px 1px rgba(0, 0, 0, 0.15);\n",
              "      filter: drop-shadow(0px 1px 2px rgba(0, 0, 0, 0.3));\n",
              "      fill: #FFFFFF;\n",
              "    }\n",
              "  </style>\n",
              "\n",
              "      <script>\n",
              "        const buttonEl =\n",
              "          document.querySelector('#df-14b825b0-fdf9-4804-abd1-08617b93358b button.colab-df-convert');\n",
              "        buttonEl.style.display =\n",
              "          google.colab.kernel.accessAllowed ? 'block' : 'none';\n",
              "\n",
              "        async function convertToInteractive(key) {\n",
              "          const element = document.querySelector('#df-14b825b0-fdf9-4804-abd1-08617b93358b');\n",
              "          const dataTable =\n",
              "            await google.colab.kernel.invokeFunction('convertToInteractive',\n",
              "                                                     [key], {});\n",
              "          if (!dataTable) return;\n",
              "\n",
              "          const docLinkHtml = 'Like what you see? Visit the ' +\n",
              "            '<a target=\"_blank\" href=https://colab.research.google.com/notebooks/data_table.ipynb>data table notebook</a>'\n",
              "            + ' to learn more about interactive tables.';\n",
              "          element.innerHTML = '';\n",
              "          dataTable['output_type'] = 'display_data';\n",
              "          await google.colab.output.renderOutput(dataTable, element);\n",
              "          const docLink = document.createElement('div');\n",
              "          docLink.innerHTML = docLinkHtml;\n",
              "          element.appendChild(docLink);\n",
              "        }\n",
              "      </script>\n",
              "    </div>\n",
              "  </div>\n",
              "  "
            ]
          },
          "metadata": {},
          "execution_count": 19
        }
      ]
    },
    {
      "cell_type": "code",
      "source": [
        "#Check số lượng thành phố\n",
        "# eda_hotels['City'].unique()"
      ],
      "metadata": {
        "id": "VBclQeGkdopy"
      },
      "execution_count": null,
      "outputs": []
    },
    {
      "cell_type": "code",
      "source": [
        "# eda_hotels[eda_hotels['City']=='1']"
      ],
      "metadata": {
        "id": "8bTeq52Gdw67"
      },
      "execution_count": null,
      "outputs": []
    },
    {
      "cell_type": "code",
      "source": [
        "# eda_hotels['City'] = np.where(eda_hotels['City'] == 'Hà Nội', 'Hà Nội', eda_hotels['City'])\n",
        "# eda_hotels['City'] = np.where(eda_hotels['City'] == 'Vũng Tàu', 'Vũng Tàu', eda_hotels['City'])\n",
        "# eda_hotels['City'] = np.where(eda_hotels['City'] == 'Đảo Phú Quốc', 'Phú Quốc', eda_hotels['City'])\n",
        "# eda_hotels['City'] = np.where(eda_hotels['City'] == 'Hồ Chí Minh', 'TP. Hồ Chí Minh', eda_hotels['City'])\n",
        "# eda_hotels['City'] = np.where(eda_hotels['City'] == 'Hạ Long', 'Hạ Long', eda_hotels['City'])\n",
        "# eda_hotels['City'] = np.where(eda_hotels['City'] == 'Ha Long', 'Hạ Long', eda_hotels['City'])"
      ],
      "metadata": {
        "id": "tVtoRZCWeqvF"
      },
      "execution_count": null,
      "outputs": []
    },
    {
      "cell_type": "code",
      "source": [
        "# eda_hotels = eda_hotels.drop([3692])"
      ],
      "metadata": {
        "id": "dsLvqsq9gjZA"
      },
      "execution_count": null,
      "outputs": []
    },
    {
      "cell_type": "code",
      "source": [
        "# eda_hotels = eda_hotels.reset_index(drop=True)"
      ],
      "metadata": {
        "id": "zKgiKr4vg0hn"
      },
      "execution_count": null,
      "outputs": []
    },
    {
      "cell_type": "markdown",
      "source": [
        "# **EDA về City**"
      ],
      "metadata": {
        "id": "wCE2rbn_cnYg"
      }
    },
    {
      "cell_type": "code",
      "source": [
        "citys_df = eda_hotels.copy(deep=True)"
      ],
      "metadata": {
        "id": "6SMA04qifEpp"
      },
      "execution_count": null,
      "outputs": []
    },
    {
      "cell_type": "markdown",
      "source": [
        "\n",
        "*   **Phân bố số lượng KS theo từng thành phố**"
      ],
      "metadata": {
        "id": "2SZYf0lgKxHr"
      }
    },
    {
      "cell_type": "code",
      "source": [
        "# Thêm cột để tiện eda\n",
        "citys_df.loc[citys_df['Stars'] < 4, 'Stars'] = 0\n",
        "citys_df.loc[citys_df['Stars'] >= 4, 'Stars'] = 1\n",
        "citys_df.loc[citys_df['Rating'] < 9.0, 'Rating'] = 0\n",
        "citys_df.loc[citys_df['Rating'] >= 9.0, 'Rating'] = 1"
      ],
      "metadata": {
        "id": "Yw-Y1Ah8lt4i"
      },
      "execution_count": null,
      "outputs": []
    },
    {
      "cell_type": "code",
      "source": [
        "#Số lượng KS mỗi thành phố\n",
        "df = citys_df.groupby(['City'])['City'].count()\n",
        "#df=df.sort_values(ascending=True)"
      ],
      "metadata": {
        "id": "CCSEqQ4fcq32"
      },
      "execution_count": null,
      "outputs": []
    },
    {
      "cell_type": "code",
      "source": [
        "#matplotlib.style.use('fivethirtyeight')\n",
        "#sns.set_style(\"dark\")\n",
        "#df.plot(kind=\"bar\", title=\"test\")\n",
        "df.plot(kind=\"barh\", title=\"test\")\n",
        "#plt.xticks(rotation=60, horizontalalignment=\"center\")\n",
        "plt.title(\"Phân bố KS theo thành phố\")\n",
        "plt.xlabel(\"Số lượng KS\")\n",
        "plt.ylabel(\"Thành phố\")"
      ],
      "metadata": {
        "colab": {
          "base_uri": "https://localhost:8080/",
          "height": 314
        },
        "id": "70rxTqcphVCX",
        "outputId": "2bbc19b1-4434-47be-8b84-3fc044744713"
      },
      "execution_count": null,
      "outputs": [
        {
          "output_type": "execute_result",
          "data": {
            "text/plain": [
              "Text(0, 0.5, 'Thành phố')"
            ]
          },
          "metadata": {},
          "execution_count": 28
        },
        {
          "output_type": "display_data",
          "data": {
            "text/plain": [
              "<Figure size 432x288 with 1 Axes>"
            ],
            "image/png": "[encoded data removed]"
          },
          "metadata": {
            "needs_background": "light"
          }
        }
      ]
    },
    {
      "cell_type": "markdown",
      "source": [
        "\n",
        "\n",
        "*   **Phân bố số lượng khác sạn theo mức sao (>=4 sao)**\n",
        "*   **Phân bố số lượng khác sạn theo mức rating (>=9.0 điểm)**\n",
        "\n"
      ],
      "metadata": {
        "id": "AJMV-JXILDoE"
      }
    },
    {
      "cell_type": "code",
      "source": [
        "# # Query the database for Quantity greater than 3\n",
        "# df_g = citys_df.query(\"`Stars` < 4\")\n",
        " \n",
        "# # Filter out labels of interest\n",
        "# df_g = df_g.filter(['City', 'Stars'])\n",
        " \n",
        "# # Group the value according to a condition\n",
        "# demo1 = df_g.groupby('City').count()\n",
        "# print(demo1)"
      ],
      "metadata": {
        "id": "CVZ4V5L_mScl"
      },
      "execution_count": null,
      "outputs": []
    },
    {
      "cell_type": "code",
      "source": [
        "df = citys_df.groupby(['City','Stars'])['City'].count()"
      ],
      "metadata": {
        "id": "AruP8EGUjKgm"
      },
      "execution_count": null,
      "outputs": []
    },
    {
      "cell_type": "code",
      "source": [
        "star_0 = []\n",
        "star_1 = []\n",
        "for i in range(len(df)):\n",
        "  if (i%2==0):\n",
        "    star_0.append(df[i])\n",
        "  else:\n",
        "    star_1.append(df[i])\n",
        "\n",
        "# print(star_0)\n",
        "# print(star_1)"
      ],
      "metadata": {
        "id": "57VYmOt9Aj2v"
      },
      "execution_count": null,
      "outputs": []
    },
    {
      "cell_type": "code",
      "source": [
        "df = citys_df.groupby(['City','Rating'])['City'].count()"
      ],
      "metadata": {
        "id": "e1r4bO3aKTOf"
      },
      "execution_count": null,
      "outputs": []
    },
    {
      "cell_type": "code",
      "source": [
        "rate_0 = []\n",
        "rate_1 = []\n",
        "for i in range(len(df)):\n",
        "  if (i%2==0):\n",
        "    rate_0.append(df[i])\n",
        "  else:\n",
        "    rate_1.append(df[i])\n",
        "# print(rate_0)\n",
        "# print(rate_1)"
      ],
      "metadata": {
        "id": "SEIi3MyTKZ01"
      },
      "execution_count": null,
      "outputs": []
    },
    {
      "cell_type": "code",
      "source": [
        "#Tạo df mới chứa các columns cần thiết\n",
        "city_name = {'City':{0:'Hà Nội', 1:'Hạ Long', 2:'Nha Trang', 3:'Phú Quốc',\n",
        "             4:'TP. Hồ Chí Minh', 5:'Vũng Tàu', 6:'Đà Lạt', 7:'Đà Nẵng'}}\n",
        "city_df = pd.DataFrame(city_name)\n",
        "city_df['Stars < 4'] = star_0\n",
        "city_df['Stars >= 4'] = star_1\n",
        "city_df['Rating < 9.0'] = rate_0\n",
        "city_df['Rating >= 9.0'] = rate_1\n",
        "\n",
        "#Set index\n",
        "city_df.set_index(\"City\", inplace = True)"
      ],
      "metadata": {
        "id": "ICwdCJ6OLTg5"
      },
      "execution_count": null,
      "outputs": []
    },
    {
      "cell_type": "code",
      "source": [
        "city_df[['Stars < 4', 'Stars >= 4']].plot(kind=\"bar\", figsize=(7,5))\n",
        "plt.title(\"Phân bố KS theo sao tại mỗi thành phố\")\n",
        "plt.xlabel(\"Thành phố\")\n",
        "plt.ylabel(\"Số lượng KS\")"
      ],
      "metadata": {
        "colab": {
          "base_uri": "https://localhost:8080/",
          "height": 436
        },
        "id": "A6-CDMEXNGzx",
        "outputId": "00c28af5-6234-46e5-87c5-f9ba4003cbc4"
      },
      "execution_count": null,
      "outputs": [
        {
          "output_type": "execute_result",
          "data": {
            "text/plain": [
              "Text(0, 0.5, 'Số lượng KS')"
            ]
          },
          "metadata": {},
          "execution_count": 35
        },
        {
          "output_type": "display_data",
          "data": {
            "text/plain": [
              "<Figure size 504x360 with 1 Axes>"
            ],
            "image/png": "[encoded data removed]"
          },
          "metadata": {
            "needs_background": "light"
          }
        }
      ]
    },
    {
      "cell_type": "code",
      "source": [
        "city_df[['Stars < 4', 'Stars >= 4']].plot(kind=\"bar\", figsize=(7,5), stacked=True)\n",
        "plt.title(\"Phân bố KS theo sao tại mỗi thành phố (Stacked)\")\n",
        "plt.xlabel(\"Thành phố\")\n",
        "plt.ylabel(\"Số lượng KS\")"
      ],
      "metadata": {
        "colab": {
          "base_uri": "https://localhost:8080/",
          "height": 436
        },
        "id": "md-s9gDUOwZ3",
        "outputId": "b6547915-c01d-4011-8af6-d036c3b51795"
      },
      "execution_count": null,
      "outputs": [
        {
          "output_type": "execute_result",
          "data": {
            "text/plain": [
              "Text(0, 0.5, 'Số lượng KS')"
            ]
          },
          "metadata": {},
          "execution_count": 36
        },
        {
          "output_type": "display_data",
          "data": {
            "text/plain": [
              "<Figure size 504x360 with 1 Axes>"
            ],
            "image/png": "[encoded data removed]"
          },
          "metadata": {
            "needs_background": "light"
          }
        }
      ]
    },
    {
      "cell_type": "code",
      "source": [
        "city_df[['Rating < 9.0', 'Rating >= 9.0']].plot(kind=\"bar\", figsize=(7,5))\n",
        "plt.title(\"Phân bố KS theo rating tại mỗi thành phố\")\n",
        "plt.xlabel(\"Thành phố\")\n",
        "plt.ylabel(\"Số lượng KS\")"
      ],
      "metadata": {
        "colab": {
          "base_uri": "https://localhost:8080/",
          "height": 436
        },
        "id": "RNyt7SyuOi71",
        "outputId": "9f6de2a8-454f-42e6-c3f6-cc1ae1f54a31"
      },
      "execution_count": null,
      "outputs": [
        {
          "output_type": "execute_result",
          "data": {
            "text/plain": [
              "Text(0, 0.5, 'Số lượng KS')"
            ]
          },
          "metadata": {},
          "execution_count": 37
        },
        {
          "output_type": "display_data",
          "data": {
            "text/plain": [
              "<Figure size 504x360 with 1 Axes>"
            ],
            "image/png": "[encoded data removed]"
          },
          "metadata": {
            "needs_background": "light"
          }
        }
      ]
    },
    {
      "cell_type": "code",
      "source": [
        "city_df[['Rating < 9.0', 'Rating >= 9.0']].plot(kind=\"bar\", figsize=(7,5), stacked=True)\n",
        "plt.title(\"Phân bố KS theo rating tại mỗi thành phố (Stacked)\")\n",
        "plt.xlabel(\"Thành phố\")\n",
        "plt.ylabel(\"Số lượng KS\")"
      ],
      "metadata": {
        "colab": {
          "base_uri": "https://localhost:8080/",
          "height": 436
        },
        "id": "dO0OGn8iO3O0",
        "outputId": "33eb4a17-feac-4049-f4c5-de64f256f943"
      },
      "execution_count": null,
      "outputs": [
        {
          "output_type": "execute_result",
          "data": {
            "text/plain": [
              "Text(0, 0.5, 'Số lượng KS')"
            ]
          },
          "metadata": {},
          "execution_count": 38
        },
        {
          "output_type": "display_data",
          "data": {
            "text/plain": [
              "<Figure size 504x360 with 1 Axes>"
            ],
            "image/png": "[encoded data removed]"
          },
          "metadata": {
            "needs_background": "light"
          }
        }
      ]
    },
    {
      "cell_type": "markdown",
      "source": [
        "# **EDA về Price**"
      ],
      "metadata": {
        "id": "9-KCSqvKO_qf"
      }
    },
    {
      "cell_type": "markdown",
      "source": [
        "\n",
        "\n",
        "*   **Mối quan hệ giữa Giá cả và các thuộc tính (Thành phố, Số sao KS, Điểm rating, Tiện ích KS)**\n",
        "\n"
      ],
      "metadata": {
        "id": "xEF2fdFXPQIC"
      }
    },
    {
      "cell_type": "code",
      "source": [
        "min_price_df = eda_hotels.copy(deep=True)"
      ],
      "metadata": {
        "id": "wGizVi9PPUO-"
      },
      "execution_count": null,
      "outputs": []
    },
    {
      "cell_type": "code",
      "source": [
        "min_price_df.plot(kind='scatter', x='City', y='Price',\n",
        "                  colormap='viridis', figsize=(10,5))\n",
        "plt.title('Mối quan hệ giữa Giá phòng và Thành phố')\n",
        "plt.xticks(rotation=60, horizontalalignment=\"center\")\n",
        "plt.xlabel('Thành phố')\n",
        "plt.ylabel('Giá phòng')"
      ],
      "metadata": {
        "colab": {
          "base_uri": "https://localhost:8080/",
          "height": 430
        },
        "id": "eliiNSgBQRkl",
        "outputId": "84824b85-6441-4ccb-9976-01f70f97f43a"
      },
      "execution_count": null,
      "outputs": [
        {
          "output_type": "execute_result",
          "data": {
            "text/plain": [
              "Text(0, 0.5, 'Giá phòng')"
            ]
          },
          "metadata": {},
          "execution_count": 40
        },
        {
          "output_type": "display_data",
          "data": {
            "text/plain": [
              "<Figure size 720x360 with 1 Axes>"
            ],
            "image/png": "[encoded data removed]"
          },
          "metadata": {
            "needs_background": "light"
          }
        }
      ]
    },
    {
      "cell_type": "code",
      "source": [
        "min_price_df.plot(kind='scatter', x='Stars', y='Price',\n",
        "                  colormap='viridis', figsize=(10,5))\n",
        "plt.title('Mối quan hệ giữa Giá phòng và Số sao KS')\n",
        "plt.xticks(rotation=60, horizontalalignment=\"center\")\n",
        "plt.xlabel('Thành phố')\n",
        "plt.ylabel('Giá phòng')"
      ],
      "metadata": {
        "colab": {
          "base_uri": "https://localhost:8080/",
          "height": 369
        },
        "id": "ll12EOKvSWSJ",
        "outputId": "6ff0266f-5a45-44c3-9335-f2ff345ed5ae"
      },
      "execution_count": null,
      "outputs": [
        {
          "output_type": "execute_result",
          "data": {
            "text/plain": [
              "Text(0, 0.5, 'Giá phòng')"
            ]
          },
          "metadata": {},
          "execution_count": 41
        },
        {
          "output_type": "display_data",
          "data": {
            "text/plain": [
              "<Figure size 720x360 with 1 Axes>"
            ],
            "image/png": "[encoded data removed]"
          },
          "metadata": {
            "needs_background": "light"
          }
        }
      ]
    },
    {
      "cell_type": "code",
      "source": [
        "min_price_df.plot(kind='scatter', x='Rating', y='Price',\n",
        "                  colormap='viridis', figsize=(10,5))\n",
        "plt.title('Mối quan hệ giữa Giá phòng và Điểm Rating KS')\n",
        "#plt.xticks(rotation=60, horizontalalignment=\"center\")\n",
        "plt.xlabel('Điểm rating')\n",
        "plt.ylabel('Giá phòng')"
      ],
      "metadata": {
        "colab": {
          "base_uri": "https://localhost:8080/",
          "height": 370
        },
        "id": "XMy72c2DSi_O",
        "outputId": "12ce1607-cdf9-4495-9978-466edb14bd37"
      },
      "execution_count": null,
      "outputs": [
        {
          "output_type": "execute_result",
          "data": {
            "text/plain": [
              "Text(0, 0.5, 'Giá phòng')"
            ]
          },
          "metadata": {},
          "execution_count": 42
        },
        {
          "output_type": "display_data",
          "data": {
            "text/plain": [
              "<Figure size 720x360 with 1 Axes>"
            ],
            "image/png": "[encoded data removed]"
          },
          "metadata": {
            "needs_background": "light"
          }
        }
      ]
    },
    {
      "cell_type": "code",
      "source": [
        "min_price_df.loc[min_price_df['Rating']==0]"
      ],
      "metadata": {
        "colab": {
          "base_uri": "https://localhost:8080/",
          "height": 659
        },
        "id": "q91hw0T4Vk2G",
        "outputId": "9b6025ca-e539-4418-b759-14301d291f12"
      },
      "execution_count": null,
      "outputs": [
        {
          "output_type": "execute_result",
          "data": {
            "text/plain": [
              "         City                                         Hotel name  Stars  \\\n",
              "5      Hà Nội  Căn hộ Mới Sumitomo Hotel & Service Apartment ...    0.0   \n",
              "64     Hà Nội                              Căn hộ Rose Apartment    0.0   \n",
              "69     Hà Nội  Căn hộ Mới Vinhomes Skylake Pham Hung, Hà Nội,...    0.0   \n",
              "75     Hà Nội  Căn hộ Mới Anthyhouse - Studio Apt in Greenbay...    0.0   \n",
              "82     Hà Nội              Chỗ nghỉ nhà dân Mới Jasmine Homestay    0.0   \n",
              "...       ...                                                ...    ...   \n",
              "6157  Hạ Long                          Du thuyền Indochina Sails    5.0   \n",
              "6158  Hạ Long                                    Khách sạn Ann    3.0   \n",
              "6159  Hạ Long                       Du thuyền Garden Bay Premium    4.0   \n",
              "6160  Hạ Long                            Gray Line Halong Cruise    4.0   \n",
              "6161  Hạ Long                                    Khách sạn Osaka    2.0   \n",
              "\n",
              "         Price  Rating  Number of reviews  \\\n",
              "5       824500     0.0                  0   \n",
              "64      450000     0.0                  0   \n",
              "69     1700000     0.0                  0   \n",
              "75      800000     0.0                  0   \n",
              "82      486000     0.0                  0   \n",
              "...        ...     ...                ...   \n",
              "6157   7896065     0.0                  0   \n",
              "6158    761300     0.0                  2   \n",
              "6159   9394399     0.0                  1   \n",
              "6160  18018401     0.0                  1   \n",
              "6161   2000000     0.0                  1   \n",
              "\n",
              "                                             Facilities  \\\n",
              "5     Wi-Fi miễn phí;Chỗ đỗ xe miễn phí;Sân vư...   \n",
              "64       Wi-Fi miễn phí;Chỗ đỗ xe;Điều hòa nhiệt độ   \n",
              "69    1 hồ bơi;Trung tâm thể dục;Phòng gia đình;...   \n",
              "75    Chỗ đỗ xe;Sân thượng/ hiên;Sân vườn;Điều h...   \n",
              "82    Xe đưa đón sân bay;Phòng không hút thuốc;Đ...   \n",
              "...                                                 ...   \n",
              "6157                  Máy lạnh;Nhà hàng;Lễ tân 24h;WiFi   \n",
              "6158                                           Máy lạnh   \n",
              "6159                  Máy lạnh;Nhà hàng;Lễ tân 24h;WiFi   \n",
              "6160                  Máy lạnh;Nhà hàng;Lễ tân 24h;WiFi   \n",
              "6161                                      Máy lạnh;WiFi   \n",
              "\n",
              "                                          Nearby places  \n",
              "5     Công viên Thủ Lệ, 0,2 km;Đại học RMIT, 0,3 km;...  \n",
              "64    Hồ Thiền Quang, 0,2 km;Cung Văn Hóa Hữu nghị, ...  \n",
              "69    Tòa nhà Keangnam Hanoi Landmark Tower, 0,3 km;...  \n",
              "75    Tòa nhà Keangnam Hanoi Landmark Tower, 1,8 km;...  \n",
              "82    Nhà thờ Thánh Joseph, 0,2 km;National Library ...  \n",
              "...                                                 ...  \n",
              "6157  Bãi biển Tuần Châu, 786 m;Bệnh viện quốc tế Vi...  \n",
              "6158  Đảo Quan Lạn, 596 m;Bãi Gót, 6.26 km;Dòng Sôn...  \n",
              "6159  Japanese Garden, 340 m;Bệnh viện quốc tế Vinme...  \n",
              "6160  Bãi biển Tuần Châu, 265 m;Bệnh viện quốc tế Vi...  \n",
              "6161  Ho Co Tien Lake, 2.62 km;Bệnh viện quốc tế Vin...  \n",
              "\n",
              "[1087 rows x 8 columns]"
            ],
            "text/html": [
              "\n",
              "  <div id=\"df-e02af434-17e5-4731-89c9-d54384640aac\">\n",
              "    <div class=\"colab-df-container\">\n",
              "      <div>\n",
              "<style scoped>\n",
              "    .dataframe tbody tr th:only-of-type {\n",
              "        vertical-align: middle;\n",
              "    }\n",
              "\n",
              "    .dataframe tbody tr th {\n",
              "        vertical-align: top;\n",
              "    }\n",
              "\n",
              "    .dataframe thead th {\n",
              "        text-align: right;\n",
              "    }\n",
              "</style>\n",
              "<table border=\"1\" class=\"dataframe\">\n",
              "  <thead>\n",
              "    <tr style=\"text-align: right;\">\n",
              "      <th></th>\n",
              "      <th>City</th>\n",
              "      <th>Hotel name</th>\n",
              "      <th>Stars</th>\n",
              "      <th>Price</th>\n",
              "      <th>Rating</th>\n",
              "      <th>Number of reviews</th>\n",
              "      <th>Facilities</th>\n",
              "      <th>Nearby places</th>\n",
              "    </tr>\n",
              "  </thead>\n",
              "  <tbody>\n",
              "    <tr>\n",
              "      <th>5</th>\n",
              "      <td>Hà Nội</td>\n",
              "      <td>Căn hộ Mới Sumitomo Hotel &amp; Service Apartment ...</td>\n",
              "      <td>0.0</td>\n",
              "      <td>824500</td>\n",
              "      <td>0.0</td>\n",
              "      <td>0</td>\n",
              "      <td>Wi-Fi miễn phí;Chỗ đỗ xe miễn phí;Sân vư...</td>\n",
              "      <td>Công viên Thủ Lệ, 0,2 km;Đại học RMIT, 0,3 km;...</td>\n",
              "    </tr>\n",
              "    <tr>\n",
              "      <th>64</th>\n",
              "      <td>Hà Nội</td>\n",
              "      <td>Căn hộ Rose Apartment</td>\n",
              "      <td>0.0</td>\n",
              "      <td>450000</td>\n",
              "      <td>0.0</td>\n",
              "      <td>0</td>\n",
              "      <td>Wi-Fi miễn phí;Chỗ đỗ xe;Điều hòa nhiệt độ</td>\n",
              "      <td>Hồ Thiền Quang, 0,2 km;Cung Văn Hóa Hữu nghị, ...</td>\n",
              "    </tr>\n",
              "    <tr>\n",
              "      <th>69</th>\n",
              "      <td>Hà Nội</td>\n",
              "      <td>Căn hộ Mới Vinhomes Skylake Pham Hung, Hà Nội,...</td>\n",
              "      <td>0.0</td>\n",
              "      <td>1700000</td>\n",
              "      <td>0.0</td>\n",
              "      <td>0</td>\n",
              "      <td>1 hồ bơi;Trung tâm thể dục;Phòng gia đình;...</td>\n",
              "      <td>Tòa nhà Keangnam Hanoi Landmark Tower, 0,3 km;...</td>\n",
              "    </tr>\n",
              "    <tr>\n",
              "      <th>75</th>\n",
              "      <td>Hà Nội</td>\n",
              "      <td>Căn hộ Mới Anthyhouse - Studio Apt in Greenbay...</td>\n",
              "      <td>0.0</td>\n",
              "      <td>800000</td>\n",
              "      <td>0.0</td>\n",
              "      <td>0</td>\n",
              "      <td>Chỗ đỗ xe;Sân thượng/ hiên;Sân vườn;Điều h...</td>\n",
              "      <td>Tòa nhà Keangnam Hanoi Landmark Tower, 1,8 km;...</td>\n",
              "    </tr>\n",
              "    <tr>\n",
              "      <th>82</th>\n",
              "      <td>Hà Nội</td>\n",
              "      <td>Chỗ nghỉ nhà dân Mới Jasmine Homestay</td>\n",
              "      <td>0.0</td>\n",
              "      <td>486000</td>\n",
              "      <td>0.0</td>\n",
              "      <td>0</td>\n",
              "      <td>Xe đưa đón sân bay;Phòng không hút thuốc;Đ...</td>\n",
              "      <td>Nhà thờ Thánh Joseph, 0,2 km;National Library ...</td>\n",
              "    </tr>\n",
              "    <tr>\n",
              "      <th>...</th>\n",
              "      <td>...</td>\n",
              "      <td>...</td>\n",
              "      <td>...</td>\n",
              "      <td>...</td>\n",
              "      <td>...</td>\n",
              "      <td>...</td>\n",
              "      <td>...</td>\n",
              "      <td>...</td>\n",
              "    </tr>\n",
              "    <tr>\n",
              "      <th>6157</th>\n",
              "      <td>Hạ Long</td>\n",
              "      <td>Du thuyền Indochina Sails</td>\n",
              "      <td>5.0</td>\n",
              "      <td>7896065</td>\n",
              "      <td>0.0</td>\n",
              "      <td>0</td>\n",
              "      <td>Máy lạnh;Nhà hàng;Lễ tân 24h;WiFi</td>\n",
              "      <td>Bãi biển Tuần Châu, 786 m;Bệnh viện quốc tế Vi...</td>\n",
              "    </tr>\n",
              "    <tr>\n",
              "      <th>6158</th>\n",
              "      <td>Hạ Long</td>\n",
              "      <td>Khách sạn Ann</td>\n",
              "      <td>3.0</td>\n",
              "      <td>761300</td>\n",
              "      <td>0.0</td>\n",
              "      <td>2</td>\n",
              "      <td>Máy lạnh</td>\n",
              "      <td>Đảo Quan Lạn, 596 m;Bãi Gót, 6.26 km;Dòng Sôn...</td>\n",
              "    </tr>\n",
              "    <tr>\n",
              "      <th>6159</th>\n",
              "      <td>Hạ Long</td>\n",
              "      <td>Du thuyền Garden Bay Premium</td>\n",
              "      <td>4.0</td>\n",
              "      <td>9394399</td>\n",
              "      <td>0.0</td>\n",
              "      <td>1</td>\n",
              "      <td>Máy lạnh;Nhà hàng;Lễ tân 24h;WiFi</td>\n",
              "      <td>Japanese Garden, 340 m;Bệnh viện quốc tế Vinme...</td>\n",
              "    </tr>\n",
              "    <tr>\n",
              "      <th>6160</th>\n",
              "      <td>Hạ Long</td>\n",
              "      <td>Gray Line Halong Cruise</td>\n",
              "      <td>4.0</td>\n",
              "      <td>18018401</td>\n",
              "      <td>0.0</td>\n",
              "      <td>1</td>\n",
              "      <td>Máy lạnh;Nhà hàng;Lễ tân 24h;WiFi</td>\n",
              "      <td>Bãi biển Tuần Châu, 265 m;Bệnh viện quốc tế Vi...</td>\n",
              "    </tr>\n",
              "    <tr>\n",
              "      <th>6161</th>\n",
              "      <td>Hạ Long</td>\n",
              "      <td>Khách sạn Osaka</td>\n",
              "      <td>2.0</td>\n",
              "      <td>2000000</td>\n",
              "      <td>0.0</td>\n",
              "      <td>1</td>\n",
              "      <td>Máy lạnh;WiFi</td>\n",
              "      <td>Ho Co Tien Lake, 2.62 km;Bệnh viện quốc tế Vin...</td>\n",
              "    </tr>\n",
              "  </tbody>\n",
              "</table>\n",
              "<p>1087 rows × 8 columns</p>\n",
              "</div>\n",
              "      <button class=\"colab-df-convert\" onclick=\"convertToInteractive('df-e02af434-17e5-4731-89c9-d54384640aac')\"\n",
              "              title=\"Convert this dataframe to an interactive table.\"\n",
              "              style=\"display:none;\">\n",
              "        \n",
              "  <svg xmlns=\"http://www.w3.org/2000/svg\" height=\"24px\"viewBox=\"0 0 24 24\"\n",
              "       width=\"24px\">\n",
              "    <path d=\"M0 0h24v24H0V0z\" fill=\"none\"/>\n",
              "    <path d=\"M18.56 5.44l.94 2.06.94-2.06 2.06-.94-2.06-.94-.94-2.06-.94 2.06-2.06.94zm-11 1L8.5 8.5l.94-2.06 2.06-.94-2.06-.94L8.5 2.5l-.94 2.06-2.06.94zm10 10l.94 2.06.94-2.06 2.06-.94-2.06-.94-.94-2.06-.94 2.06-2.06.94z\"/><path d=\"M17.41 7.96l-1.37-1.37c-.4-.4-.92-.59-1.43-.59-.52 0-1.04.2-1.43.59L10.3 9.45l-7.72 7.72c-.78.78-.78 2.05 0 2.83L4 21.41c.39.39.9.59 1.41.59.51 0 1.02-.2 1.41-.59l7.78-7.78 2.81-2.81c.8-.78.8-2.07 0-2.86zM5.41 20L4 18.59l7.72-7.72 1.47 1.35L5.41 20z\"/>\n",
              "  </svg>\n",
              "      </button>\n",
              "      \n",
              "  <style>\n",
              "    .colab-df-container {\n",
              "      display:flex;\n",
              "      flex-wrap:wrap;\n",
              "      gap: 12px;\n",
              "    }\n",
              "\n",
              "    .colab-df-convert {\n",
              "      background-color: #E8F0FE;\n",
              "      border: none;\n",
              "      border-radius: 50%;\n",
              "      cursor: pointer;\n",
              "      display: none;\n",
              "      fill: #1967D2;\n",
              "      height: 32px;\n",
              "      padding: 0 0 0 0;\n",
              "      width: 32px;\n",
              "    }\n",
              "\n",
              "    .colab-df-convert:hover {\n",
              "      background-color: #E2EBFA;\n",
              "      box-shadow: 0px 1px 2px rgba(60, 64, 67, 0.3), 0px 1px 3px 1px rgba(60, 64, 67, 0.15);\n",
              "      fill: #174EA6;\n",
              "    }\n",
              "\n",
              "    [theme=dark] .colab-df-convert {\n",
              "      background-color: #3B4455;\n",
              "      fill: #D2E3FC;\n",
              "    }\n",
              "\n",
              "    [theme=dark] .colab-df-convert:hover {\n",
              "      background-color: #434B5C;\n",
              "      box-shadow: 0px 1px 3px 1px rgba(0, 0, 0, 0.15);\n",
              "      filter: drop-shadow(0px 1px 2px rgba(0, 0, 0, 0.3));\n",
              "      fill: #FFFFFF;\n",
              "    }\n",
              "  </style>\n",
              "\n",
              "      <script>\n",
              "        const buttonEl =\n",
              "          document.querySelector('#df-e02af434-17e5-4731-89c9-d54384640aac button.colab-df-convert');\n",
              "        buttonEl.style.display =\n",
              "          google.colab.kernel.accessAllowed ? 'block' : 'none';\n",
              "\n",
              "        async function convertToInteractive(key) {\n",
              "          const element = document.querySelector('#df-e02af434-17e5-4731-89c9-d54384640aac');\n",
              "          const dataTable =\n",
              "            await google.colab.kernel.invokeFunction('convertToInteractive',\n",
              "                                                     [key], {});\n",
              "          if (!dataTable) return;\n",
              "\n",
              "          const docLinkHtml = 'Like what you see? Visit the ' +\n",
              "            '<a target=\"_blank\" href=https://colab.research.google.com/notebooks/data_table.ipynb>data table notebook</a>'\n",
              "            + ' to learn more about interactive tables.';\n",
              "          element.innerHTML = '';\n",
              "          dataTable['output_type'] = 'display_data';\n",
              "          await google.colab.output.renderOutput(dataTable, element);\n",
              "          const docLink = document.createElement('div');\n",
              "          docLink.innerHTML = docLinkHtml;\n",
              "          element.appendChild(docLink);\n",
              "        }\n",
              "      </script>\n",
              "    </div>\n",
              "  </div>\n",
              "  "
            ]
          },
          "metadata": {},
          "execution_count": 43
        }
      ]
    },
    {
      "cell_type": "code",
      "source": [
        "#Check tiện ích rỗng\n",
        "min_price_df.loc[min_price_df['Facilities'].isnull()==True]"
      ],
      "metadata": {
        "colab": {
          "base_uri": "https://localhost:8080/",
          "height": 537
        },
        "id": "pNq6Idg-WGNS",
        "outputId": "b017e5f7-bc69-46cb-9e27-4c83a58eb480"
      },
      "execution_count": null,
      "outputs": [
        {
          "output_type": "execute_result",
          "data": {
            "text/plain": [
              "         City                              Hotel name  Stars    Price  Rating  \\\n",
              "2166   Đà Lạt  Căn hộ Garden View Full Villa- 8 Rooms    0.0  5499999     8.5   \n",
              "2313   Đà Lạt                          Căn hộ thao ha    3.0   633600     8.7   \n",
              "2321   Đà Lạt     Chỗ nghỉ nhà dân Bắp và Bơ Homestay    0.0   332500     8.0   \n",
              "2341   Đà Lạt    Căn hộ Mới HANZ Minh Phuong Homestay    3.0   810000     0.0   \n",
              "2420   Đà Lạt                      Căn hộ Quỳnh House    0.0  1100000     9.6   \n",
              "...       ...                                     ...    ...      ...     ...   \n",
              "6134  Hạ Long                 Khách sạn Việt Thanh    2.0   480000     7.6   \n",
              "6152  Hạ Long            Khách sạn Tuần Châu Marina    2.0  2000000     0.0   \n",
              "6568   Đà Lạt                 Dalat De Charme Village    3.0   906412     8.8   \n",
              "6759  Đà Nẵng             Khách sạn EX Đà Nẵng Luxury    3.0   507015     9.8   \n",
              "7044  Hạ Long                   Yoko Onsen Quang Hanh    5.0  8052593     8.6   \n",
              "\n",
              "      Number of reviews Facilities  \\\n",
              "2166                  2        NaN   \n",
              "2313                 23        NaN   \n",
              "2321                  1        NaN   \n",
              "2341                  0        NaN   \n",
              "2420                  2        NaN   \n",
              "...                 ...        ...   \n",
              "6134                 18        NaN   \n",
              "6152                  5        NaN   \n",
              "6568                 88        NaN   \n",
              "6759                 30        NaN   \n",
              "7044                  4        NaN   \n",
              "\n",
              "                                          Nearby places  \n",
              "2166  Dinh Bảo Đại, 1 km;Khách sạn Hằng Nga, 1,4 km;...  \n",
              "2313  Chùa Lâm Tỳ Ni, 0,3 km;Cam Ly Waterfalls, 0,7 ...  \n",
              "2321  Chợ Đà Lạt, 0,3 km;Hồ Xuân Hương, 0,7 km;Lam V...  \n",
              "2341  Chợ Đà Lạt, 0,3 km;Lam Vien Square, 0,7 km;Hồ ...  \n",
              "2420  Chùa Lâm Tỳ Ni, 0,4 km;Cam Ly Waterfalls, 0,7 ...  \n",
              "...                                                 ...  \n",
              "6134  Long Tien Pagoda, 135 m;Bệnh viện quốc tế Vinm...  \n",
              "6152  Bãi biển Tuần Châu, 261 m;Bệnh viện quốc tế Vi...  \n",
              "6568  Dinh Nguyễn Hữu Hào – cung Nam Phương Hoàng Hậ...  \n",
              "6759  Ngôi Nhà Đảo Ngược Đà Nẵng, 640 m;Sun World Da...  \n",
              "7044  Di tích Bạch Đằng Giang, 7.8 km;Đền Tràng Kênh...  \n",
              "\n",
              "[63 rows x 8 columns]"
            ],
            "text/html": [
              "\n",
              "  <div id=\"df-5dc4d3df-7414-471d-8886-9056bbfb10ad\">\n",
              "    <div class=\"colab-df-container\">\n",
              "      <div>\n",
              "<style scoped>\n",
              "    .dataframe tbody tr th:only-of-type {\n",
              "        vertical-align: middle;\n",
              "    }\n",
              "\n",
              "    .dataframe tbody tr th {\n",
              "        vertical-align: top;\n",
              "    }\n",
              "\n",
              "    .dataframe thead th {\n",
              "        text-align: right;\n",
              "    }\n",
              "</style>\n",
              "<table border=\"1\" class=\"dataframe\">\n",
              "  <thead>\n",
              "    <tr style=\"text-align: right;\">\n",
              "      <th></th>\n",
              "      <th>City</th>\n",
              "      <th>Hotel name</th>\n",
              "      <th>Stars</th>\n",
              "      <th>Price</th>\n",
              "      <th>Rating</th>\n",
              "      <th>Number of reviews</th>\n",
              "      <th>Facilities</th>\n",
              "      <th>Nearby places</th>\n",
              "    </tr>\n",
              "  </thead>\n",
              "  <tbody>\n",
              "    <tr>\n",
              "      <th>2166</th>\n",
              "      <td>Đà Lạt</td>\n",
              "      <td>Căn hộ Garden View Full Villa- 8 Rooms</td>\n",
              "      <td>0.0</td>\n",
              "      <td>5499999</td>\n",
              "      <td>8.5</td>\n",
              "      <td>2</td>\n",
              "      <td>NaN</td>\n",
              "      <td>Dinh Bảo Đại, 1 km;Khách sạn Hằng Nga, 1,4 km;...</td>\n",
              "    </tr>\n",
              "    <tr>\n",
              "      <th>2313</th>\n",
              "      <td>Đà Lạt</td>\n",
              "      <td>Căn hộ thao ha</td>\n",
              "      <td>3.0</td>\n",
              "      <td>633600</td>\n",
              "      <td>8.7</td>\n",
              "      <td>23</td>\n",
              "      <td>NaN</td>\n",
              "      <td>Chùa Lâm Tỳ Ni, 0,3 km;Cam Ly Waterfalls, 0,7 ...</td>\n",
              "    </tr>\n",
              "    <tr>\n",
              "      <th>2321</th>\n",
              "      <td>Đà Lạt</td>\n",
              "      <td>Chỗ nghỉ nhà dân Bắp và Bơ Homestay</td>\n",
              "      <td>0.0</td>\n",
              "      <td>332500</td>\n",
              "      <td>8.0</td>\n",
              "      <td>1</td>\n",
              "      <td>NaN</td>\n",
              "      <td>Chợ Đà Lạt, 0,3 km;Hồ Xuân Hương, 0,7 km;Lam V...</td>\n",
              "    </tr>\n",
              "    <tr>\n",
              "      <th>2341</th>\n",
              "      <td>Đà Lạt</td>\n",
              "      <td>Căn hộ Mới HANZ Minh Phuong Homestay</td>\n",
              "      <td>3.0</td>\n",
              "      <td>810000</td>\n",
              "      <td>0.0</td>\n",
              "      <td>0</td>\n",
              "      <td>NaN</td>\n",
              "      <td>Chợ Đà Lạt, 0,3 km;Lam Vien Square, 0,7 km;Hồ ...</td>\n",
              "    </tr>\n",
              "    <tr>\n",
              "      <th>2420</th>\n",
              "      <td>Đà Lạt</td>\n",
              "      <td>Căn hộ Quỳnh House</td>\n",
              "      <td>0.0</td>\n",
              "      <td>1100000</td>\n",
              "      <td>9.6</td>\n",
              "      <td>2</td>\n",
              "      <td>NaN</td>\n",
              "      <td>Chùa Lâm Tỳ Ni, 0,4 km;Cam Ly Waterfalls, 0,7 ...</td>\n",
              "    </tr>\n",
              "    <tr>\n",
              "      <th>...</th>\n",
              "      <td>...</td>\n",
              "      <td>...</td>\n",
              "      <td>...</td>\n",
              "      <td>...</td>\n",
              "      <td>...</td>\n",
              "      <td>...</td>\n",
              "      <td>...</td>\n",
              "      <td>...</td>\n",
              "    </tr>\n",
              "    <tr>\n",
              "      <th>6134</th>\n",
              "      <td>Hạ Long</td>\n",
              "      <td>Khách sạn Việt Thanh</td>\n",
              "      <td>2.0</td>\n",
              "      <td>480000</td>\n",
              "      <td>7.6</td>\n",
              "      <td>18</td>\n",
              "      <td>NaN</td>\n",
              "      <td>Long Tien Pagoda, 135 m;Bệnh viện quốc tế Vinm...</td>\n",
              "    </tr>\n",
              "    <tr>\n",
              "      <th>6152</th>\n",
              "      <td>Hạ Long</td>\n",
              "      <td>Khách sạn Tuần Châu Marina</td>\n",
              "      <td>2.0</td>\n",
              "      <td>2000000</td>\n",
              "      <td>0.0</td>\n",
              "      <td>5</td>\n",
              "      <td>NaN</td>\n",
              "      <td>Bãi biển Tuần Châu, 261 m;Bệnh viện quốc tế Vi...</td>\n",
              "    </tr>\n",
              "    <tr>\n",
              "      <th>6568</th>\n",
              "      <td>Đà Lạt</td>\n",
              "      <td>Dalat De Charme Village</td>\n",
              "      <td>3.0</td>\n",
              "      <td>906412</td>\n",
              "      <td>8.8</td>\n",
              "      <td>88</td>\n",
              "      <td>NaN</td>\n",
              "      <td>Dinh Nguyễn Hữu Hào – cung Nam Phương Hoàng Hậ...</td>\n",
              "    </tr>\n",
              "    <tr>\n",
              "      <th>6759</th>\n",
              "      <td>Đà Nẵng</td>\n",
              "      <td>Khách sạn EX Đà Nẵng Luxury</td>\n",
              "      <td>3.0</td>\n",
              "      <td>507015</td>\n",
              "      <td>9.8</td>\n",
              "      <td>30</td>\n",
              "      <td>NaN</td>\n",
              "      <td>Ngôi Nhà Đảo Ngược Đà Nẵng, 640 m;Sun World Da...</td>\n",
              "    </tr>\n",
              "    <tr>\n",
              "      <th>7044</th>\n",
              "      <td>Hạ Long</td>\n",
              "      <td>Yoko Onsen Quang Hanh</td>\n",
              "      <td>5.0</td>\n",
              "      <td>8052593</td>\n",
              "      <td>8.6</td>\n",
              "      <td>4</td>\n",
              "      <td>NaN</td>\n",
              "      <td>Di tích Bạch Đằng Giang, 7.8 km;Đền Tràng Kênh...</td>\n",
              "    </tr>\n",
              "  </tbody>\n",
              "</table>\n",
              "<p>63 rows × 8 columns</p>\n",
              "</div>\n",
              "      <button class=\"colab-df-convert\" onclick=\"convertToInteractive('df-5dc4d3df-7414-471d-8886-9056bbfb10ad')\"\n",
              "              title=\"Convert this dataframe to an interactive table.\"\n",
              "              style=\"display:none;\">\n",
              "        \n",
              "  <svg xmlns=\"http://www.w3.org/2000/svg\" height=\"24px\"viewBox=\"0 0 24 24\"\n",
              "       width=\"24px\">\n",
              "    <path d=\"M0 0h24v24H0V0z\" fill=\"none\"/>\n",
              "    <path d=\"M18.56 5.44l.94 2.06.94-2.06 2.06-.94-2.06-.94-.94-2.06-.94 2.06-2.06.94zm-11 1L8.5 8.5l.94-2.06 2.06-.94-2.06-.94L8.5 2.5l-.94 2.06-2.06.94zm10 10l.94 2.06.94-2.06 2.06-.94-2.06-.94-.94-2.06-.94 2.06-2.06.94z\"/><path d=\"M17.41 7.96l-1.37-1.37c-.4-.4-.92-.59-1.43-.59-.52 0-1.04.2-1.43.59L10.3 9.45l-7.72 7.72c-.78.78-.78 2.05 0 2.83L4 21.41c.39.39.9.59 1.41.59.51 0 1.02-.2 1.41-.59l7.78-7.78 2.81-2.81c.8-.78.8-2.07 0-2.86zM5.41 20L4 18.59l7.72-7.72 1.47 1.35L5.41 20z\"/>\n",
              "  </svg>\n",
              "      </button>\n",
              "      \n",
              "  <style>\n",
              "    .colab-df-container {\n",
              "      display:flex;\n",
              "      flex-wrap:wrap;\n",
              "      gap: 12px;\n",
              "    }\n",
              "\n",
              "    .colab-df-convert {\n",
              "      background-color: #E8F0FE;\n",
              "      border: none;\n",
              "      border-radius: 50%;\n",
              "      cursor: pointer;\n",
              "      display: none;\n",
              "      fill: #1967D2;\n",
              "      height: 32px;\n",
              "      padding: 0 0 0 0;\n",
              "      width: 32px;\n",
              "    }\n",
              "\n",
              "    .colab-df-convert:hover {\n",
              "      background-color: #E2EBFA;\n",
              "      box-shadow: 0px 1px 2px rgba(60, 64, 67, 0.3), 0px 1px 3px 1px rgba(60, 64, 67, 0.15);\n",
              "      fill: #174EA6;\n",
              "    }\n",
              "\n",
              "    [theme=dark] .colab-df-convert {\n",
              "      background-color: #3B4455;\n",
              "      fill: #D2E3FC;\n",
              "    }\n",
              "\n",
              "    [theme=dark] .colab-df-convert:hover {\n",
              "      background-color: #434B5C;\n",
              "      box-shadow: 0px 1px 3px 1px rgba(0, 0, 0, 0.15);\n",
              "      filter: drop-shadow(0px 1px 2px rgba(0, 0, 0, 0.3));\n",
              "      fill: #FFFFFF;\n",
              "    }\n",
              "  </style>\n",
              "\n",
              "      <script>\n",
              "        const buttonEl =\n",
              "          document.querySelector('#df-5dc4d3df-7414-471d-8886-9056bbfb10ad button.colab-df-convert');\n",
              "        buttonEl.style.display =\n",
              "          google.colab.kernel.accessAllowed ? 'block' : 'none';\n",
              "\n",
              "        async function convertToInteractive(key) {\n",
              "          const element = document.querySelector('#df-5dc4d3df-7414-471d-8886-9056bbfb10ad');\n",
              "          const dataTable =\n",
              "            await google.colab.kernel.invokeFunction('convertToInteractive',\n",
              "                                                     [key], {});\n",
              "          if (!dataTable) return;\n",
              "\n",
              "          const docLinkHtml = 'Like what you see? Visit the ' +\n",
              "            '<a target=\"_blank\" href=https://colab.research.google.com/notebooks/data_table.ipynb>data table notebook</a>'\n",
              "            + ' to learn more about interactive tables.';\n",
              "          element.innerHTML = '';\n",
              "          dataTable['output_type'] = 'display_data';\n",
              "          await google.colab.output.renderOutput(dataTable, element);\n",
              "          const docLink = document.createElement('div');\n",
              "          docLink.innerHTML = docLinkHtml;\n",
              "          element.appendChild(docLink);\n",
              "        }\n",
              "      </script>\n",
              "    </div>\n",
              "  </div>\n",
              "  "
            ]
          },
          "metadata": {},
          "execution_count": 44
        }
      ]
    },
    {
      "cell_type": "code",
      "source": [
        "# Chuyển giá trị NaN tiện ích về list rỗng\n",
        "min_price_df.loc[min_price_df['Facilities'].isnull(),['Facilities']] = min_price_df.loc[min_price_df['Facilities'].isnull(),'Facilities'].apply(lambda x: [])"
      ],
      "metadata": {
        "id": "jtw2nmVyYsrF"
      },
      "execution_count": null,
      "outputs": []
    },
    {
      "cell_type": "code",
      "source": [
        "# Chuyển giá trị list từ string về list\n",
        "for i in range(len(min_price_df['Facilities'])):\n",
        "  if min_price_df['Facilities'][i]:\n",
        "    min_price_df['Facilities'][i] = list(min_price_df['Facilities'][i].split(\";\"))\n"
      ],
      "metadata": {
        "colab": {
          "base_uri": "https://localhost:8080/"
        },
        "id": "qtehYqkIaKMN",
        "outputId": "18fd3f35-2758-481f-ebcb-6951ebde072f"
      },
      "execution_count": null,
      "outputs": [
        {
          "output_type": "stream",
          "name": "stderr",
          "text": [
            "/usr/local/lib/python3.7/dist-packages/ipykernel_launcher.py:4: SettingWithCopyWarning: \n",
            "A value is trying to be set on a copy of a slice from a DataFrame\n",
            "\n",
            "See the caveats in the documentation: https://pandas.pydata.org/pandas-docs/stable/user_guide/indexing.html#returning-a-view-versus-a-copy\n",
            "  after removing the cwd from sys.path.\n"
          ]
        }
      ]
    },
    {
      "cell_type": "code",
      "source": [
        "# Chuyển giá trị list từ string về list\n",
        "for i in range(len(min_price_df['Facilities'])):\n",
        "  min_price_df['Facilities'][i] = len(min_price_df['Facilities'][i])"
      ],
      "metadata": {
        "colab": {
          "base_uri": "https://localhost:8080/"
        },
        "id": "Ruorw2BhWZ-A",
        "outputId": "e7d5958e-35c6-45f0-f15a-3c63febc2fa4"
      },
      "execution_count": null,
      "outputs": [
        {
          "output_type": "stream",
          "name": "stderr",
          "text": [
            "/usr/local/lib/python3.7/dist-packages/ipykernel_launcher.py:3: SettingWithCopyWarning: \n",
            "A value is trying to be set on a copy of a slice from a DataFrame\n",
            "\n",
            "See the caveats in the documentation: https://pandas.pydata.org/pandas-docs/stable/user_guide/indexing.html#returning-a-view-versus-a-copy\n",
            "  This is separate from the ipykernel package so we can avoid doing imports until\n"
          ]
        }
      ]
    },
    {
      "cell_type": "code",
      "source": [
        "min_price_df.plot(kind='scatter', x='Facilities', y='Price',\n",
        "                  colormap='viridis', figsize=(10,5))\n",
        "plt.title('Mối quan hệ giữa Giá phòng và Tiện ích KS')\n",
        "#plt.xticks(rotation=60, horizontalalignment=\"center\")\n",
        "plt.xlabel('Số tiện ích')\n",
        "plt.ylabel('Giá phòng')"
      ],
      "metadata": {
        "colab": {
          "base_uri": "https://localhost:8080/",
          "height": 369
        },
        "id": "RmMv1mmMfdN0",
        "outputId": "f6926012-7337-41ea-e86d-9bea6ba0330f"
      },
      "execution_count": null,
      "outputs": [
        {
          "output_type": "execute_result",
          "data": {
            "text/plain": [
              "Text(0, 0.5, 'Giá phòng')"
            ]
          },
          "metadata": {},
          "execution_count": 48
        },
        {
          "output_type": "display_data",
          "data": {
            "text/plain": [
              "<Figure size 720x360 with 1 Axes>"
            ],
            "image/png": "[encoded data removed]"
          },
          "metadata": {
            "needs_background": "light"
          }
        }
      ]
    },
    {
      "cell_type": "markdown",
      "source": [
        "\n",
        "\n",
        "*   **Tương quan chung giữa các thuộc tính Giá-Sao-Rating-Tiện ích**\n",
        "\n",
        "\n"
      ],
      "metadata": {
        "id": "VYHg8qfAt--A"
      }
    },
    {
      "cell_type": "code",
      "source": [
        "demo = min_price_df.copy(deep=True)"
      ],
      "metadata": {
        "id": "dOPm2AP5Yo4S"
      },
      "execution_count": null,
      "outputs": []
    },
    {
      "cell_type": "code",
      "source": [
        "demo['Facilities']=demo['Facilities'].astype('float64')\n",
        "demo['Stars']=demo['Stars'].astype('float64')\n",
        "demo['Rating']=demo['Rating'].astype('float64')\n",
        "demo['Price']=demo['Price'].astype('float64')"
      ],
      "metadata": {
        "id": "XWp5mhMvhsws"
      },
      "execution_count": null,
      "outputs": []
    },
    {
      "cell_type": "code",
      "source": [
        "# Tính tương quan\n",
        "corr = demo[['Price', 'Stars', 'Rating', 'Facilities']].corr()\n",
        "# print(corr)\n",
        "\n",
        "sns.set_style('dark')\n",
        "plt.figure(figsize=(12, 9))\n",
        "# define the mask to set the values in the upper triangle to True\n",
        "\n",
        "# mask = np.zeros_like(corr, dtype=np.bool)\n",
        "# mask[np.triu_indices_from(mask)]=True\n",
        "\n",
        "mask = np.triu(np.ones_like(corr, dtype=np.bool))\n",
        "heatmap = sns.heatmap(corr, vmin=-1, vmax=1, annot=True, cmap='BrBG', mask=mask)\n",
        "heatmap.set_title('Tương quan giữa các thuộc tính ', fontdict={'fontsize':18}, pad=16)"
      ],
      "metadata": {
        "colab": {
          "base_uri": "https://localhost:8080/",
          "height": 657
        },
        "id": "_Rwb42OhlrR6",
        "outputId": "f2f8016a-1a6d-47d7-967c-1059c95726f6"
      },
      "execution_count": null,
      "outputs": [
        {
          "output_type": "stream",
          "name": "stderr",
          "text": [
            "/usr/local/lib/python3.7/dist-packages/ipykernel_launcher.py:8: DeprecationWarning: `np.bool` is a deprecated alias for the builtin `bool`. To silence this warning, use `bool` by itself. Doing this will not modify any behavior and is safe. If you specifically wanted the numpy scalar type, use `np.bool_` here.\n",
            "Deprecated in NumPy 1.20; for more details and guidance: https://numpy.org/devdocs/release/1.20.0-notes.html#deprecations\n",
            "  \n"
          ]
        },
        {
          "output_type": "execute_result",
          "data": {
            "text/plain": [
              "Text(0.5, 1.0, 'Tương quan giữa các thuộc tính ')"
            ]
          },
          "metadata": {},
          "execution_count": 59
        },
        {
          "output_type": "display_data",
          "data": {
            "text/plain": [
              "<Figure size 864x648 with 2 Axes>"
            ],
            "image/png": "[encoded data removed]"
          },
          "metadata": {}
        }
      ]
    },
    {
      "cell_type": "markdown",
      "source": [
        "\n",
        "\n",
        "*   **Khoảng giá và phân bố KS theo khoảng giá**\n",
        "\n"
      ],
      "metadata": {
        "id": "V3iylf1yuIms"
      }
    },
    {
      "cell_type": "code",
      "source": [
        "min_price_df.describe().apply(lambda s: s.apply('{0:.5f}'.format))"
      ],
      "metadata": {
        "colab": {
          "base_uri": "https://localhost:8080/",
          "height": 300
        },
        "id": "1Yl2i9SnuQst",
        "outputId": "a131b6b6-47a3-4a09-8c18-1d3e94d6e3c0"
      },
      "execution_count": null,
      "outputs": [
        {
          "output_type": "execute_result",
          "data": {
            "text/plain": [
              "            Stars            Price      Rating Number of reviews\n",
              "count  7060.00000       7060.00000  7060.00000        7060.00000\n",
              "mean      2.26494    1494647.35340     7.08487         176.33442\n",
              "std       1.57870    5234637.47445     3.17104         414.24433\n",
              "min       0.00000      20804.00000     0.00000           0.00000\n",
              "25%       1.00000     410000.00000     7.30000           4.00000\n",
              "50%       3.00000     650000.00000     8.40000          36.50000\n",
              "75%       3.00000    1100000.00000     8.90000         164.00000\n",
              "max       5.00000  339188908.00000    10.00000        6441.00000"
            ],
            "text/html": [
              "\n",
              "  <div id=\"df-cabfda7a-fde1-4b18-820f-54e92c5d3ce2\">\n",
              "    <div class=\"colab-df-container\">\n",
              "      <div>\n",
              "<style scoped>\n",
              "    .dataframe tbody tr th:only-of-type {\n",
              "        vertical-align: middle;\n",
              "    }\n",
              "\n",
              "    .dataframe tbody tr th {\n",
              "        vertical-align: top;\n",
              "    }\n",
              "\n",
              "    .dataframe thead th {\n",
              "        text-align: right;\n",
              "    }\n",
              "</style>\n",
              "<table border=\"1\" class=\"dataframe\">\n",
              "  <thead>\n",
              "    <tr style=\"text-align: right;\">\n",
              "      <th></th>\n",
              "      <th>Stars</th>\n",
              "      <th>Price</th>\n",
              "      <th>Rating</th>\n",
              "      <th>Number of reviews</th>\n",
              "    </tr>\n",
              "  </thead>\n",
              "  <tbody>\n",
              "    <tr>\n",
              "      <th>count</th>\n",
              "      <td>7060.00000</td>\n",
              "      <td>7060.00000</td>\n",
              "      <td>7060.00000</td>\n",
              "      <td>7060.00000</td>\n",
              "    </tr>\n",
              "    <tr>\n",
              "      <th>mean</th>\n",
              "      <td>2.26494</td>\n",
              "      <td>1494647.35340</td>\n",
              "      <td>7.08487</td>\n",
              "      <td>176.33442</td>\n",
              "    </tr>\n",
              "    <tr>\n",
              "      <th>std</th>\n",
              "      <td>1.57870</td>\n",
              "      <td>5234637.47445</td>\n",
              "      <td>3.17104</td>\n",
              "      <td>414.24433</td>\n",
              "    </tr>\n",
              "    <tr>\n",
              "      <th>min</th>\n",
              "      <td>0.00000</td>\n",
              "      <td>20804.00000</td>\n",
              "      <td>0.00000</td>\n",
              "      <td>0.00000</td>\n",
              "    </tr>\n",
              "    <tr>\n",
              "      <th>25%</th>\n",
              "      <td>1.00000</td>\n",
              "      <td>410000.00000</td>\n",
              "      <td>7.30000</td>\n",
              "      <td>4.00000</td>\n",
              "    </tr>\n",
              "    <tr>\n",
              "      <th>50%</th>\n",
              "      <td>3.00000</td>\n",
              "      <td>650000.00000</td>\n",
              "      <td>8.40000</td>\n",
              "      <td>36.50000</td>\n",
              "    </tr>\n",
              "    <tr>\n",
              "      <th>75%</th>\n",
              "      <td>3.00000</td>\n",
              "      <td>1100000.00000</td>\n",
              "      <td>8.90000</td>\n",
              "      <td>164.00000</td>\n",
              "    </tr>\n",
              "    <tr>\n",
              "      <th>max</th>\n",
              "      <td>5.00000</td>\n",
              "      <td>339188908.00000</td>\n",
              "      <td>10.00000</td>\n",
              "      <td>6441.00000</td>\n",
              "    </tr>\n",
              "  </tbody>\n",
              "</table>\n",
              "</div>\n",
              "      <button class=\"colab-df-convert\" onclick=\"convertToInteractive('df-cabfda7a-fde1-4b18-820f-54e92c5d3ce2')\"\n",
              "              title=\"Convert this dataframe to an interactive table.\"\n",
              "              style=\"display:none;\">\n",
              "        \n",
              "  <svg xmlns=\"http://www.w3.org/2000/svg\" height=\"24px\"viewBox=\"0 0 24 24\"\n",
              "       width=\"24px\">\n",
              "    <path d=\"M0 0h24v24H0V0z\" fill=\"none\"/>\n",
              "    <path d=\"M18.56 5.44l.94 2.06.94-2.06 2.06-.94-2.06-.94-.94-2.06-.94 2.06-2.06.94zm-11 1L8.5 8.5l.94-2.06 2.06-.94-2.06-.94L8.5 2.5l-.94 2.06-2.06.94zm10 10l.94 2.06.94-2.06 2.06-.94-2.06-.94-.94-2.06-.94 2.06-2.06.94z\"/><path d=\"M17.41 7.96l-1.37-1.37c-.4-.4-.92-.59-1.43-.59-.52 0-1.04.2-1.43.59L10.3 9.45l-7.72 7.72c-.78.78-.78 2.05 0 2.83L4 21.41c.39.39.9.59 1.41.59.51 0 1.02-.2 1.41-.59l7.78-7.78 2.81-2.81c.8-.78.8-2.07 0-2.86zM5.41 20L4 18.59l7.72-7.72 1.47 1.35L5.41 20z\"/>\n",
              "  </svg>\n",
              "      </button>\n",
              "      \n",
              "  <style>\n",
              "    .colab-df-container {\n",
              "      display:flex;\n",
              "      flex-wrap:wrap;\n",
              "      gap: 12px;\n",
              "    }\n",
              "\n",
              "    .colab-df-convert {\n",
              "      background-color: #E8F0FE;\n",
              "      border: none;\n",
              "      border-radius: 50%;\n",
              "      cursor: pointer;\n",
              "      display: none;\n",
              "      fill: #1967D2;\n",
              "      height: 32px;\n",
              "      padding: 0 0 0 0;\n",
              "      width: 32px;\n",
              "    }\n",
              "\n",
              "    .colab-df-convert:hover {\n",
              "      background-color: #E2EBFA;\n",
              "      box-shadow: 0px 1px 2px rgba(60, 64, 67, 0.3), 0px 1px 3px 1px rgba(60, 64, 67, 0.15);\n",
              "      fill: #174EA6;\n",
              "    }\n",
              "\n",
              "    [theme=dark] .colab-df-convert {\n",
              "      background-color: #3B4455;\n",
              "      fill: #D2E3FC;\n",
              "    }\n",
              "\n",
              "    [theme=dark] .colab-df-convert:hover {\n",
              "      background-color: #434B5C;\n",
              "      box-shadow: 0px 1px 3px 1px rgba(0, 0, 0, 0.15);\n",
              "      filter: drop-shadow(0px 1px 2px rgba(0, 0, 0, 0.3));\n",
              "      fill: #FFFFFF;\n",
              "    }\n",
              "  </style>\n",
              "\n",
              "      <script>\n",
              "        const buttonEl =\n",
              "          document.querySelector('#df-cabfda7a-fde1-4b18-820f-54e92c5d3ce2 button.colab-df-convert');\n",
              "        buttonEl.style.display =\n",
              "          google.colab.kernel.accessAllowed ? 'block' : 'none';\n",
              "\n",
              "        async function convertToInteractive(key) {\n",
              "          const element = document.querySelector('#df-cabfda7a-fde1-4b18-820f-54e92c5d3ce2');\n",
              "          const dataTable =\n",
              "            await google.colab.kernel.invokeFunction('convertToInteractive',\n",
              "                                                     [key], {});\n",
              "          if (!dataTable) return;\n",
              "\n",
              "          const docLinkHtml = 'Like what you see? Visit the ' +\n",
              "            '<a target=\"_blank\" href=https://colab.research.google.com/notebooks/data_table.ipynb>data table notebook</a>'\n",
              "            + ' to learn more about interactive tables.';\n",
              "          element.innerHTML = '';\n",
              "          dataTable['output_type'] = 'display_data';\n",
              "          await google.colab.output.renderOutput(dataTable, element);\n",
              "          const docLink = document.createElement('div');\n",
              "          docLink.innerHTML = docLinkHtml;\n",
              "          element.appendChild(docLink);\n",
              "        }\n",
              "      </script>\n",
              "    </div>\n",
              "  </div>\n",
              "  "
            ]
          },
          "metadata": {},
          "execution_count": 65
        }
      ]
    },
    {
      "cell_type": "markdown",
      "source": [
        "Ta có thể chia thành 4 khoảng giá: \n",
        "  \n",
        "    0: 0-500k; \n",
        "\n",
        "    1: 500-1tr; \n",
        "  \n",
        "    2: 1-2tr; \n",
        "\n",
        "    3: trên 2tr"
      ],
      "metadata": {
        "id": "41RoJ21Yvfg0"
      }
    },
    {
      "cell_type": "code",
      "source": [
        "def get_output(x):\n",
        "  if x <= 500000:\n",
        "    return 0\n",
        "  elif x > 500000 and x <= 1000000:\n",
        "    return 1\n",
        "  elif x > 1000000 and x <= 2000000:\n",
        "    return 2\n",
        "  else:\n",
        "    return 3"
      ],
      "metadata": {
        "id": "TEKtHwvGyFAe"
      },
      "execution_count": null,
      "outputs": []
    },
    {
      "cell_type": "code",
      "source": [
        "# Thêm cột để tiện eda\n",
        "new_ls = []\n",
        "\n",
        "for i in range(len(min_price_df['Price'])):\n",
        "  new_ls.append(get_output(min_price_df['Price'][i]))\n",
        "\n",
        "min_price_df['Price Interval'] = new_ls"
      ],
      "metadata": {
        "id": "nQDFNxmjvvh3"
      },
      "execution_count": null,
      "outputs": []
    },
    {
      "cell_type": "code",
      "source": [
        "min_price_df.head(10)"
      ],
      "metadata": {
        "colab": {
          "base_uri": "https://localhost:8080/",
          "height": 598
        },
        "id": "wr9MIEH3yWLy",
        "outputId": "2471a94b-ba99-4071-ca28-e332e94d7ac5"
      },
      "execution_count": null,
      "outputs": [
        {
          "output_type": "execute_result",
          "data": {
            "text/plain": [
              "     City                                         Hotel name  Stars    Price  \\\n",
              "0  Hà Nội                   Khách sạn HANZ Regal Hotel Hanoi    2.0   421890   \n",
              "1  Hà Nội      Khách sạn La Nueva Boutique Hotel Hanoi & Spa    4.0  1316000   \n",
              "2  Hà Nội                     Khách sạn La Storia Ruby Hotel    3.0   625000   \n",
              "3  Hà Nội                          Khách sạn LeaH Silk Hotel    4.0  1800000   \n",
              "4  Hà Nội              Khách sạn Babylon Premium Hotel & Spa    4.0  1262250   \n",
              "5  Hà Nội  Căn hộ Mới Sumitomo Hotel & Service Apartment ...    0.0   824500   \n",
              "6  Hà Nội             Khách sạn Bella Rosa Suite Hotel & Spa    3.0   832500   \n",
              "7  Hà Nội               Khách sạn The Noble Swan Hotel & Spa    4.0   510000   \n",
              "8  Hà Nội              Khách sạn Hanoi House Hostel & Travel    3.0   252000   \n",
              "9  Hà Nội           Khách sạn Luxury Old Quarter Hotel & Gym    4.0   756000   \n",
              "\n",
              "   Rating  Number of reviews Facilities  \\\n",
              "0     7.8                 86          7   \n",
              "1     9.3                209          8   \n",
              "2     9.6                217          6   \n",
              "3     9.1                 72          8   \n",
              "4     9.4                627          7   \n",
              "5     0.0                  0          4   \n",
              "6     9.2                339          7   \n",
              "7     8.5                553          7   \n",
              "8     9.0                570          6   \n",
              "9     9.2                237          6   \n",
              "\n",
              "                                       Nearby places  Price Interval  \n",
              "0  Hồ Ngọc Khánh, 0,3 km;Trung tâm thương mại Vin...               0  \n",
              "1  Nhà hát múa rối Thăng Long, 0,1 km;Đền Ngọc Sơ...               2  \n",
              "2  Quảng Trường Đông Kinh Nghĩa Thục, 0,4 km;Nhà ...               1  \n",
              "3  Nhà thờ Thánh Joseph, 0,3 km;Quảng Trường Đông...               2  \n",
              "4  Quảng Trường Đông Kinh Nghĩa Thục, 0,3 km;Nhà ...               2  \n",
              "5  Công viên Thủ Lệ, 0,2 km;Đại học RMIT, 0,3 km;...               1  \n",
              "6  Nhà hát múa rối Thăng Long, 0 km;Đền Ngọc Sơn,...               1  \n",
              "7  Nhà thờ Thánh Joseph, 0,2 km;Quảng Trường Đông...               1  \n",
              "8  The Opera Night Club, 0,1 km;1900 Le Theatre, ...               0  \n",
              "9  Đền Bạch Mã, 0,3 km;Quảng Trường Đông Kinh Ngh...               1  "
            ],
            "text/html": [
              "\n",
              "  <div id=\"df-f067f9d4-1b51-4a80-93b5-8a75505925ef\">\n",
              "    <div class=\"colab-df-container\">\n",
              "      <div>\n",
              "<style scoped>\n",
              "    .dataframe tbody tr th:only-of-type {\n",
              "        vertical-align: middle;\n",
              "    }\n",
              "\n",
              "    .dataframe tbody tr th {\n",
              "        vertical-align: top;\n",
              "    }\n",
              "\n",
              "    .dataframe thead th {\n",
              "        text-align: right;\n",
              "    }\n",
              "</style>\n",
              "<table border=\"1\" class=\"dataframe\">\n",
              "  <thead>\n",
              "    <tr style=\"text-align: right;\">\n",
              "      <th></th>\n",
              "      <th>City</th>\n",
              "      <th>Hotel name</th>\n",
              "      <th>Stars</th>\n",
              "      <th>Price</th>\n",
              "      <th>Rating</th>\n",
              "      <th>Number of reviews</th>\n",
              "      <th>Facilities</th>\n",
              "      <th>Nearby places</th>\n",
              "      <th>Price Interval</th>\n",
              "    </tr>\n",
              "  </thead>\n",
              "  <tbody>\n",
              "    <tr>\n",
              "      <th>0</th>\n",
              "      <td>Hà Nội</td>\n",
              "      <td>Khách sạn HANZ Regal Hotel Hanoi</td>\n",
              "      <td>2.0</td>\n",
              "      <td>421890</td>\n",
              "      <td>7.8</td>\n",
              "      <td>86</td>\n",
              "      <td>7</td>\n",
              "      <td>Hồ Ngọc Khánh, 0,3 km;Trung tâm thương mại Vin...</td>\n",
              "      <td>0</td>\n",
              "    </tr>\n",
              "    <tr>\n",
              "      <th>1</th>\n",
              "      <td>Hà Nội</td>\n",
              "      <td>Khách sạn La Nueva Boutique Hotel Hanoi &amp; Spa</td>\n",
              "      <td>4.0</td>\n",
              "      <td>1316000</td>\n",
              "      <td>9.3</td>\n",
              "      <td>209</td>\n",
              "      <td>8</td>\n",
              "      <td>Nhà hát múa rối Thăng Long, 0,1 km;Đền Ngọc Sơ...</td>\n",
              "      <td>2</td>\n",
              "    </tr>\n",
              "    <tr>\n",
              "      <th>2</th>\n",
              "      <td>Hà Nội</td>\n",
              "      <td>Khách sạn La Storia Ruby Hotel</td>\n",
              "      <td>3.0</td>\n",
              "      <td>625000</td>\n",
              "      <td>9.6</td>\n",
              "      <td>217</td>\n",
              "      <td>6</td>\n",
              "      <td>Quảng Trường Đông Kinh Nghĩa Thục, 0,4 km;Nhà ...</td>\n",
              "      <td>1</td>\n",
              "    </tr>\n",
              "    <tr>\n",
              "      <th>3</th>\n",
              "      <td>Hà Nội</td>\n",
              "      <td>Khách sạn LeaH Silk Hotel</td>\n",
              "      <td>4.0</td>\n",
              "      <td>1800000</td>\n",
              "      <td>9.1</td>\n",
              "      <td>72</td>\n",
              "      <td>8</td>\n",
              "      <td>Nhà thờ Thánh Joseph, 0,3 km;Quảng Trường Đông...</td>\n",
              "      <td>2</td>\n",
              "    </tr>\n",
              "    <tr>\n",
              "      <th>4</th>\n",
              "      <td>Hà Nội</td>\n",
              "      <td>Khách sạn Babylon Premium Hotel &amp; Spa</td>\n",
              "      <td>4.0</td>\n",
              "      <td>1262250</td>\n",
              "      <td>9.4</td>\n",
              "      <td>627</td>\n",
              "      <td>7</td>\n",
              "      <td>Quảng Trường Đông Kinh Nghĩa Thục, 0,3 km;Nhà ...</td>\n",
              "      <td>2</td>\n",
              "    </tr>\n",
              "    <tr>\n",
              "      <th>5</th>\n",
              "      <td>Hà Nội</td>\n",
              "      <td>Căn hộ Mới Sumitomo Hotel &amp; Service Apartment ...</td>\n",
              "      <td>0.0</td>\n",
              "      <td>824500</td>\n",
              "      <td>0.0</td>\n",
              "      <td>0</td>\n",
              "      <td>4</td>\n",
              "      <td>Công viên Thủ Lệ, 0,2 km;Đại học RMIT, 0,3 km;...</td>\n",
              "      <td>1</td>\n",
              "    </tr>\n",
              "    <tr>\n",
              "      <th>6</th>\n",
              "      <td>Hà Nội</td>\n",
              "      <td>Khách sạn Bella Rosa Suite Hotel &amp; Spa</td>\n",
              "      <td>3.0</td>\n",
              "      <td>832500</td>\n",
              "      <td>9.2</td>\n",
              "      <td>339</td>\n",
              "      <td>7</td>\n",
              "      <td>Nhà hát múa rối Thăng Long, 0 km;Đền Ngọc Sơn,...</td>\n",
              "      <td>1</td>\n",
              "    </tr>\n",
              "    <tr>\n",
              "      <th>7</th>\n",
              "      <td>Hà Nội</td>\n",
              "      <td>Khách sạn The Noble Swan Hotel &amp; Spa</td>\n",
              "      <td>4.0</td>\n",
              "      <td>510000</td>\n",
              "      <td>8.5</td>\n",
              "      <td>553</td>\n",
              "      <td>7</td>\n",
              "      <td>Nhà thờ Thánh Joseph, 0,2 km;Quảng Trường Đông...</td>\n",
              "      <td>1</td>\n",
              "    </tr>\n",
              "    <tr>\n",
              "      <th>8</th>\n",
              "      <td>Hà Nội</td>\n",
              "      <td>Khách sạn Hanoi House Hostel &amp; Travel</td>\n",
              "      <td>3.0</td>\n",
              "      <td>252000</td>\n",
              "      <td>9.0</td>\n",
              "      <td>570</td>\n",
              "      <td>6</td>\n",
              "      <td>The Opera Night Club, 0,1 km;1900 Le Theatre, ...</td>\n",
              "      <td>0</td>\n",
              "    </tr>\n",
              "    <tr>\n",
              "      <th>9</th>\n",
              "      <td>Hà Nội</td>\n",
              "      <td>Khách sạn Luxury Old Quarter Hotel &amp; Gym</td>\n",
              "      <td>4.0</td>\n",
              "      <td>756000</td>\n",
              "      <td>9.2</td>\n",
              "      <td>237</td>\n",
              "      <td>6</td>\n",
              "      <td>Đền Bạch Mã, 0,3 km;Quảng Trường Đông Kinh Ngh...</td>\n",
              "      <td>1</td>\n",
              "    </tr>\n",
              "  </tbody>\n",
              "</table>\n",
              "</div>\n",
              "      <button class=\"colab-df-convert\" onclick=\"convertToInteractive('df-f067f9d4-1b51-4a80-93b5-8a75505925ef')\"\n",
              "              title=\"Convert this dataframe to an interactive table.\"\n",
              "              style=\"display:none;\">\n",
              "        \n",
              "  <svg xmlns=\"http://www.w3.org/2000/svg\" height=\"24px\"viewBox=\"0 0 24 24\"\n",
              "       width=\"24px\">\n",
              "    <path d=\"M0 0h24v24H0V0z\" fill=\"none\"/>\n",
              "    <path d=\"M18.56 5.44l.94 2.06.94-2.06 2.06-.94-2.06-.94-.94-2.06-.94 2.06-2.06.94zm-11 1L8.5 8.5l.94-2.06 2.06-.94-2.06-.94L8.5 2.5l-.94 2.06-2.06.94zm10 10l.94 2.06.94-2.06 2.06-.94-2.06-.94-.94-2.06-.94 2.06-2.06.94z\"/><path d=\"M17.41 7.96l-1.37-1.37c-.4-.4-.92-.59-1.43-.59-.52 0-1.04.2-1.43.59L10.3 9.45l-7.72 7.72c-.78.78-.78 2.05 0 2.83L4 21.41c.39.39.9.59 1.41.59.51 0 1.02-.2 1.41-.59l7.78-7.78 2.81-2.81c.8-.78.8-2.07 0-2.86zM5.41 20L4 18.59l7.72-7.72 1.47 1.35L5.41 20z\"/>\n",
              "  </svg>\n",
              "      </button>\n",
              "      \n",
              "  <style>\n",
              "    .colab-df-container {\n",
              "      display:flex;\n",
              "      flex-wrap:wrap;\n",
              "      gap: 12px;\n",
              "    }\n",
              "\n",
              "    .colab-df-convert {\n",
              "      background-color: #E8F0FE;\n",
              "      border: none;\n",
              "      border-radius: 50%;\n",
              "      cursor: pointer;\n",
              "      display: none;\n",
              "      fill: #1967D2;\n",
              "      height: 32px;\n",
              "      padding: 0 0 0 0;\n",
              "      width: 32px;\n",
              "    }\n",
              "\n",
              "    .colab-df-convert:hover {\n",
              "      background-color: #E2EBFA;\n",
              "      box-shadow: 0px 1px 2px rgba(60, 64, 67, 0.3), 0px 1px 3px 1px rgba(60, 64, 67, 0.15);\n",
              "      fill: #174EA6;\n",
              "    }\n",
              "\n",
              "    [theme=dark] .colab-df-convert {\n",
              "      background-color: #3B4455;\n",
              "      fill: #D2E3FC;\n",
              "    }\n",
              "\n",
              "    [theme=dark] .colab-df-convert:hover {\n",
              "      background-color: #434B5C;\n",
              "      box-shadow: 0px 1px 3px 1px rgba(0, 0, 0, 0.15);\n",
              "      filter: drop-shadow(0px 1px 2px rgba(0, 0, 0, 0.3));\n",
              "      fill: #FFFFFF;\n",
              "    }\n",
              "  </style>\n",
              "\n",
              "      <script>\n",
              "        const buttonEl =\n",
              "          document.querySelector('#df-f067f9d4-1b51-4a80-93b5-8a75505925ef button.colab-df-convert');\n",
              "        buttonEl.style.display =\n",
              "          google.colab.kernel.accessAllowed ? 'block' : 'none';\n",
              "\n",
              "        async function convertToInteractive(key) {\n",
              "          const element = document.querySelector('#df-f067f9d4-1b51-4a80-93b5-8a75505925ef');\n",
              "          const dataTable =\n",
              "            await google.colab.kernel.invokeFunction('convertToInteractive',\n",
              "                                                     [key], {});\n",
              "          if (!dataTable) return;\n",
              "\n",
              "          const docLinkHtml = 'Like what you see? Visit the ' +\n",
              "            '<a target=\"_blank\" href=https://colab.research.google.com/notebooks/data_table.ipynb>data table notebook</a>'\n",
              "            + ' to learn more about interactive tables.';\n",
              "          element.innerHTML = '';\n",
              "          dataTable['output_type'] = 'display_data';\n",
              "          await google.colab.output.renderOutput(dataTable, element);\n",
              "          const docLink = document.createElement('div');\n",
              "          docLink.innerHTML = docLinkHtml;\n",
              "          element.appendChild(docLink);\n",
              "        }\n",
              "      </script>\n",
              "    </div>\n",
              "  </div>\n",
              "  "
            ]
          },
          "metadata": {},
          "execution_count": 76
        }
      ]
    },
    {
      "cell_type": "code",
      "source": [
        "df = min_price_df.groupby(['Price Interval'])['Price Interval'].count()"
      ],
      "metadata": {
        "id": "jT8MDhIRzJIm"
      },
      "execution_count": null,
      "outputs": []
    },
    {
      "cell_type": "code",
      "source": [
        "#matplotlib.style.use('fivethirtyeight')\n",
        "#sns.set_style(\"dark\")\n",
        "df.plot.bar(figsize=(7,5))\n",
        "plt.xticks(rotation=0, horizontalalignment=\"center\")\n",
        "plt.title(\"Phân bố KS theo khoảng giá\")\n",
        "plt.xlabel(\"Số lượng KS\")\n",
        "plt.ylabel(\"Khoảng giá\")"
      ],
      "metadata": {
        "colab": {
          "base_uri": "https://localhost:8080/",
          "height": 369
        },
        "id": "N6K9lJctzVnj",
        "outputId": "ae3764cf-ac01-4242-b823-eef39517e5c2"
      },
      "execution_count": null,
      "outputs": [
        {
          "output_type": "execute_result",
          "data": {
            "text/plain": [
              "Text(0, 0.5, 'Khoảng giá')"
            ]
          },
          "metadata": {},
          "execution_count": 90
        },
        {
          "output_type": "display_data",
          "data": {
            "text/plain": [
              "<Figure size 504x360 with 1 Axes>"
            ],
            "image/png": "[encoded data removed]"
          },
          "metadata": {}
        }
      ]
    },
    {
      "cell_type": "code",
      "source": [
        "df = min_price_df.groupby(['City','Price Interval'])['City'].count()\n"
      ],
      "metadata": {
        "colab": {
          "base_uri": "https://localhost:8080/"
        },
        "id": "T6TGL7WZ064W",
        "outputId": "dbda142b-ded8-4acd-a8f5-36243883b199"
      },
      "execution_count": null,
      "outputs": [
        {
          "output_type": "execute_result",
          "data": {
            "text/plain": [
              "City               Price Interval\n",
              "Hà Nội             0                 499\n",
              "                   1                 623\n",
              "                   2                 278\n",
              "                   3                  69\n",
              "Hạ Long            0                  17\n",
              "                   1                  69\n",
              "                   2                  65\n",
              "                   3                 105\n",
              "Nha Trang          0                 288\n",
              "                   1                 218\n",
              "                   2                  99\n",
              "                   3                  44\n",
              "Phú Quốc           0                 165\n",
              "                   1                 225\n",
              "                   2                  88\n",
              "                   3                  58\n",
              "TP. Hồ Chí Minh  0                 593\n",
              "                   1                 570\n",
              "                   2                 264\n",
              "                   3                  89\n",
              "Vũng Tàu           0                  44\n",
              "                   1                 183\n",
              "                   2                 139\n",
              "                   3                 302\n",
              "Đà Lạt             0                 493\n",
              "                   1                 309\n",
              "                   2                  97\n",
              "                   3                  65\n",
              "Đà Nẵng            0                 448\n",
              "                   1                 343\n",
              "                   2                 106\n",
              "                   3                 105\n",
              "Name: City, dtype: int64"
            ]
          },
          "metadata": {},
          "execution_count": 92
        }
      ]
    },
    {
      "cell_type": "code",
      "source": [
        "p_0 = []\n",
        "p_1 = []\n",
        "p_2 = []\n",
        "p_3 = []\n",
        "for i in range(len(df)):\n",
        "  if (i%4==0):\n",
        "    p_0.append(df[i])\n",
        "  elif (i%4==1):\n",
        "    p_1.append(df[i])\n",
        "  elif (i%4==2):\n",
        "    p_2.append(df[i])\n",
        "  else:\n",
        "    p_3.append(df[i])"
      ],
      "metadata": {
        "id": "aI7uA6kI1N5i"
      },
      "execution_count": null,
      "outputs": []
    },
    {
      "cell_type": "code",
      "source": [
        "#Tạo df mới chứa các columns cần thiết\n",
        "p_name = {'City':{0:'Hà Nội', 1:'Hạ Long', 2:'Nha Trang', 3:'Phú Quốc',\n",
        "             4:'TP. Hồ Chí Minh', 5:'Vũng Tàu', 6:'Đà Lạt', 7:'Đà Nẵng'}}\n",
        "price_int_df = pd.DataFrame(p_name)\n",
        "price_int_df['Giá <= 500.00đ'] = p_0\n",
        "price_int_df['500.000đ < Giá <= 1.000.00đ'] = p_1\n",
        "price_int_df['1.000.000đ < Giá <= 2.000.00đ'] = p_2\n",
        "price_int_df['Giá > 2.000.000đ'] = p_3\n",
        "\n",
        "#Set index\n",
        "price_int_df.set_index(\"City\", inplace = True)"
      ],
      "metadata": {
        "id": "BvnHYJrV1owd"
      },
      "execution_count": null,
      "outputs": []
    },
    {
      "cell_type": "code",
      "source": [
        "price_int_df"
      ],
      "metadata": {
        "colab": {
          "base_uri": "https://localhost:8080/",
          "height": 332
        },
        "id": "YJbG2YZa2N0H",
        "outputId": "9c78ddc6-3180-40ca-c7fa-df689b00e1c0"
      },
      "execution_count": null,
      "outputs": [
        {
          "output_type": "execute_result",
          "data": {
            "text/plain": [
              "                   Giá <= 500.00đ  500.000đ < Giá <= 1.000.00đ  \\\n",
              "City                                                             \n",
              "Hà Nội                        499                          623   \n",
              "Hạ Long                        17                           69   \n",
              "Nha Trang                     288                          218   \n",
              "Phú Quốc                      165                          225   \n",
              "TP. Hồ Chí Minh             593                          570   \n",
              "Vũng Tàu                       44                          183   \n",
              "Đà Lạt                        493                          309   \n",
              "Đà Nẵng                       448                          343   \n",
              "\n",
              "                   1.000.000đ < Giá <= 2.000.00đ  Giá > 2.000.000đ  \n",
              "City                                                                \n",
              "Hà Nội                                       278                69  \n",
              "Hạ Long                                       65               105  \n",
              "Nha Trang                                     99                44  \n",
              "Phú Quốc                                      88                58  \n",
              "TP. Hồ Chí Minh                            264                89  \n",
              "Vũng Tàu                                     139               302  \n",
              "Đà Lạt                                        97                65  \n",
              "Đà Nẵng                                      106               105  "
            ],
            "text/html": [
              "\n",
              "  <div id=\"df-2ee269b9-5a8d-4dae-aa84-021bfc4479cd\">\n",
              "    <div class=\"colab-df-container\">\n",
              "      <div>\n",
              "<style scoped>\n",
              "    .dataframe tbody tr th:only-of-type {\n",
              "        vertical-align: middle;\n",
              "    }\n",
              "\n",
              "    .dataframe tbody tr th {\n",
              "        vertical-align: top;\n",
              "    }\n",
              "\n",
              "    .dataframe thead th {\n",
              "        text-align: right;\n",
              "    }\n",
              "</style>\n",
              "<table border=\"1\" class=\"dataframe\">\n",
              "  <thead>\n",
              "    <tr style=\"text-align: right;\">\n",
              "      <th></th>\n",
              "      <th>Giá &lt;= 500.00đ</th>\n",
              "      <th>500.000đ &lt; Giá &lt;= 1.000.00đ</th>\n",
              "      <th>1.000.000đ &lt; Giá &lt;= 2.000.00đ</th>\n",
              "      <th>Giá &gt; 2.000.000đ</th>\n",
              "    </tr>\n",
              "    <tr>\n",
              "      <th>City</th>\n",
              "      <th></th>\n",
              "      <th></th>\n",
              "      <th></th>\n",
              "      <th></th>\n",
              "    </tr>\n",
              "  </thead>\n",
              "  <tbody>\n",
              "    <tr>\n",
              "      <th>Hà Nội</th>\n",
              "      <td>499</td>\n",
              "      <td>623</td>\n",
              "      <td>278</td>\n",
              "      <td>69</td>\n",
              "    </tr>\n",
              "    <tr>\n",
              "      <th>Hạ Long</th>\n",
              "      <td>17</td>\n",
              "      <td>69</td>\n",
              "      <td>65</td>\n",
              "      <td>105</td>\n",
              "    </tr>\n",
              "    <tr>\n",
              "      <th>Nha Trang</th>\n",
              "      <td>288</td>\n",
              "      <td>218</td>\n",
              "      <td>99</td>\n",
              "      <td>44</td>\n",
              "    </tr>\n",
              "    <tr>\n",
              "      <th>Phú Quốc</th>\n",
              "      <td>165</td>\n",
              "      <td>225</td>\n",
              "      <td>88</td>\n",
              "      <td>58</td>\n",
              "    </tr>\n",
              "    <tr>\n",
              "      <th>TP. Hồ Chí Minh</th>\n",
              "      <td>593</td>\n",
              "      <td>570</td>\n",
              "      <td>264</td>\n",
              "      <td>89</td>\n",
              "    </tr>\n",
              "    <tr>\n",
              "      <th>Vũng Tàu</th>\n",
              "      <td>44</td>\n",
              "      <td>183</td>\n",
              "      <td>139</td>\n",
              "      <td>302</td>\n",
              "    </tr>\n",
              "    <tr>\n",
              "      <th>Đà Lạt</th>\n",
              "      <td>493</td>\n",
              "      <td>309</td>\n",
              "      <td>97</td>\n",
              "      <td>65</td>\n",
              "    </tr>\n",
              "    <tr>\n",
              "      <th>Đà Nẵng</th>\n",
              "      <td>448</td>\n",
              "      <td>343</td>\n",
              "      <td>106</td>\n",
              "      <td>105</td>\n",
              "    </tr>\n",
              "  </tbody>\n",
              "</table>\n",
              "</div>\n",
              "      <button class=\"colab-df-convert\" onclick=\"convertToInteractive('df-2ee269b9-5a8d-4dae-aa84-021bfc4479cd')\"\n",
              "              title=\"Convert this dataframe to an interactive table.\"\n",
              "              style=\"display:none;\">\n",
              "        \n",
              "  <svg xmlns=\"http://www.w3.org/2000/svg\" height=\"24px\"viewBox=\"0 0 24 24\"\n",
              "       width=\"24px\">\n",
              "    <path d=\"M0 0h24v24H0V0z\" fill=\"none\"/>\n",
              "    <path d=\"M18.56 5.44l.94 2.06.94-2.06 2.06-.94-2.06-.94-.94-2.06-.94 2.06-2.06.94zm-11 1L8.5 8.5l.94-2.06 2.06-.94-2.06-.94L8.5 2.5l-.94 2.06-2.06.94zm10 10l.94 2.06.94-2.06 2.06-.94-2.06-.94-.94-2.06-.94 2.06-2.06.94z\"/><path d=\"M17.41 7.96l-1.37-1.37c-.4-.4-.92-.59-1.43-.59-.52 0-1.04.2-1.43.59L10.3 9.45l-7.72 7.72c-.78.78-.78 2.05 0 2.83L4 21.41c.39.39.9.59 1.41.59.51 0 1.02-.2 1.41-.59l7.78-7.78 2.81-2.81c.8-.78.8-2.07 0-2.86zM5.41 20L4 18.59l7.72-7.72 1.47 1.35L5.41 20z\"/>\n",
              "  </svg>\n",
              "      </button>\n",
              "      \n",
              "  <style>\n",
              "    .colab-df-container {\n",
              "      display:flex;\n",
              "      flex-wrap:wrap;\n",
              "      gap: 12px;\n",
              "    }\n",
              "\n",
              "    .colab-df-convert {\n",
              "      background-color: #E8F0FE;\n",
              "      border: none;\n",
              "      border-radius: 50%;\n",
              "      cursor: pointer;\n",
              "      display: none;\n",
              "      fill: #1967D2;\n",
              "      height: 32px;\n",
              "      padding: 0 0 0 0;\n",
              "      width: 32px;\n",
              "    }\n",
              "\n",
              "    .colab-df-convert:hover {\n",
              "      background-color: #E2EBFA;\n",
              "      box-shadow: 0px 1px 2px rgba(60, 64, 67, 0.3), 0px 1px 3px 1px rgba(60, 64, 67, 0.15);\n",
              "      fill: #174EA6;\n",
              "    }\n",
              "\n",
              "    [theme=dark] .colab-df-convert {\n",
              "      background-color: #3B4455;\n",
              "      fill: #D2E3FC;\n",
              "    }\n",
              "\n",
              "    [theme=dark] .colab-df-convert:hover {\n",
              "      background-color: #434B5C;\n",
              "      box-shadow: 0px 1px 3px 1px rgba(0, 0, 0, 0.15);\n",
              "      filter: drop-shadow(0px 1px 2px rgba(0, 0, 0, 0.3));\n",
              "      fill: #FFFFFF;\n",
              "    }\n",
              "  </style>\n",
              "\n",
              "      <script>\n",
              "        const buttonEl =\n",
              "          document.querySelector('#df-2ee269b9-5a8d-4dae-aa84-021bfc4479cd button.colab-df-convert');\n",
              "        buttonEl.style.display =\n",
              "          google.colab.kernel.accessAllowed ? 'block' : 'none';\n",
              "\n",
              "        async function convertToInteractive(key) {\n",
              "          const element = document.querySelector('#df-2ee269b9-5a8d-4dae-aa84-021bfc4479cd');\n",
              "          const dataTable =\n",
              "            await google.colab.kernel.invokeFunction('convertToInteractive',\n",
              "                                                     [key], {});\n",
              "          if (!dataTable) return;\n",
              "\n",
              "          const docLinkHtml = 'Like what you see? Visit the ' +\n",
              "            '<a target=\"_blank\" href=https://colab.research.google.com/notebooks/data_table.ipynb>data table notebook</a>'\n",
              "            + ' to learn more about interactive tables.';\n",
              "          element.innerHTML = '';\n",
              "          dataTable['output_type'] = 'display_data';\n",
              "          await google.colab.output.renderOutput(dataTable, element);\n",
              "          const docLink = document.createElement('div');\n",
              "          docLink.innerHTML = docLinkHtml;\n",
              "          element.appendChild(docLink);\n",
              "        }\n",
              "      </script>\n",
              "    </div>\n",
              "  </div>\n",
              "  "
            ]
          },
          "metadata": {},
          "execution_count": 95
        }
      ]
    },
    {
      "cell_type": "code",
      "source": [
        "price_int_df[['Giá <= 500.00đ', '500.000đ < Giá <= 1.000.00đ', \n",
        "              '1.000.000đ < Giá <= 2.000.00đ', 'Giá > 2.000.000đ']].plot(kind=\"bar\", figsize=(12,8))\n",
        "plt.xticks(rotation=30, horizontalalignment=\"center\")\n",
        "plt.title(\"Phân bố KS theo khoảng giá tại mỗi thành phố\")\n",
        "plt.xlabel(\"Thành phố\")\n",
        "plt.ylabel(\"Số lượng KS\")"
      ],
      "metadata": {
        "colab": {
          "base_uri": "https://localhost:8080/",
          "height": 569
        },
        "id": "ywJ55yhK2V7G",
        "outputId": "b64ca2f0-5fdd-4607-d2b1-7e2a39b590ae"
      },
      "execution_count": null,
      "outputs": [
        {
          "output_type": "execute_result",
          "data": {
            "text/plain": [
              "Text(0, 0.5, 'Số lượng KS')"
            ]
          },
          "metadata": {},
          "execution_count": 99
        },
        {
          "output_type": "display_data",
          "data": {
            "text/plain": [
              "<Figure size 864x576 with 1 Axes>"
            ],
            "image/png": "[encoded data removed]"
          },
          "metadata": {}
        }
      ]
    }
  ]
}